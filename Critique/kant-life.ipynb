{
 "cells": [
  {
   "cell_type": "markdown",
   "metadata": {},
   "source": [
    "## I. FURTHERING LOGICAL PERFECTION OF COGNITION THROUGH DEFINITION, EXPOSITION, AND DESCRIPTION OF CONCEPTS\n"
   ]
  },
  {
   "cell_type": "markdown",
   "metadata": {},
   "source": [
    "### Definition\n"
   ]
  },
  {
   "cell_type": "markdown",
   "metadata": {},
   "source": [
    "\n",
    "    A definition is a sufficiently distinct and precise concept\n",
    "    (conceptus rei adaequatus in minimis terminis, complete determinatus).\n"
   ]
  },
  {
   "cell_type": "markdown",
   "metadata": {},
   "source": [
    "### Analytic and synthetic definition\n"
   ]
  },
  {
   "cell_type": "markdown",
   "metadata": {},
   "source": [
    "\n",
    "    All definitions are either analytic or synthetic.\n",
    "    The former are definitions of a concept that is given,\n",
    "    the latter of one that is made.\n",
    "    A concept adequate to the thing, in minimal terms, completely determined.\n"
   ]
  },
  {
   "cell_type": "markdown",
   "metadata": {},
   "source": [
    "### Concepts that are given and made a priori and a posteriori\n"
   ]
  },
  {
   "cell_type": "markdown",
   "metadata": {},
   "source": [
    "\n",
    "    The given concepts of an analytic definition\n",
    "    are given either a priori or a posteriori,\n",
    "    just as the concepts of a synthetic definition, which are made,\n",
    "    are made either a priori or a posteriori.\n"
   ]
  },
  {
   "cell_type": "markdown",
   "metadata": {},
   "source": [
    "### Synthetic definitions through exposition or construction\n"
   ]
  },
  {
   "cell_type": "markdown",
   "metadata": {},
   "source": [
    "\n",
    "    The synthesis of concepts that are made,\n",
    "    out of which synthetic definitions arise,\n",
    "    is either that of exposition (of appearances)\n",
    "    or that of construction.\n",
    "    The latter is the synthesis of concepts\n",
    "    that are made arbitrarily,\n",
    "    the former the synthesis of concepts\n",
    "    that are made empirically,\n",
    "    i.e., from given appearances as their matter\n",
    "    (conceptus factitii vel a priori vel per synthesin empiricam).\n",
    "    Concepts that are made arbitrarily are the mathematical ones.\n"
   ]
  },
  {
   "cell_type": "markdown",
   "metadata": {},
   "source": [
    "### Impossibility of empirically synthetic definitions\n"
   ]
  },
  {
   "cell_type": "markdown",
   "metadata": {},
   "source": [
    "    Since the synthesis of empirical concepts is\n",
    "    not arbitrary but rather is empirical\n",
    "    and as such can never be complete\n",
    "    (because one can always discover in experience\n",
    "    more marks of the concept),\n",
    "    empirical concepts cannot be defined, either.\n"
   ]
  },
  {
   "cell_type": "markdown",
   "metadata": {},
   "source": [
    "### Analytic definitions through analysis of concepts given a priori or a posteriori\n"
   ]
  },
  {
   "cell_type": "markdown",
   "metadata": {},
   "source": [
    "\n",
    "    All given concepts, be they given a priori or a posteriori,\n",
    "    can be defined only through analysis.\n",
    "    For one can make given concepts distinct only insofar as\n",
    "    one successively makes their marks clear.\n",
    "    If all the marks of a given concept are made clear,\n",
    "    then the concept becomes completely distinct;\n",
    "    if it does not contain too many marks,\n",
    "    then it is at the same time precise,\n",
    "    and from this there arises a definition of the concept.\n"
   ]
  },
  {
   "cell_type": "markdown",
   "metadata": {},
   "source": [
    "### Expositions and descriptions\n"
   ]
  },
  {
   "cell_type": "markdown",
   "metadata": {},
   "source": [
    "\n",
    "    Not all concepts can be defined, and not all need to be.\n",
    "    There are approximations to the definition of certain concepts;\n",
    "    these are partly expositions (expositiones),\n",
    "    partly descriptions (descriptions).\n",
    "    The expounding of a concept consists in\n",
    "    the connected (successive) representation of its marks,\n",
    "    insofar as these are found through analysis.\n",
    "    Description is the exposition of a concept,\n",
    "    insofar as it is not precise.\n",
    "    Description can occur only with\n",
    "    empirically given concepts.\n",
    "    It has no determinate rules\n",
    "    and contains only the materials for definition.\n"
   ]
  },
  {
   "cell_type": "markdown",
   "metadata": {},
   "source": [
    "### Nominal and real definitions\n"
   ]
  },
  {
   "cell_type": "markdown",
   "metadata": {},
   "source": [
    "\n",
    "    By mere definitions of names, or nominal definitions,\n",
    "    are to be understood those that contain the meaning that \n",
    "    one wanted arbitrarily to give to a certain name,\n",
    "    and which therefore signify only \n",
    "    the logical essence of their object,\n",
    "    or which serve merely for distinguishing it from other objects.\n",
    "    \n"
   ]
  },
  {
   "cell_type": "markdown",
   "metadata": {},
   "source": [
    "    Definitions of things, or real definitions,\n",
    "    on the other hand, are ones that suffice for cognition of\n",
    "    the object according to its inner determinations,\n",
    "    since they present the possibility of the object from inner marks.\n"
   ]
  },
  {
   "cell_type": "markdown",
   "metadata": {},
   "source": [
    "### Principal requirements of definition\n"
   ]
  },
  {
   "cell_type": "markdown",
   "metadata": {},
   "source": [
    "\n",
    "    The essential and universal requirements\n",
    "    that pertain to the completeness of a definition in general\n",
    "    may be considered under the four principal moments of\n",
    "    quantity, quality, relation, and modality:\n",
    "    as to quantity - what concerns the sphere of the definition -\n",
    "    the definition and the definitum must be\n",
    "    convertible concepts (conceptus reciprici),\n",
    "    and hence the definition must be\n",
    "    neither broader nor narrower than its definitum;\n",
    "    as to quality, the definition must be a\n",
    "    detailed and at the same time precise concept,\n",
    "    as to relation, it must not be tautological,\n",
    "    i.e., the marks of the definitum must,\n",
    "    as grounds of its cognition,\n",
    "    be different from it itself,\n",
    "    and finally as to modality,\n",
    "    the marks must be necessary,\n",
    "    and hence not such as are\n",
    "    added through experience.\n"
   ]
  },
  {
   "cell_type": "markdown",
   "metadata": {},
   "source": [
    "### Rules for testing definitions\n"
   ]
  },
  {
   "cell_type": "markdown",
   "metadata": {},
   "source": [
    "\n",
    "    In the testing of definitions four acts are to be performed;\n",
    "    it is to be investigated, namely,\n",
    "    1.  whether the definition considered as a proposition is true,\n",
    "    2.  whether as a concept it is distinct,\n",
    "    3.  whether as a distinct concept it is also detailed, and finally\n",
    "    4.  whether as a detailed concept it is at the same time determinate,\n",
    "        i.e., adequate to the thing itself.\n"
   ]
  },
  {
   "cell_type": "markdown",
   "metadata": {},
   "source": [
    "### Rules for preparation of definitions\n"
   ]
  },
  {
   "cell_type": "markdown",
   "metadata": {},
   "source": [
    "\n",
    "    The very same acts that belong to the testing of definition are\n",
    "    also to be performed in the preparation of them.\n",
    "    Toward this end, then, seek\n",
    "    (1.)    true propositions,\n",
    "    (2.)    whose predicate does not presuppose the concept of the thing;\n",
    "    (3.)    collect several of them and compare them with\n",
    "            the concept of the thing itself\n",
    "            to see if they are adequate; and finally\n",
    "    (4.)    see whether one mark does not lie in another\n",
    "            or is not subordinated to it.\n"
   ]
  },
  {
   "cell_type": "markdown",
   "metadata": {},
   "source": [
    "## II. FURTHERING THE PERFECTION OF COGNITION THROUGH LOGICAL DIVISION OF CONCEPTS\n"
   ]
  },
  {
   "cell_type": "markdown",
   "metadata": {},
   "source": [
    "### Concept of logical division\n"
   ]
  },
  {
   "cell_type": "markdown",
   "metadata": {},
   "source": [
    "\n",
    "    Every concept contains a manifold under itself\n",
    "    insofar as the manifold agrees,\n",
    "    but also insofar as it is different.\n",
    "    The determination of a concept in regard to\n",
    "    everything possible that is contained under it,\n",
    "    insofar as things are opposed to one another,\n",
    "    are distinct from one another,\n",
    "    is called the logical division of the concept.\n",
    "    The higher concept is called the divided concept (divisus),\n",
    "    the lower concepts the members of the division (membra dividentia).\n"
   ]
  },
  {
   "cell_type": "markdown",
   "metadata": {},
   "source": [
    "### Universal rules of logical division\n"
   ]
  },
  {
   "cell_type": "markdown",
   "metadata": {},
   "source": [
    "\n",
    "    In every division of a concept we must see to it:\n",
    "    1.  that the members of the division exclude\n",
    "        or are opposed to one another,\n",
    "        that furthermore\n",
    "    2.  they belong under one higher concept (conceptus communis),\n",
    "        and finally that\n",
    "    3.  taken together they constitute\n",
    "        the sphere of the divided concept\n",
    "        or are equal to it.\n"
   ]
  },
  {
   "cell_type": "markdown",
   "metadata": {},
   "source": [
    "### Codivision and subdivision\n"
   ]
  },
  {
   "cell_type": "markdown",
   "metadata": {},
   "source": [
    "\n",
    "    Various divisions of a concept,\n",
    "    which are made in various respects,\n",
    "    are called codivisions,\n",
    "    and division of the members of division\n",
    "    is called a subdivision (subdivisio).\n"
   ]
  },
  {
   "cell_type": "markdown",
   "metadata": {},
   "source": [
    "### Dichotomy and polytomy\n"
   ]
  },
  {
   "cell_type": "markdown",
   "metadata": {},
   "source": [
    "\n",
    "    A division into two members is called dichotomy;\n",
    "    but if it has more than two members, it is called polytomy.\n"
   ]
  },
  {
   "cell_type": "markdown",
   "metadata": {},
   "source": [
    "### Various divisions of method\n"
   ]
  },
  {
   "cell_type": "markdown",
   "metadata": {},
   "source": [
    "\n",
    "    Now as for what concerns in particular method itself\n",
    "    in working up and treating scientific cognitions,\n",
    "    there are various principal kinds of it,\n",
    "    which we can present in accordance with the following division.\n"
   ]
  },
  {
   "cell_type": "markdown",
   "metadata": {},
   "source": [
    "### 1. Scientific or popular method\n"
   ]
  },
  {
   "cell_type": "markdown",
   "metadata": {},
   "source": [
    "    Scientific or scholastic method differs from popular method\n",
    "    through the fact that the former proceeds\n",
    "    from basic and elementary propositions,\n",
    "    but the latter from the customary and the interesting.\n",
    "    The former aims for thoroughness\n",
    "    and thus removes everything foreign,\n",
    "    the latter aims at entertainment.\n"
   ]
  },
  {
   "cell_type": "markdown",
   "metadata": {},
   "source": [
    "### 2. Systematic or fragmentary method\n"
   ]
  },
  {
   "cell_type": "markdown",
   "metadata": {},
   "source": [
    "\n",
    "    Systematic method is opposed to fragmentary or rhapsodic method.\n",
    "    If one has thought in accordance with a method\n",
    "    and then also expressed this method in the exposition,\n",
    "    and if the transition from one proposition to\n",
    "    another is distinctly presented,\n",
    "    then one has treated a cognition systematically.\n",
    "    If, on the other hand, one has thought according to a method\n",
    "    but has not arranged the exposition methodically,\n",
    "    such a method is to be called rhapsodic.\n"
   ]
  },
  {
   "cell_type": "markdown",
   "metadata": {},
   "source": [
    "### 3. Analytic or synthetic method\n"
   ]
  },
  {
   "cell_type": "markdown",
   "metadata": {},
   "source": [
    "\n",
    "    Analytic is opposed to synthetic method.\n",
    "    The former begins with the conditioned and grounded\n",
    "    and proceeds to principles (a prindpiatis ad prindpia),\n",
    "    while the latter goes from principles to consequences\n",
    "    or from the simple to the composite.\n",
    "    The former could also be called regressive,\n",
    "    as the latter could progressive.\n"
   ]
  },
  {
   "cell_type": "markdown",
   "metadata": {},
   "source": [
    "### 4. Syllogistic [or] tabular method\n"
   ]
  },
  {
   "cell_type": "markdown",
   "metadata": {},
   "source": [
    "\n",
    "    Syllogistic method is that according to which\n",
    "    a science is expounded in a chain of inferences.\n",
    "    That method in accordance with which a finished system\n",
    "    is exhibited in its complete connection is called tabular.\n"
   ]
  },
  {
   "cell_type": "markdown",
   "metadata": {},
   "source": [
    "### 5. Acromatic or eromatic method\n"
   ]
  },
  {
   "cell_type": "markdown",
   "metadata": {},
   "source": [
    "\n",
    "    Method is acroamatic insofar as someone only teaches,\n",
    "    erotematic insofar as he asks as well.\n",
    "    The latter method can be divided in turn\n",
    "    into dialogic or Socratic method and catechistic method,\n",
    "    accordingly as the questions are directed\n",
    "    either to the understanding or merely to memory.\n"
   ]
  },
  {
   "cell_type": "markdown",
   "metadata": {},
   "source": [
    "### Meditation\n"
   ]
  },
  {
   "cell_type": "markdown",
   "metadata": {},
   "source": [
    "\n",
    "    By meditation is to be understood reflection,\n",
    "    or methodical thought.\n",
    "    Meditation must accompany all reading and learning,\n",
    "    and for this it is requisite that\n",
    "    one first undertake provisional investigations\n",
    "    and then put his thoughts in order,\n",
    "    or connect them in accordance with a method.\n"
   ]
  }
 ],
 "metadata": {
  "kernelspec": {
   "display_name": "jupyter",
   "language": "python",
   "name": "python3"
  },
  "language_info": {
   "name": "python",
   "version": "3.11.2"
  }
 },
 "nbformat": 4,
 "nbformat_minor": 2
}
