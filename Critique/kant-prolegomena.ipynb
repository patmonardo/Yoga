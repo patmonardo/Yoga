{
 "cells": [
  {
   "cell_type": "markdown",
   "metadata": {},
   "source": [
    "## Prolegomena to any future metaphysics that will be able to come forward as science\n"
   ]
  },
  {
   "cell_type": "markdown",
   "metadata": {},
   "source": [
    "### Preamble on the Distinguishing Feature of All Metaphysical Cognition\n"
   ]
  },
  {
   "cell_type": "markdown",
   "metadata": {},
   "source": [
    "The \"Preamble on the Distinguishing Feature of All Metaphysical Cognition\" serves as an essential introduction to Kant's \"Prolegomena to Any Future Metaphysics That Will Be Able to Come Forward as Science.\" In this section, Kant sets out to clarify the unique nature of metaphysical knowledge and its distinction from other forms of cognition. This groundwork is crucial for understanding the entire project of the Prolegomena, which aims to establish the possibility and outline the conditions of metaphysics as a science. Here's an exploration of the key points and implications of this preamble:\n",
    "\n",
    "### Key Points of the Preamble\n",
    "\n",
    "1. **The Nature of Metaphysical Knowledge**: Kant begins by addressing the question of what makes metaphysical knowledge distinct from empirical science and mathematics. He identifies metaphysical cognition as dealing with concepts and principles that are not derived from experience, such as the concepts of time, space, causality, and necessity. This kind of knowledge seeks to extend beyond the limits of empirical inquiry, aiming to understand the conditions of possibility for experience itself.\n",
    "\n",
    "2. **The Challenge of Metaphysical Cognition**: One of the central challenges that Kant highlights is the controversial status of metaphysical knowledge. Unlike mathematics and natural science, whose claims can be empirically verified or logically demonstrated, metaphysical propositions often seem speculative and are subject to dispute. Kant sees this as a problem of method and aims to establish a secure foundation for metaphysics.\n",
    "\n",
    "3. **The Synthetic A Priori Propositions**: Kant introduces the concept of synthetic a priori propositions as the key to unlocking the potential of metaphysics. These are propositions that are informative (synthetic) and yet knowable independently of experience (a priori). The possibility of such propositions underpins the scientific status of metaphysics, according to Kant, because they allow metaphysics to make substantive claims about the structure of reality without relying on empirical observation.\n",
    "\n",
    "4. **The Aim of the Prolegomena**: Ultimately, the preamble sets the stage for the Prolegomena's main purpose: to explore whether metaphysics is possible as a science, and if so, how it can achieve a secure foundation. Kant seeks to demonstrate that metaphysical knowledge, properly understood, is both possible and necessary for a coherent understanding of both science and morality.\n",
    "\n",
    "### Implications for Study\n",
    "\n",
    "- **Understanding the Distinctions**: It's important for readers to grasp the distinctions Kant makes between different types of knowledge (empirical vs. a priori, analytic vs. synthetic) as these distinctions are foundational to his argument in the Prolegomena and his broader critical philosophy.\n",
    "- **The Role of Critique**: The Prolegomena can be seen as part of Kant's larger project of critique, aimed at examining the limits and conditions of human knowledge. Understanding this critical approach is key to engaging with Kant's philosophy.\n",
    "- **Engagement with Previous Metaphysics**: Kant's project involves a reevaluation of traditional metaphysical questions. Readers should be aware of the historical context of metaphysical inquiry, including the works of predecessors like Leibniz and Hume, to fully appreciate Kant's contributions.\n",
    "- **Relevance to Contemporary Philosophy**: The issues Kant raises about the possibility of metaphysical knowledge and its methods continue to be relevant in contemporary philosophical discussions. Considering the implications of Kant's arguments for current debates can enrich the study of the Prolegomena.\n",
    "\n",
    "In conclusion, the \"Preamble on the Distinguishing Feature of All Metaphysical Cognition\" lays the foundational questions and challenges that Kant will address throughout the Prolegomena. It serves as an invitation to critically engage with the nature and limits of human knowledge, setting the stage for a profound exploration of metaphysical inquiry."
   ]
  },
  {
   "cell_type": "markdown",
   "metadata": {},
   "source": [
    "§1"
   ]
  },
  {
   "cell_type": "markdown",
   "metadata": {},
   "source": [
    "###  On the sources of metaphysics\n"
   ]
  },
  {
   "cell_type": "markdown",
   "metadata": {},
   "source": [
    "    If one wishes to present a body of cognition as science,\n",
    "    then one must first be able to determine precisely\n",
    "    the differentia it has in common with no other science,\n",
    "    and which is therefore its distinguishing feature;\n",
    "    otherwise the boundaries of all the sciences run together, \n",
    "    and none of them can be dealt with thoroughly according to its own nature.\n"
   ]
  },
  {
   "cell_type": "markdown",
   "metadata": {},
   "source": [
    "    Whether this distinguishing feature consists in\n",
    "    a difference of the object or the source of cognition,\n",
    "    or even of the type of cognition, \n",
    "    or several if not all of these things together,\n",
    "    the idea of the possible science and its territory\n",
    "    depends first of all upon it.\n"
   ]
  },
  {
   "cell_type": "markdown",
   "metadata": {},
   "source": [
    "    First, concerning the sources of metaphysical cognition, \n",
    "    it already lies in the concept of metaphysics \n",
    "    that they cannot be empirical.\n",
    "    The principles of such cognition\n",
    "    (which include not only its fundamental propositions,\n",
    "    but also its fundamental concepts) \n",
    "    must therefore never be taken from experience;\n",
    "    for the cognition is supposed to be\n",
    "    not physical but metaphysical,\n",
    "    i.e., lying beyond experience.\n",
    "    Therefore it will be based upon neither outer experience,\n",
    "    which constitutes the source of physics proper, \n",
    "    nor inner, which provides the foundation \n",
    "    of empirical psychology.\n",
    "    It is therefore cognition a priori,\n",
    "    or from pure understanding and pure reason.\n"
   ]
  },
  {
   "cell_type": "markdown",
   "metadata": {},
   "source": [
    "    In this, however, there would be nothing to\n",
    "    differentiate it from pure mathematics;\n",
    "    it must therefore be denominated pure philosophical cognition;\n",
    "    but concerning the meaning of this expression I refer to\n",
    "    the Critique of Pure Reason, pp. 712 f.,14\n",
    "    where the distinction between these two types of \n",
    "    use of reason has been presented clearly and sufficiently.\n",
    "    So much on the sources of metaphysical cognition.\n"
   ]
  },
  {
   "cell_type": "markdown",
   "metadata": {},
   "source": [
    " §2 \n"
   ]
  },
  {
   "cell_type": "markdown",
   "metadata": {},
   "source": [
    "\n",
    "### On the type of cognition that alone can be called metaphysical\n"
   ]
  },
  {
   "cell_type": "markdown",
   "metadata": {},
   "source": [
    "### (a) On the distinction between synthetic and analytic judgments in general\n"
   ]
  },
  {
   "cell_type": "markdown",
   "metadata": {},
   "source": [
    "    Metaphysical cognition must contain\n",
    "    nothing but judgments a priori,\n",
    "    as required by the distinguishing feature of its sources.\n",
    "    But judgments may have any origin whatsoever, \n",
    "    or be constituted in whatever manner\n",
    "    according to their logical form, \n",
    "    and yet there is nonetheless a distinction\n",
    "    between them according to their content,\n",
    "    by dint of which they are either merely explicative\n",
    "    and add nothing to the content of the cognition,\n",
    "    or ampliative and augment the given cognition;\n",
    "    the first may be called analytic judgments,\n",
    "    the second synthetic.\n"
   ]
  },
  {
   "cell_type": "markdown",
   "metadata": {},
   "source": [
    "\n",
    "    Analytic judgments say nothing in the predicate\n",
    "    except what was actually thought already\n",
    "    in the concept of the subject,\n",
    "    though not so clearly nor with the same consciousness. \n",
    "    If I say: All bodies are extended, \n",
    "    then I have not in the least amplified my concept of body,\n",
    "    but have merely resolved it,\n",
    "    since extension, although not explicitly said\n",
    "    of the former concept prior to the judgment,\n",
    "    nevertheless was actually thought of it;\n",
    "    the judgment is therefore analytic.\n",
    "    By contrast, the proposition:\n",
    "    Some bodies are heavy, \n",
    "    contains something in the predicate \n",
    "    that is not actually thought\n",
    "    in the general concept of body; \n",
    "    it therefore augments my cognition,\n",
    "    since it adds something to my concept,\n",
    "    and must therefore be called a synthetic judgment.\n"
   ]
  },
  {
   "cell_type": "markdown",
   "metadata": {},
   "source": [
    "### (b) The common principlea of all analytic judgments is the principle of contradiction\n"
   ]
  },
  {
   "cell_type": "markdown",
   "metadata": {},
   "source": [
    "\n",
    "    All analytic judgments rest entirely\n",
    "    on the principle of contradiction\n",
    "    and are by their nature a priori cognitions,\n",
    "    whether the concepts that serve for their material\n",
    "    be empirical or not. \n",
    "    For since the predicate of an affirmative analytic judgment is already thought beforehand in the concept of the subject,\n",
    "    it cannot be denied of that subject without contradiction;\n",
    "    exactly so is its opposite necessarily denied \n",
    "    of the subject in an analytic,\n",
    "    but negative, judgment, and indeed also according to the\n",
    "    principle of contradiction. \n",
    "    So it stands with the propositions:\n",
    "    Every body is extended, and: \n",
    "    No body is unextended (simple).\n"
   ]
  },
  {
   "cell_type": "markdown",
   "metadata": {},
   "source": [
    "    For that reason all analytic propositions\n",
    "    are still a priori judgments\n",
    "    even if their concepts are empirical, as in: \n",
    "    Gold is a yellow metal; \n",
    "    for in order to know this,\n",
    "    I need no further experience outside my concept of gold,\n",
    "    which includes that this body is yellow and a metal;\n",
    "    for this constitutes my very concept, \n",
    "    and I did not have to do anything except analyze it,\n",
    "    without looking beyond it to something else.\n"
   ]
  },
  {
   "cell_type": "markdown",
   "metadata": {},
   "source": [
    "### (c) Synthetic judgments require a principle other than the principle of contradiction\n"
   ]
  },
  {
   "cell_type": "markdown",
   "metadata": {},
   "source": [
    "\n",
    "    There are synthetic judgments a posteriori\n",
    "    whose origin is empirical;\n",
    "    but there are also synthetic judgments \n",
    "    that are a priori certain and that arise\n",
    "    from pure understanding and reason.\n",
    "    Both however agree in this,\n",
    "    that they can by no means arise solely\n",
    "    from the principlea of analysis,\n",
    "    namely the principle of contradiction;\n",
    "    they demand yet a completely different principle,\n",
    "    though they always must be derived \n",
    "    from some fundamental proposition,\n",
    "    whichever it may be, in accordance with\n",
    "    the principle of contradiction;\n",
    "    for nothing can run counter to this principle,\n",
    "    even though everything cannot be derived from it.\n",
    "    I shall first classify the synthetic judgments.\n"
   ]
  },
  {
   "cell_type": "markdown",
   "metadata": {},
   "source": [
    "### 1. Judgments of experience \n"
   ]
  },
  {
   "cell_type": "markdown",
   "metadata": {},
   "source": [
    "\n",
    "    Judgments of experience are always synthetic.\n",
    "    For it would be absurd to base\n",
    "    an analytic judgment on experience, \n",
    "    since I do not at all need to go beyond my concept\n",
    "    in order to formulate the judgment\n",
    "    and therefore have no need for \n",
    "    any testimony from experience.\n",
    "    That a body is extended,\n",
    "    is a proposition that stands certain a priori,\n",
    "    and not a judgment of experience.\n",
    "    For before I go to experience,\n",
    "    I have all the conditions\n",
    "    for my judgment already in the concept, \n",
    "    from which I merely extract the predicate \n",
    "    in accordance with the principle of contradiction,\n",
    "    and by this means can simultaneously become conscious\n",
    "    of the necessity of the judgment, \n",
    "    which experience could never teach me.\n"
   ]
  },
  {
   "cell_type": "markdown",
   "metadata": {},
   "source": [
    "### 2. Mathematical judgments\n"
   ]
  },
  {
   "cell_type": "markdown",
   "metadata": {},
   "source": [
    "\n",
    "    Mathematical judgments are one and all synthetic. \n",
    "    This proposition appears to have completely escaped\n",
    "    the observations of analysts of human reason up to the present,\n",
    "    and indeed to be directly opposed to all of their conjectures, \n",
    "    although it is incontrovertibly certain\n",
    "    and very important in its consequences.\n",
    "    Because they found that the inferences\n",
    "    of the mathematicians all proceed in accordance\n",
    "    with the principle of contradiction\n",
    "    (which, by nature, is required of any apodictic certainty),\n",
    "    they were persuaded that even the fundamental propositions\n",
    "    were known through the principle of contradiction, \n",
    "    in which they were very mistaken; \n",
    "    for a synthetic proposition can of course be discerned \n",
    "    in accordance with the principle of contradiction, \n",
    "    but only insofar as another synthetic proposition\n",
    "    is presupposed from which the first can be deduced, \n",
    "    never however in itself.\n"
   ]
  },
  {
   "cell_type": "markdown",
   "metadata": {},
   "source": [
    "    First of all it must be observed: \n",
    "    that properly mathematical propositions are always\n",
    "    a priori  and not empirical judgments, \n",
    "    because they carry necessity with them,\n",
    "    which cannot be taken from experience. \n",
    "    But if this will not be granted me, very well,\n",
    "    I will restrict my proposition to pure mathematics,\n",
    "    the concept of which already conveys that\n",
    "    it contains not empirical but only pure cognition a priori.\n"
   ]
  },
  {
   "cell_type": "markdown",
   "metadata": {},
   "source": [
    "    One might well at first think:\n",
    "    that the proposition 7 + 5 = 12 is\n",
    "    a purely analytical proposition that follows\n",
    "    from the concept of a sum of seven and five\n",
    "    according to the principle of contradiction.\n",
    "    However, upon closer inspection,\n",
    "    one finds that the concept of the sum of 7 and 5\n",
    "    contains nothing further than the unification\n",
    "    of the two numbers into one,\n",
    "    through which by no means is thought\n",
    "    what this single number may be that combines the two. \n",
    "    The concept of twelve is in no way already thought \n",
    "    because I merely think to myself \n",
    "    this unification of seven and five, \n",
    "    and I may analyze my concept\n",
    "    of such a possible sum\n",
    "    for as long as may be,\n",
    "    still I will not meet with twelve therein.\n",
    "    \n"
   ]
  },
  {
   "cell_type": "markdown",
   "metadata": {},
   "source": [
    "    One must go beyond these concepts,\n",
    "    in making use of the intuition that \n",
    "    corresponds to one of the two, \n",
    "    such as one’s five fingers,\n",
    "    or (like Segner in his arithmetic) five points,\n",
    "    and in that manner adding the units of the five\n",
    "    given in intuition step by step to the concept of seven. \n",
    "    One therefore truly amplifies one’s concept\n",
    "    through this proposition 7 + 5 = 12\n",
    "    and adds to the first concept\n",
    "    a new one that was not thought in it;\n",
    "    that is, an arithmetical proposition is always synthetic,\n",
    "    which can be seen all the more plainly in the case\n",
    "    of somewhat larger numbers, \n",
    "    for it is then clearly evident that,\n",
    "    though we may turn and twist our concept as we like,\n",
    "    we could never find the sum through\n",
    "    the mere analysis of our concepts,\n",
    "    without making use of intuition.\n"
   ]
  },
  {
   "cell_type": "markdown",
   "metadata": {},
   "source": [
    "\n",
    "    Nor is any fundamental proposition of pure geometry analytic. \n",
    "    That the straight line between two points is the shortest\n",
    "    is a synthetic proposition. \n",
    "    For my concept of the straight contains nothing of magnitude,\n",
    "    but only a quality.\n",
    "    The concept of the shortest is therefore wholly an addition\n",
    "    and cannot be extracted by any analysis from\n",
    "    the concept of the straight line.\n",
    "    Intuition must therefore be made use of here, \n",
    "    by means of which alone the synthesis is possible.\n"
   ]
  },
  {
   "cell_type": "markdown",
   "metadata": {},
   "source": [
    "    Some other fundamental propositions that geometers presuppose \n",
    "    are indeed actually analytic \n",
    "    and rest on the principle of contradiction;\n",
    "    however, they serve only,\n",
    "    like identical propositions,\n",
    "    as links in the chain of method\n",
    "    and not as principles: \n",
    "    e.g., a = a, the whole is equal to itself,\n",
    "    or (a + b) > a, i.e., \n",
    "    the whole is greater than its part.\n",
    "    And indeed even these, \n",
    "    although they are valid from concepts alone,\n",
    "    are admitted into mathematics only because\n",
    "    they can be exhibited in intuition.\n"
   ]
  },
  {
   "cell_type": "markdown",
   "metadata": {},
   "source": [
    "\n",
    "    It is merely ambiguity of expression\n",
    "    which makes us commonly believe here that\n",
    "    the predicate of such apodictic judgments \n",
    "    already lies in our concept\n",
    "    and that the judgment is therefore analytic.\n",
    "    Namely, we are required b to add in thought\n",
    "    a particular predicate to a given concept,\n",
    "    and this necessity is already attached to the concepts.\n",
    "    But the question is not,\n",
    "    what we are required to add in thought to a given concept,\n",
    "    but what we actually think in it, even if only obscurely,\n",
    "    and then it becomes eviden that the predicate attaches\n",
    "    to such concepts indeed necessarily, though not immediately,\n",
    "    but rather through an intuition that has to be added.\n"
   ]
  },
  {
   "cell_type": "markdown",
   "metadata": {},
   "source": [
    "\n",
    "    The essential feature of pure mathematical cognition, \n",
    "    differentiating it from all other a priori cognition, \n",
    "    is that it must throughout proceed not from concepts,\n",
    "    but always and only through the construction of concepts\n",
    "    (Critique, p. 713).\n",
    "    Because pure mathematical cognition, in its propositions,\n",
    "    must therefore go beyond the concept to\n",
    "    that which is contained in the intuition corresponding to it, \n",
    "    its propositions can and must never arise \n",
    "    through the analysis of concepts, i.e., analytically,\n",
    "    and so are one and all synthetic.\n"
   ]
  },
  {
   "cell_type": "markdown",
   "metadata": {},
   "source": [
    "    I cannot, however, refrain from noting the damage\n",
    "    that neglect of this otherwise seemingly \n",
    "    insignificant and unimportant observation\n",
    "    has brought upon philosophy.\n",
    "    Hume, when he felt the call,\n",
    "    worthy of a philosopher,\n",
    "    to cast his gaze over the entire field \n",
    "    of pure a priori cognition,\n",
    "    in which the human understanding \n",
    "    claims such vast holdings,\n",
    "    inadvertently lopped off a whole\n",
    "    (and indeed the most considerable) \n",
    "    province of the same,\n",
    "    namely pure mathematics, \n",
    "    by imagining that the nature \n",
    "    and so to speak the legal constitution \n",
    "    of this province rested on \n",
    "    completely different principles, \n",
    "    namely solely on the principle of contradiction;\n",
    "    and although he had by no means made\n",
    "    a classification of propositions \n",
    "    so formally and generally,\n",
    "    or with such nomenclature,\n",
    "    as I have here, \n",
    "    it was nonetheless just as if he had said: \n",
    "    Pure mathematics contains only analytic propositions,\n",
    "    but metaphysics contains synthetic propositions a priori. \n",
    "    Now he erred severely in this, \n",
    "    and this error had decisively damaging consequences \n",
    "    for his entire conception.\n",
    "    For had he not done this,\n",
    "    he would have expanded his question about \n",
    "    the origin of our synthetic judgments \n",
    "    far beyond his metaphysical concept of causality\n",
    "    and extended it also to the possibility of a priori mathematics; \n",
    "    for he would have had to accept mathematics as synthetic as well.\n",
    "    But then he would by no means have been able to found \n",
    "    his metaphysical propositions on mere experience, \n",
    "    for otherwise he would have had to subject\n",
    "    the axioms of pure mathematics to experience as well, \n",
    "    which he was much too reasonable to do.\n",
    "    The good company in which metaphysics would\n",
    "    then have come to be situated \n",
    "    would have secured it against\n",
    "    the danger of scornful mistreatment;\n",
    "    for the blows that were intended for the latter\n",
    "    would have had to strike the former as well,\n",
    "    which was not his intention, \n",
    "    and could not have been; \n",
    "    and so the acute man would have been drawn \n",
    "    into reflections which must have been similar\n",
    "    to those with which we are now occupied,\n",
    "    but which would have gained infinitely \n",
    "    from his inimitably fine presentation.\n"
   ]
  },
  {
   "cell_type": "markdown",
   "metadata": {},
   "source": [
    "### 3. Metaphysical judgments\n"
   ]
  },
  {
   "cell_type": "markdown",
   "metadata": {},
   "source": [
    "    Properly metaphysical judgments are one and all synthetic.\n",
    "    Judgments belonging to metaphysics must be distinguished\n",
    "    from properly metaphysical judgments.\n",
    "    Very many among the former are analytic,\n",
    "    but they merely provide the means to metaphysical judgments,\n",
    "    toward which the aim of the science is completely directed, \n",
    "    and which are always synthetic.\n",
    "    For if concepts belong to metaphysics,\n",
    "    e.g., that of substance,\n",
    "    then necessarily the judgments arising \n",
    "    from their mere analysis belong to \n",
    "    metaphysics as well, e.g., \n",
    "    substance is that which exists only as subject, etc.,\n",
    "    and through several such analytic judgments\n",
    "    we try to approach the definition of those concepts.\n",
    "    \n"
   ]
  },
  {
   "cell_type": "markdown",
   "metadata": {},
   "source": [
    "    Since, however, the analysis of\n",
    "    a pure concept of the understanding \n",
    "    (such as metaphysics contains) \n",
    "    does not proceed in a different manner\n",
    "    from the analysis of any other, even empirical,\n",
    "    concept which does not belong to metaphysics\n",
    "    (e.g., air is an elastic fluid,\n",
    "    the elasticity of which is not lost\n",
    "    with any known degree of cold), \n",
    "    therefore the concept may indeed be properly metaphysical, \n",
    "    but not the analytic judgment; \n",
    "    for this science possesses something\n",
    "    special and proper to it\n",
    "    in the generation of its a priori cognitions, \n",
    "    which generation must therefore be distinguished \n",
    "    from what this science has in common \n",
    "    with all of the cognitions of the understanding; \n",
    "    thus, e.g., the proposition: \n",
    "    All that is substance in things persists, \n",
    "    is a synthetic and properly metaphysical proposition.\n"
   ]
  },
  {
   "cell_type": "markdown",
   "metadata": {},
   "source": [
    "    If one has previously assembled,\n",
    "    according to fixed principles, \n",
    "    the a priori concepts that constitute\n",
    "    the material of metaphysics and its tools,\n",
    "    then the analysis of these concepts is of great value;\n",
    "    it can even be presented apart \n",
    "    from all the synthetic propositions\n",
    "    that constitute metaphysics itself,\n",
    "    as a special part \n",
    "    (as it were a philosophia definitiva)\n",
    "    containing nothing but analytic propositions\n",
    "    belonging to metaphysics.\n",
    "    For in fact such analyses do not have\n",
    "    much use anywhere except in metaphysics,\n",
    "    i.e., with a view toward the synthetic propositions \n",
    "    that are to be generated from such previously analyzed concepts.\n"
   ]
  },
  {
   "cell_type": "markdown",
   "metadata": {},
   "source": [
    "    The conclusion of this section is therefore:\n",
    "    that metaphysics properly has to do with\n",
    "    synthetic propositions a priori, \n",
    "    and these alone constitute its aim, \n",
    "    for which it indeed requires\n",
    "    many analyses of its concepts\n",
    "    (therefore many analytic judgments), \n",
    "    in which analyses, though,\n",
    "    the procedure is no different from that\n",
    "    in any other type of cognition\n",
    "    when one seeks simply to make \n",
    "    its concepts clear through analysis. \n",
    "    But the generation of cognition a priori\n",
    "    in accordance with both intuition and concepts,\n",
    "    ultimately of synthetic propositions a priori as well,\n",
    "    and specifically in philosophical cognition,\n",
    "    forms the essential content of metaphysics.\n"
   ]
  },
  {
   "cell_type": "markdown",
   "metadata": {},
   "source": [
    "\n",
    "§3\n"
   ]
  },
  {
   "cell_type": "markdown",
   "metadata": {},
   "source": [
    "### Note on the general division of judgments into analytic and synthetic\n"
   ]
  },
  {
   "cell_type": "markdown",
   "metadata": {},
   "source": [
    "    This division is indispensable with regard \n",
    "    to the critique of human understanding,\n",
    "    and therefore deserves to be classical in it;\n",
    "    other than that I don’t know that\n",
    "    it has much utility anywhere else. \n",
    "    And in this I find the reason why dogmatic philosophers\n",
    "    (who always sought the sources of metaphysical judgments\n",
    "    only in metaphysics itself, and not outside it\n",
    "    in the pure laws of reason in general) \n",
    "    neglected this division, \n",
    "    which appears to come forward of itself, \n",
    "    and, like the famous Wolf,\n",
    "    or the acute Baumgarten following in his footsteps, \n",
    "    could try to find the proof of \n",
    "    the principle of sufficient reason, \n",
    "    which obviously is synthetic,\n",
    "    in the principle of contradiction."
   ]
  },
  {
   "cell_type": "markdown",
   "metadata": {},
   "source": [
    "    By contrast I find a hint of this division already\n",
    "    in Locke’s essays on human understanding.\n",
    "    For in Book IV, Chapter III, §9 f., \n",
    "    after he had already discussed the various\n",
    "    connections of representations in judgments \n",
    "    and the sources of the connections,\n",
    "    of which he located the one \n",
    "    in identity or contradiction (analytic judgments)\n",
    "    but the other in the existence of \n",
    "    representations in a subject (synthetic judgments), \n",
    "    he then acknowledges in §10 that \n",
    "    our cognition (a priori) of these last is \n",
    "    very constricted and almost nothing at all.\n",
    "    But there is so little that is definite and reduced to rules\n",
    "    in what he says about this type of cognition,\n",
    "    that it is no wonder if no one, \n",
    "    and in particular not even Hume, \n",
    "    was prompted by it to contemplate propositions of this type.\n",
    "    For such general yet nonetheless definite principles are\n",
    "    not easily learned from others who have only had them\n",
    "    floating obscurely before them.\n",
    "    One must first have come to them\n",
    "    oneself through one’s own reflection,\n",
    "    after which one also finds them elsewhere,\n",
    "    where one certainly would not have found them before, \n",
    "    because the authors did not even know themselves that their\n",
    "    own remarks were grounded on such an idea.\n",
    "    Those who never think for themselves in this way\n",
    "    nevertheless possess the quick-sightedness to spy everything,\n",
    "    after it has been shown to them,\n",
    "    in what has already been said elsewhere,\n",
    "    where no one at all could see it before."
   ]
  },
  {
   "cell_type": "markdown",
   "metadata": {},
   "source": [
    "## General Question of the Prolegomena \n"
   ]
  },
  {
   "cell_type": "markdown",
   "metadata": {},
   "source": [
    "### Is metaphysics possible at all?\n"
   ]
  },
  {
   "cell_type": "markdown",
   "metadata": {},
   "source": [
    "\n",
    "§4\n"
   ]
  },
  {
   "cell_type": "markdown",
   "metadata": {},
   "source": [
    "\n",
    "    If a metaphysics that could assert\n",
    "    itself as science were actual, \n",
    "    if one could say: here is metaphysics, \n",
    "    you need only to learn it,\n",
    "    and it will convince you \n",
    "    of its truth irresistibly and immutably,\n",
    "    then this question would be unnecessary,\n",
    "    and there would remain only that question \n",
    "    which would pertain more to a test of our acuteness \n",
    "    than to a proof of the existence of \n",
    "    the subject matter itself, namely:\n",
    "    how it is possible,\n",
    "    and how reason should set about attaining it.\n",
    "    Now it has not gone so well for human reason in this case. \n",
    "    One can point to no single book,\n",
    "    as for instance one presents a Euclid, and say: \n",
    "    this is metaphysics, here you will find\n",
    "    the highest aim of this science,\n",
    "    knowledge of a supreme being and a future life, \n",
    "    proven from principles of pure reason.\n"
   ]
  },
  {
   "cell_type": "markdown",
   "metadata": {},
   "source": [
    "\n",
    "    For one can indeed show us many propositions\n",
    "    that are apodictically certain\n",
    "    and have never been disputed; \n",
    "    but they are one and all analytic\n",
    "    and pertain more to the materials and implements of metaphysics \n",
    "    than to the expansion of knowledge,\n",
    "    which after all ought to be our real aim for it.\n",
    "    But although you present synthetic propositions as well \n",
    "    (e.g., the principle of sufficient reason),\n",
    "    which you have never proven from bare reason\n",
    "    and consequently a priori,\n",
    "    as was indeed your obligation,\n",
    "    and which are gladly ceded to you all the same: \n",
    "    then if you want to use them toward your main goal, \n",
    "    you still fall into assertions so illicit and precarious\n",
    "    that one metaphysics has always contradicted the other,\n",
    "    either in regard to the assertions themselves or their proofs, \n",
    "    and thereby metaphysics has itself destroyed its claim\n",
    "    to lasting approbation.\n"
   ]
  },
  {
   "cell_type": "markdown",
   "metadata": {},
   "source": [
    "\n",
    "    The very attempts to bring such a science into existence\n",
    "    were without doubt the original cause of \n",
    "    the skepticism that arose so early, \n",
    "    a mode of thinking in which reason moves against itself with\n",
    "    such violence that it never could have arisen\n",
    "    except in complete despair as regards satisfaction of\n",
    "    reason’s most important aims. \n",
    "    For long before we began to question nature methodically,\n",
    "    we questioned just our isolated reason, \n",
    "    which already was practiced to a certain extent\n",
    "    through common experience:\n",
    "    for reason surely is present to us always, \n",
    "    but laws of nature must normally be sought out painstakingly;\n",
    "    and so metaphysics was floating at the top like foam,\n",
    "    though in such a way that as soon as\n",
    "    what had been drawn off had dissolved,\n",
    "    more showed itself on the surface,\n",
    "    which some always gathered up eagerly,\n",
    "    while others, instead of seeking the cause of\n",
    "    this phenomenon in the depths, \n",
    "    thought themselves wise in mocking \n",
    "    the fruitless toil of the former.\n"
   ]
  },
  {
   "cell_type": "markdown",
   "metadata": {},
   "source": [
    "    Weary therefore of dogmatism,\n",
    "    which teaches us nothing, \n",
    "    and also of skepticism,\n",
    "    which promises us absolutely nothing at all,\n",
    "    not even the tranquility of a permitted ignorance;\n",
    "    summoned by the importance of the knowledge that we need,\n",
    "    and made mistrustful, through long experience,\n",
    "    with respect to any knowledge that we believe we possess\n",
    "    or that offers itself to us under the title of pure reason,\n",
    "    there remains left for us but one critical question,\n",
    "    the answer to which can regulate our future conduct:\n",
    "    Is metaphysics possible at all?\n",
    "    But this question must not be answered\n",
    "    by skeptical objections to particular assertions\n",
    "    of an actual metaphysics\n",
    "    (for at present we still allow none to be valid),\n",
    "    but out of the still problematic concept of such a science.\n"
   ]
  },
  {
   "cell_type": "markdown",
   "metadata": {},
   "source": [
    "    In the Critique of Pure Reason\n",
    "    I worked on this question synthetically,\n",
    "    namely by inquiring within pure reason itself, \n",
    "    and seeking to determine within this source\n",
    "    both the elements and the laws of its pure use,\n",
    "    according to principles. \n",
    "    This work is difficult and requires a resolute reader\n",
    "    to think himself little by little into a system \n",
    "    that takes no foundation as given except reason itself,\n",
    "    and that therefore tries to develop cognition \n",
    "    out of its original seeds without relying on any fact whatever.\n",
    "    \n"
   ]
  },
  {
   "cell_type": "markdown",
   "metadata": {},
   "source": [
    "    Prolegomenae should by contrast be preparatory exercises;\n",
    "    they ought more to indicate what needs to be done\n",
    "    in order to bring a science into existence if possible,\n",
    "    than to present the science itself. \n",
    "    They must therefore rely on something\n",
    "    already known to be dependable,\n",
    "    from which we can go forward with\n",
    "    confidence and ascend to the sources,\n",
    "    which are not yet known,\n",
    "    and whose discovery not only will explain\n",
    "    what is known already,\n",
    "    but will also exhibit an area with many cognitions\n",
    "    that all arise from these same sources. \n",
    "    The methodological procedure of prolegomena,\n",
    "    and especially of those that are\n",
    "    to prepare for a future metaphysics,\n",
    "    will therefore be analytic.\n"
   ]
  },
  {
   "cell_type": "markdown",
   "metadata": {},
   "source": [
    "    Fortunately, it happens that, \n",
    "    even though we cannot assume \n",
    "    that metaphysics as science is actual,\n",
    "    we can confidently say that some \n",
    "    pure synthetic cognition a priori is actual\n",
    "    and given, namely, pure mathematics and pure natural science; \n",
    "    for both contain propositions that are fully acknowledged, \n",
    "    some as apodictically certain through bare reason,\n",
    "    some from universal agreement with experience\n",
    "    (though these are still recognized as independent of experience).\n",
    "    We have therefore some at least\n",
    "    uncontested synthetic cognition a priori, \n",
    "    and we do not need to ask whether it is possible\n",
    "    (for it is actual), but only: \n",
    "    how it is possible, in order to be able to derive,\n",
    "    from the principle of the possibility of the given cognition, \n",
    "    the possibility of all other synthetic cognition a priori."
   ]
  },
  {
   "cell_type": "markdown",
   "metadata": {},
   "source": [
    "## Prolegomena General Question\n"
   ]
  },
  {
   "cell_type": "markdown",
   "metadata": {},
   "source": [
    "\n",
    "### How is cognition from pure reason possible?\n"
   ]
  },
  {
   "cell_type": "markdown",
   "metadata": {},
   "source": [
    "\n",
    "§5\n"
   ]
  },
  {
   "cell_type": "markdown",
   "metadata": {},
   "source": [
    "    We have seen above the vast difference\n",
    "    between analytic and synthetic judgments.\n",
    "    The possibility of analytic propositions\n",
    "    could be comprehended very easily;\n",
    "    for it is founded solely upon the principle of contradiction.\n",
    "    The possibility of synthetic propositions a posteriori,\n",
    "    i.e., of such as are drawn from experience,\n",
    "    also requires no special explanation; \n",
    "    for experience itself is nothing other than\n",
    "    a continual conjoining (synthesis) of perceptions. \n",
    "    There remain for us therefore only \n",
    "    synthetic propositions a priori,\n",
    "    whose possibility must be sought or investigated, \n",
    "    since it must rest on principles other than\n",
    "    the principle of contradiction.\n"
   ]
  },
  {
   "cell_type": "markdown",
   "metadata": {},
   "source": [
    "    Here, however, we do not need first\n",
    "    to seek the possibility of such propositions,\n",
    "    i.e., to ask whether they are possible.\n",
    "    For there are plenty of them actually given, \n",
    "    and indeed with indisputable certainty, \n",
    "    and since the method we are now following\n",
    "    is to be analytic,\n",
    "    we will consequently start from the position:\n",
    "    that such synthetic but pure rational cognition is actual; \n",
    "    but we must nonetheless next investigate \n",
    "    the ground of this possibility,\n",
    "    and ask: how this cognition is possible,\n",
    "    so that we put ourselves in a position to determine, \n",
    "    from the principles of its possibility,\n",
    "    the conditions of its use and\n",
    "    the extent and boundaries of the same.\n",
    "    Expressed with scholastic precision,\n",
    "    the exact problem on which everything hinges is therefore:\n"
   ]
  },
  {
   "cell_type": "markdown",
   "metadata": {},
   "source": [
    "#### How are synthetic propositions a priori possible?\n"
   ]
  },
  {
   "cell_type": "markdown",
   "metadata": {},
   "source": [
    "    For the sake of popularity I have expressed\n",
    "    this problem somewhat differently above,\n",
    "    namely as a question about cognition from pure reason\n",
    "    which I could well have done on this occasion\n",
    "    without disadvantage for the desired insight;\n",
    "    for, since we assuredly have to do here\n",
    "    only with metaphysics and its sources, \n",
    "    it will, I hope, always be kept in mind,\n",
    "    following the earlier reminders, \n",
    "    that when we here speak of \n",
    "    cognition from pure reason,\n",
    "    the discussion is never about analytic cognition,\n",
    "    but only synthetic.\n"
   ]
  },
  {
   "cell_type": "markdown",
   "metadata": {},
   "source": [
    "\n",
    "    Whether metaphysics is to stand or fall, \n",
    "    and hence its existence, \n",
    "    now depends entirely on the solving of this problem.\n",
    "    Anyone may present his contentions on the matter with ever so great a likelihood,\n",
    "    piling conclusion on conclusion to the point of suffocation;\n",
    "    if he has not been able beforehand to answer\n",
    "    this question satisfactorily then I have the right to say: \n",
    "    it is all empty, baseless philosophy and false wisdom. \n",
    "    You speak through pure reason and pretend as it were\n",
    "    to create a priori cognitions,\n",
    "    not only by analyzing given concepts, \n",
    "    but by alleging new connections that are not\n",
    "    based on the principle of contradiction\n",
    "    and that you nonetheless presume to understand\n",
    "    completely independently of all experience;\n",
    "    now how do you come to this,\n",
    "    and how will you justify such pretenses?\n",
    "    You cannot be allowed to call on the concurrence\n",
    "    of general common sense;\n",
    "    for that is a witness whose standing is\n",
    "    based solely on public rumor."
   ]
  },
  {
   "cell_type": "markdown",
   "metadata": {},
   "source": [
    "    Quodcunque ostendis mihi sic, incredulus odi. Horat.\n"
   ]
  },
  {
   "cell_type": "markdown",
   "metadata": {},
   "source": [
    "\n",
    "    As indispensable as it is, however, to answer this question,\n",
    "    at the same time it is just as difficult; \n",
    "    and although the principal reason why\n",
    "    the answer has not long since been sought \n",
    "    rests in the fact that it had occurred to no one \n",
    "    that such a thing could be asked,\n",
    "    nonetheless a second reason is that\n",
    "    a satisfactory answer to this one question requires\n",
    "    more assiduous, deeper, and more painstaking reflection\n",
    "    than the most prolix work of metaphysics ever did,\n",
    "    which promised its author immortality on its first appearance.\n"
   ]
  },
  {
   "cell_type": "markdown",
   "metadata": {},
   "source": [
    "\n",
    "    Also, every perceptive reader, \n",
    "    if he carefully ponders what this problem demands,\n",
    "    being frightened at first by its difficulty,\n",
    "    is bound to consider it insoluble \n",
    "    and, if such pure synthetic cognitions a priori were not actual, \n",
    "    altogether impossible;\n",
    "    which is what actually befell David Hume, \n",
    "    although he was far from conceiving the question \n",
    "    in such universality as it is here, \n",
    "    and as it must be if the reply is to be\n",
    "    decisive for all metaphysics. \n"
   ]
  },
  {
   "cell_type": "markdown",
   "metadata": {},
   "source": [
    "\n",
    "    For how is it possible, asked the acute man,\n",
    "    that when I am given one concept I can go beyond it\n",
    "    and connect another one to it that is not contained in it,\n",
    "    and can indeed do so, as though \n",
    "    the latter necessarily belonged to the former?\n",
    "    Only experience can provide us with such connections\n",
    "    (so he concluded from this difficulty, \n",
    "    which he took for an impossibility),\n",
    "    and all of this supposed necessity\n",
    "    – or, what is the same –\n",
    "    this cognition taken for a priori,\n",
    "    is nothing but a long-standing habit \n",
    "    of finding something to be true\n",
    "    and consequently of taking \n",
    "    subjective necessity to be objective.\n"
   ]
  },
  {
   "cell_type": "markdown",
   "metadata": {},
   "source": [
    "\n",
    "    If the reader complains about the toil and trouble \n",
    "    that I shall give him with the solution to this problem, \n",
    "    he need only make the attempt to\n",
    "    solve it more easily himself.\n",
    "    Perhaps he will then feel himself obliged to\n",
    "    the one who has taken on a task of such profound inquiry for him,\n",
    "    and will rather allow himself to express \n",
    "    some amazement over the ease with which\n",
    "     the solution could still be given, \n",
    "    considering the nature of the matter;\n",
    "    for indeed it cost years of toil to\n",
    "    solve this problem in its full universality \n",
    "    (as this word is understood by the mathematicians, namely,\n",
    "    as sufficient for all cases),\n",
    "    and also ultimately to be able to \n",
    "    present it in analytic form,\n",
    "    as the reader will find it here.\n"
   ]
  },
  {
   "cell_type": "markdown",
   "metadata": {},
   "source": [
    "    All metaphysicians are therefore \n",
    "    solemnly and lawfully suspended from their occupations\n",
    "     until such a time as they shall have satisfactorily\n",
    "    answered the question: \n",
    "    How are synthetic cognitions a priori possible? \n",
    "    For in this answer alone consists the credential\n",
    "    which they must present \n",
    "    if they have something to advance to us\n",
    "    in the name of pure reason;\n",
    "    in default of which, however,\n",
    "    they can expect only that reasonable persons,\n",
    "    who have been deceived so often already, \n",
    "    will reject their offerings \n",
    "    without any further investigation.\n"
   ]
  },
  {
   "cell_type": "markdown",
   "metadata": {},
   "source": [
    "    If, on the contrary, they want to put forth\n",
    "    their occupation not as science, \n",
    "    but as an art of beneficial persuasions \n",
    "    accommodated to general common sense, \n",
    "    then they cannot justly be barred from this trade.\n",
    "    They will then use the modest language of reasonable belief, \n",
    "    they will acknowledge that it is not allowed\n",
    "    them even once to guess, \n",
    "    let alone to know,\n",
    "    something about that which lies beyond\n",
    "    the boundaries of all possible experience, \n",
    "    but only to assume something about it\n",
    "    (not for speculative use, for they must renounce that,\n",
    "    but solely for practical use), \n",
    "    as is possible and even indispensable \n",
    "    for the guidance of the understanding and will in life. \n",
    "    Only thus will they be able to call themselves\n",
    "    useful and wise men, the more so, \n",
    "    the more they renounce the name of metaphysicians;\n",
    "    for metaphysicians want to be speculative philosophers, \n",
    "    and since one cannot aim for vapid probabilities\n",
    "    when judgments a priori are at stake\n",
    "    (for what is alleged to be cognized a priori\n",
    "    is thereby announced as necessary),\n",
    "    it cannot be permitted them to play with guesses,\n",
    "    but rather their assertions must be science\n",
    "    or they are nothing at all.\n"
   ]
  },
  {
   "cell_type": "markdown",
   "metadata": {},
   "source": [
    "    It can be said that the whole \n",
    "    of transcendental philosophy, \n",
    "    which necessarily precedes all of metaphysics,\n",
    "    is itself nothing other than simply\n",
    "    the complete solution of the question presented here,\n",
    "    but in systematic order and detail,\n",
    "    and that until now there has therefore been\n",
    "    no transcendental philosophy; \n",
    "    for what goes under this name is\n",
    "    really a part of metaphysics, \n",
    "    but this science is to settle the possibility\n",
    "    of metaphysics in the first place, \n",
    "    and therefore must precede all metaphysics.\n",
    "    Hence there need be no surprise \n",
    "    because a science is needed \n",
    "    that is utterly deprived\n",
    "    of assistance from other sciences\n",
    "    and hence is in itself completely new, \n",
    "    in order just to answer a single question adequately,\n",
    "    when the solution to it is conjoined with trouble\n",
    "    and difficulty and even with some obscurity.\n"
   ]
  },
  {
   "cell_type": "markdown",
   "metadata": {},
   "source": [
    "\n",
    "    In now setting to work on this solution\n",
    "    and indeed following the analytic method,\n",
    "    in which we presuppose that such \n",
    "    cognitions from pure reason are actual,\n",
    "    we can appeal to only two sciences of theoretical knowledge\n",
    "    (which alone is being discussed here), namely, \n",
    "    pure mathematics and pure natural science;\n",
    "    for only these can present objects to us in intuition,\n",
    "    and consequently, if they happen to contain\n",
    "    an a priori cognition,\n",
    "    can show its truth or correspondence\n",
    "    with the object in concreto, i.e., its actuality,\n",
    "    from which one could then proceed along\n",
    "    the analytic path to the ground of its possibility.\n",
    "    This greatly facilitates the work,\n",
    "    in which general considerations are not\n",
    "    only applied to facts,\n",
    "    but even start from them, instead of,\n",
    "    as in the synthetic procedure, \n",
    "    having to be derived wholly \n",
    "    in abstracto from concepts.\n"
   ]
  },
  {
   "cell_type": "markdown",
   "metadata": {},
   "source": [
    "    But in order to ascend from these pure a priori cognitions \n",
    "    (which are not only actual but also well-founded) \n",
    "    to a possible cognition that we seek – namely,\n",
    "    a metaphysics as science –\n",
    "    we need to comprehend under our main question\n",
    "    that which gives rise to metaphysics and which\n",
    "    underlies its purely naturally given\n",
    "    (though not above suspicion as regards truth)\n",
    "    cognition a priori \n",
    "    (which cognition, when pursued without\n",
    "    any critical investigation of its possibility,\n",
    "    is normally called metaphysics already) \n",
    "    in a word, the natural disposition to such a science; \n",
    "    and so the main transcendental question,\n",
    "    divided into four other questions,\n",
    "    will be answered step by step:\n"
   ]
  },
  {
   "cell_type": "markdown",
   "metadata": {},
   "source": [
    "\n",
    "    1. How is pure mathematics possible?\n",
    "    2. How is pure natural science possible?\n",
    "    3. How is metaphysics in general possible?\n",
    "    4. How is metaphysics as science possible?\n"
   ]
  },
  {
   "cell_type": "markdown",
   "metadata": {},
   "source": [
    "    It can be seen that even if \n",
    "    the solution to these problems is intended\n",
    "    principally to present the essential content of the Critique,\n",
    "    still it also possesses something distinctive\n",
    "    that is worthy of attention in its own right,\n",
    "    namely, the search for the sources of \n",
    "    given sciences in reason itself,\n",
    "    in order to investigate\n",
    "    and to measure out for reason,\n",
    "    by way of the deed itself,\n",
    "    its power to cognize something a priori;\n",
    "    whereby these sciences themselves then benefit,\n",
    "    if not with respect to their content, \n",
    "    nonetheless as regards their proper practice,\n",
    "    and, while bringing light to a higher question\n",
    "    regarding their common origin,\n",
    "    they simultaneously provide occasion\n",
    "    for a better explanation of their own nature."
   ]
  }
 ],
 "metadata": {
  "kernelspec": {
   "display_name": "jupyter",
   "language": "python",
   "name": "python3"
  },
  "language_info": {
   "name": "python",
   "version": "3.11.2"
  }
 },
 "nbformat": 4,
 "nbformat_minor": 2
}
