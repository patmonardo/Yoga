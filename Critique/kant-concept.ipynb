{
 "cells": [
  {
   "cell_type": "markdown",
   "metadata": {},
   "source": [
    "## a. Of concepts\n"
   ]
  },
  {
   "cell_type": "markdown",
   "metadata": {},
   "source": [
    "### The concept in general and its distinction from intuition\n",
    "\n"
   ]
  },
  {
   "cell_type": "markdown",
   "metadata": {},
   "source": [
    "    All cognitions, that is,\n",
    "    all representations related with consciousness to an object,\n",
    "    are either intuitions or concepts.\n",
    "    An intuition is a singular representation (repraesentatio singularis),\n",
    "    a concept a universal (repraesentatio per notas communes)\n",
    "    or reflected representation (repraesentatio discursiva).\n",
    "    Cognition through concepts is called thought (cognitio discursiva).\n"
   ]
  },
  {
   "cell_type": "markdown",
   "metadata": {},
   "source": [
    "### Matter and form of concepts\n"
   ]
  },
  {
   "cell_type": "markdown",
   "metadata": {},
   "source": [
    "\n",
    "    With every concept we are to distinguish matter and form.\n",
    "    The matter of concepts is the object,\n",
    "    their form universality.\n"
   ]
  },
  {
   "cell_type": "markdown",
   "metadata": {},
   "source": [
    "### Empirical and pure concept\n"
   ]
  },
  {
   "cell_type": "markdown",
   "metadata": {},
   "source": [
    "\n",
    "    A concept is either an empirical or a pure concept\n",
    "    (vel empiricus vel intellectualis).\n",
    "    A pure concept is one that is not abstracted from experience\n",
    "    but arises rather from the understanding even as to content.\n",
    "    An idea is a concept of reason whose object\n",
    "    simply cannot be met with in experience.\n"
   ]
  },
  {
   "cell_type": "markdown",
   "metadata": {},
   "source": [
    "### Concepts that are given (a priori or a posteriori) and concepts that are made\n"
   ]
  },
  {
   "cell_type": "markdown",
   "metadata": {},
   "source": [
    "\n",
    "    All concepts, as to matter, are either\n",
    "    given (conceptus dati) or made (conceptus factitii).\n",
    "    The former are given either a priori or a posteriori.\n",
    "    All concepts that are given empirically or a posteriori\n",
    "    are called concepts of experience,\n",
    "    all that are given a priori are called notions.\n"
   ]
  },
  {
   "cell_type": "markdown",
   "metadata": {},
   "source": [
    "### Logical origin of concepts\n"
   ]
  },
  {
   "cell_type": "markdown",
   "metadata": {},
   "source": [
    "\n",
    "    The origin of concepts as to mere form rests on reflection\n",
    "    and on abstraction from the difference among things\n",
    "    that are signified by a certain representation.\n",
    "    And thus arises here the question:\n",
    "    Which acts of the understanding constitute a concept\n",
    "    or what is the same,\n",
    "    Which are involved in the generation of a concept\n",
    "    out of given representations?\n"
   ]
  },
  {
   "cell_type": "markdown",
   "metadata": {},
   "source": [
    "### Logical Actus of comparison, reflection, and abstraction\n"
   ]
  },
  {
   "cell_type": "markdown",
   "metadata": {},
   "source": [
    "\n",
    "    The logical actus of the understanding,\n",
    "    through which concepts are generated as to their form, are:\n",
    "    1.  comparison of representations among one another\n",
    "        in relation to the unity of consciousness;\n",
    "    2.  reflection as to how various representations can\n",
    "        be conceived in one consciousness; and finally\n",
    "    3.  abstraction of everything else\n",
    "        in which the given representations differ.\n"
   ]
  },
  {
   "cell_type": "markdown",
   "metadata": {},
   "source": [
    "### Content and extension of concepts"
   ]
  },
  {
   "cell_type": "markdown",
   "metadata": {},
   "source": [
    "\n",
    "    Every concept, as partial concept, is contained in\n",
    "    the representation of things;\n",
    "    as ground of cognition, i.e., as mark,\n",
    "    these things are contained under it.\n",
    "    In the former respect every concept has a content,\n",
    "    in the other an extension.\n"
   ]
  },
  {
   "cell_type": "markdown",
   "metadata": {},
   "source": [
    "\n",
    "    The content and extension of a concept\n",
    "    stand in inverse relation to one another.\n",
    "    The more a concept contains under itself, namely,\n",
    "    the less it contains in itself, and conversely.\n"
   ]
  },
  {
   "cell_type": "markdown",
   "metadata": {},
   "source": [
    "### Quantity of the extension of concepts\n"
   ]
  },
  {
   "cell_type": "markdown",
   "metadata": {},
   "source": [
    "\n",
    "    The more the things that stand under a concept\n",
    "    and can be thought through it,\n",
    "    the greater is its extension or sphere.\n"
   ]
  },
  {
   "cell_type": "markdown",
   "metadata": {},
   "source": [
    "### Higher and lower concepts\n"
   ]
  },
  {
   "cell_type": "markdown",
   "metadata": {},
   "source": [
    "\n",
    "    Concepts are called higher (conceptus superiores) insofar as\n",
    "    they have other concepts under themselves,\n",
    "    which, in relation to them, are called lower concepts.\n",
    "    A mark of a mark, a remote mark, is a higher concept,\n",
    "    the concept in relation to a remote mark is a lower one.\n"
   ]
  },
  {
   "cell_type": "markdown",
   "metadata": {},
   "source": [
    "### Genus and species\n"
   ]
  },
  {
   "cell_type": "markdown",
   "metadata": {},
   "source": [
    "    The higher concept, in respect to its lower one, is called genus,\n",
    "    the lower concept in regard to its higher one species.\n",
    "    Like higher and lower concepts,\n",
    "    genus and species concepts are distinguished \n",
    "    not as to their nature, then, \n",
    "    but only in regard to their relation to one another\n",
    "    (termini a quo or ad quod) in logical subordination.\n"
   ]
  },
  {
   "cell_type": "markdown",
   "metadata": {},
   "source": [
    "### Highest genus and lowest species\n"
   ]
  },
  {
   "cell_type": "markdown",
   "metadata": {},
   "source": [
    "\n",
    "    The highest genus is that which is not a species\n",
    "    (genus summum non est species),\n",
    "    just as the lowest species is that which is not a genus\n",
    "    (species, quae non est genus, est infima).\n",
    "    In consequence of the law of continuity, however,\n",
    "    there cannot be either a lowest or a next species.\n"
   ]
  },
  {
   "cell_type": "markdown",
   "metadata": {},
   "source": [
    "### Broader and narrower concept - Convertible concepts\n"
   ]
  },
  {
   "cell_type": "markdown",
   "metadata": {},
   "source": [
    "\n",
    "    The higher concept is also called a broader concept,\n",
    "    the lower concept a narrower one.\n"
   ]
  },
  {
   "cell_type": "markdown",
   "metadata": {},
   "source": [
    "    Concepts that have one and the same sphere \n",
    "    are called convertible concepts\n",
    "    (conceptus reciproci).\n"
   ]
  },
  {
   "cell_type": "markdown",
   "metadata": {},
   "source": [
    "### Relation of the lower concept to the higher\n"
   ]
  },
  {
   "cell_type": "markdown",
   "metadata": {},
   "source": [
    "\n",
    "    The lower concept is not contained in the higher,\n",
    "    for it contains more in itself than does the higher one;\n",
    "    it is contained under it, however,\n",
    "    because the higher contains the ground of cognition of the lower.\n"
   ]
  },
  {
   "cell_type": "markdown",
   "metadata": {},
   "source": [
    "### Relation of the broader to the narrower\n"
   ]
  },
  {
   "cell_type": "markdown",
   "metadata": {},
   "source": [
    "\n",
    "    Furthermore, one concept is not broader than another\n",
    "    because it contains more under itself\n",
    "    [for one cannot know that]\n",
    "    but rather insofar as it contains under itself\n",
    "    the other concept and besides this still more.\n"
   ]
  },
  {
   "cell_type": "markdown",
   "metadata": {},
   "source": [
    "### Universal rules in respect of the subordination of concepts\n"
   ]
  },
  {
   "cell_type": "markdown",
   "metadata": {},
   "source": [
    "\n",
    "    In regard to the logical extension of concepts,\n",
    "    the following universal rules hold:\n",
    "    1. What belongs to or contradicts higher concepts\n",
    "    also belongs to or contradicts all lower concepts\n",
    "    that are contained under those higher ones; and\n",
    "    2. conversely: What belongs to or contradicts all lower concepts\n",
    "    also belongs to or contradicts their higher concept.\n"
   ]
  },
  {
   "cell_type": "markdown",
   "metadata": {},
   "source": [
    "### Conditions for higher and lower concepts to arise: Logical abstraction and logical determination\n"
   ]
  },
  {
   "cell_type": "markdown",
   "metadata": {},
   "source": [
    "\n",
    "    Through continued logical abstraction\n",
    "    higher and higher concepts arise,\n",
    "    just as through continued logical determination,\n",
    "    on the other hand,\n",
    "    lower and lower concepts arise.\n",
    "    The greatest possible abstraction yields\n",
    "    the highest or most abstract concept,\n",
    "    that from which no determination can be further thought away.\n",
    "    The highest, completed determination would yield\n",
    "    a thoroughly determinate concept\n",
    "    (conceptus omnimode determinate),\n",
    "    i.e., one to which no further determination might be added in thought.\n"
   ]
  },
  {
   "cell_type": "markdown",
   "metadata": {},
   "source": [
    "###  Use of concepts in abstracto and in concreto\n"
   ]
  },
  {
   "cell_type": "markdown",
   "metadata": {},
   "source": [
    "\n",
    "    Every concept can be used universally or particularly\n",
    "    (in abstracto or in concreto).\n",
    "    The lower concept is used in abstracto in regard to its higher one,\n",
    "    the higher concept in concreto in regard to its lower one.\n"
   ]
  }
 ],
 "metadata": {
  "kernelspec": {
   "display_name": "jupyter",
   "language": "python",
   "name": "python3"
  },
  "language_info": {
   "name": "python",
   "version": "3.11.2"
  }
 },
 "nbformat": 4,
 "nbformat_minor": 2
}
