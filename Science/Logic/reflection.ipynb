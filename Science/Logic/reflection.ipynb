{
 "cells": [
  {
   "cell_type": "markdown",
   "metadata": {},
   "source": [
    "# Chapter 2"
   ]
  },
  {
   "cell_type": "markdown",
   "metadata": {},
   "source": [
    "# The Determinations of Reflection"
   ]
  },
  {
   "cell_type": "markdown",
   "metadata": {},
   "source": [
    "\n",
    "    The essentialities or the determinations of reflection\n",
    "\n",
    "    Reflection is determined reflection;\n",
    "    accordingly, essence is determined essence, or it is essentiality."
   ]
  },
  {
   "cell_type": "markdown",
   "metadata": {},
   "source": [
    "\n",
    "    Reflection is the shining of essence within itself.\n",
    "    Essence, as infinite immanent turning back is not \n",
    "    immediate simplicity, but negative simplicity;\n",
    "    it is a movement across moments that are distinct,\n",
    "    is absolute mediation with itself.\n",
    "    \n"
   ]
  },
  {
   "cell_type": "markdown",
   "metadata": {},
   "source": [
    "    But in these moments it shines;\n",
    "    the moments are, therefore, themselves\n",
    "    determinations reflected into themselves.\n"
   ]
  },
  {
   "cell_type": "markdown",
   "metadata": {},
   "source": [
    "\n",
    "    First, essence is simple self-reference, pure identity.\n",
    "    This is its determination, one by which it is rather\n",
    "    the absence of determination.\n"
   ]
  },
  {
   "cell_type": "markdown",
   "metadata": {},
   "source": [
    "\n",
    "    Second, the specifying determination is difference,\n",
    "    difference which is either external\n",
    "    or indefinite, diversity in general,\n",
    "    or opposed diversity or opposition.\n"
   ]
  },
  {
   "cell_type": "markdown",
   "metadata": {},
   "source": [
    "\n",
    "    Third, as contradiction this opposition is reflected into itself\n",
    "    and returns to its foundation.\n"
   ]
  },
  {
   "cell_type": "markdown",
   "metadata": {},
   "source": [
    "\n",
    "## A. IDENTITY\n"
   ]
  },
  {
   "cell_type": "markdown",
   "metadata": {},
   "source": [
    "\n",
    "    1. Essence is simple immediacy as sublated immediacy.\n",
    "    Its negativity is its being;\n",
    "    it is equal to itself in its absolute negativity\n",
    "    by virtue of which otherness and reference to other\n",
    "    have as such simply disappeared into pure self-equality.\n",
    "    Essence is therefore simple self-identity.\n"
   ]
  },
  {
   "cell_type": "markdown",
   "metadata": {},
   "source": [
    "\n",
    "    This self-identity is the immediacy of reflection.\n",
    "    It is not that self-equality which being is, or also nothing,\n",
    "    but a self-equality which, in producing itself as unity,\n",
    "    does not produce itself over again, as from another,\n",
    "    but is a pure production, from itself and in itself,\n",
    "    essential identity.\n"
   ]
  },
  {
   "cell_type": "markdown",
   "metadata": {},
   "source": [
    "\n",
    "    It is not, therefore, abstract identity\n",
    "    or an identity which is the result\n",
    "    of a relative negation preceding it,\n",
    "    one that separates indeed\n",
    "    what it distinguishes from it\n",
    "    but, for the rest, leaves it existing outside it,\n",
    "    the same after as before.\n"
   ]
  },
  {
   "cell_type": "markdown",
   "metadata": {},
   "source": [
    "\n",
    "    Being, and every determinateness of being,\n",
    "    has rather sublated itself not relatively,\n",
    "    but in itself, and this simple negativity,\n",
    "    the negativity of being in itself,\n",
    "    is the identity itself.\n"
   ]
  },
  {
   "cell_type": "markdown",
   "metadata": {},
   "source": [
    "\n",
    "    In general, therefore,\n",
    "    it is still the same as essence.\n"
   ]
  },
  {
   "cell_type": "markdown",
   "metadata": {},
   "source": [
    "\n",
    "## B. DIFFERENCE\n"
   ]
  },
  {
   "cell_type": "markdown",
   "metadata": {},
   "source": [
    "\n",
    "#### a. Absolute difference\n"
   ]
  },
  {
   "cell_type": "markdown",
   "metadata": {},
   "source": [
    "\n",
    "    Difference is the negativity that\n",
    "    reflection possesses in itself,\n",
    "    the nothing which is said in identity discourse,\n",
    "    the essential moment of identity itself\n",
    "    which, as the negativity of itself,\n",
    "    at the same time determines itself\n",
    "    and is differentiated from difference.\n"
   ]
  },
  {
   "cell_type": "markdown",
   "metadata": {},
   "source": [
    "\n",
    "    1. This difference is difference in and for itself,\n",
    "    absolute difference, the difference of essence.\n",
    "    It is difference in and for itself,\n",
    "    not difference through something external\n",
    "    but self-referring, hence simple, difference.\n"
   ]
  },
  {
   "cell_type": "markdown",
   "metadata": {},
   "source": [
    "\n",
    "    It is essential that we grasp absolute difference as simple.\n",
    "    In the absolute difference of A and not-A from each other,\n",
    "    it is the simple “not” which, as such,\n",
    "    constitutes the difference.\n"
   ]
  },
  {
   "cell_type": "markdown",
   "metadata": {},
   "source": [
    "\n",
    "    Difference itself is a simple concept.\n",
    "    “In this,” so it is said, “two things differ, in that etc.”\n",
    "    “In this,” that is, in one and the same respect,\n",
    "    relative to the same basis of determination.\n"
   ]
  },
  {
   "cell_type": "markdown",
   "metadata": {},
   "source": [
    "\n",
    "    It is the difference of reflection,\n",
    "    not the otherness of existence.\n",
    "    One existence and another existence are\n",
    "    posited as lying outside each other;\n",
    "    each of the two existences thus\n",
    "    determined over against each other\n",
    "    has an immediate being for itself.\n"
   ]
  },
  {
   "cell_type": "markdown",
   "metadata": {},
   "source": [
    "\n",
    "    The other of essence, by contrast,\n",
    "    is the other in and for itself,\n",
    "    not the other of some other\n",
    "    which is to be found outside it;\n",
    "    it is simple determinateness in itself.\n"
   ]
  },
  {
   "cell_type": "markdown",
   "metadata": {},
   "source": [
    "\n",
    "    Also in the sphere of existence\n",
    "    did otherness and determinateness\n",
    "    prove to be of this nature,\n",
    "    simple determinateness, identical opposition;\n",
    "    but this identity showed itself only as\n",
    "    the transition of a determinateness into the other.\n",
    "    Here, in the sphere of reflection,\n",
    "    difference comes in as reflected,\n",
    "    so posited as it is in itself.\n"
   ]
  },
  {
   "cell_type": "markdown",
   "metadata": {},
   "source": [
    "\n",
    "    2. Difference in itself is the difference\n",
    "    that refers itself to itself;\n",
    "    thus it is the negativity of itself,\n",
    "    the difference not from another\n",
    "    but of itself from itself;\n",
    "    it is not itself but its other.\n"
   ]
  },
  {
   "cell_type": "markdown",
   "metadata": {},
   "source": [
    "\n",
    "    What is different from difference, however, is identity.\n",
    "    Difference is, therefore, itself and identity.\n"
   ]
  },
  {
   "cell_type": "markdown",
   "metadata": {},
   "source": [
    "\n",
    "    The two together constitute difference;\n",
    "    difference is the whole and its moment.\n",
    "    One can also say that difference,\n",
    "    as simple difference, is no difference;\n",
    "    it is such only with reference to identity;\n",
    "    even better, that as difference it entails\n",
    "    itself and this reference equally.\n"
   ]
  },
  {
   "cell_type": "markdown",
   "metadata": {},
   "source": [
    "\n",
    "    Difference is the whole and its own moment,\n",
    "    just as identity equally is its whole and its moment.\n",
    "    This is to be regarded as\n",
    "    the essential nature of reflection\n",
    "    and as the determined primordial origin\n",
    "    of all activity and self-movement.\n",
    "\n"
   ]
  },
  {
   "cell_type": "markdown",
   "metadata": {},
   "source": [
    "\n",
    "    Both difference and identity make themselves\n",
    "    into moment or positedness\n",
    "    because, as reflection, they are negative self-reference.\n",
    "    \n"
   ]
  },
  {
   "cell_type": "markdown",
   "metadata": {},
   "source": [
    "    Difference, thus as unity of itself and of identity,\n",
    "    is internally determined difference.\n",
    "    \n"
   ]
  },
  {
   "cell_type": "markdown",
   "metadata": {},
   "source": [
    "    It is not the transition into another,\n",
    "    not reference to another outside it;\n",
    "    it has its other, identity, within,\n",
    "    and in like manner identity,\n",
    "    in being included in the determination of difference,\n",
    "    has not lost itself in it as its other\n",
    "    but retains itself therein is\n",
    "    the reflection-into-itself of difference, its moment.\n"
   ]
  },
  {
   "cell_type": "markdown",
   "metadata": {},
   "source": [
    "\n",
    "    3. Difference has both these moments,\n",
    "    identity and difference;\n",
    "    thus the two are both a positedness, determinateness.\n",
    "    But in this positedness each refers to itself.\n"
   ]
  },
  {
   "cell_type": "markdown",
   "metadata": {},
   "source": [
    "\n",
    "    The one, identity, is itself immediately\n",
    "    the moment of immanent reflection;\n",
    "    but no less is the other, difference,\n",
    "    difference in itself, reflected difference.\n"
   ]
  },
  {
   "cell_type": "markdown",
   "metadata": {},
   "source": [
    "\n",
    "#### b. Diversity\n"
   ]
  },
  {
   "cell_type": "markdown",
   "metadata": {},
   "source": [
    "\n",
    "    1. Identity internally breaks apart into diversity\n",
    "    because, as absolute difference in itself,\n",
    "    it posits itself as the negative of itself\n",
    "    and these, its two moments\n",
    "    (itself and the negative of itself),\n",
    "    are reflections into themselves,\n",
    "    are identical with themselves;\n",
    "    or precisely because it itself\n",
    "    immediately sublates its negating\n",
    "    and is in its determination reflected into itself.\n"
   ]
  },
  {
   "cell_type": "markdown",
   "metadata": {},
   "source": [
    "\n",
    "    The different subsists as diverse,\n",
    "    indifferent to any other,\n",
    "    because it is identical with itself,\n",
    "    because identity constitutes its base and element;\n",
    "    or, the diverse remains what it is\n",
    "    even in its opposite, identity.\n"
   ]
  },
  {
   "cell_type": "markdown",
   "metadata": {},
   "source": [
    "\n",
    "    Diversity constitutes the otherness\n",
    "    as such of reflection.\n",
    "    The other of existence has immediate being,\n",
    "    where negativity resides, for its foundation.\n",
    "    But in reflection it is self-identity,\n",
    "    the reflected immediacy, that constitutes\n",
    "    the subsistence of the negative and its indifference.\n"
   ]
  },
  {
   "cell_type": "markdown",
   "metadata": {},
   "source": [
    "\n",
    "    The moments of difference are identity and difference itself.\n",
    "    These moments are diverse when reflected into themselves,\n",
    "    referring themselves to themselves;\n",
    "    thus, in the determination of identity,\n",
    "    they are only self-referring;\n",
    "    identity is not referred to difference,\n",
    "    nor is difference referred to identity;\n",
    "    hence, inasmuch as each of these moments is\n",
    "    referred only to itself, the two\n",
    "    are not determined\n",
    "    with respect to each other.\n"
   ]
  },
  {
   "cell_type": "markdown",
   "metadata": {},
   "source": [
    "\n",
    "    Now because in this way the two are not differentiated within,\n",
    "    the difference is external to them.\n",
    "    The diverse moments, therefore,\n",
    "    conduct themselves with respect to each other,\n",
    "    not as identity and difference,\n",
    "    but only as moments different in general,\n",
    "    indifferent to each other and to their determinateness.\n"
   ]
  },
  {
   "cell_type": "markdown",
   "metadata": {},
   "source": [
    "\n",
    "    2. In diversity, as the indifference of difference,\n",
    "    reflection has in general become external;\n",
    "    difference is only a positedness or as sublated,\n",
    "    but is itself the whole reflection.\n"
   ]
  },
  {
   "cell_type": "markdown",
   "metadata": {},
   "source": [
    "\n",
    "    On closer consideration, both, identity and difference\n",
    "    are reflections, as we have just established;\n",
    "    each is the unity of it and its other,\n",
    "    each is the whole.\n",
    "    But the determinateness,\n",
    "    to be only identity or only difference,\n",
    "    is thus a sublated something.\n"
   ]
  },
  {
   "cell_type": "markdown",
   "metadata": {},
   "source": [
    "\n",
    "    They are not, therefore, qualities,\n",
    "    since their determinateness,\n",
    "    because of the immanent reflection,\n",
    "    is at the same time only as negation.\n",
    "    What we have is therefore this duplicity,\n",
    "    immanent reflection as such\n",
    "    and determinateness as negation or positedness.\n"
   ]
  },
  {
   "cell_type": "markdown",
   "metadata": {},
   "source": [
    "\n",
    "    Positedness is the reflection that is external to itself;\n",
    "    it is negation as negation\n",
    "    and consequently, indeed in itself\n",
    "    self-referring negation and immanent reflection,\n",
    "    but only in itself, implicitly;\n",
    "    its reference is to a something external.\n"
   ]
  },
  {
   "cell_type": "markdown",
   "metadata": {},
   "source": [
    "\n",
    "    Reflection in itself and external reflection are\n",
    "    thus the two determinations\n",
    "    in which the moments of difference,\n",
    "    identity and difference, are posited.\n",
    "    They are these moments themselves\n",
    "    as they have determined themselves at this point.\n"
   ]
  },
  {
   "cell_type": "markdown",
   "metadata": {},
   "source": [
    "\n",
    "    Immanent reflection is identity,\n",
    "    but determined to be indifferent to difference,\n",
    "    not to have difference at all but to conduct\n",
    "    itself towards difference as identical with itself;\n",
    "    it is diversity.\n",
    "    It is identity that has so reflected itself into itself\n",
    "    that it truly is the one reflection of\n",
    "    the two moments into themselves;\n",
    "    both are immanent reflections.\n"
   ]
  },
  {
   "cell_type": "markdown",
   "metadata": {},
   "source": [
    "\n",
    "    Identity is this one reflection of the two,\n",
    "    the identity which has difference within it\n",
    "    only as an indifferent difference\n",
    "    and is diversity in general.\n"
   ]
  },
  {
   "cell_type": "markdown",
   "metadata": {},
   "source": [
    "\n",
    "    External reflection, on the contrary,\n",
    "    is their determinate difference,\n",
    "    not as absolute immanent reflection,\n",
    "    but as a determination towards which\n",
    "    the implicitly present reflection is indifferent;\n",
    "    its two moments, identity and difference themselves,\n",
    "    are thus externally posited,\n",
    "    are not determinations that\n",
    "    exist in and for themselves.\n",
    "\n"
   ]
  },
  {
   "cell_type": "markdown",
   "metadata": {},
   "source": [
    "\n",
    "    Now this external identity is likeness,\n",
    "    and external difference is unlikeness.\n",
    "    Likeness is indeed identity,\n",
    "    but only as a positedness,\n",
    "    an identity which is not in and for itself.\n",
    "    Unlikeness is equally difference,\n",
    "    but an external difference which is not, in and for itself,\n",
    "    the difference of the unlike itself.\n"
   ]
  },
  {
   "cell_type": "markdown",
   "metadata": {},
   "source": [
    "\n",
    "    Whether something is like or unlike something else is\n",
    "    not the concern of either the like or the unlike;\n",
    "    each refers only to itself, each is in and for itself what it is;\n",
    "    identity or non-identity, in the sense of likeness or unlikeness,\n",
    "    depend on the point of view of a third external to them.\n"
   ]
  },
  {
   "cell_type": "markdown",
   "metadata": {},
   "source": [
    "\n",
    "    3. External reflection connects diversity by\n",
    "    referring it to likeness and unlikeness.\n",
    "    This reference, which is a comparing,\n",
    "    moves back and forth from likeness\n",
    "    to unlikeness and from unlikeness to likeness.\n"
   ]
  },
  {
   "cell_type": "markdown",
   "metadata": {},
   "source": [
    "\n",
    "    But this back and forth referring of\n",
    "    likeness and unlikeness is\n",
    "    external to these determinations themselves;\n",
    "    moreover, they are not referred to each other,\n",
    "    but each, for itself, is referred to a third.\n"
   ]
  },
  {
   "cell_type": "markdown",
   "metadata": {},
   "source": [
    "\n",
    "    In this alternation, each immediately stands out on its own.\n",
    "    External reflection is as such external to itself;\n",
    "    determinate difference is negated absolute difference;\n",
    "    it is not simple difference, therefore,\n",
    "    not an immanent reflection,\n",
    "    but has this reflection outside it;\n",
    "    hence its moments come apart\n",
    "    and both refer,\n",
    "    each also outside the other,\n",
    "    to the immanent reflection\n",
    "    confronting them.\n"
   ]
  },
  {
   "cell_type": "markdown",
   "metadata": {},
   "source": [
    "\n",
    "    In reflection thus alienated from itself,\n",
    "    likeness and unlikeness present themselves,\n",
    "    therefore, as themselves unconnected,\n",
    "    and reflection keeps them apart,\n",
    "    for it refers them to one and the same\n",
    "    something by means of “in so far,”\n",
    "    “from this side or that,”\n",
    "    and “from this view or that.”\n"
   ]
  },
  {
   "cell_type": "markdown",
   "metadata": {},
   "source": [
    "    Thus diverse things that are one and the same,\n",
    "    when likeness and unlikeness are said of them,\n",
    "    are from one side like each other,\n",
    "    but from another side unlike,\n",
    "    and in so far as they are alike,\n",
    "    to that extent they are not unlike.\n",
    "    Likeness thus refers only to itself,\n",
    "    and unlikeness is equally only unlikeness.\n"
   ]
  },
  {
   "cell_type": "markdown",
   "metadata": {},
   "source": [
    "\n",
    "    Because of this separation from each other,\n",
    "    they sublate themselves.\n",
    "    Precisely that which should save them\n",
    "    from contradiction and dissolution,\n",
    "    namely that something is like another\n",
    "    in one respect but unlike in another\n",
    "    precisely this keeping of likeness and unlikeness apart,\n",
    "    is their destruction.\n"
   ]
  },
  {
   "cell_type": "markdown",
   "metadata": {},
   "source": [
    "\n",
    "    For both are determinations of difference;\n",
    "    they are references to each other,\n",
    "    each intended to be what the other is not;\n",
    "    the like is not the unlike,\n",
    "    and the unlike is not the like;\n",
    "    both have this connecting reference essentially,\n",
    "    and have no meaning outside it;\n",
    "    as determinations of difference,\n",
    "    each is what it is as different from its other.\n"
   ]
  },
  {
   "cell_type": "markdown",
   "metadata": {},
   "source": [
    "\n",
    "    But because of their indifference to each other,\n",
    "    the likeness is referred to itself,\n",
    "    and similarly is unlikeness a point of view\n",
    "    of its own and a reflection unto itself;\n",
    "    each, therefore, is like itself;\n",
    "    difference has vanished, since they have no\n",
    "    determinateness to oppose them;\n",
    "    in other words, each is consequently only likeness.\n"
   ]
  },
  {
   "cell_type": "markdown",
   "metadata": {},
   "source": [
    "\n",
    "    Accordingly, this indifferent viewpoint\n",
    "    or the external difference sublates itself\n",
    "    and it is in itself the negativity of itself.\n",
    "    It is the negativity which in comparing\n",
    "    belongs to that which does the comparing.\n",
    "    This latter oscillates from likeness\n",
    "    to unlikeness and back again;\n",
    "    hence it lets the one disappear into the other\n",
    "    and is in fact the negative unity of both.\n"
   ]
  },
  {
   "cell_type": "markdown",
   "metadata": {},
   "source": [
    "\n",
    "    This negative unity transcends at first\n",
    "    what is compared as well as\n",
    "    the moments of the comparing as\n",
    "    a subjective operation that falls outside them.\n",
    "    But the result is that this unity is\n",
    "    in fact the nature of likeness and unlikeness themselves.\n",
    "    Even the independent viewpoint\n",
    "    that each of these is,\n",
    "    is rather the self-reference\n",
    "    that sublates their distinctness\n",
    "    and so, too, themselves.\n"
   ]
  },
  {
   "cell_type": "markdown",
   "metadata": {},
   "source": [
    "\n",
    "    From this side, as moments of external reflection\n",
    "    and as external to themselves,\n",
    "    likeness and unlikeness disappear together into their likeness.\n",
    "    But this, their negative unity,\n",
    "    is in addition also posited in them;\n",
    "    for their reflection implicitly exists outside them, that is, \n",
    "    they are the likeness and unlikeness of a third,\n",
    "    of another than they themselves are.\n"
   ]
  },
  {
   "cell_type": "markdown",
   "metadata": {},
   "source": [
    "\n",
    "    Thus the like is not the like of itself,\n",
    "    and the unlike, as the unlike not of itself\n",
    "    but of an unlike to it, is itself the like.\n",
    "    The like and the unlike is\n",
    "    each therefore the unlike of itself.\n",
    "    Each is thereby this reflection:\n",
    "    likeness, that it is itself and the unlikeness;\n",
    "    unlikeness, that it is itself and the likeness.\n"
   ]
  },
  {
   "cell_type": "markdown",
   "metadata": {},
   "source": [
    "\n",
    "    Likeness and unlikeness constituted\n",
    "    the side of positedness as against\n",
    "    what is being compared or the diverse\n",
    "    which, as contrasted with them,\n",
    "    had determined itself as implicitly existent reflection.\n",
    "    But this positedness has consequently equally\n",
    "    lost its determinateness as against this reflection.\n"
   ]
  },
  {
   "cell_type": "markdown",
   "metadata": {},
   "source": [
    "\n",
    "    Likeness and unlikeness,\n",
    "    the determinations of external reflection,\n",
    "    are precisely the merely\n",
    "    implicitly existent reflection\n",
    "    which the diverse as such was supposed to be,\n",
    "    its only indeterminate difference.\n",
    "    \n"
   ]
  },
  {
   "cell_type": "markdown",
   "metadata": {},
   "source": [
    "    Implicitly existent reflection is\n",
    "    self-reference without negation,\n",
    "    abstract self-identity\n",
    "    and therefore positedness itself.\n",
    "    The merely diverse thus passes over\n",
    "    through the positedness\n",
    "    into negative reflection.\n"
   ]
  },
  {
   "cell_type": "markdown",
   "metadata": {},
   "source": [
    "\n",
    "    The diverse is difference\n",
    "    which is merely posited,\n",
    "    hence a difference which is no difference,\n",
    "    hence a negation that negates itself within.\n",
    "    \n"
   ]
  },
  {
   "cell_type": "markdown",
   "metadata": {},
   "source": [
    "    Likeness and unlikeness themselves, the positedness,\n",
    "    thus return through indifference\n",
    "    or through implicitly existing reflection\n",
    "    back into negative unity with themselves,\n",
    "    into the reflection which is\n",
    "    the implicit difference of likeness and unlikeness.\n"
   ]
  },
  {
   "cell_type": "markdown",
   "metadata": {},
   "source": [
    "    Diversity, the indifferent sides of which\n",
    "    are just as much simply and solely\n",
    "    moments of a negative unity, is opposition."
   ]
  },
  {
   "cell_type": "markdown",
   "metadata": {},
   "source": [
    "\n",
    "#### c. Opposition\n"
   ]
  },
  {
   "cell_type": "markdown",
   "metadata": {},
   "source": [
    "\n",
    "    In opposition, the determinate reflection,\n",
    "    difference, is brought to completion.\n",
    "    Opposition is the unity of identity and diversity;\n",
    "    its moments are diverse in one identity,\n",
    "    and so they are opposites.\n"
   ]
  },
  {
   "cell_type": "markdown",
   "metadata": {},
   "source": [
    "\n",
    "    Identity and difference are the moments of\n",
    "    difference as held inside difference itself;\n",
    "    they are reflected moments of its unity.\n"
   ]
  },
  {
   "cell_type": "markdown",
   "metadata": {},
   "source": [
    "\n",
    "    Likeness and unlikeness are instead\n",
    "    the externalized reflection;\n",
    "    their self-identity is not only the indifference\n",
    "    of each towards the other differentiated from it,\n",
    "    but towards being-in-and-for-itself as such;\n",
    "    theirs is a self-identity that contrasts with\n",
    "    identity reflected into itself,\n",
    "    hence an immediacy which is not reflected into itself.\n"
   ]
  },
  {
   "cell_type": "markdown",
   "metadata": {},
   "source": [
    "\n",
    "    The positedness of the sides of\n",
    "    external reflection is therefore a being,\n",
    "    just as their non-positedness is a non-being.\n"
   ]
  },
  {
   "cell_type": "markdown",
   "metadata": {},
   "source": [
    "\n",
    "    On closer consideration, the moments of opposition are\n",
    "    positedness reflected into itself\n",
    "    or determination in general.\n",
    "    Positedness is likeness and unlikeness;\n",
    "    these two, reflected into themselves,\n",
    "    constitute the determinations of opposition.\n"
   ]
  },
  {
   "cell_type": "markdown",
   "metadata": {},
   "source": [
    "    Their immanent reflection consists in that\n",
    "    each is within it the unity of likeness and unlikeness.\n",
    "    Likeness is only in a reflection\n",
    "    which compares according to the unlikeness\n",
    "    and is therefore mediated by its\n",
    "    other indifferent moment; similarly,\n",
    "    unlikeness is only in the same\n",
    "    reflective reference in which likeness is.\n"
   ]
  },
  {
   "cell_type": "markdown",
   "metadata": {},
   "source": [
    "\n",
    "    Each of these moments, in its determinateness,\n",
    "    is therefore the whole.\n",
    "    It is the whole because it also contains its other moment;\n",
    "    but this, its other, is an indifferent existent;\n",
    "    thus each contains a reference to its non-being,\n",
    "    and it is reflection-into-itself, or the whole,\n",
    "    only as essentially referring to its non-being."
   ]
  },
  {
   "cell_type": "markdown",
   "metadata": {},
   "source": [
    "\n",
    "    This self-likeness, reflected into itself\n",
    "    and containing the reference to\n",
    "    unlikeness within it, is the positive;\n",
    "    and the unlikeness that contains within itself\n",
    "    the reference to its non-being,\n",
    "    to likeness, is the negative.\n"
   ]
  },
  {
   "cell_type": "markdown",
   "metadata": {},
   "source": [
    "\n",
    "    Or again, both are positedness;\n",
    "    now in so far as the differentiated determinateness is\n",
    "    taken as a differentiated determinate reference of\n",
    "    positedness to itself, opposition is, on the one hand,\n",
    "    positedness reflected into its likeness with itself;\n",
    "    and, on the other hand, it is the same positedness\n",
    "    reflected into its inequality with itself:\n",
    "    the positive and the negative.\n"
   ]
  },
  {
   "cell_type": "markdown",
   "metadata": {},
   "source": [
    "\n",
    "    The positive is positedness as reflected into self-likeness;\n",
    "    but what is reflected is positedness, that is,\n",
    "    the negation as negation,\n",
    "    and so this immanent reflection has\n",
    "    the reference to the other for its determination.\n"
   ]
  },
  {
   "cell_type": "markdown",
   "metadata": {},
   "source": [
    "\n",
    "    The negative is positedness as reflected into unlikeness;\n",
    "    but positedness is the unlikeness itself,\n",
    "    and so this reflection is therefore\n",
    "    the identity of unlikeness with itself\n",
    "    and absolute self-reference.\n"
   ]
  },
  {
   "cell_type": "markdown",
   "metadata": {},
   "source": [
    "\n",
    "    Each, therefore, equally has the other in it:\n",
    "    positedness reflected into self-likeness has the unlikeness;\n",
    "    and positedness reflected into self-unlikeness, the likeness.\n"
   ]
  },
  {
   "cell_type": "markdown",
   "metadata": {},
   "source": [
    "\n",
    "    The positive and the negative are thus\n",
    "    the sides of opposition that have become self-subsisting.\n",
    "    They are self-subsisting because they are\n",
    "    the reflection of the whole into itself,\n",
    "    and they belong to opposition in so far\n",
    "    as the latter is determinateness\n",
    "    which, as the whole, is reflected into itself.\n"
   ]
  },
  {
   "cell_type": "markdown",
   "metadata": {},
   "source": [
    "\n",
    "    Because of their self-subsistence,\n",
    "    the opposition which they constitute is\n",
    "    implicitly determinate.\n",
    "    Each is itself and its other;\n",
    "    for this reason, each has its determinateness\n",
    "    not in an other but within.\n",
    "    Each refers itself to itself\n",
    "    only as referring itself to its other.\n",
    "    This has a twofold aspect.\n"
   ]
  },
  {
   "cell_type": "markdown",
   "metadata": {},
   "source": [
    "\n",
    "    Each is the reference to its non-being as\n",
    "    the sublating of this otherness in itself;\n",
    "    its non-being is thus only a moment in it.\n",
    "    But, on the other hand, here positedness\n",
    "    has become a being, an indifferent subsistence;\n",
    "    the other of itself which each contains is\n",
    "    therefore also the non-being of that in which\n",
    "    it should be contained only as a moment.\n",
    "    Each is, therefore, only to the\n",
    "    extent that its non-being is,\n",
    "    the two in an identical reference.\n"
   ]
  },
  {
   "cell_type": "markdown",
   "metadata": {},
   "source": [
    "\n",
    "    The determinations which constitute\n",
    "    the positive and the negative consist,\n",
    "    therefore, in that the positive and the negative are,\n",
    "    first, absolute moments of opposition;\n",
    "    their subsistence is indivisibly one reflection;\n",
    "    it is one mediation in which each is\n",
    "    by virtue of the non-being of its other,\n",
    "    hence by virtue of its other\n",
    "    or its own non-being.\n"
   ]
  },
  {
   "cell_type": "markdown",
   "metadata": {},
   "source": [
    "\n",
    "    Thus they are simply opposites;\n",
    "    or each is only the opposite of the other;\n",
    "    the one is not yet the positive\n",
    "    and the other not yet the negative,\n",
    "    but both are negative with\n",
    "    respect to each other.\n",
    "    \n"
   ]
  },
  {
   "cell_type": "markdown",
   "metadata": {},
   "source": [
    "    Each, therefore, simply is,\n",
    "    first, to the extent that the other is;\n",
    "    it is what it is by virtue of the other,\n",
    "    by virtue of its own non-being;\n",
    "    it is only positedness.\n",
    "    \n"
   ]
  },
  {
   "cell_type": "markdown",
   "metadata": {},
   "source": [
    "    Second, it is to the extent that\n",
    "    the other is not; it is what it is\n",
    "    by virtue of the non-being of the other;\n",
    "    it is reflection into itself.\n"
   ]
  },
  {
   "cell_type": "markdown",
   "metadata": {},
   "source": [
    "\n",
    "    The two, however, are both\n",
    "    the one mediation of opposition as such\n",
    "    in which they simply are only posited moments.\n"
   ]
  },
  {
   "cell_type": "markdown",
   "metadata": {},
   "source": [
    "\n",
    "    Moreover, this mere positedness is\n",
    "    reflected into itself in general\n",
    "    and, according to this moment of external reflection,\n",
    "    the positive and the negative are indifferent towards\n",
    "    this first identity where they are only moments;\n",
    "    or again, because that first reflection is\n",
    "    the positive's and the negative's own\n",
    "    reflection into itself,\n",
    "    each is indifferent towards its reflection\n",
    "    into its non-being, towards its own positedness.\n"
   ]
  },
  {
   "cell_type": "markdown",
   "metadata": {},
   "source": [
    "\n",
    "    The two sides are thus merely diverse,\n",
    "    and because their determinateness\n",
    "    that they are positive or negative\n",
    "    constitutes their positedness as against each other,\n",
    "    each is not specifically so determined internally\n",
    "    but is only determinateness in general;\n",
    "    to each side, therefore, there belongs indeed\n",
    "    one of the two determinacies,\n",
    "    the positive or the negative;\n",
    "    but the two can be interchanged,\n",
    "    and each side is such as\n",
    "    can be taken equally as positive or negative.\n"
   ]
  },
  {
   "cell_type": "markdown",
   "metadata": {},
   "source": [
    "\n",
    "    But, in third place, the positive and the negative are\n",
    "    not only a posited being,\n",
    "    nor are they something merely indifferent,\n",
    "    but their positedness,\n",
    "    or the reference to the other in the one unity\n",
    "    which they themselves are not,\n",
    "    is rather taken back into each.\n"
   ]
  },
  {
   "cell_type": "markdown",
   "metadata": {},
   "source": [
    "\n",
    "    Each is itself positive and negative within;\n",
    "    the positive and the negative are\n",
    "    the determination of reflection in and for itself;\n",
    "    only in this reflection of the opposite into itself is\n",
    "    the opposite either positive or negative.\n",
    "    The positive has within it the reference to\n",
    "    the other in which the determinateness of the positive consists.\n",
    "    And the same applies to the negative:\n",
    "    it is not negative as contrasted with another\n",
    "    but has the determinateness by which it is negative within.\n"
   ]
  },
  {
   "cell_type": "markdown",
   "metadata": {},
   "source": [
    "\n",
    "    Each is thus self-subsistent unity existing for itself.\n",
    "    The positive is indeed a positedness,\n",
    "    but in such a way that the positedness is\n",
    "    for it posited being as sublated.\n",
    "    It is the non-opposed, the sublated opposition,\n",
    "    but as the side of the opposition itself.\n"
   ]
  },
  {
   "cell_type": "markdown",
   "metadata": {},
   "source": [
    "\n",
    "    As positive, it is indeed a something\n",
    "    which is determined with reference to an otherness,\n",
    "    but in such a way that its nature\n",
    "    is not to be something posited;\n",
    "    it is the immanent reflection\n",
    "    that negates otherness.\n"
   ]
  },
  {
   "cell_type": "markdown",
   "metadata": {},
   "source": [
    "\n",
    "    But its other, the negative,\n",
    "    is itself no longer positedness or a moment\n",
    "    but itself a self-subsisting being\n",
    "    and so the negating reflection\n",
    "    of the positive is internally\n",
    "    determined to exclude this being,\n",
    "    which is its non-being, from itself.\n"
   ]
  },
  {
   "cell_type": "markdown",
   "metadata": {},
   "source": [
    "\n",
    "    Thus the negative, as absolute reflection,\n",
    "    is not the immediate negative\n",
    "    but is the negative as sublated positedness,\n",
    "    the negative in and for itself\n",
    "    which positively rests upon itself.\n"
   ]
  },
  {
   "cell_type": "markdown",
   "metadata": {},
   "source": [
    "\n",
    "    As immanent reflection,\n",
    "    it negates its reference to its other;\n",
    "    its other is the positive,\n",
    "    a self-subsisting being\n",
    "    hence its negative reference\n",
    "    to this positive is\n",
    "    the excluding of it from itself.\n"
   ]
  },
  {
   "cell_type": "markdown",
   "metadata": {},
   "source": [
    "\n",
    "    The negative is the independently existing opposite,\n",
    "    over against the positive\n",
    "    which is the determination of the sublated opposition,\n",
    "    the whole opposition resting upon itself,\n",
    "    opposed to the self-identical positedness.\n"
   ]
  },
  {
   "cell_type": "markdown",
   "metadata": {},
   "source": [
    "\n",
    "    The positive and the negative are such, therefore,\n",
    "    not just in themselves, but in and for themselves.\n",
    "    They are in themselves positive and negative\n",
    "    when they are abstracted from their excluding\n",
    "    reference to the other\n",
    "    and are taken only in accordance\n",
    "    with their determination.\n"
   ]
  },
  {
   "cell_type": "markdown",
   "metadata": {},
   "source": [
    "\n",
    "    Something is in itself positive or negative\n",
    "    when it is not supposed to be\n",
    "    determined as positive or negative\n",
    "    merely in contrast with the other.\n",
    "    But the positive and the negative,\n",
    "    taken not as a positedness\n",
    "    and hence not as opposed,\n",
    "    are each an immediate,\n",
    "    being and non-being.\n"
   ]
  },
  {
   "cell_type": "markdown",
   "metadata": {},
   "source": [
    "\n",
    "    They are, however, moments of opposition:\n",
    "    their in-itself constitutes only\n",
    "    the form of their immanent reflectedness.\n",
    "    Something is said to be positive in itself,\n",
    "    outside the reference to something negative,\n",
    "    and something negative in itself,\n",
    "    outside the reference to something negative:\n",
    "    in this determination, merely the abstract moment of\n",
    "    this reflectedness is held on to.\n"
   ]
  },
  {
   "cell_type": "markdown",
   "metadata": {},
   "source": [
    "\n",
    "    However, to say that the positive and the negative\n",
    "    exist in themselves essentially implies that\n",
    "    to be opposed is not a mere moment,\n",
    "    nor that it is just a matter of comparison,\n",
    "    but that it is the determination of the sides\n",
    "    themselves of the opposition.\n",
    "    \n"
   ]
  },
  {
   "cell_type": "markdown",
   "metadata": {},
   "source": [
    "    The sides, as positive or negative in themselves,\n",
    "    are not, therefore, outside the reference to the other;\n",
    "    on the contrary, this reference, precisely as exclusive,\n",
    "    constitutes their determination or their in-itselfness;\n",
    "    in this, therefore, they are at the same time\n",
    "    in and for themselves.\n"
   ]
  },
  {
   "cell_type": "markdown",
   "metadata": {},
   "source": [
    "\n",
    "## C. CONTRADICTION\n"
   ]
  },
  {
   "cell_type": "markdown",
   "metadata": {},
   "source": [
    "\n",
    "    1. Difference in general contains both its sides as moments;\n",
    "    in diversity, these sides fall apart as indifferent to each other;\n",
    "    and in opposition as such, they are the moments of difference,\n",
    "    each determined by the other and hence only moments.\n",
    "    But in opposition these moments are equally determined within,\n",
    "    indifferent to each other and mutually exclusive,\n",
    "    self-subsisting determinations of reflection.\n"
   ]
  },
  {
   "cell_type": "markdown",
   "metadata": {},
   "source": [
    "\n",
    "    One is the positive and the other the negative,\n",
    "    but the former as a positive which is such within,\n",
    "    and the latter as a negative which is such within.\n",
    "    Each has indifferent self-subsistence for itself\n",
    "    by virtue of having the reference to\n",
    "    its other moment within it;\n",
    "    each moment is thus the whole self-contained opposition.\n"
   ]
  },
  {
   "cell_type": "markdown",
   "metadata": {},
   "source": [
    "\n",
    "    As this whole, each moment is self-mediated\n",
    "    through its other and contains this other.\n",
    "    But it is also self-mediated\n",
    "    through the non-being of its other\n",
    "    and is, therefore, a unity existing for itself\n",
    "    and excluding the other from itself.\n"
   ]
  },
  {
   "cell_type": "markdown",
   "metadata": {},
   "source": [
    "\n",
    "    Since the self-subsisting determination of reflection\n",
    "    excludes the other in the same respect as it contains it\n",
    "    and is self-subsisting for precisely this reason,\n",
    "    in its self-subsistence the determination excludes\n",
    "    its own self-subsistence from itself.\n"
   ]
  },
  {
   "cell_type": "markdown",
   "metadata": {},
   "source": [
    "\n",
    "    For this self-subsistence consists in\n",
    "    that it contains the determination\n",
    "    which is other than it in itself\n",
    "    and does not refer to anything external\n",
    "    for just this reason;\n",
    "    but no less immediately in that\n",
    "    it is itself and excludes from itself\n",
    "    the determination that negates it.\n",
    "    And so it is contradiction.\n"
   ]
  },
  {
   "cell_type": "markdown",
   "metadata": {},
   "source": [
    "\n",
    "    Difference as such is already implicitly contradiction;\n",
    "    for it is the unity of beings which are,\n",
    "    only in so far as they are not one\n",
    "    and it is the separation of beings which are,\n",
    "    only in so far as they are separated\n",
    "    in the same reference connecting them.\n",
    "    \n"
   ]
  },
  {
   "cell_type": "markdown",
   "metadata": {},
   "source": [
    "    The positive and the negative, however,\n",
    "    are the posited contradiction,\n",
    "    for, as negative unities,\n",
    "    they are precisely their self-positing\n",
    "    and therein each the sublating of itself\n",
    "    and the positing of its opposite.\n",
    "    \n"
   ]
  },
  {
   "cell_type": "markdown",
   "metadata": {},
   "source": [
    "    They constitute determining reflection as exclusive;\n",
    "    for the excluding is one act of distinguishing\n",
    "    and each of the distinguished beings,\n",
    "    as exclusive, is itself the whole act of excluding,\n",
    "    and so each excludes itself internally.\n"
   ]
  },
  {
   "cell_type": "markdown",
   "metadata": {},
   "source": [
    "\n",
    "    If we look at the two self-subsisting\n",
    "    determinations of reflection on their own,\n",
    "    the positive is positedness as reflected\n",
    "    into likeness with itself\n",
    "    positedness which is not reference to another,\n",
    "    hence subsistence inasmuch as\n",
    "    the positedness is sublated and excluded.\n",
    "    \n"
   ]
  },
  {
   "cell_type": "markdown",
   "metadata": {},
   "source": [
    "    But with this the positive makes itself\n",
    "    into the reference of a non-being into a positedness.\n",
    "    In this way the positive is contradiction in that,\n",
    "    as the positing of self-identity by the\n",
    "    excluding of the negative,\n",
    "    it makes itself into a negative,\n",
    "    hence into the other\n",
    "    which it excludes from itself.\n"
   ]
  },
  {
   "cell_type": "markdown",
   "metadata": {},
   "source": [
    "\n",
    "    This last, as excluded, is posited\n",
    "    free of the one that excludes;\n",
    "    hence, as reflected into itself and itself as excluding.\n",
    "    The reflection that excludes is thus\n",
    "    the positing of the positive as excluding the other,\n",
    "    so that this positing immediately is\n",
    "    the positing of its other which excludes it.\n"
   ]
  },
  {
   "cell_type": "markdown",
   "metadata": {},
   "source": [
    "\n",
    "    This is the absolute contradiction of the positive;\n",
    "    but it is immediately the absolute contradiction of the negative;\n",
    "    the positing of both in one reflection.\n",
    "    \n"
   ]
  },
  {
   "cell_type": "markdown",
   "metadata": {},
   "source": [
    "    Considered in itself as against the positive,\n",
    "    the negative is positedness as reflected into unlikeness to itself,\n",
    "    the negative as negative.\n",
    "    But the negative is itself the unlike,\n",
    "    the non-being of another;\n",
    "    consequently, reflection is in its unlikeness\n",
    "    its reference rather to itself.\n"
   ]
  },
  {
   "cell_type": "markdown",
   "metadata": {},
   "source": [
    "\n",
    "    Negation in general is the negative\n",
    "    as quality or immediate determinateness;\n",
    "    but taken as negative, it is referred to\n",
    "    the negative of itself, to its other.\n",
    "    \n"
   ]
  },
  {
   "cell_type": "markdown",
   "metadata": {},
   "source": [
    "    If this second negative is taken only\n",
    "    as identical with the first,\n",
    "    then it is also only immediate,\n",
    "    just like the first;\n",
    "    they are not taken, therefore,\n",
    "    as each the other of the other,\n",
    "    hence not as negatives:\n",
    "    the negative is not at all an immediate.\n"
   ]
  },
  {
   "cell_type": "markdown",
   "metadata": {},
   "source": [
    "\n",
    "    But now, since each is moreover equally\n",
    "    the same as what the other is,\n",
    "    this reference connecting them as unequal\n",
    "    is just as much their identical connection.\n"
   ]
  },
  {
   "cell_type": "markdown",
   "metadata": {},
   "source": [
    "\n",
    "    This is therefore the same contradiction which the positive is,\n",
    "    namely positedness or negation as self-reference.\n",
    "    \n"
   ]
  },
  {
   "cell_type": "markdown",
   "metadata": {},
   "source": [
    "    But the positive is only implicitly this contradiction,\n",
    "    is contradiction only in itself;\n",
    "    the negative, on the contrary, is the posited contradiction;\n",
    "    for in its reflection into itself,\n",
    "    as a negative which is in and for itself\n",
    "    or a negative which is identical with itself,\n",
    "    its determination is to be the not-identical,\n",
    "    the exclusion of identity.\n"
   ]
  },
  {
   "cell_type": "markdown",
   "metadata": {},
   "source": [
    "\n",
    "    The negative is this,\n",
    "    to be identical with itself over against identity,\n",
    "    and consequently, because of this excluding reflection,\n",
    "    to exclude itself from itself.\n"
   ]
  },
  {
   "cell_type": "markdown",
   "metadata": {},
   "source": [
    "\n",
    "    The negative is therefore the whole opposition\n",
    "    the opposition which, as opposition, rests upon itself;\n",
    "    distinction that absolutely does not refer itself to another;\n",
    "    distinction which, as opposition, excludes identity from itself,\n",
    "    but thereby also excludes itself,\n",
    "    for as reference to itself it determines itself\n",
    "    as the very identity which it excludes.\n"
   ]
  },
  {
   "cell_type": "markdown",
   "metadata": {},
   "source": [
    "    2. Contradiction resolves itself.\n"
   ]
  },
  {
   "cell_type": "markdown",
   "metadata": {},
   "source": [
    "\n",
    "    In the self-excluding reflection\n",
    "    we have just considered,\n",
    "    the positive and the negative,\n",
    "    each in its self-subsistence,\n",
    "    sublates itself;\n",
    "    each is simply the passing over,\n",
    "    or rather the self-translating of itself into its opposite.\n",
    "    This internal ceaseless vanishing of the opposites is\n",
    "    the first unity that arises by virtue of contradiction;\n",
    "    it is the null.\n"
   ]
  },
  {
   "cell_type": "markdown",
   "metadata": {},
   "source": [
    "\n",
    "    But contradiction does not contain merely the negative;\n",
    "    it also contains the positive;\n",
    "    or the self-excluding reflection is\n",
    "    at the same time positing reflection;\n",
    "    the result of contradiction is not only the null.\n"
   ]
  },
  {
   "cell_type": "markdown",
   "metadata": {},
   "source": [
    "\n",
    "    The positive and the negative constitute\n",
    "    the positedness of the self-subsistence;\n",
    "    their own self-negation sublates it.\n",
    "    It is this positedness which in truth\n",
    "    founders to the ground in contradiction.\n"
   ]
  },
  {
   "cell_type": "markdown",
   "metadata": {},
   "source": [
    "\n",
    "    The immanent reflection by virtue of which\n",
    "    the sides of opposition are turned into\n",
    "    self-subsistent self-references is,\n",
    "    first of all, their self-subsistence as distinct moments;\n",
    "    thus they are this self-subsistence only in themselves,\n",
    "    for they are still opposites,\n",
    "    and that they are in themselves self-subsistent\n",
    "    constitutes their positedness.\n"
   ]
  },
  {
   "cell_type": "markdown",
   "metadata": {},
   "source": [
    "\n",
    "    But their excluding reflection\n",
    "    sublates this positedness,\n",
    "    turns them into self-subsistent beings\n",
    "    existing in and for themselves,\n",
    "    such as are self-subsistent not only in themselves\n",
    "    but by virtue of their negative reference to their other;\n",
    "    in this way, their self-subsistence is also posited.\n"
   ]
  },
  {
   "cell_type": "markdown",
   "metadata": {},
   "source": [
    "\n",
    "    But, further, by thus being posited as self-subsistent,\n",
    "    they make themselves into a positedness.\n",
    "    They fate themselves to founder,\n",
    "    since they determine themselves as self-identical,\n",
    "    yet in their self-identity they are rather the negative,\n",
    "    a self-identity which is reference-to-other.\n"
   ]
  },
  {
   "cell_type": "markdown",
   "metadata": {},
   "source": [
    "\n",
    "    However, on closer examination,\n",
    "    this excluding reflection is not only\n",
    "    this formal determination.\n",
    "    It is self-subsistence existing in itself,\n",
    "    and the sublating of this positedness\n",
    "    is only through this sublating a unity that\n",
    "    exists for itself and is in fact self-subsistent.\n"
   ]
  },
  {
   "cell_type": "markdown",
   "metadata": {},
   "source": [
    "\n",
    "    Of course, through the sublating of otherness or positedness,\n",
    "    positedness or the negative of an other is indeed present again.\n",
    "    But in fact, this negation is not just a return to the first\n",
    "    immediate reference to the other,\n",
    "    is not positedness as sublated immediacy,\n",
    "    but positedness as sublated positedness.\n",
    "    \n"
   ]
  },
  {
   "cell_type": "markdown",
   "metadata": {},
   "source": [
    "    The excluding reflection of self-subsistence,\n",
    "    since it is excluding,\n",
    "    makes itself a positedness but is just as much\n",
    "    the sublation of its positedness.\n"
   ]
  },
  {
   "cell_type": "markdown",
   "metadata": {},
   "source": [
    "\n",
    "    It is sublating reference to itself;\n",
    "    in that reference, it first sublates the negative\n",
    "    and it secondly posits itself as a negative,\n",
    "    and it is only this posited negative that it sublates;\n",
    "    in sublating the negative,\n",
    "    it both posits and sublates it at the same time.\n"
   ]
  },
  {
   "cell_type": "markdown",
   "metadata": {},
   "source": [
    "\n",
    "    In this way the exclusive determination is\n",
    "    itself that other of itself of which it is the negation;\n",
    "    the sublation of this positedness is not, therefore,\n",
    "    once more positedness as the negative of an other,\n",
    "    but is self-withdrawal, positive self-unity.\n",
    "    \n"
   ]
  },
  {
   "cell_type": "markdown",
   "metadata": {},
   "source": [
    "    Self-subsistence is thus unity that turns back into itself\n",
    "    by virtue of its own negation,\n",
    "    for it turns into itself through the negation of its positedness.\n",
    "    It is the unity of essence to be identical with itself\n",
    "    through the negation not of an other, but of itself.\n"
   ]
  },
  {
   "cell_type": "markdown",
   "metadata": {},
   "source": [
    "\n",
    "    3. According to this positive side,\n",
    "    since self-subsistence in opposition,\n",
    "    as excluding reflection,\n",
    "    makes itself into a positedness\n",
    "    and equally sublates this positedness,\n",
    "    not only has opposition foundered\n",
    "    but in foundering it has gone back\n",
    "    to its foundation, to its ground.\n"
   ]
  },
  {
   "cell_type": "markdown",
   "metadata": {},
   "source": [
    "\n",
    "    The excluding reflection of\n",
    "    the self-subsisting opposition turns it\n",
    "    into a negative, something only posited;\n",
    "    it thereby reduces its formerly self-subsisting determinations,\n",
    "    the positive and the negative,\n",
    "    to determinations which are only determinations;\n",
    "    and the positedness, since it is now made into positedness,\n",
    "    has simply gone back to its unity with itself;\n",
    "    it is simple essence, but essence as ground.\n"
   ]
  },
  {
   "cell_type": "markdown",
   "metadata": {},
   "source": [
    "\n",
    "    Through the sublating of the determinations of essence,\n",
    "    which are in themselves self-contradictory,\n",
    "    essence is restored,\n",
    "    but restored in the determination of\n",
    "    an exclusive, reflective unity\n",
    "    a simple unity which determines itself as negation,\n",
    "    but in this positedness is immediately like itself\n",
    "    and withdrawn into itself.\n"
   ]
  },
  {
   "cell_type": "markdown",
   "metadata": {},
   "source": [
    "\n",
    "    In the first place, therefore, because of its contradiction,\n",
    "    the self-subsisting opposition goes back into a ground;\n",
    "    this opposition is what comes first,\n",
    "    the immediate from which the beginning is made,\n",
    "    while the sublated opposition\n",
    "    or the sublated positedness is itself a positedness.\n",
    "    Accordingly, essence is as ground a positedness,\n",
    "    something that has become.\n"
   ]
  },
  {
   "cell_type": "markdown",
   "metadata": {},
   "source": [
    "\n",
    "    But conversely, only this has been posited,\n",
    "    namely that the opposition or the positedness is\n",
    "    something sublated, only is as positedness.\n",
    "    \n"
   ]
  },
  {
   "cell_type": "markdown",
   "metadata": {},
   "source": [
    "    As ground, therefore, essence is excluding reflection\n",
    "    because it makes itself into a positedness;\n",
    "    because the opposition from which the start\n",
    "    was just now made and was the immediate is\n",
    "    the merely posited determinate self-subsistence of essence;\n",
    "    because opposition only sublates itself within,\n",
    "    whereas essence is in its determinateness reflected into itself.\n"
   ]
  },
  {
   "cell_type": "markdown",
   "metadata": {},
   "source": [
    "\n",
    "    As ground, therefore, essence excludes\n",
    "    itself from itself, it posits itself;\n",
    "    its positedness which is what is excluded\n",
    "    is only as positedness,\n",
    "    as identity of the negative with itself.\n",
    "    \n"
   ]
  },
  {
   "cell_type": "markdown",
   "metadata": {},
   "source": [
    "    This self-subsistent is the negative\n",
    "    posited as the negative,\n",
    "    something self-contradictory\n",
    "    which, consequently, remains in\n",
    "    the essence as in its ground.\n"
   ]
  },
  {
   "cell_type": "markdown",
   "metadata": {},
   "source": [
    "\n",
    "    The resolved contradiction is therefore ground,\n",
    "    essence as unity of the positive and the negative.\n"
   ]
  },
  {
   "cell_type": "markdown",
   "metadata": {},
   "source": [
    "\n",
    "    In opposition, determinateness has progressed to self-subsistence;\n",
    "    but ground is this self-subsistence as completed;\n",
    "    in it, the negative is self-subsistent essence, but as negative;\n",
    "    and, as self-identical in this negativity,\n",
    "    ground is thus equally the positive.\n"
   ]
  },
  {
   "cell_type": "markdown",
   "metadata": {},
   "source": [
    "\n",
    "    In ground, therefore, opposition and its contradiction\n",
    "    are just as much removed as preserved.\n"
   ]
  },
  {
   "cell_type": "markdown",
   "metadata": {},
   "source": [
    "\n",
    "    Ground is essence as positive self-identity\n",
    "    which, however, at the same time\n",
    "    refers itself to itself as negativity\n",
    "    and therefore determines itself,\n",
    "    making itself into an excluded positedness;\n",
    "    but this positedness is the whole self-subsisting essence,\n",
    "    and essence is ground, self-identical in its negation and positive.\n"
   ]
  },
  {
   "cell_type": "markdown",
   "metadata": {},
   "source": [
    "\n",
    "    The self-contradictory self-subsistent opposition\n",
    "    was itself, therefore, already ground;\n",
    "    all that was added to it was the determination of self-unity\n",
    "    which emerges as each of the self-subsisting opposites\n",
    "    sublates itself and makes itself into its other,\n",
    "    thereby founders and sinks to the ground\n",
    "    but therein also reunites itself with itself;\n",
    "    thus in this foundering, that is,\n",
    "    in its positedness or in the negation,\n",
    "    it rather is for the first time the essence\n",
    "    that is reflected into itself and self-identical.\n"
   ]
  }
 ],
 "metadata": {
  "kernelspec": {
   "display_name": "jupyter",
   "language": "python",
   "name": "jupyter"
  },
  "language_info": {
   "name": "python",
   "version": "3.11.2"
  }
 },
 "nbformat": 4,
 "nbformat_minor": 2
}
