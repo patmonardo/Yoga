{
 "cells": [
  {
   "cell_type": "markdown",
   "metadata": {},
   "source": [
    "# CHAPTER 1"
   ]
  },
  {
   "cell_type": "markdown",
   "metadata": {
    "notebookRunGroups": {
     "groupValue": ""
    }
   },
   "source": [
    "# Shine"
   ]
  },
  {
   "cell_type": "markdown",
   "metadata": {},
   "source": [
    "\n",
    "    As it issues from being, essence seems to stand over against it;\n",
    "    this immediate being is, first, the unessential.\n"
   ]
  },
  {
   "cell_type": "markdown",
   "metadata": {},
   "source": [
    "\n",
    "    But, second, it is more than just the unessential;\n",
    "    it is being void of essence; it is shine.\n"
   ]
  },
  {
   "cell_type": "markdown",
   "metadata": {},
   "source": [
    "\n",
    "    Third, this shine is not something external,\n",
    "    something other than essence, but is essence's own shining.\n",
    "    This shining of essence within it is reflection.\n"
   ]
  },
  {
   "cell_type": "markdown",
   "metadata": {},
   "source": [
    "## A. CIT\n"
   ]
  },
  {
   "cell_type": "markdown",
   "metadata": {},
   "source": [
    "\n",
    "    Essence is sublated being.\n"
   ]
  },
  {
   "cell_type": "markdown",
   "metadata": {},
   "source": [
    "\n",
    "    It is simple equality with itself\n",
    "    but is such as the negation of\n",
    "    the sphere of being in general.\n"
   ]
  },
  {
   "cell_type": "markdown",
   "metadata": {},
   "source": [
    "    And so it has immediacy over against it,\n",
    "    as something from which it has come to be\n",
    "    but which has preserved and maintained itself in this sublating.\n"
   ]
  },
  {
   "cell_type": "markdown",
   "metadata": {},
   "source": [
    "    Essence itself is in this determination\n",
    "    an existent immediate essence,\n",
    "    and with reference to it\n",
    "    being is only something negative,\n",
    "    nothing in and for itself:\n"
   ]
  },
  {
   "cell_type": "markdown",
   "metadata": {},
   "source": [
    "    essence, therefore, is a determined negation.\n",
    "    Being and essence relate to each other in this fashion\n",
    "    as against others in general which are mutually indifferent,\n",
    "    for each has a being, an immediacy,\n",
    "    and according to this being they stand in equal value.\n"
   ]
  },
  {
   "cell_type": "markdown",
   "metadata": {},
   "source": [
    "\n",
    "    But as contrasted with essence,\n",
    "    being is at the same time the unessential;\n",
    "    as against essence, it has the determination of something sublated.\n",
    "    \n"
   ]
  },
  {
   "cell_type": "markdown",
   "metadata": {},
   "source": [
    "    And in so far as it thus relates to essence\n",
    "    as an other only in general,\n",
    "    essence itself is not essence proper\n",
    "    but is just another existence, the essential.\n"
   ]
  },
  {
   "cell_type": "markdown",
   "metadata": {},
   "source": [
    "\n",
    "    The distinction of essential and unessential has\n",
    "    made essence relapse into the sphere of existence,\n",
    "    for as essence is at first,\n",
    "    it is determined with respect to being\n",
    "    as an existent and therefore as an other.\n"
   ]
  },
  {
   "cell_type": "markdown",
   "metadata": {},
   "source": [
    "\n",
    "    The sphere of existence is thus laid out as foundation,\n",
    "    and that in this sphere being is being-in-and-for-itself,\n",
    "    is a further determination external to existence,\n",
    "    just as, contrariwise, essence is indeed being-in-and-for-itself,\n",
    "    but only over against an other, in a determinate respect.\n"
   ]
  },
  {
   "cell_type": "markdown",
   "metadata": {},
   "source": [
    "\n",
    "    Consequently, inasmuch as essential and unessential aspects are\n",
    "    distinguished in an existence from each other,\n",
    "    this distinguishing is an external positing,\n",
    "    a taking apart that leaves the existence itself untouched;\n",
    "    it is a separation which falls on the side of a third\n",
    "    and leaves undetermined what belongs to the essential\n",
    "    and what belongs to the unessential.\n",
    "  "
   ]
  },
  {
   "cell_type": "markdown",
   "metadata": {},
   "source": [
    "    It is dependent on some external standpoint or consideration\n",
    "    and the same content can therefore sometimes be considered\n",
    "    as essential, sometimes as unessential.\n"
   ]
  },
  {
   "cell_type": "markdown",
   "metadata": {},
   "source": [
    "\n",
    "    On closer consideration, essence becomes something\n",
    "    only essential as contrasted with an unessential\n",
    "    because essence is only taken,\n",
    "    is as sublated being or existence.\n"
   ]
  },
  {
   "cell_type": "markdown",
   "metadata": {},
   "source": [
    "\n",
    "    In this fashion, essence is only the first negation,\n",
    "    or the negation, which is determinateness,\n",
    "    through which being becomes only existence,\n",
    "    or existence only an other.\n"
   ]
  },
  {
   "cell_type": "markdown",
   "metadata": {},
   "source": [
    "\n",
    "    But essence is the absolute negativity of being;\n",
    "    it is being itself, but not being determined only as an other:\n",
    "    it is being rather that has sublated itself\n",
    "    both as immediate being\n",
    "    and as immediate negation,\n",
    "    as the negation which is affected by an otherness.\n",
    "    \n"
   ]
  },
  {
   "cell_type": "markdown",
   "metadata": {},
   "source": [
    "    Being or existence, therefore, does not persist\n",
    "    except as what essence is,\n",
    "    and the immediate which still differs from essence is not just\n",
    "    an unessential existence but an immediate\n",
    "    which is null in and for itself;\n",
    "    it only is a non-essence, shine.\n"
   ]
  },
  {
   "cell_type": "markdown",
   "metadata": {},
   "source": [
    "\n",
    "## B. CITI\n"
   ]
  },
  {
   "cell_type": "markdown",
   "metadata": {},
   "source": [
    "\n",
    "    1. Being is shine.\n"
   ]
  },
  {
   "cell_type": "markdown",
   "metadata": {},
   "source": [
    "\n",
    "    The being of shine consists solely\n",
    "    in the sublatedness of being,\n",
    "    in being's nothingness;\n",
    "    this nothingness it has in essence,\n",
    "    apart from its nothingness,\n",
    "    apart from essence, it does not exist.\n",
    "    It is the negative posited as negative.\n"
   ]
  },
  {
   "cell_type": "markdown",
   "metadata": {},
   "source": [
    "\n",
    "    Shine is all that remains of the sphere of being.\n",
    "    But it still seems to have an immediate side\n",
    "    which is independent of essence\n",
    "    and to be, in general, an other of essence.\n"
   ]
  },
  {
   "cell_type": "markdown",
   "metadata": {},
   "source": [
    "\n",
    "    Other entails in general the two moments\n",
    "    of existence and non-existence.\n",
    "    Since the unessential no longer has a being,\n",
    "    what is left to it of otherness is\n",
    "    only the pure moment of non-existence;\n",
    "    \n"
   ]
  },
  {
   "cell_type": "markdown",
   "metadata": {},
   "source": [
    "    shine is this immediate non-existence,\n",
    "    a non-existence in the determinateness of being,\n",
    "    so that it has existence only with reference to another,\n",
    "    in its non-existence;\n",
    "    it is the non-self-subsistent\n",
    "    which exists only in its negation.\n",
    " "
   ]
  },
  {
   "cell_type": "markdown",
   "metadata": {},
   "source": [
    "    What is left over to it is thus only\n",
    "    the pure determinateness of immediacy;\n",
    "    it is as reflected immediacy, that is,\n",
    "    one which is only by virtue of\n",
    "    the mediation of its negation\n",
    "    and which, over against this mediation, is\n",
    "    nothing except the empty determination\n",
    "    of the immediacy of non-existence.\n"
   ]
  },
  {
   "cell_type": "markdown",
   "metadata": {},
   "source": [
    "\n",
    "    Shine, the “phenomenon” of skepticism,\n",
    "    and also the “appearance” of idealism,\n",
    "    is thus this immediacy which is not\n",
    "    a something nor a thing in general,\n",
    "    not an indifferent being that would exist apart\n",
    "    from its determinateness and connection with the subject.\n",
    "    Skepticism did not permit itself to say “It is,”\n",
    "    and the more recent idealism did not permit itself\n",
    "    to regard cognitions as a knowledge of the thing-in-itself.\n"
   ]
  },
  {
   "cell_type": "markdown",
   "metadata": {},
   "source": [
    "\n",
    "    The shine of the former was supposed absolutely\n",
    "    not to have the foundation of a being:\n",
    "    the thing-in-itself was not supposed\n",
    "    to enter into these cognitions.\n",
    "    But at the same time skepticism allowed\n",
    "    a manifold of determinations for its shine,\n",
    "    or rather the latter turned out to have\n",
    "    the full richness of the world for its content.\n",
    "    Likewise for the appearance of idealism:\n",
    "    it encompassed the full range of these manifold determinacies.\n"
   ]
  },
  {
   "cell_type": "markdown",
   "metadata": {},
   "source": [
    "\n",
    "    So, the shine of skepticism and the appearance of idealism\n",
    "    do immediately have a manifold of determination.\n",
    "    This content, therefore, might well have no being as foundation,\n",
    "    no thing or thing-in-itself;\n",
    "    for itself, it remains as it is;\n",
    "    it is simply transposed from being into shine,\n",
    "    so that the latter has within itself those manifold\n",
    "    determinacies that exist immediately,\n",
    "    each an other to the other.\n"
   ]
  },
  {
   "cell_type": "markdown",
   "metadata": {},
   "source": [
    "\n",
    "    The shine is thus itself something immediately determined.\n",
    "    It can have this or that content;\n",
    "    but whatever content it has, it has not posited it\n",
    "    but possesses it immediately.\n"
   ]
  },
  {
   "cell_type": "markdown",
   "metadata": {},
   "source": [
    "\n",
    "    Idealism, whether Leibnizian, Kantian, Fichtean, or in any\n",
    "    other form, has not gone further than skepticism in this:\n",
    "    it has not advanced beyond being as determinateness.\n",
    "    Skepticism lets the content of its shine to be given to it;\n",
    "    the shine exists for it immediately,\n",
    "    whatever content it might have.\n",
    "    The Leibnizian monad develops its representations from itself\n",
    "    but is not their generating and controlling force;\n",
    "    they rise up in it as a froth, indifferent,\n",
    "    immediately present to each other and to the monad as well.\n",
    "    Likewise Kant's appearance is a given content of perception\n",
    "    that presupposes affections, determinations of the subject\n",
    "    which are immediate to each other and to the subject.\n",
    "    \n"
   ]
  },
  {
   "cell_type": "markdown",
   "metadata": {},
   "source": [
    "    As for the infinite obstacle of Fichte's Idealism,\n",
    "    it might well be that it has no thing-in-itself for foundation,\n",
    "    so that it becomes a determinateness purely within the “I.”\n",
    "    But this determinateness that the “I” makes its own,\n",
    "    sublating its externality,\n",
    "    is to the “I” at the same time an immediate determinateness,\n",
    "    a limitation of the “I” which the latter may transcend\n",
    "    but which contains a side of indifference,\n",
    "    and on account of this indifference,\n",
    "    although internal to the “I,”\n",
    "    it entails an immediate non-being of it.\n"
   ]
  },
  {
   "cell_type": "markdown",
   "metadata": {},
   "source": [
    "\n",
    "    2. Shine thus contains an immediate presupposition,\n",
    "    an independent side vis-à-vis essence.\n",
    "    But the task, inasmuch as this shine is distinct from essence,\n",
    "    is not to demonstrate that it sublates itself\n",
    "    and returns into essence,\n",
    "    for being has returned into essence in its totality;\n",
    "    shine is the null as such.\n",
    "    The task is to demonstrate that the determinations which\n",
    "    distinguish it from essence are the determinations of essence itself;\n",
    "    further, that this determinateness of essence,\n",
    "    which shine is, is sublated in essence itself.\n"
   ]
  },
  {
   "cell_type": "markdown",
   "metadata": {},
   "source": [
    "\n",
    "    What constitutes the shine is\n",
    "    the immediacy of non-being;\n",
    "    this non-being, however, is nothing else than\n",
    "    the negativity of essence within essence itself.\n",
    "    In essence, being is non-being.\n",
    "    Its inherent nothingness is the\n",
    "    negative nature of essence itself.\n"
   ]
  },
  {
   "cell_type": "markdown",
   "metadata": {},
   "source": [
    "\n",
    "    But the immediacy or indifference\n",
    "    which this non-being contains is\n",
    "    essences's own absolute in-itself.\n",
    "    The negativity of essence is its self-equality\n",
    "    or its simple immediacy and indifference.\n",
    "    \n"
   ]
  },
  {
   "cell_type": "markdown",
   "metadata": {},
   "source": [
    "    Being has preserved itself in essence inasmuch\n",
    "    as this latter, in its infinite negativity,\n",
    "    has this equality with itself;\n",
    "    it is through this that essence is itself being.\n",
    "    \n"
   ]
  },
  {
   "cell_type": "markdown",
   "metadata": {},
   "source": [
    "    The immediacy that the determinateness has\n",
    "    in shine against essence is\n",
    "    thus none other than essence's own immediacy,\n",
    "    though not the immediacy of an existent\n",
    "    but rather the absolutely mediated\n",
    "    or reflective immediacy which is shine;\n",
    "    being, not as being, but only as\n",
    "    the determinateness of being as against mediation;\n",
    "    being as moment.\n"
   ]
  },
  {
   "cell_type": "markdown",
   "metadata": {},
   "source": [
    "\n",
    "    These two moments [nothingness but as subsisting],\n",
    "    and being but as moment;\n",
    "    or again, negativity existing in itself and reflected immediacy,\n",
    "    these two moments that are the moments of shine,\n",
    "    are thus the moments of essence itself;\n",
    "    \n"
   ]
  },
  {
   "cell_type": "markdown",
   "metadata": {},
   "source": [
    "    it is not that there is a shine of being in essence,\n",
    "    or a shine of essence in being:\n",
    "    the shine in the essence is not the shine of an other\n",
    "    but is rather shine as such, the shine of essence itself.\n"
   ]
  },
  {
   "cell_type": "markdown",
   "metadata": {},
   "source": [
    "\n",
    "    Shine is essence itself in the determinateness of being.\n",
    "    Essence has a shine because it is determined within itself\n",
    "    and is therefore distinguished from its absolute unity.\n"
   ]
  },
  {
   "cell_type": "markdown",
   "metadata": {},
   "source": [
    "\n",
    "    But this determinateness is as determinateness\n",
    "    just as absolutely sublated in it.\n",
    "    For essence is what stands on its own:\n",
    "    it exists as self-mediating through a negation which it itself is.\n"
   ]
  },
  {
   "cell_type": "markdown",
   "metadata": {},
   "source": [
    "\n",
    "    It is, therefore, the identical unit of\n",
    "    absolute negativity and immediacy.\n",
    "    The negativity is negativity in itself;\n",
    "    it is its reference to itself and thus immediacy in itself.\n"
   ]
  },
  {
   "cell_type": "markdown",
   "metadata": {},
   "source": [
    "\n",
    "    But it is negative reference to itself,\n",
    "    a self-repelling negating;\n",
    "    thus the immediacy existing in itself is\n",
    "    the negative or the determinate over against the negativity.\n",
    "    \n"
   ]
  },
  {
   "cell_type": "markdown",
   "metadata": {},
   "source": [
    "    But this determinateness is itself absolute negativity\n",
    "    and this determining, which as determining immediately sublates itself,\n",
    "    is a turning back into itself.\n"
   ]
  },
  {
   "cell_type": "markdown",
   "metadata": {},
   "source": [
    "\n",
    "    Shine is the negative which has a being,\n",
    "    but in another, in its negation;\n",
    "    it is a non-self-subsisting-being\n",
    "    which is sublated within and null.\n",
    "    And so it is the negative which returns into itself,\n",
    "    the non-subsistent as such, internally non-subsistent.\n",
    "    \n"
   ]
  },
  {
   "cell_type": "markdown",
   "metadata": {},
   "source": [
    "    This reference of the negative or\n",
    "    the non-subsistent to itself is\n",
    "    the immediacy of this non-subsistent;\n",
    "    it is an other than it;\n",
    "    it is its determinateness over against it,\n",
    "    or the negation over against the negative.\n",
    "    \n"
   ]
  },
  {
   "cell_type": "markdown",
   "metadata": {},
   "source": [
    "    But this negation which stands over against the negative is\n",
    "    negativity as referring solely to itself,\n",
    "    the absolute sublation of the determinateness itself.\n"
   ]
  },
  {
   "cell_type": "markdown",
   "metadata": {},
   "source": [
    "\n",
    "    The determinateness that shine is in essence is,\n",
    "    therefore, infinite determinateness;\n",
    "    it is only the negative which coincides with itself\n",
    "    and hence a determinateness that, as determinateness,\n",
    "    is self-subsistence and not determined.\n",
    "    \n"
   ]
  },
  {
   "cell_type": "markdown",
   "metadata": {},
   "source": [
    "    Contrariwise, the self-subsistence, as self-referring immediacy,\n",
    "    equally is just determinateness and moment,\n",
    "    negativity solely referring to itself.\n",
    "    \n"
   ]
  },
  {
   "cell_type": "markdown",
   "metadata": {},
   "source": [
    "    This negativity which is identical with immediacy,\n",
    "    and thus the immediacy which is identical with negativity, is essence.\n",
    "    Shine is, therefore, essence itself,\n",
    "    but essence in a determinateness, in such a way, however,\n",
    "    that the determinateness is only a moment,\n",
    "    and the essence is the shining of itself within itself.\n"
   ]
  },
  {
   "cell_type": "markdown",
   "metadata": {},
   "source": [
    "\n",
    "    In the sphere of being, non-being arises over against being,\n",
    "    each equally an immediate, and the truth of both is becoming.\n",
    "    In the sphere of essence, we have the contrast\n",
    "    first of essence and the non-essential,\n",
    "    then of essence and shine,\n",
    "    the non-essential and the shine\n",
    "    being both the leftover of being.\n"
   ]
  },
  {
   "cell_type": "markdown",
   "metadata": {},
   "source": [
    "\n",
    "    But these two, and no less the\n",
    "    distinction of essence from them,\n",
    "    consist solely in this:\n",
    "    that essence is taken at first as an immediate,\n",
    "    not as it is in itself,\n",
    "    namely as an immediacy which is immediacy\n",
    "    as pure mediacy or absolute negativity.\n"
   ]
  },
  {
   "cell_type": "markdown",
   "metadata": {},
   "source": [
    "\n",
    "    This first immediacy is thus only the determinateness of immediacy.\n",
    "    The sublating of this determinateness of essence consists, therefore,\n",
    "    in nothing further than showing that the unessential is only shine,\n",
    "    and that essence rather contains this shine within itself.\n",
    "    \n"
   ]
  },
  {
   "cell_type": "markdown",
   "metadata": {},
   "source": [
    "    For essence is an infinite self-contained movement\n",
    "    which determines its immediacy as negativity\n",
    "    and its negativity as immediacy,\n",
    "    and is thus the shining of itself within itself.\n",
    "    In this, in its self-movement,\n",
    "    essence is reflection.\n"
   ]
  },
  {
   "cell_type": "markdown",
   "metadata": {},
   "source": [
    "## C. CITTA"
   ]
  },
  {
   "cell_type": "markdown",
   "metadata": {},
   "source": [
    "\n",
    "    Shine is the same as what reflection is;\n",
    "    but it is reflection as immediate.\n",
    "    For this shine which is internalized\n",
    "    and therefore alienated from its immediacy,\n",
    "    the German has a word from an alien language, “Reflexion.”\n"
   ]
  },
  {
   "cell_type": "markdown",
   "metadata": {},
   "source": [
    "\n",
    "\n",
    "    Essence is reflection, the movement of\n",
    "    becoming and transition that remains within itself,\n",
    "    wherein that which is distinguished is determined\n",
    "    simply and solely as the negative in itself, as shine.\n"
   ]
  },
  {
   "cell_type": "markdown",
   "metadata": {},
   "source": [
    "\n",
    "    In the becoming of being, it is being which lies\n",
    "    at the foundation of determinateness,\n",
    "    and determinateness is reference to an other.\n",
    "    Reflective movement is by contrast\n",
    "    the other as negation in itself,\n",
    "    a negation which has being only as self-referring.\n"
   ]
  },
  {
   "cell_type": "markdown",
   "metadata": {},
   "source": [
    "\n",
    "    Or, since this self-referring is\n",
    "    precisely this negating of negation,\n",
    "    what we have is negation as negation,\n",
    "    negation that has its being in its being-negated, as shine.\n",
    "    \n"
   ]
  },
  {
   "cell_type": "markdown",
   "metadata": {},
   "source": [
    "    Here, therefore, the other is not\n",
    "    being with negation or limit,\n",
    "    but negation with negation.\n",
    "    But the first over against this other,\n",
    "    the immediate or being,\n",
    "    is only this self-equality itself of negation,\n",
    "    the negated negation, the absolute negativity.\n",
    "    \n"
   ]
  },
  {
   "cell_type": "markdown",
   "metadata": {},
   "source": [
    "    This self-equality or immediacy, therefore, is\n",
    "    not a first from which the beginning is made\n",
    "    and which would pass over into its negation;\n",
    "    nor is there an existent substrate which would\n",
    "    go through the moves of reflection;\n",
    "    immediacy is rather just this movement itself.\n"
   ]
  },
  {
   "cell_type": "markdown",
   "metadata": {},
   "source": [
    "\n",
    "\n",
    "    In essence, therefore, the becoming,\n",
    "    the reflective movement of essence,\n",
    "    is the movement from nothing to nothing\n",
    "    and thereby back to itself.\n",
    "    \n"
   ]
  },
  {
   "cell_type": "markdown",
   "metadata": {},
   "source": [
    "    Transition or becoming sublates itself in its transition;\n",
    "    the other which comes to be in this transition is\n",
    "    not the non-being of a being but the nothingness of a nothingness,\n",
    "    and this, to be the negation of a nothingness, constitutes being.\n",
    "    \n"
   ]
  },
  {
   "cell_type": "markdown",
   "metadata": {},
   "source": [
    "    Being is only as the movement of nothingness to nothingness,\n",
    "    and so it is essence;\n",
    "    and this essence does not have this movement in itself,\n",
    "    but the movement is rather the absolute shine itself,\n",
    "    the pure negativity which has nothing outside it\n",
    "    which it would negate but which rather negates only its negative,\n",
    "    the negative which is only in this negating.\n",
    "    This pure absolute reflection, which is the movement\n",
    "    from nothing to nothing, further determines itself.\n"
   ]
  },
  {
   "cell_type": "markdown",
   "metadata": {},
   "source": [
    "\n",
    "\n",
    "    It is, first, positing reflection.\n",
    "\n",
    "    Second, it takes as its starting point\n",
    "    the presupposed immediate,\n",
    "    and then it is external reflection.\n",
    "\n",
    "    Third, it sublates however this presupposition,\n",
    "    and because in the sublating of the presupposition\n",
    "    it presupposes at the same time,\n",
    "    it is determining reflection.\n"
   ]
  },
  {
   "cell_type": "markdown",
   "metadata": {},
   "source": [
    "\n",
    "### 1. Positing reflection\n"
   ]
  },
  {
   "cell_type": "markdown",
   "metadata": {},
   "source": [
    "\n",
    "    Shine is a nothingness or a lack of essence.\n",
    "    But a nothingness or that which is void of essence\n",
    "    does not have its being in an other in which it shines,\n",
    "    but its being is its own equality with itself;\n",
    "    this conversion of the negative with itself has been determined\n",
    "    as the absolute reflection of essence.\n"
   ]
  },
  {
   "cell_type": "markdown",
   "metadata": {},
   "source": [
    "\n",
    "    This self-referring negativity is\n",
    "    therefore the negating of itself.\n",
    "    It is thus just as much\n",
    "    sublated negativity as it is negativity.\n",
    "    \n"
   ]
  },
  {
   "cell_type": "markdown",
   "metadata": {},
   "source": [
    "    Or again, it is itself the negative\n",
    "    and the simple equality with itself or immediacy.\n",
    "    It consists, therefore, in being itself\n",
    "    and not being itself,\n",
    "    and the two in one unity.\n"
   ]
  },
  {
   "cell_type": "markdown",
   "metadata": {},
   "source": [
    "\n",
    "    Reflection is at first the movement of\n",
    "    the nothing to the nothing,\n",
    "    and thus negation coinciding with itself.\n",
    "    This self-coinciding is in general\n",
    "    simple equality with itself, immediacy.\n",
    "    \n"
   ]
  },
  {
   "cell_type": "markdown",
   "metadata": {},
   "source": [
    "    But this falling together is not\n",
    "    the transition of negation into equality\n",
    "    as into a being other than it;\n",
    "    reflection is transition rather\n",
    "    as the sublating of transition,\n",
    "    for it is the immediate falling together\n",
    "    of the negative with itself.\n",
    "    "
   ]
  },
  {
   "cell_type": "markdown",
   "metadata": {},
   "source": [
    "    And so this coinciding is, first,\n",
    "    self-equality or immediacy;\n",
    "    but, second, this immediacy is\n",
    "    the self-equality of the negative,\n",
    "    and hence self-negating equality,\n",
    "    immediacy which is in itself the negative,\n",
    "    the negative of itself:\n",
    "    its being is to be what it is not.\n"
   ]
  },
  {
   "cell_type": "markdown",
   "metadata": {},
   "source": [
    "\n",
    "    The self-reference of the negative is\n",
    "    therefore its turning back into itself;\n",
    "    it is immediacy as the sublating of the negative,\n",
    "    but immediacy simply and solely as this reference\n",
    "    or as turning back from a one,\n",
    "    and hence as self-sublating immediacy.\n",
    "    \n"
   ]
  },
  {
   "cell_type": "markdown",
   "metadata": {},
   "source": [
    "    This is positedness,\n",
    "    immediacy purely as determinateness\n",
    "    or as self-reflecting.\n",
    "    This immediacy, which is only as\n",
    "    the turning back of the negative into itself,\n",
    "    is the immediacy which constitutes the determinateness of shine,\n",
    "    and from which the previous reflective movement seemed to begin.\n",
    "    \n"
   ]
  },
  {
   "cell_type": "markdown",
   "metadata": {},
   "source": [
    "    But, far from being able to begin with this immediacy,\n",
    "    the latter first is rather as the turning back\n",
    "    or as the reflection itself.\n",
    "    Reflection is therefore the movement which,\n",
    "    since it is the turning back,\n",
    "    only in this turning is that\n",
    "    which starts out or returns.\n"
   ]
  },
  {
   "cell_type": "markdown",
   "metadata": {},
   "source": [
    "\n",
    "    It is a positing, inasmuch as it is\n",
    "    immediacy as a turning back;\n",
    "    that is to say, there is not an other beforehand,\n",
    "    one either from which or to which it would turn back;\n",
    "    it is, therefore, only as a turning back\n",
    "    or as the negative of itself.\n",
    "    \n"
   ]
  },
  {
   "cell_type": "markdown",
   "metadata": {},
   "source": [
    "    But further, this immediacy is sublated negation\n",
    "    and sublated return into itself.\n",
    "    Reflection, as the sublating of the negative, is\n",
    "    the sublating of its other, of the immediacy.\n",
    "    Because it is thus immediacy as a turning back,\n",
    "    the coinciding of the negative with itself,\n",
    "    it is equally the negation of the negative as negative.\n"
   ]
  },
  {
   "cell_type": "markdown",
   "metadata": {},
   "source": [
    "\n",
    "    And so it is presupposing.\n",
    "    Or immediacy is as a turning back\n",
    "    only the negative of itself,\n",
    "    just this, not to be immediacy;\n",
    "    but reflection is the sublating\n",
    "    of the negative of itself,\n",
    "    coincidence with itself;\n",
    "    it therefore sublates its positing,\n",
    "    and inasmuch as it is in its positing\n",
    "    the sublating of positing, it is presupposing.\n",
    "    \n"
   ]
  },
  {
   "cell_type": "markdown",
   "metadata": {},
   "source": [
    "    In presupposing, reflection determines the turning back\n",
    "    into itself as the negative of itself,\n",
    "    as that of which essence is the sublating.\n",
    "    It is its relating to itself,\n",
    "    but to itself as to the negative of itself;\n",
    "    only so is it negativity which abides with itself,\n",
    "    self-referring negativity.\n"
   ]
  },
  {
   "cell_type": "markdown",
   "metadata": {},
   "source": [
    "\n",
    "    Immediacy comes on the scene simply and solely\n",
    "    as a turning back and is that negative\n",
    "    which is the semblance of a beginning,\n",
    "    the beginning which the return negates.\n",
    "    The turning back of essence is therefore its self-repulsion.\n",
    "    Or inner directed reflection is essentially\n",
    "    the presupposing of that from which\n",
    "    the reflection is the turning back.\n"
   ]
  },
  {
   "cell_type": "markdown",
   "metadata": {},
   "source": [
    "\n",
    "    It is only by virtue of the sublating of\n",
    "    its equality with itself\n",
    "    that essence is equality with itself.\n",
    "    Essence presupposes itself,\n",
    "    and the sublating of this presupposing is essence itself;\n",
    "    contrariwise, this sublating of its presupposition is\n",
    "    the presupposition itself.\n"
   ]
  },
  {
   "cell_type": "markdown",
   "metadata": {},
   "source": [
    "\n",
    "    Reflection thus finds an immediate before it\n",
    "    which it transcends and from which it is the turning back.\n",
    "    But this turning back is only the presupposing of\n",
    "    what was antecedently found.\n",
    "    This antecedent comes to be only by being left behind;\n",
    "    its immediacy is sublated immediacy.\n"
   ]
  },
  {
   "cell_type": "markdown",
   "metadata": {},
   "source": [
    "\n",
    "    The sublated immediacy is, contrariwise,\n",
    "    the turning back into itself,\n",
    "    essence that arrives at itself,\n",
    "    simple being equal to itself.\n",
    "    \n"
   ]
  },
  {
   "cell_type": "markdown",
   "metadata": {},
   "source": [
    "    This arriving at itself is thus\n",
    "    the sublating of itself\n",
    "    and self-repelling, presupposing reflection,\n",
    "    and its repelling of itself from itself is\n",
    "    the arriving at itself.\n"
   ]
  },
  {
   "cell_type": "markdown",
   "metadata": {},
   "source": [
    "\n",
    "    It follows from these considerations that\n",
    "    the movement of reflection is to be taken as\n",
    "    an absolute internal counter-repelling.\n",
    "    For the presupposition of\n",
    "    the turning back into itself\n",
    "    [that from which essence arises,\n",
    "    essence being only as this coming back]\n",
    "    is only in the turning back itself.\n"
   ]
  },
  {
   "cell_type": "markdown",
   "metadata": {},
   "source": [
    "\n",
    "    Transcending the immediate from which reflection begins\n",
    "    occurs rather only through this transcending;\n",
    "    and the transcending of the immediate is\n",
    "    the arriving at the immediate.\n",
    "    \n"
   ]
  },
  {
   "cell_type": "markdown",
   "metadata": {},
   "source": [
    "    The movement, as forward movement, turns immediately\n",
    "    around into itself and so is only self-movement:\n",
    "    a movement which comes from itself in so far as\n",
    "    positing reflection is presupposing reflection, yet,\n",
    "    as presupposing reflection, is simply positing reflection.\n"
   ]
  },
  {
   "cell_type": "markdown",
   "metadata": {},
   "source": [
    "\n",
    "    Thus is reflection itself and its non-being,\n",
    "    and only is itself by being the negative of itself,\n",
    "    for only in this way is the sublating of the negative\n",
    "    at the same time a coinciding with itself.\n"
   ]
  },
  {
   "cell_type": "markdown",
   "metadata": {},
   "source": [
    "\n",
    "    The immediacy which reflection,\n",
    "    as a process of sublating,\n",
    "    presupposes for itself is\n",
    "    simply and solely a positedness,\n",
    "    something in itself sublated\n",
    "    which is not diverse from\n",
    "    reflection's turning back into itself\n",
    "    but is itself only this turning back.\n",
    "    \n"
   ]
  },
  {
   "cell_type": "markdown",
   "metadata": {},
   "source": [
    "    But it is at the same time determined as a negative,\n",
    "    as immediately in opposition to something,\n",
    "    and hence to an other.\n",
    "    And so is reflection determined.\n",
    "    According to this determinateness,\n",
    "    because reflection has a presupposition\n",
    "    and takes its start from the immediate as its other,\n",
    "    it is external reflection.\n"
   ]
  },
  {
   "cell_type": "markdown",
   "metadata": {},
   "source": [
    "### 2. External reflection\n"
   ]
  },
  {
   "cell_type": "markdown",
   "metadata": {},
   "source": [
    "\n",
    "    Reflection, as absolute reflection,\n",
    "    is essence shining within,\n",
    "    essence that posits only shine,\n",
    "    only positedness, for its presupposition;\n",
    "    and as presupposing reflection,\n",
    "    it is immediately only positing reflection.\n",
    "    \n"
   ]
  },
  {
   "cell_type": "markdown",
   "metadata": {},
   "source": [
    "    But external or real reflection\n",
    "    presupposes itself as sublated,\n",
    "    as the negative of itself.\n",
    "  \n"
   ]
  },
  {
   "cell_type": "markdown",
   "metadata": {},
   "source": [
    "    In this determination, it is doubled.\n",
    "    At one time it is as what is presupposed,\n",
    "    or the reflection into itself which is the immediate.\n",
    "    At another time, it is as the reflection\n",
    "    negatively referring to itself;\n",
    "    it refers itself to itself as\n",
    "    to that its non-being.\n"
   ]
  },
  {
   "cell_type": "markdown",
   "metadata": {},
   "source": [
    "\n",
    "    External reflection thus presupposes a being,\n",
    "    at first not in the sense that\n",
    "    its immediacy is only positedness or moment,\n",
    "    but in the sense rather that\n",
    "    this immediacy refers to itself\n",
    "    and the determinateness is only as moment.\n"
   ]
  },
  {
   "cell_type": "markdown",
   "metadata": {},
   "source": [
    "\n",
    "    Reflection refers to its presupposition in such a way\n",
    "    that the latter is its negative,\n",
    "    but this negative is thereby sublated as negative.\n",
    "    Reflection, in positing, immediately sublates its positing,\n",
    "    and so it has an immediate presupposition.\n"
   ]
  },
  {
   "cell_type": "markdown",
   "metadata": {},
   "source": [
    "\n",
    "    It therefore finds this presupposition before it\n",
    "    as something from which it starts,\n",
    "    and from which it only makes its way back into itself,\n",
    "    negating it as its negative.\n",
    "    \n"
   ]
  },
  {
   "cell_type": "markdown",
   "metadata": {},
   "source": [
    "    But that this presupposition is a negative\n",
    "    or a positedness is not its concern;\n",
    "    this determinateness belongs only to positing reflection,\n",
    "    whereas in the presupposing positedness\n",
    "    it is only as sublated.\n"
   ]
  },
  {
   "cell_type": "markdown",
   "metadata": {},
   "source": [
    "\n",
    "    What external reflection determines and posits in the immediate\n",
    "    are determinations which to that extent are external to it.\n",
    "    \n"
   ]
  },
  {
   "cell_type": "markdown",
   "metadata": {},
   "source": [
    "    In the sphere of being, external reflection was the infinite;\n",
    "    the finite stands as the first,\n",
    "    as the real from which the beginning is made\n",
    "    as from a foundation that abides,\n",
    "    whereas the infinite is the reflection into itself\n",
    "    standing over against it.\n"
   ]
  },
  {
   "cell_type": "markdown",
   "metadata": {},
   "source": [
    "\n",
    "    This external reflection is the syllogism\n",
    "    in which the two extremes are\n",
    "    the immediate and the reflection into itself;\n",
    "    the middle term is the reference connecting the two,\n",
    "    the determinate immediate, so that \n",
    "    one part of this connecting reference, the immediate, \n",
    "    falls to one extreme alone,\n",
    "    and the other, the determinateness or the negation, \n",
    "    only to the other extreme.\n"
   ]
  },
  {
   "cell_type": "markdown",
   "metadata": {},
   "source": [
    "\n",
    "    But if one takes a closer look at what the external reflection does,\n",
    "    it turns out that it is, secondly, the positing of the immediate,\n",
    "    an immediate which thus becomes the negative or the determined;\n",
    "    but it is immediately also the sublating of this positing,\n",
    "    for it presupposes the immediate;\n",
    "    in negating, it is the negating of its negating.\n",
    "    \n"
   ]
  },
  {
   "cell_type": "markdown",
   "metadata": {},
   "source": [
    "    But thereby it immediately is equally a positing,\n",
    "    the sublating of the immediate which is its negative;\n",
    "    and this negative, from which it seemed to begin\n",
    "    as from something alien,\n",
    "    only is in this its beginning.\n"
   ]
  },
  {
   "cell_type": "markdown",
   "metadata": {},
   "source": [
    "\n",
    "    In this way, the immediate is not only implicitly in itself\n",
    "    (that is, for us or in external reflection)\n",
    "    the same as what reflection is,\n",
    "    but is posited as being the same.\n",
    "    For the immediate is determined by reflection as\n",
    "    the negative of the latter or as the other of it,\n",
    "    but it is reflection itself which negates this determining.\n",
    "    \n"
   ]
  },
  {
   "cell_type": "markdown",
   "metadata": {},
   "source": [
    "    The externality of reflection vis-à-vis\n",
    "    the immediate is consequently sublated;\n",
    "    its self-negating positing is its coinciding\n",
    "    with its negative, with the immediate,\n",
    "    and this coinciding is the immediacy of essence itself.\n"
   ]
  },
  {
   "cell_type": "markdown",
   "metadata": {},
   "source": [
    "\n",
    "    It thus transpires that external reflection is not external\n",
    "    but is just as much the immanent reflection of immediacy itself;\n",
    "    or that the result of positing reflection is\n",
    "    essence existing in and for itself.\n",
    "    External reflection is thus determining reflection.\n"
   ]
  },
  {
   "cell_type": "markdown",
   "metadata": {},
   "source": [
    "### 3. Determining reflection\n"
   ]
  },
  {
   "cell_type": "markdown",
   "metadata": {},
   "source": [
    "\n",
    "    1. External reflection begins from immediate being,\n",
    "    positing reflection from nothing.\n",
    "    In its determining, external reflection posits another\n",
    "    in the place of the sublated being,\n",
    "    but this other is essence;\n",
    "    the positing does not posit its determination \n",
    "    in the place of an other;\n",
    "    it has no presupposition.\n"
   ]
  },
  {
   "cell_type": "markdown",
   "metadata": {},
   "source": [
    "\n",
    "    But, precisely for this reason,\n",
    "    it is not complete as determining reflection;\n",
    "    the determination which it posits is consequently only a posited;\n",
    "    this is an immediate, not however as equal to itself\n",
    "    but as self-negating;\n",
    "    its connection with the turning back into itself is absolute;\n",
    "    it is only in the reflection-into-itself\n",
    "    but is not this reflection itself.\n"
   ]
  },
  {
   "cell_type": "markdown",
   "metadata": {},
   "source": [
    "\n",
    "    The posited is therefore an other,\n",
    "    but in such a manner that the self-equality\n",
    "    of reflection is retained;\n",
    "    for the posited is only as sublated,\n",
    "    as reference to the turning back into itself.\n"
   ]
  },
  {
   "cell_type": "markdown",
   "metadata": {},
   "source": [
    "\n",
    "    In the sphere of being, existence was the being\n",
    "    that had negation in it, and being was the immediate ground\n",
    "    and element of this negation which was,\n",
    "    therefore, itself immediate negation.\n"
   ]
  },
  {
   "cell_type": "markdown",
   "metadata": {},
   "source": [
    "\n",
    "    In the sphere of essence,\n",
    "    positedness is what corresponds to existence.\n",
    "    Positedness is equally an existence,\n",
    "    but its ground is being as essence\n",
    "    or as pure negativity;\n",
    "    it is a determinateness or a negation,\n",
    "    not as existent but immediately as sublated.\n",
    "    \n"
   ]
  },
  {
   "cell_type": "markdown",
   "metadata": {},
   "source": [
    "    Existence is only positedness;\n",
    "    this is the principle of the essence of existence.\n",
    "    Positedness stands on the one side over against existence,\n",
    "    and over against essence on the other:\n",
    "    it is to be regarded as the means which conjoins\n",
    "    existence with essence and essence with existence.\n",
    "    \n"
   ]
  },
  {
   "cell_type": "markdown",
   "metadata": {},
   "source": [
    "    If it is said, a determination is only a positedness,\n",
    "    the claim can thus have a twofold meaning,\n",
    "    according to whether the determination is such\n",
    "    in opposition to existence or in opposition to essence.\n",
    "    \n"
   ]
  },
  {
   "cell_type": "markdown",
   "metadata": {},
   "source": [
    "    In either meaning, existence is taken for\n",
    "    something superior to positedness,\n",
    "    which is attributed to external reflection, to the subjective.\n",
    "    In fact, however, positedness is the superior,\n",
    "    because, as posited, existence is\n",
    "    what it is in itself something negative,\n",
    "    something that refers simply and solely\n",
    "    to the turning back into itself.\n",
    "   \n"
   ]
  },
  {
   "cell_type": "markdown",
   "metadata": {},
   "source": [
    "    For this reason positedness is only a positedness\n",
    "    with respect to essence:\n",
    "    it is the negation of this turning back\n",
    "    as achieved return into itself.\n"
   ]
  },
  {
   "cell_type": "markdown",
   "metadata": {},
   "source": [
    "\n",
    "    2. Positedness is not yet a determination of reflection;\n",
    "    it is only determinateness as negation in general.\n",
    "    But the positing is now united with external reflection;\n",
    "    in this unity, the latter is absolute presupposing, that is,\n",
    "    the repelling of reflection from itself\n",
    "    or the positing of determinateness as its own.\n",
    "    As posited, therefore, positedness is negation;\n",
    "    but as presupposed, it is reflected into itself.\n",
    "    And in this way positedness is a determination of reflection.\n"
   ]
  },
  {
   "cell_type": "markdown",
   "metadata": {},
   "source": [
    "\n",
    "    The determination of reflection is distinct\n",
    "    from the determinateness of being, of quality;\n",
    "    the latter is immediate reference to other in general;\n",
    "    positedness also is reference to other,\n",
    "    but to immanently reflected being.\n",
    "    Negation as quality is existent negation;\n",
    "    being constitutes its ground and element.\n"
   ]
  },
  {
   "cell_type": "markdown",
   "metadata": {},
   "source": [
    "\n",
    "    The determination of reflection, on the contrary,\n",
    "    has for this ground immanent reflectedness.\n",
    "    Positedness gets fixed in determination precisely\n",
    "    because reflection is self-equality in its negatedness;\n",
    "    the latter is therefore itself reflection into itself.\n",
    "    \n"
   ]
  },
  {
   "cell_type": "markdown",
   "metadata": {},
   "source": [
    "    Determination persists here, not by virtue of being\n",
    "    but because of its self-equality.\n",
    "    Since the being which sustains quality is unequal to the negation,\n",
    "    quality is consequently unequal within itself,\n",
    "    and hence a transient moment which disappears in the other.\n",
    "    \n"
   ]
  },
  {
   "cell_type": "markdown",
   "metadata": {},
   "source": [
    "    The determination of reflection is\n",
    "    on the contrary positedness as negation,\n",
    "    negation which has negatedness for its ground,\n",
    "    is therefore not unequal to itself within itself,\n",
    "    and hence essential rather than transient determinateness.\n",
    "    What gives subsistence to it is the self-equality of reflection\n",
    "    which has the negative only as negative,\n",
    "    as something sublated or posited.\n"
   ]
  },
  {
   "cell_type": "markdown",
   "metadata": {},
   "source": [
    "\n",
    "    Because of this reflection into themselves,\n",
    "    the determinations of reflection appear as\n",
    "    free essentialities, sublated in the void\n",
    "    without reciprocal attraction or repulsion.\n"
   ]
  },
  {
   "cell_type": "markdown",
   "metadata": {},
   "source": [
    "\n",
    "    In them the determinateness has become entranced\n",
    "    and infinitely fixed by virtue of the reference to itself.\n",
    "    It is the determinate which has subjugated its transitoriness\n",
    "    and its mere positedness to itself, that is to say,\n",
    "    has deflected its reflection-into-other into reflection-into-itself.\n",
    "    These determinations hereby constitute the determinate shine\n",
    "    as it is in essence, the essential shine.\n",
    "    \n"
   ]
  },
  {
   "cell_type": "markdown",
   "metadata": {},
   "source": [
    "    Determining reflection is for this reason\n",
    "    reflection that has exited from itself;\n",
    "    the equality of essence with itself is\n",
    "    lost in the negation, and negation predominates.\n"
   ]
  },
  {
   "cell_type": "markdown",
   "metadata": {},
   "source": [
    "\n",
    "    Thus there are two distinct sides to the determination of reflection.\n",
    "    First, reflection is positedness, negation as such;\n",
    "    second, it is immanent reflection.\n",
    "    \n"
   ]
  },
  {
   "cell_type": "markdown",
   "metadata": {},
   "source": [
    "    According to the side of positedness,\n",
    "    it is negation as negation,\n",
    "    and this already is its unity with itself.\n",
    "    But it is this unity at first only implicitly or in itself,\n",
    "    an immediate which sublates itself within, is the other of itself.\n"
   ]
  },
  {
   "cell_type": "markdown",
   "metadata": {},
   "source": [
    "\n",
    "    To this extent, reflection is a determining that abides in itself.\n",
    "    In it essence does not exit from itself;\n",
    "    the distinctions are solely posited,\n",
    "    taken back into essence.\n",
    "  "
   ]
  },
  {
   "cell_type": "markdown",
   "metadata": {},
   "source": [
    "    But, from the other side, they are not posited\n",
    "    but are rather reflected into themselves;\n",
    "    negation as negation is equality with itself,\n",
    "    not in its other, not reflected into its non-being.\n"
   ]
  },
  {
   "cell_type": "markdown",
   "metadata": {},
   "source": [
    "\n",
    "    3. Now keeping in mind that the determination of reflection is\n",
    "    both immanently reflected reference and positedness as well,\n",
    "    its nature immediately becomes more transparent.\n"
   ]
  },
  {
   "cell_type": "markdown",
   "metadata": {},
   "source": [
    "\n",
    "    For, as positedness, the determination is negation as such,\n",
    "    a non-being as against another, namely,\n",
    "    as against the absolute immanent reflection or as against essence.\n",
    "    But as self-reference, it is reflected within itself.\n"
   ]
  },
  {
   "cell_type": "markdown",
   "metadata": {},
   "source": [
    "\n",
    "    This, the reflection of the determination,\n",
    "    and that positedness are distinct;\n",
    "    its positedness is rather the sublatedness of the determination\n",
    "    whereas its immanent reflectedness is its subsisting.\n"
   ]
  },
  {
   "cell_type": "markdown",
   "metadata": {},
   "source": [
    "\n",
    "    In so far as now the positedness is\n",
    "    at the same time immanent reflection,\n",
    "    the determinateness of the reflection is\n",
    "    the reference in it to its otherness.\n"
   ]
  },
  {
   "cell_type": "markdown",
   "metadata": {},
   "source": [
    "\n",
    "    It is not a determinateness that exists quiescent,\n",
    "    one which would be referred to an other\n",
    "    in such a way that the referred term\n",
    "    and its reference would be different,\n",
    "    each something existing in itself,\n",
    "    each a something that excludes its other\n",
    "    and its reference to this other from itself.\n"
   ]
  },
  {
   "cell_type": "markdown",
   "metadata": {},
   "source": [
    "\n",
    "    Rather, the determination of reflection is\n",
    "    within it the determinate side\n",
    "    and the reference of this determinate side as determinate,\n",
    "    that is, the reference to its negation.\n"
   ]
  },
  {
   "cell_type": "markdown",
   "metadata": {},
   "source": [
    "\n",
    "    Quality, through its reference, passes over into another;\n",
    "    its alteration begins in its reference.\n",
    "    The determination of reflection, on the contrary,\n",
    "    has taken its otherness back into itself.\n"
   ]
  },
  {
   "cell_type": "markdown",
   "metadata": {},
   "source": [
    "\n",
    "    It is positedness, negation which has however deflected\n",
    "    the reference to another into itself,\n",
    "    and negation which, equal to itself,\n",
    "    is the unity of itself and its other,\n",
    "    and only through this is an essentiality.\n"
   ]
  },
  {
   "cell_type": "markdown",
   "metadata": {},
   "source": [
    "\n",
    "    It is, therefore, positedness, negation,\n",
    "    but as reflection into itself it is at the same time\n",
    "    the sublatedness of this positedness,\n",
    "    infinite reference to itself.\n"
   ]
  }
 ],
 "metadata": {
  "kernelspec": {
   "display_name": "jupyter",
   "language": "python",
   "name": "python3"
  },
  "language_info": {
   "name": "python",
   "version": "3.11.2"
  }
 },
 "nbformat": 4,
 "nbformat_minor": 2
}
