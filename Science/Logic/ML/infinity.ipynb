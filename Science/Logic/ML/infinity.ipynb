{
 "cells": [
  {
   "cell_type": "markdown",
   "metadata": {},
   "source": [
    "# CHAPTER 3"
   ]
  },
  {
   "cell_type": "markdown",
   "metadata": {},
   "source": [
    "# C. INFINITY\n"
   ]
  },
  {
   "cell_type": "markdown",
   "metadata": {},
   "source": [
    "\n",
    "    The infinite\n",
    "    \n",
    "    (a) in simple determination,\n",
    "    is the affirmative as negation of the finite;\n",
    "    (b) but is thereby in alternating\n",
    "    determination with the infinite,\n",
    "    and is abstract, one-sided infinite;\n",
    "    (c) is the self-sublation of this infinite\n",
    "    and of the finite in one process.\n",
    "    This is the true infinite.\n"
   ]
  },
  {
   "cell_type": "markdown",
   "metadata": {},
   "source": [
    "FIXME: missing"
   ]
  },
  {
   "cell_type": "markdown",
   "metadata": {},
   "source": [
    "\n",
    "### a. The infinite in general\n"
   ]
  },
  {
   "cell_type": "markdown",
   "metadata": {},
   "source": [
    "\n",
    "    The infinite is the negation of negation, the affirmative,\n",
    "    being that has reinstated itself out of restrictedness.\n",
    "    The infinite is, in a more intense sense\n",
    "    than the first immediate being;\n",
    "    it is the true being;\n",
    "    the elevation above restriction.\n",
    "    At the mention of the infinite, soul and spirit light up,\n",
    "    for in the infinite the spirit is at home,\n",
    "    and not only abstractly;\n",
    "    rather, it rises to itself, to the light of its thinking,\n",
    "    its universality, its freedom.\n"
   ]
  },
  {
   "cell_type": "markdown",
   "metadata": {},
   "source": [
    "1. **Infinite as Affirmative Being**: The transcreation emphasizes that the infinite is an affirmative state, a result of overcoming negation.\n",
    "\n",
    "2. **Profound Existence of the Infinite**: It underlines that the infinite represents a deeper, truer form of being than mere initial existence.\n",
    "\n",
    "3. **Spiritual Resonance of the Infinite**: The translation captures the uplifting effect of the concept of the infinite on the soul and spirit.\n",
    "\n",
    "4. **Elevation and Enlightenment**: The text portrays the infinite as a state where the spirit rises to a higher level of awareness, universality, and freedom."
   ]
  },
  {
   "cell_type": "markdown",
   "metadata": {},
   "source": [
    "\n",
    "    What is first given with the concept of the infinite is this,\n",
    "    that in its being-in-itself existence is determined\n",
    "    as finite and transcends restriction.\n",
    "    It is the very nature of the finite\n",
    "    that it transcend itself,\n",
    "    that it negate its negation\n",
    "    and become infinite.\n",
    "    \n"
   ]
  },
  {
   "cell_type": "markdown",
   "metadata": {},
   "source": [
    "\n",
    "1. **Intrinsic Transcendence of the Finite**: The transcreation highlights the idea that the finite is intrinsically defined yet surpasses its own finite nature.\n",
    "\n",
    "2. **Self-Negation Leading to Infinity**: It emphasizes the process where the finite negates its own negation, resulting in its transformation into the infinite.\n",
    "\n",
    "3. **Fundamental Nature of the Finite**: The translation underscores that it is the essential nature of the finite to transcend itself, to evolve beyond its initial state."
   ]
  },
  {
   "cell_type": "markdown",
   "metadata": {},
   "source": [
    "    Consequently, the infinite does not stand\n",
    "    above the finite as something ready-made by itself,\n",
    "    as if the finite stood fixed outside or below it.\n",
    "    Nor is it we only, as a subjective reason,\n",
    "    who transcend the finite into the infinite,\n",
    "    as if, in saying that the infinite is a concept of reason\n",
    "    and that through reason we elevate ourselves above things temporal,\n",
    "    we did this without prejudice to the finite,\n",
    "    without this elevation (which remains external to the finite)\n",
    "    affecting it.\n",
    "    \n"
   ]
  },
  {
   "cell_type": "markdown",
   "metadata": {},
   "source": [
    "\n",
    "1. **Inseparable Connection of Finite and Infinite**: The transcreation emphasizes that the infinite is not a separate entity aloof from the finite.\n",
    "\n",
    "2. **Role of Human Reason**: It underlines that transcending the finite to reach the infinite is not solely an act of subjective reasoning.\n",
    "\n",
    "3. **Transformation Beyond Intellectual Exercise**: The translation suggests that the journey from the finite to the infinite involves a fundamental transformation of the finite itself.\n",
    "\n",
    "4. **Interlinked Existential Process**: The text portrays the process as an existential one, where the finite and infinite are integrally connected."
   ]
  },
  {
   "cell_type": "markdown",
   "metadata": {},
   "source": [
    "    In so far as the finite itself is being elevated to infinity,\n",
    "    it is not at all an alien force that does this for it;\n",
    "    it is rather its nature to refer itself to itself as restriction\n",
    "    (both restriction as such and as ought)\n",
    "    and to transcend this restriction,\n",
    "    or rather, in this self-reference,\n",
    "    to have negated the restriction\n",
    "    and gone above and beyond it.\n",
    "    \n"
   ]
  },
  {
   "cell_type": "markdown",
   "metadata": {},
   "source": [
    "\n",
    "1. **Inherent Nature of the Finite**: The transcreation emphasizes that the finite naturally possesses the capacity to elevate itself to the infinite.\n",
    "\n",
    "2. **Self-Referential Transcendence**: It highlights that the finite's transcendence of its limitations is a process of self-reference and self-negation.\n",
    "\n",
    "3. **Role of Restriction and Ought**: The translation elucidates that the finite's interaction with its own limitations (both as restriction and as the 'ought') is crucial in this process.\n",
    "\n",
    "4. **Natural Ascendance to the Infinite**: The text underscores that the finite's movement to the infinite is a natural progression, not influenced by external forces.\n"
   ]
  },
  {
   "cell_type": "markdown",
   "metadata": {},
   "source": [
    "    It is not in the sublation of the finite in general\n",
    "    that infinity in general comes to be,\n",
    "    but the finite is rather just this,\n",
    "    that through its nature it comes to be itself the infinite.\n",
    "    Infinity is its affirmative determination,\n",
    "    its vocation, what it truly is in itself.\n",
    "    \n"
   ]
  },
  {
   "cell_type": "markdown",
   "metadata": {},
   "source": [
    "\n",
    "1. **Finite’s Evolution into the Infinite**: The transcreation underlines that the finite naturally becomes the infinite, rather than the infinite being a mere negation of the finite.\n",
    "\n",
    "2. **Infinite as Affirmative Determination**: It emphasizes that the infinite is the positive realization and true essence of the finite.\n",
    "\n",
    "3. **Innate Nature of the Finite**: The translation points out that it is in the inherent nature or 'vocation' of the finite to transform into the infinite.\n",
    "\n",
    "4. **Unity of Finite and Infinite**: The text highlights the concept that infinity is not an external state but is integrally connected to the nature of the finite.\n"
   ]
  },
  {
   "cell_type": "markdown",
   "metadata": {},
   "source": [
    "    The finite has thus vanished into the infinite\n",
    "    and what is, is only the infinite.\n"
   ]
  },
  {
   "cell_type": "markdown",
   "metadata": {},
   "source": [
    "\n",
    "1. **Dissolution of the Finite**: The transcreation emphasizes the idea that the finite has entirely merged into the infinite.\n",
    "\n",
    "2. **Infinite as the Sole Reality**: It highlights that, according to Hegel, the only true existence or reality that remains is the infinite.\n",
    "\n",
    "3. **Transcendence of Finite Existence**: The translation underscores the concept that the essence of being transcends finite limitations to embody an infinite nature.\n",
    "\n",
    "4. **Ultimate Manifestation of Existence**: The text portrays the infinite as the final and true manifestation of existence, where the finite no longer exists as an independent entity."
   ]
  },
  {
   "cell_type": "markdown",
   "metadata": {},
   "source": [
    "### b. Alternating determination of finite and infinite\n"
   ]
  },
  {
   "cell_type": "markdown",
   "metadata": {},
   "source": [
    "\n",
    "    The infinite is;\n",
    "    in this immediacy it is at the same time\n",
    "    the negation of an other, of the finite.\n",
    "    And so, as existent and at the same time as the\n",
    "    non-being of an other,\n",
    "    it has fallen back into the category of the something,\n",
    "    of something determinate in general.\n",
    "    \n"
   ]
  },
  {
   "cell_type": "markdown",
   "metadata": {},
   "source": [
    "\n",
    "1. **Immediate Existence of the Infinite**: The transcreation emphasizes the immediate existence of the infinite in Hegel's philosophy.\n",
    "\n",
    "2. **Negation of the Finite**: It highlights that this immediate existence involves the negation of the finite, defining the infinite in relation to it.\n",
    "\n",
    "3. **Infinite as Something Determinate**: The translation suggests that through this process, the infinite, while being existent, also falls back into being a specific, determinate entity.\n",
    "\n",
    "4. **Dialectical Interpretation**: The text reflects Hegel's dialectical method, portraying the infinite as both an abstract concept and a concrete entity defined through its relationship with the finite."
   ]
  },
  {
   "cell_type": "markdown",
   "metadata": {},
   "source": [
    "    More precisely: the infinite is\n",
    "    the existence reflected into itself\n",
    "    which results from the mediating sublation\n",
    "    of determinateness in general\n",
    "    and is consequently posited as existence\n",
    "    distinct from its determinateness;\n",
    "    therefore, it has fallen back into\n",
    "    the category of something with a limit.\n",
    "    \n"
   ]
  },
  {
   "cell_type": "markdown",
   "metadata": {},
   "source": [
    "\n",
    "1. **Self-Reflective Nature of the Infinite**: The transcreation emphasizes the concept of the infinite as an existence that reflects into itself.\n",
    "\n",
    "2. **Sublation of Determinateness**: It highlights the process where the infinite emerges from transcending general determinateness.\n",
    "\n",
    "3. **Distinction from Determinateness**: The translation underlines that the infinite is positioned as distinct from its specific characteristics.\n",
    "\n",
    "4. **Re-entry into Limitation**: The text illustrates the paradox where, in becoming distinct, the infinite falls back into the category of something with a limit.\n"
   ]
  },
  {
   "cell_type": "markdown",
   "metadata": {},
   "source": [
    "    In accordance with this determinateness,\n",
    "    the finite stands over against\n",
    "    the infinite as real existence;\n",
    "    they thus remain outside each other,\n",
    "    standing in qualitative mutual reference;\n",
    "    the immediate being of the infinite\n",
    "    resurrects the being of its negation,\n",
    "    of the finite again, which seemed at first\n",
    "    to have vanished into the infinite.\n"
   ]
  },
  {
   "cell_type": "markdown",
   "metadata": {},
   "source": [
    "\n",
    "1. **Mutual Opposition of Finite and Infinite**: The transcreation highlights the oppositional relationship between the finite and the infinite, each standing as a distinct reality.\n",
    "\n",
    "2. **Qualitative Mutual Reference**: It emphasizes the qualitative relationship between the two, where each refers to and is defined in relation to the other.\n",
    "\n",
    "3. **Resurrection of the Finite**: The translation captures the idea that the immediate being of the infinite paradoxically reasserts the existence of the finite.\n",
    "\n",
    "4. **Dialectical Interplay**: The text reflects Hegel's dialectical method, showing the interconnected yet distinct nature of the finite and infinite."
   ]
  },
  {
   "cell_type": "markdown",
   "metadata": {},
   "source": [
    "\n",
    "    But the infinite and the finite are not\n",
    "    in these referential categories only;\n",
    "    the two sides are further determined in addition\n",
    "    to being as mere others to each other.\n",
    "    Namely, the finite is restriction posited as restriction;\n",
    "    it is existence posited with the determination\n",
    "    that it passes over into what is its in-itself\n",
    "    and becomes infinite.\n"
   ]
  },
  {
   "cell_type": "markdown",
   "metadata": {},
   "source": [
    "\n",
    "1. **Beyond Mere Opposition**: The transcreation emphasizes that the finite and the infinite are not just opposites; they possess deeper, intrinsic qualities.\n",
    "\n",
    "2. **Finite as Self-Aware Restriction**: It highlights that the finite is not only a limitation but is also self-aware of this nature and its implications.\n",
    "\n",
    "3. **Intrinsic Orientation Towards Infinity**: The translation underscores the finite's inherent tendency to transcend its own limitations and become infinite.\n",
    "\n",
    "4. **Evolution of Finite into Infinite**: The text portrays the finite's transition into the infinite as a natural evolution towards its true essence."
   ]
  },
  {
   "cell_type": "markdown",
   "metadata": {},
   "source": [
    "\n",
    "    Infinity is the nothing of the finite,\n",
    "    the in-itself that the latter ought to be,\n",
    "    but it is this at the same time\n",
    "    as reflected within itself,\n",
    "    as realized ought, as only\n",
    "    affirmative self-referring being.\n",
    "    In infinity we have the satisfaction\n",
    "    that all determinateness, alteration, all restriction\n",
    "    and the ought itself together with it,\n",
    "    have vanished, are sublated,\n",
    "    and the nothing of the finite is posited.\n"
   ]
  },
  {
   "cell_type": "markdown",
   "metadata": {},
   "source": [
    "\n",
    "1. **Infinity as Negation of the Finite**: The transcreation underscores that infinity represents the negation or absence of the finite.\n",
    "\n",
    "2. **Realized Potential of the Infinite**: It highlights that infinity is not just a negation but a reflection and realization of what the finite 'ought' to be.\n",
    "\n",
    "3. **Affirmative Self-Referring Being**: The translation illustrates that infinity is a self-contained, affirmative state, transcending the finite.\n",
    "\n",
    "4. **Satisfaction in Infinity**: The text conveys a sense of fulfillment in infinity, where limitations, changes, and the 'ought' of the finite are transcended."
   ]
  },
  {
   "cell_type": "markdown",
   "metadata": {},
   "source": [
    "\n",
    "    As this negation of the finite is\n",
    "    the being-in-itself determined which,\n",
    "    as negation of negation, is in itself affirmative.\n",
    "    Yet this affirmation is qualitatively\n",
    "    immediate self-reference, being;\n",
    "    and, because of this, the affirmative is led back\n",
    "    to the category of being that has\n",
    "    the finite confronting it as an other;\n",
    "    its negative nature is posited as existent negation,\n",
    "    and hence as first and immediate negation.\n",
    "    \n"
   ]
  },
  {
   "cell_type": "markdown",
   "metadata": {},
   "source": [
    "\n",
    "1. **Affirmative Nature of Finite Negation**: The transcreation emphasizes that the negation of the finite is, in essence, an affirmative being-in-itself.\n",
    "\n",
    "2. **Immediate Self-Reference**: It highlights the immediate and qualitative nature of this affirmation as a form of self-referential being.\n",
    "\n",
    "3. **Reconnection to Finite Being**: The translation illustrates that this affirmative state leads back to a category of being where the finite is still recognized as an 'other.'\n",
    "\n",
    "4. **Existent Negation of the Infinite**: The text points out that the negative aspect of the infinite is posited as an existent, primary form of negation.\n"
   ]
  },
  {
   "cell_type": "markdown",
   "metadata": {},
   "source": [
    "    The infinite is in this way burdened\n",
    "    with the opposition to the finite,\n",
    "    and this finite, as an other, remains a real existence\n",
    "    even though in its being-in-itself, in the infinite,\n",
    "    it is at the same time posited as sublated;\n",
    "    this infinite is that which is not finite:\n",
    "    a being in the determinateness of negation.\n",
    "    \n"
   ]
  },
  {
   "cell_type": "markdown",
   "metadata": {},
   "source": [
    "\n",
    "1. **Oppositional Burden of the Infinite**: The transcreation underscores that the infinite inherently bears the opposition to the finite.\n",
    "\n",
    "2. **Finite's Continued Real Existence**: It highlights that despite being transcended within the infinite, the finite continues to exist as a distinct reality.\n",
    "\n",
    "3. **Infinite as Non-Finite**: The translation focuses on defining the infinite as essentially what is not finite, emphasizing its existence in negation.\n",
    "\n",
    "4. **Determinateness of Negation**: The text illustrates that the infinite's essence is defined by its determined negation of the finite."
   ]
  },
  {
   "cell_type": "markdown",
   "metadata": {},
   "source": [
    "    Contrasted with the finite,\n",
    "    with the series of existent determinacies,\n",
    "    of realities,\n",
    "    the infinite is indeterminate emptiness,\n",
    "    the beyond of the finite,\n",
    "    whose being-in-itself is not in its existence\n",
    "    (which is something determinate).\n"
   ]
  },
  {
   "cell_type": "markdown",
   "metadata": {},
   "source": [
    "\n",
    "1. **Infinite as Indeterminate Emptiness**: The transcreation emphasizes the infinite's nature as an undefined, boundless emptiness in contrast to the finite's specific realities.\n",
    "\n",
    "2. **Infinite as Beyond of the Finite**: It highlights the concept of the infinite as a transcendent realm beyond the finite's series of realities.\n",
    "\n",
    "3. **Non-Determinate Nature of Infinite**: The translation points out that the infinite's essence does not reside in determinate existence, unlike the finite.\n",
    "\n",
    "4. **Transcendence Over Finite Determinacies**: The text illustrates that the infinite surpasses the finite's specific, determinate characteristics."
   ]
  },
  {
   "cell_type": "markdown",
   "metadata": {},
   "source": [
    "\n",
    "    As thus posited over against the finite,\n",
    "    the two connected by the qualitative mutual reference of others,\n",
    "    the infinite is to be called the bad infinite,\n",
    "    the infinite of the understanding,\n",
    "    for which it counts as the highest,\n",
    "    the absolute truth.\n",
    "    \n"
   ]
  },
  {
   "cell_type": "markdown",
   "metadata": {},
   "source": [
    "\n",
    "1. **Oppositional Infinite as 'Bad Infinite'**: The transcreation clarifies that Hegel refers to the infinite, as simply opposed to the finite, as the 'bad infinite.'\n",
    "\n",
    "2. **Understanding's Perspective**: It emphasizes that this concept of the infinite is the perspective of the 'understanding,' which sees it as the highest truth.\n",
    "\n",
    "3. **Limitation of the 'Bad Infinite'**: The translation points out the limitations in this view of the infinite, as it fails to capture its fuller, more dynamic essence.\n",
    "\n",
    "4. **Simplistic View of Infinity**: The text underscores that the 'bad infinite' represents a linear, simplistic understanding of infinity, not acknowledging its deeper interconnectedness with the finite."
   ]
  },
  {
   "cell_type": "markdown",
   "metadata": {},
   "source": [
    "    The understanding believes that\n",
    "    it has attained satisfaction\n",
    "    in the reconciliation of truth\n",
    "    while it is in fact entangled in\n",
    "    unreconciled, unresolved, absolute contradictions.\n",
    "    And it is these contradictions,\n",
    "    into which it falls on every side whenever\n",
    "    it embarks on the application and explication\n",
    "    of these categories that belong to it,\n",
    "    that must make it conscious of the fact.\n"
   ]
  },
  {
   "cell_type": "markdown",
   "metadata": {},
   "source": [
    "\n",
    "1. **Understanding's False Satisfaction**: The transcreation emphasizes the understanding's mistaken belief in having reconciled with truth.\n",
    "\n",
    "2. **Entanglement in Contradictions**: It highlights the deep contradictions the understanding faces in its pursuit of truth.\n",
    "\n",
    "3. **Exposure Through Application**: The translation points out that these contradictions become apparent when the understanding tries to apply its categories.\n",
    "\n",
    "4. **Consciousness of Limitations**: The text suggests that these contradictions should lead the understanding to become aware of its own limitations."
   ]
  },
  {
   "cell_type": "markdown",
   "metadata": {},
   "source": [
    "\n",
    "    This contradiction is present in the very fact\n",
    "    that the infinite remains over against the finite,\n",
    "    with the result that there are two determinacies.\n",
    "    There are two worlds, one infinite and one finite,\n",
    "    and in their connection the infinite is only\n",
    "    the limit of the finite and thus only a determinate,\n",
    "    itself finite infinite.\n"
   ]
  },
  {
   "cell_type": "markdown",
   "metadata": {},
   "source": [
    "\n",
    "1. **Inherent Contradiction in Infinite-Finite Relation**: The transcreation underscores the contradiction of the infinite being opposed to the finite.\n",
    "\n",
    "2. **Coexistence of Two Realms**: It emphasizes the existence of two separate 'worlds' – the infinite and the finite.\n",
    "\n",
    "3. **Infinite as Finite Limit**: The translation points out the paradox where the infinite, in relation to the finite, becomes just another finite limit.\n",
    "\n",
    "4. **Conceptual Problem of 'Finite Infinite'**: The text highlights the conceptual issue in treating the infinite as a bounded entity, a 'finite infinite.'\n"
   ]
  },
  {
   "cell_type": "markdown",
   "metadata": {},
   "source": [
    "\n",
    "    This contradiction develops its content into more explicit forms.\n",
    "    The finite is the real existence which persists as such\n",
    "    even when it has gone over into its non-being, the infinite.\n",
    "    As we have seen, this infinite has for its determinateness,\n",
    "    over against the finite,\n",
    "    only the first, immediate negation,\n",
    "    just as the finite, as negated,\n",
    "    has over against this negation\n",
    "    only the meaning of an other\n",
    "    and is, therefore, still a something.\n",
    "    \n"
   ]
  },
  {
   "cell_type": "markdown",
   "metadata": {},
   "source": [
    "\n",
    "1. **Development of Contradiction**: The transcreation emphasizes how the contradiction between the finite and infinite becomes more explicitly defined.\n",
    "\n",
    "2. **Persistence of the Finite**: It highlights that the finite continues to exist, even as it transitions into the infinite.\n",
    "\n",
    "3. **Infinite as Immediate Negation**: The translation illustrates that the infinite's primary characteristic in relation to the finite is immediate negation.\n",
    "\n",
    "4. **Finite as a Distinct 'Other'**: The text underscores that the finite, even when negated, maintains its identity as an 'other' against the infinite.\n"
   ]
  },
  {
   "cell_type": "markdown",
   "metadata": {},
   "source": [
    "    When, therefore, the understanding,\n",
    "    elevating itself above this finite world,\n",
    "    rises to what is the highest for it,\n",
    "    to the infinite,\n",
    "    the finite world remains for it\n",
    "    as something on this side here,\n",
    "    and, thus posited only above the finite,\n",
    "    the infinite is separated from the finite\n",
    "    and, for the same reason,\n",
    "    the finite from the infinite:\n",
    "    each is placed in a different location,\n",
    "    the finite as existence here,\n",
    "    and the infinite, although the being-in-itself of the finite,\n",
    "    there as a beyond, at a nebulous, inaccessible distance\n",
    "    outside which there stands, enduring, the finite.\n"
   ]
  },
  {
   "cell_type": "markdown",
   "metadata": {},
   "source": [
    "\n",
    "1. **Understanding's Elevation to the Infinite**: The transcreation emphasizes the understanding's attempt to transcend the finite and reach the infinite.\n",
    "\n",
    "2. **Separation of Finite and Infinite**: It highlights the resultant separation, placing the finite and infinite in distinct realms.\n",
    "\n",
    "3. **Finite as Immediate Existence**: The translation points out that the finite is seen as existing in the immediate, tangible world.\n",
    "\n",
    "4. **Infinite as Distant Beyond**: The text describes the infinite as being perceived as a distant, nebulous realm, despite its intrinsic connection to the finite.\n",
    "\n",
    "5. **Critique of Dualistic View**: The aim is to present Hegel's critique of the understanding's dualistic separation of the finite and infinite."
   ]
  },
  {
   "cell_type": "markdown",
   "metadata": {},
   "source": [
    "\n",
    "    As thus separated, they are just as much\n",
    "    essentially connected with each other,\n",
    "    through the very negation that divides them.\n",
    "    This negation connecting them\n",
    "    (these somethings reflected into themselves)\n",
    "    is the common limit of each over against the other;\n",
    "    and that, too, in such a way that each\n",
    "    does not merely have this limit in it over against the other,\n",
    "    but the negation is rather the in-itselfness of each;\n",
    "    each thus has for itself, in its separation\n",
    "    from the other, the limit in it.\n"
   ]
  },
  {
   "cell_type": "markdown",
   "metadata": {},
   "source": [
    "\n",
    "1. **Essential Connection Despite Separation**: The transcreation emphasizes the deep, essential connection between the finite and the infinite, even in their separation.\n",
    "\n",
    "2. **Negation as Common Limit**: It highlights that the negation which divides them also serves as a common boundary, linking them together.\n",
    "\n",
    "3. **Intrinsic Nature of Negation**: The translation points out that this negation is not merely an external boundary but an intrinsic part of each entity's essence.\n",
    "\n",
    "4. **Internalization of the Limit**: The text shows that in their separation, both the finite and the infinite internalize this limit or negation."
   ]
  },
  {
   "cell_type": "markdown",
   "metadata": {},
   "source": [
    "\n",
    "    But the limit is the first negation;\n",
    "    both are thus limited, finite, in themselves.\n",
    "    Yet, as each affirmatively refers itself to itself,\n",
    "    each is also the negation of its limit;\n",
    "    each thus immediately repels\n",
    "    the negation from itself as its non-being,\n",
    "    and, qualitatively severed from it,\n",
    "    posits it as an other being outside it:\n",
    "    the finite posits its non-being as this infinite,\n",
    "    and the infinite likewise the finite.\n"
   ]
  },
  {
   "cell_type": "markdown",
   "metadata": {},
   "source": [
    "\n",
    "1. **Limit as First Negation**: The transcreation emphasizes that the limit acts as the first negation, making both entities inherently finite.\n",
    "\n",
    "2. **Self-Affirmation and Negation of Limit**: It highlights that by affirmatively referring to themselves, both the finite and infinite negate their own limits.\n",
    "\n",
    "3. **Repulsion of Non-Being**: The translation illustrates that each entity repels this negation, viewing it as its non-being, and separates itself from it.\n",
    "\n",
    "4. **Projection as 'Other'**: The text shows that this repulsion leads to the projection of the negation as an 'other' outside each entity."
   ]
  },
  {
   "cell_type": "markdown",
   "metadata": {},
   "source": [
    "\n",
    "    It is readily conceded that the\n",
    "    finite passes over into the infinite necessarily\n",
    "    (that is, through its determination)\n",
    "    and is thereby elevated to what is its in-itself,\n",
    "    for while the finite is indeed determined as subsistent existence,\n",
    "    it is at the same time also a null in itself\n",
    "    and therefore destined to self-dissolution;\n",
    "    whereas the infinite, although burdened with negation and limit,\n",
    "    is equally also determined as the existent in-itself,\n",
    "    so that this abstraction of self-referring affirmation is\n",
    "    what constitutes its determination,\n",
    "    and hence finite existence is not present in it.\n"
   ]
  },
  {
   "cell_type": "markdown",
   "metadata": {},
   "source": [
    "\n",
    "1. **Inevitable Transition of Finite to Infinite**: The transcreation emphasizes the widely accepted view of the finite's necessary transition into the infinite.\n",
    "\n",
    "2. **Finite's Dual Nature**: It highlights that the finite is both a subsisting existence and a nullity destined for self-dissolution.\n",
    "\n",
    "3. **Infinite as Existent 'In-Itself'**: The translation underlines that the infinite is defined as the existent 'in-itself,' distinguished by self-affirmation.\n",
    "\n",
    "4. **Self-Referring Affirmation of the Infinite**: The text points out that the infinite's identity is constituted by its self-referential affirmation."
   ]
  },
  {
   "cell_type": "markdown",
   "metadata": {},
   "source": [
    "\n",
    "    But it has been shown that the infinite itself\n",
    "    attains affirmative being only by the mediation of negation,\n",
    "    as negation of negation,\n",
    "    and that when its affirmation thus attained is\n",
    "    taken as just simple, qualitative being,\n",
    "    the negation contained in it is demoted\n",
    "    to simple immediate negation\n",
    "    and, therefore, to determinateness and limit;\n",
    "    and these, then, are excluded from the infinite\n",
    "    as contradicting its in-itself;\n",
    "    they are posited as not belonging to it\n",
    "    but rather as opposed to its in-itself,\n",
    "    as the finite.\n",
    "    \n"
   ]
  },
  {
   "cell_type": "markdown",
   "metadata": {},
   "source": [
    "\n",
    "1. **Infinite's Affirmation via Negation**: The transcreation emphasizes that the infinite achieves its affirmative state through negating negation.\n",
    "\n",
    "2. **Reduction of Negation to Determinateness**: It highlights that in its simplest form, the negation within the infinite is demoted to immediate negation, seen as determinateness and limit.\n",
    "\n",
    "3. **Exclusion of Limits from the Infinite**: The translation points out that these limiting aspects are viewed as contradictory to the infinite's true essence.\n",
    "\n",
    "4. **Finite as Opposed to Infinite's In-Itself**: The text illustrates that the finite is positioned in contrast to the infinite, embodying the limitations and determinacies that the infinite surpasses.\n"
   ]
  },
  {
   "cell_type": "markdown",
   "metadata": {},
   "source": [
    "    Since each is in it and through its determination\n",
    "    the positing of its other, the two are inseparable.\n",
    "    But this unity rests hidden in their qualitative otherness;\n",
    "    it is their inner unity, one that lies only at their base.\n"
   ]
  },
  {
   "cell_type": "markdown",
   "metadata": {},
   "source": [
    "\n",
    "1. **Inseparable Link through Determination**: The transcreation emphasizes that the finite and infinite are inseparably interconnected through their mutual determinations.\n",
    "\n",
    "2. **Hidden Unity Amidst Qualitative Otherness**: It highlights the concealed unity that underlies their qualitative differences.\n",
    "\n",
    "3. **Inner Unity at the Base**: The translation points out that this unity is an inner, foundational aspect of their relationship, not immediately apparent.\n",
    "\n",
    "4. **Contrast with Apparent Distinctness**: The text contrasts this hidden unity with the visible distinctness and opposition of the finite and infinite.\n"
   ]
  },
  {
   "cell_type": "markdown",
   "metadata": {},
   "source": [
    "\n",
    "    The manner of the appearance of this unity has thereby been defined.\n",
    "    The unity is posited in existence as a turning over\n",
    "    or transition of the finite into the infinite, and vice-versa;\n",
    "    so that the infinite only emerges in the finite,\n",
    "    and the finite in the infinite,\n",
    "    the other in the other;\n",
    "    that is to say, each arises in the other\n",
    "    independently and immediately,\n",
    "    and their connection is only an external one.\n"
   ]
  },
  {
   "cell_type": "markdown",
   "metadata": {},
   "source": [
    "\n",
    "1. **Transformation and Transition**: The transcreation emphasizes the ongoing process of the finite turning into the infinite and vice versa.\n",
    "\n",
    "2. **Mutual Emergence**: It highlights how the infinite and finite emerge within each other, each manifesting in the other.\n",
    "\n",
    "3. **Independence and Immediacy**: The translation illustrates the spontaneous and independent nature of their mutual emergence.\n",
    "\n",
    "4. **Perceived External Connection**: The text points out that despite their intertwined relationship, their connection is often seen as external rather than intrinsic."
   ]
  },
  {
   "cell_type": "markdown",
   "metadata": {},
   "source": [
    "\n",
    "    The process of their transition\n",
    "    has the following, detailed shape.\n",
    "    We have the finite passing over into the infinite.\n",
    "    This passing over appears as an external doing.\n",
    "    In this emptiness beyond the finite, what arises?\n",
    "    What is there of positive in it?\n",
    "    On account of the inseparability of the infinite and the finite\n",
    "    (or because this infinite, which stands apart, is itself restricted),\n",
    "    the limit arises.\n"
   ]
  },
  {
   "cell_type": "markdown",
   "metadata": {},
   "source": [
    "\n",
    "1. **Finite's Transition to Infinite**: The transcreation focuses on the process of the finite passing over into the infinite, appearing as an external action.\n",
    "\n",
    "2. **Emergence of the Limit**: It highlights the emergence of the limit within the infinite, due to the inseparability of the infinite and finite.\n",
    "\n",
    "3. **Infinite's Inherent Restriction**: The translation underscores that even the infinite, perceived as limitless, inherently contains a form of limitation.\n",
    "\n",
    "4. **Redefinition of the Limit**: The text illustrates that the concept of the limit is not abolished but transformed in the transition from finite to infinite.\n"
   ]
  },
  {
   "cell_type": "markdown",
   "metadata": {},
   "source": [
    "\n",
    "    The infinite has vanished and the other,\n",
    "    the finite, has stepped in.\n",
    "    But this stepping in of the finite appears\n",
    "    as an event external to the infinite,\n",
    "    and the new limit as something that does not arise\n",
    "    out of the infinite itself but is likewise found given.\n",
    "    \n"
   ]
  },
  {
   "cell_type": "markdown",
   "metadata": {},
   "source": [
    "\n",
    "1. **Vanishing of the Infinite**: The transcreation emphasizes the concept of the infinite disappearing and being replaced by the finite.\n",
    "\n",
    "2. **Finite's External Emergence**: It highlights the perception that the finite's emergence is an external event, separate from the infinite.\n",
    "\n",
    "3. **Externally Imposed New Limit**: The translation points out that the new limit arising with the finite is seen as externally given, not derived from the infinite.\n",
    "\n",
    "4. **Dichotomy in Perception**: The text illustrates the dichotomous view that separates the processes of the infinite and finite.\n"
   ]
  },
  {
   "cell_type": "markdown",
   "metadata": {},
   "source": [
    "    And with this we are back at the previous determination,\n",
    "    which has been sublated in vain.\n",
    "    This new limit, however, is itself only\n",
    "    something to be sublated or transcended.\n",
    "    And so there arises again the emptiness, the nothing,\n",
    "    in which we find again the said determination,\n",
    "    and so forth to infinity.\n"
   ]
  },
  {
   "cell_type": "markdown",
   "metadata": {},
   "source": [
    "\n",
    "1. **Cyclical Return to Previous Determination**: The transcreation emphasizes the recurring return to a previously sublated determination.\n",
    "\n",
    "2. **New Limit as Transitory**: It highlights that each new limit is itself destined to be transcended or sublated.\n",
    "\n",
    "3. **Recurring Emergence of Emptiness**: The translation points out the repeated emergence of 'nothingness' or emptiness with each cycle.\n",
    "\n",
    "4. **Endless Progression to Infinity**: The text illustrates the infinite progression that results from this continuous cycle of transcending and returning.\n"
   ]
  },
  {
   "cell_type": "markdown",
   "metadata": {},
   "source": [
    "\n",
    "    We have before us the alternating determination\n",
    "    of the finite and the infinite;\n",
    "    the finite is finite only with reference\n",
    "    to the ought or the infinite,\n",
    "    and the infinite is only infinite with reference to the finite.\n",
    "    The two are inseparable and at the same time\n",
    "    absolutely other with respect to each other;\n",
    "    each has in it the other of itself;\n",
    "    each is thus the unity of itself and its other,\n",
    "    and, in its determinateness not to be\n",
    "    what itself and what its other is:\n",
    "    it is existence.\n"
   ]
  },
  {
   "cell_type": "markdown",
   "metadata": {},
   "source": [
    "\n",
    "1. **Mutual Dependence of Finite and Infinite**: The transcreation underscores the interdependent relationship between the finite and the infinite.\n",
    "\n",
    "2. **Inseparability Yet Distinctness**: It highlights that while they are inseparable, they are also absolutely distinct from each other.\n",
    "\n",
    "3. **Unity of Opposites**: The translation illustrates that each contains the essence of its opposite, forming a unity of itself and its other.\n",
    "\n",
    "4. **Existence as a Paradoxical Nature**: The text depicts existence as a paradox where each entity is both itself and its opposite."
   ]
  },
  {
   "cell_type": "markdown",
   "metadata": {},
   "source": [
    "\n",
    "    This alternating determination of self-negating\n",
    "    and of negating the negating is what passes\n",
    "    as the progress to infinity,\n",
    "    which is accepted in so many shapes and applications\n",
    "    as an unsurpassable ultimate at which thought,\n",
    "    having reached this “and so on to infinity,”\n",
    "    has usually achieved its end.\n",
    "    \n"
   ]
  },
  {
   "cell_type": "markdown",
   "metadata": {},
   "source": [
    "\n",
    "1. **Self-Negating Cycle**: The transcreation focuses on the continuous cycle of self-negation and negating the negation as a pathway to infinity.\n",
    "\n",
    "2. **Perception of Infinite Progression**: It highlights how this progression is often accepted as the ultimate endpoint in many intellectual contexts.\n",
    "\n",
    "3. **Critique of Conventional Understanding**: The translation critiques the common perception that views this \"and so on to infinity\" as the final stage of thought.\n",
    "\n",
    "4. **Limitation of Traditional View**: The text points out that this traditional understanding of infinity is limited and fails to capture the depth of the dialectical process.\n"
   ]
  },
  {
   "cell_type": "markdown",
   "metadata": {},
   "source": [
    "    This progress breaks out wherever relative determinations are\n",
    "    pressed to the point of opposition, so that,\n",
    "    though in inseparable unity,\n",
    "    each is nevertheless attributed an independent existence\n",
    "    over against the other.\n",
    "    This progress is therefore the contradiction\n",
    "    which is not resolved but is rather always\n",
    "    pronounced simply as present.\n"
   ]
  },
  {
   "cell_type": "markdown",
   "metadata": {},
   "source": [
    "\n",
    "1. **Opposition in Relative Determinations**: The transcreation emphasizes the emergence of opposition when conceptual opposites are pushed to extremes.\n",
    "\n",
    "2. **Independent Existence of Opposites**: It highlights the perception of these opposites as independently existing in contrast to each other.\n",
    "\n",
    "3. **Unresolved Contradiction in Progress**: The translation points out that this infinite progression embodies an unresolved contradiction that is continuously present.\n",
    "\n",
    "4. **Continual Assertion of Conflict**: The text illustrates that this contradiction is not resolved but is consistently acknowledged and maintained."
   ]
  },
  {
   "cell_type": "markdown",
   "metadata": {},
   "source": [
    "\n",
    "    What we have before us is an abstract transcending\n",
    "    which remains incomplete because the transcending\n",
    "    itself has not been transcended.\n",
    "    Before us we have the infinite;\n",
    "    of course, this infinite is transcended,\n",
    "    for another limit is posited,\n",
    "    but just because of that only a return\n",
    "    is instead made back to the finite.\n",
    "    \n"
   ]
  },
  {
   "cell_type": "markdown",
   "metadata": {},
   "source": [
    "\n",
    "1. **Incomplete Abstract Transcending**: The transcreation emphasizes that the process of transcending discussed by Hegel is incomplete, as it does not transcend itself.\n",
    "\n",
    "2. **Cyclical Return to the Finite**: It highlights the cycle where each act of transcending is followed by the establishment of a new limit, leading back to the finite.\n",
    "\n",
    "3. **Failure to Achieve True Infinity**: The translation points out that this process fails to reach a true state of infiniteness, as it is constantly bounded by new limits.\n",
    "\n",
    "4. **Flaw in Abstract Concept of Transcendence**: The text illustrates the inherent flaw in this abstract notion of transcendence, which fails to escape the finite-infinite cycle.\n"
   ]
  },
  {
   "cell_type": "markdown",
   "metadata": {},
   "source": [
    "    This bad infinite is in itself\n",
    "    the same as the perpetual ought;\n",
    "    it is indeed the negation of the finite,\n",
    "    but in truth it is unable to free itself from it;\n",
    "    the finite constantly resurfaces in it as its other,\n",
    "    since this infinite only is with reference to the finite,\n",
    "    which is its other.\n",
    "    The progress to infinity is\n",
    "    therefore only repetitious monotony,\n",
    "    the one and the same tedious\n",
    "    alternation of this finite and infinite.\n"
   ]
  },
  {
   "cell_type": "markdown",
   "metadata": {},
   "source": [
    "\n",
    "1. **'Bad Infinite' as Perpetual 'Ought'**: The transcreation underlines the notion of the 'bad infinite' as analogous to an unfulfilled 'ought.'\n",
    "\n",
    "2. **Inability to Escape the Finite**: It emphasizes that this version of the infinite is intrinsically unable to free itself from the finite.\n",
    "\n",
    "3. **Finite as the Constant 'Other'**: The translation highlights the persistent reappearance of the finite within the 'bad infinite.'\n",
    "\n",
    "4. **Repetitive Monotony of Progress**: The text depicts the journey towards this infinite as a dull and repetitive cycle, lacking true progression.\n",
    "\n",
    "5. **Tedious Alternation**: The aim is to present the 'bad infinite' as a tedious alternation between the finite and infinite, lacking depth and transcendence."
   ]
  },
  {
   "cell_type": "markdown",
   "metadata": {},
   "source": [
    "\n",
    "    The infinity of the infinite progress\n",
    "    remains burdened by the finite as such,\n",
    "    is thereby restricted, and is itself finite.\n",
    "    In fact, however, it is thereby posited as\n",
    "    the unity of the finite and the infinite.\n",
    "    \n"
   ]
  },
  {
   "cell_type": "markdown",
   "metadata": {},
   "source": [
    "\n",
    "1. **Finite Burden on Infinite Progress**: The transcreation emphasizes that the infinite progress is limited by its ongoing relationship with the finite.\n",
    "\n",
    "2. **Finite Nature of the Infinite**: It highlights the irony that the infinite, burdened by the finite, becomes finite itself.\n",
    "\n",
    "3. **Unity of Finite and Infinite**: The translation underlines that this scenario actually represents the unity of the finite and the infinite.\n",
    "\n",
    "4. **Synthesis in Infinite Progress**: The text suggests that infinite progress involves a synthesis of finitude and infinitude."
   ]
  },
  {
   "cell_type": "markdown",
   "metadata": {},
   "source": [
    "    Only, this unity is not reflected upon.\n",
    "    Yet it alone rouses the finite in the infinite,\n",
    "    and the infinite in the finite;\n",
    "    it is, so to speak, the impulse\n",
    "    driving the infinite progress.\n"
   ]
  },
  {
   "cell_type": "markdown",
   "metadata": {},
   "source": [
    "\n",
    "1. **Unreflected Unity**: The transcreation emphasizes the often overlooked but fundamental unity between the finite and the infinite.\n",
    "\n",
    "2. **Mutual Animation of Finite and Infinite**: It highlights how this unity enlivens the finite within the infinite, and vice versa.\n",
    "\n",
    "3. **Driving Force of Infinite Progress**: The translation portrays this unity as the impulse or driving force behind the notion of infinite progress.\n",
    "\n",
    "4. **Core of Continuous Cycle**: The text suggests that this unity is at the heart of the continuous cycle toward infinity.\n"
   ]
  },
  {
   "cell_type": "markdown",
   "metadata": {},
   "source": [
    "    This progress is the outside of this unity\n",
    "    at which representation remains fixated;\n",
    "    fixated at that perennial repetition\n",
    "    of one and the same alternation;\n",
    "    at the empty unrest of a progression\n",
    "    across the limit towards the infinite\n",
    "    which, in this infinity, finds a new limit\n",
    "    but is just as unable to halt at it\n",
    "    as it is at the infinite.\n",
    "    \n"
   ]
  },
  {
   "cell_type": "markdown",
   "metadata": {},
   "source": [
    "\n",
    "1. **Fixation on External Progress**: The transcreation emphasizes the fixation on the external aspect of infinite progress, overlooking its deeper unity.\n",
    "\n",
    "2. **Perennial Repetition**: It highlights the endless repetition and alternation between finite and infinite in this perception of progress.\n",
    "\n",
    "3. **Empty Unrest of Progression**: The translation describes the restless and empty nature of this progression towards infinity, continually encountering new limits.\n",
    "\n",
    "4. **Inability to Find an Endpoint**: The text points out that this type of progress is unable to find a true halt, neither at new limits nor in the infinite.\n"
   ]
  },
  {
   "cell_type": "markdown",
   "metadata": {},
   "source": [
    "    This infinite has the rigid determination\n",
    "    of a beyond that cannot be attained,\n",
    "    for the very reason that it ought not be attained,\n",
    "    since the determinateness of the beyond,\n",
    "    of an existent negation, has not been let go.\n",
    "    \n"
   ]
  },
  {
   "cell_type": "markdown",
   "metadata": {},
   "source": [
    "\n",
    "1. **Infinite as Unattainable 'Beyond'**: The transcreation emphasizes the concept of the infinite as a 'beyond' that is fundamentally unattainable.\n",
    "\n",
    "2. **Reason for Unattainability**: It highlights that this unattainability is due to the inherent nature of the 'beyond' as an existent negation.\n",
    "\n",
    "3. **Rigid Determination of the Infinite**: The translation points out the rigid determination of this infinite, defined by what it negates.\n",
    "\n",
    "4. **Limitation in Understanding**: The text suggests that this perspective on the infinite reveals a limited understanding, viewing it as a static entity rather than a dynamic process.\n"
   ]
  },
  {
   "cell_type": "markdown",
   "metadata": {},
   "source": [
    "    In this determination, the infinite has\n",
    "    the finite as a this-side over against it;\n",
    "    a finite that is likewise unable\n",
    "    to raise itself up to the infinite\n",
    "    just because it has this determination of an other,\n",
    "    that is, of an existence that perennially\n",
    "    regenerates itself in that beyond\n",
    "    precisely by being different from it.\n"
   ]
  },
  {
   "cell_type": "markdown",
   "metadata": {},
   "source": [
    "\n",
    "1. **Infinite with Finite as Opposing 'This-Side'**: The transcreation emphasizes the infinite having the finite as its contrasting 'this-side.'\n",
    "\n",
    "2. **Finite's Inability to Transcend**: It highlights the finite's inherent inability to rise to the level of the infinite due to its nature as the 'other.'\n",
    "\n",
    "3. **Perennial Regeneration of the Finite**: The translation points out the continuous self-regeneration of the finite in opposition to the infinite.\n",
    "\n",
    "4. **Inherent Difference as Barrier**: The text illustrates that the finite's distinctness from the infinite acts as a barrier to their convergence.\n"
   ]
  },
  {
   "cell_type": "markdown",
   "metadata": {},
   "source": [
    "### c. Affirmative infinity\n"
   ]
  },
  {
   "cell_type": "markdown",
   "metadata": {},
   "source": [
    "\n",
    "    In this reciprocal determination of the finite and the infinite\n",
    "    alternating back and forth as just indicated,\n",
    "    the truth of these two is already implicitly present in itself,\n",
    "    and all that is needed is to take up what is there.\n",
    "    This back and forth movement constitutes the external realization\n",
    "    of the concept in which the content of the latter is posited,\n",
    "    but externally, as a falling out of the two;\n",
    "    all that is needed is the comparing of these two different moments\n",
    "    in which the unity is given which the concept itself gives.\n",
    "    \n"
   ]
  },
  {
   "cell_type": "markdown",
   "metadata": {},
   "source": [
    "\n",
    "1. **Dynamic Relationship of Finite and Infinite**: The transcreation emphasizes the constant alternation and interplay between the finite and the infinite.\n",
    "\n",
    "2. **External Manifestation of Conceptual Unity**: It highlights that this movement is the external realization of a deeper conceptual unity.\n",
    "\n",
    "3. **Implicit Presence of Unity**: The translation points out that the truth of this unity is already implicitly present in the interaction of the finite and infinite.\n",
    "\n",
    "4. **Task of Recognizing Unity**: The text suggests that understanding 'affirmative infinity' involves recognizing and drawing out this inherent unity.\n"
   ]
  },
  {
   "cell_type": "markdown",
   "metadata": {},
   "source": [
    "    “Unity of the finite and the infinite”\n",
    "    (as has often been already noted\n",
    "    but must especially be kept in mind at this juncture)\n",
    "    is the uneven expression for the unity as it is in truth;\n",
    "    but also the removal of this uneven determination must be\n",
    "    found in the externalization of the concept that lies ahead of us.\n"
   ]
  },
  {
   "cell_type": "markdown",
   "metadata": {},
   "source": [
    "\n",
    "1. **Critique of Simplistic Expression**: The transcreation emphasizes Hegel’s critique of the phrase \"Unity of the finite and the infinite\" as an inadequate representation of the true unity.\n",
    "\n",
    "2. **Need for Deeper Understanding**: It highlights the necessity to transcend this uneven determination to grasp the actual nature of the unity.\n",
    "\n",
    "3. **Externalization of the Concept**: The translation points out that a deeper understanding of this unity lies in exploring how the concept manifests externally.\n",
    "\n",
    "4. **Beyond Simple Merging**: The text suggests that the true unity of the finite and infinite involves more than a straightforward combination of the two."
   ]
  },
  {
   "cell_type": "markdown",
   "metadata": {},
   "source": [
    "\n",
    "    Taken in their first, only immediate determination,\n",
    "    the infinite is the transcending of the finite;\n",
    "    according to its determination, it is the negation of the finite;\n",
    "    the finite, for its part, is only that which must be transcended,\n",
    "    the negation in it of itself, and this is the infinite.\n",
    "    \n"
   ]
  },
  {
   "cell_type": "markdown",
   "metadata": {},
   "source": [
    "\n",
    "1. **Infinite as Transcending Finite**: The transcreation emphasizes the initial definition of the infinite as the act of transcending the finite.\n",
    "\n",
    "2. **Negation as Essence of Infinite**: It highlights that the infinite's fundamental characteristic is the negation of the finite.\n",
    "\n",
    "3. **Finite as Necessitating Transcendence**: The translation points out that the finite's primary trait is being something that must be transcended, inherently pointing towards the infinite.\n",
    "\n",
    "4. **Interconnected Definitions**: The text illustrates how these initial definitions of the finite and infinite reveal their interrelated nature."
   ]
  },
  {
   "cell_type": "markdown",
   "metadata": {},
   "source": [
    "    In each, therefore, there is the determinateness of the other,\n",
    "    whereas, according to the viewpoint of the infinite progression,\n",
    "    the two should be mutually excluded\n",
    "    and would have to follow one another only alternately;\n",
    "    neither can be posited and grasped without the other,\n",
    "    the infinite without the finite, the finite without the infinite.\n",
    "    \n"
   ]
  },
  {
   "cell_type": "markdown",
   "metadata": {},
   "source": [
    "\n",
    "1. **Mutual Determinateness**: The transcreation emphasizes that each of the concepts, the finite and the infinite, contains aspects of the other.\n",
    "\n",
    "2. **Challenge to Infinite Progression Viewpoint**: It highlights how this observation contradicts the traditional viewpoint of infinite progression, where the finite and infinite are seen as mutually exclusive.\n",
    "\n",
    "3. **Inseparability of Finite and Infinite**: The translation underscores the inseparability of the finite and infinite, each requiring the other for its full conceptualization.\n",
    "\n",
    "4. **Integrated Relationship**: The text suggests a more integrated relationship between the finite and infinite than mere alternation."
   ]
  },
  {
   "cell_type": "markdown",
   "metadata": {},
   "source": [
    "    In saying what the infinite is, namely the negation of the finite,\n",
    "    the finite itself is said also;\n",
    "    it cannot be avoided in the determination of the infinite.\n",
    "    One need only know what is being said in order to\n",
    "    find the determination of the finite in the infinite.\n"
   ]
  },
  {
   "cell_type": "markdown",
   "metadata": {},
   "source": [
    "\n",
    "1. **Infinite Defined Through Finite**: The transcreation emphasizes that the definition of the infinite inherently involves the finite.\n",
    "\n",
    "2. **Inevitability of Finite in Infinite's Determination**: It highlights the impossibility of avoiding the finite when determining the infinite.\n",
    "\n",
    "3. **Mutual Definition**: The translation underscores that understanding the infinite requires recognizing its interconnectedness with the finite.\n",
    "\n",
    "4. **Integrated Conceptualization**: The text suggests a deep integration of the finite within the conceptualization of the infinite."
   ]
  },
  {
   "cell_type": "markdown",
   "metadata": {},
   "source": [
    "\n",
    "    Regarding the finite, it is readily conceded that it is the null;\n",
    "    this very nothingness is however the infinite\n",
    "    from which it is inseparable.\n",
    "    Understood in this way, they may seem to be taken\n",
    "    according to the way each refers to its other.\n",
    "    Taken without this connecting reference,\n",
    "    and thus joined only through an “and,”\n",
    "    they subsist independently,\n",
    "    each only an existent over against the other.\n"
   ]
  },
  {
   "cell_type": "markdown",
   "metadata": {},
   "source": [
    "\n",
    "1. **Finite as Null**: The transcreation emphasizes the common conception of the finite as null or nothingness.\n",
    "\n",
    "2. **Infinite as Nothingness of the Finite**: It highlights that the infinite is intrinsically connected to this notion of nothingness in the finite.\n",
    "\n",
    "3. **Interconnected Understanding**: The translation underscores the interconnected nature of the finite and infinite when each is understood in reference to the other.\n",
    "\n",
    "4. **Independent Existence in Separation**: The text illustrates that without this interconnected reference, the finite and infinite appear as independently existing entities.\n"
   ]
  },
  {
   "cell_type": "markdown",
   "metadata": {},
   "source": [
    "\n",
    "    We have to examine how they would be constituted in this way.\n",
    "    The infinite, thus positioned, is one of the two;\n",
    "    but, as only one of them, it is itself finite,\n",
    "    it is not the whole but only one side;\n",
    "    it has its limit in that which stands over against it;\n",
    "    and so it is the finite infinite.\n",
    "    We have before us only two finites.\n"
   ]
  },
  {
   "cell_type": "markdown",
   "metadata": {},
   "source": [
    "\n",
    "1. **Infinite as Finite When Positioned Separately**: The transcreation emphasizes how the infinite, when considered as one of two separate entities, becomes finite itself.\n",
    "\n",
    "2. **Finite Infinite Concept**: It highlights the emergence of the 'finite infinite' – an infinite that is limited by its opposition to the finite.\n",
    "\n",
    "3. **Duality Leading to Two Finites**: The translation points out that in this scenario, we end up with two finite entities, rather than a true finite and infinite.\n",
    "\n",
    "4. **Limitation of Separated View**: The text illustrates the inherent limitation in viewing the finite and infinite as separate and independent.\n"
   ]
  },
  {
   "cell_type": "markdown",
   "metadata": {},
   "source": [
    "\n",
    "    The finitude of the infinite,\n",
    "    and therefore its unity with the finite,\n",
    "    lies in the very fact that it is separated from the finite\n",
    "    and placed, consequently, on one side.\n",
    "    The finite, for its part, removed from the infinite\n",
    "    and positioned for itself, is this self-reference\n",
    "    in which the relativity, its dependence and transitoriness, are removed;\n",
    "    it is the same self-subsistence and self-affirmation\n",
    "    which the infinite is presumed to be.\n"
   ]
  },
  {
   "cell_type": "markdown",
   "metadata": {},
   "source": [
    "\n",
    "1. **Finitude of the Infinite Through Separation**: The transcreation emphasizes that separating the infinite from the finite leads to its finitude.\n",
    "\n",
    "2. **Unity of Finite and Infinite in Separation**: It highlights that this separation unites the finite and infinite in an unexpected way.\n",
    "\n",
    "3. **Finite's Self-Reference and Self-Affirmation**: The translation points out that in its isolation, the finite assumes characteristics of self-subsistence and self-affirmation, akin to the infinite.\n",
    "\n",
    "4. **Mutual Influence and Interdependence**: The text illustrates the mutual influence and interdependence of the finite and infinite when separated.\n"
   ]
  },
  {
   "cell_type": "markdown",
   "metadata": {},
   "source": [
    "\n",
    "    The two pathways of consideration,\n",
    "    even though they seem at first to have\n",
    "    each a different determinateness for their point of departure;\n",
    "    the former inasmuch as it assumes it to be\n",
    "    only the reference of infinite and finite\n",
    "    to each other, of each to the other;\n",
    "    and the latter their complete separation from each other\n",
    "    yield one and the same result.\n",
    "    \n"
   ]
  },
  {
   "cell_type": "markdown",
   "metadata": {},
   "source": [
    "\n",
    "1. **Two Paths of Consideration**: The transcreation highlights the two different approaches to understanding the finite and infinite – mutual reference and complete separation.\n",
    "\n",
    "2. **Convergence to Same Result**: It emphasizes that despite their different starting points, both approaches lead to the same conclusion.\n",
    "\n",
    "3. **Underlying Unity**: The translation underscores the underlying unity that emerges between the finite and infinite, regardless of the approach.\n",
    "\n",
    "4. **Interconnectedness of Finite and Infinite**: The text illustrates the inherent interconnectedness that is revealed through both methods of consideration.\n"
   ]
  },
  {
   "cell_type": "markdown",
   "metadata": {},
   "source": [
    "    The infinite and the finite, taken together\n",
    "    as referring to each other in a connection\n",
    "    which is presumed external but is in fact essential to them\n",
    "    (for without it, neither is what it is),\n",
    "    each contains its other in its own determination,\n",
    "    just as, when each is taken for itself,\n",
    "    when looked at on its terms,\n",
    "    each has the other present in it\n",
    "    as its own moment.\n"
   ]
  },
  {
   "cell_type": "markdown",
   "metadata": {},
   "source": [
    "\n",
    "1. **Essential Connection Between Finite and Infinite**: The transcreation underscores the essential, not merely external, connection between the finite and infinite.\n",
    "\n",
    "2. **Mutual Containment in Each Other's Determination**: It highlights that each concept contains the essence of the other within its own determination.\n",
    "\n",
    "3. **Presence of the Other in Isolation**: The translation points out that even when considered separately, each concept includes the other as a vital component.\n",
    "\n",
    "4. **Internal Interweaving**: The text illustrates the internal interweaving of the finite and infinite within each other's conceptual framework."
   ]
  },
  {
   "cell_type": "markdown",
   "metadata": {},
   "source": [
    "\n",
    "    This yields, then, the scandalous unity\n",
    "    of the finite and the infinite,\n",
    "    the unity which is itself the infinite\n",
    "    that embraces both itself and the finite,\n",
    "    the infinite, therefore, understood in a sense\n",
    "    other than when the finite is separated from it\n",
    "    and placed on the other side from it.\n",
    "    \n"
   ]
  },
  {
   "cell_type": "markdown",
   "metadata": {},
   "source": [
    "\n",
    "1. **Paradoxical Unity**: The transcreation emphasizes the paradoxical and 'scandalous' nature of the unity between the finite and the infinite.\n",
    "\n",
    "2. **Infinite as Encompassing Both**: It highlights that this unity involves the infinite encompassing both itself and the finite.\n",
    "\n",
    "3. **Contrast with Traditional Notion**: The translation points out the contrast with traditional views that separate the finite and infinite.\n",
    "\n",
    "4. **Different Understanding of the Infinite**: The text illustrates a different perspective on the infinite, one that is more integrated and encompassing.\n"
   ]
  },
  {
   "cell_type": "markdown",
   "metadata": {},
   "source": [
    "    Since they must now also be distinguished,\n",
    "    each is within it, as just shown,\n",
    "    itself the unity of both;\n",
    "    there are thus two such unities.\n",
    "    The common element, the unity of both determinacies,\n",
    "    as such a unity, posits them at first as negated,\n",
    "    for each is to be what it is in being distinguished;\n",
    "    in their unity, therefore, they lose their qualitative nature;\n"
   ]
  },
  {
   "cell_type": "markdown",
   "metadata": {},
   "source": [
    "\n",
    "1. **Necessity of Distinction**: The transcreation emphasizes the need to distinguish between the finite and the infinite.\n",
    "\n",
    "2. **Embodiment of Unity in Each**: It highlights that both the finite and the infinite inherently contain the unity of both.\n",
    "\n",
    "3. **Two Unities**: The translation points out the existence of two unities, one represented in the finite and the other in the infinite.\n",
    "\n",
    "4. **Negation in Common Element**: The text notes that the common element of their unity initially posits each as negated through distinction.\n",
    "\n",
    "5. **Loss of Qualitative Nature in Unity**: The aim is to present Hegel's concept that in their unity, the finite and the infinite lose their distinct qualities."
   ]
  },
  {
   "cell_type": "markdown",
   "metadata": {},
   "source": [
    "\n",
    "    an important reflection for countering the incorrigible habit\n",
    "    of representing the infinite and the finite, in their unity,\n",
    "    as still holding on to the quality that\n",
    "    they would have when taken apart from each other;\n",
    "    of seeing in that unity, therefore, nothing except contradiction,\n",
    "    and not also the resolution of the contradiction by\n",
    "    the negation of the qualitative determinateness of each.\n",
    "    And so is the unity of the infinite and the finite,\n",
    "    at first simple and universal, falsified.\n"
   ]
  },
  {
   "cell_type": "markdown",
   "metadata": {},
   "source": [
    "\n",
    "1. **Misconception in Unity Representation**: The transcreation emphasizes the common error in representing the finite and infinite as retaining their separate qualities in unity.\n",
    "\n",
    "2. **View of Unity as Contradiction**: It highlights how this leads to seeing their unity only as a contradiction, rather than also as a resolution.\n",
    "\n",
    "3. **Negation of Qualitative Determinateness**: The translation points out the resolution through negating the individual qualities of the finite and infinite in their unity.\n",
    "\n",
    "4. **Falsification of Simple Unity**: The text suggests that this misconception distorts the simple and universal nature of their unity.\n"
   ]
  },
  {
   "cell_type": "markdown",
   "metadata": {},
   "source": [
    "\n",
    "    But further, since the two are now to be taken\n",
    "    also as distinguished, the unity of the infinite\n",
    "    which is itself both of these moments\n",
    "    is determined differently in each.\n",
    "    The infinite, determined as such, has in it\n",
    "    the finitude which is distinct from it;\n",
    "    in this unity, the infinite is the in-itself\n",
    "    while the finite is only determinateness,\n",
    "    the limit in the infinite.\n",
    "    \n"
   ]
  },
  {
   "cell_type": "markdown",
   "metadata": {},
   "source": [
    "\n",
    "1. **Different Determinations in Unity**: The transcreation emphasizes that in the unity of the infinite and finite, each is determined differently.\n",
    "\n",
    "2. **Infinite Including Finitude**: It highlights that the infinite, in its own determination, includes the concept of finitude within itself.\n",
    "\n",
    "3. **Infinite as 'In-Itself'**: The translation illustrates that in this unity, the infinite is the underlying reality, the 'in-itself.'\n",
    "\n",
    "4. **Finite as Limit in the Infinite**: The text points out that the finite is regarded as a determinateness or limit within the infinite."
   ]
  },
  {
   "cell_type": "markdown",
   "metadata": {},
   "source": [
    "    But such a limit is the absolute\n",
    "    other of the infinite, its opposite.\n",
    "    The infinite's determination, which is the in-itself as such,\n",
    "    is corrupted by being saddled with a quality of this sort;\n",
    "    the infinite is thus a finitized infinite.\n",
    "    \n"
   ]
  },
  {
   "cell_type": "markdown",
   "metadata": {},
   "source": [
    "\n",
    "1. **Limit as Opposite of the Infinite**: The transcreation emphasizes Hegel's critique of viewing the limit as the absolute other of the infinite.\n",
    "\n",
    "2. **Corruption of Infinite's Determination**: It highlights how the association of the infinite with a finite quality corrupts its true nature.\n",
    "\n",
    "3. **Infinite as 'Finitized'**: The translation underscores that this approach leads to the infinite becoming a 'finitized' version of itself.\n",
    "\n",
    "4. **Contradiction in Infinite's Nature**: The text illustrates the contradiction introduced by associating the infinite with finitude.\n"
   ]
  },
  {
   "cell_type": "markdown",
   "metadata": {},
   "source": [
    "    Likewise, since the finite is as such only the non-in-itself\n",
    "    but equally has its opposite in it by virtue\n",
    "    of the said unity,\n",
    "    it is elevated above its worth\n",
    "    and, so to speak, infinitely elevated;\n",
    "    it is posited as the infinitized finite.\n"
   ]
  },
  {
   "cell_type": "markdown",
   "metadata": {},
   "source": [
    "\n",
    "1. **Finite as 'Non-in-Itself'**: The transcreation emphasizes that the finite is fundamentally lacking in inherent essence.\n",
    "\n",
    "2. **Elevation of the Finite**: It highlights how the finite is 'infinitely elevated' due to its unity with the infinite.\n",
    "\n",
    "3. **Concept of 'Infinitized Finite'**: The translation points out the transformation of the finite into the 'infinitized finite.'\n",
    "\n",
    "4. **Transcendence of Finite Limitations**: The text illustrates that through this elevation, the finite transcends its inherent limitations.\n"
   ]
  },
  {
   "cell_type": "markdown",
   "metadata": {},
   "source": [
    "\n",
    "    Likewise, just as the simple unity of infinite and finite was\n",
    "    falsified before by the understanding, so too is the double unity.\n",
    "    Here also this happens because the infinite is taken\n",
    "    in one of the two unities not as negated but,\n",
    "    rather, as the in-itself in which, therefore,\n",
    "    determinateness and restriction should not be posited,\n",
    "    for they would debase and corrupt it.\n",
    "    \n"
   ]
  },
  {
   "cell_type": "markdown",
   "metadata": {},
   "source": [
    "\n",
    "1. **Misrepresentation by the Understanding**: The transcreation emphasizes the misunderstanding of the finite and infinite's unity by the understanding.\n",
    "\n",
    "2. **Distortion of Double Unity**: It highlights how this misinterpretation extends to the double unity, where the finite and infinite are unified yet distinct.\n",
    "\n",
    "3. **Infinite as Pure 'In-Itself'**: The translation critiques the flawed perception of the infinite as an untainted 'in-itself' without negation.\n",
    "\n",
    "4. **Flaw in Excluding Determinateness**: The text points out the error in believing that determinateness or restriction corrupts the infinite."
   ]
  },
  {
   "cell_type": "markdown",
   "metadata": {},
   "source": [
    "    Conversely, the finite is equally held fixed\n",
    "    as not negated, although null in itself;\n",
    "    so that, in combination with the infinite,\n",
    "    it is elevated to what it is not\n",
    "    and is thereby infinitized notwithstanding its determination\n",
    "    that has not vanished but is rather perpetuated.\n"
   ]
  },
  {
   "cell_type": "markdown",
   "metadata": {},
   "source": [
    "\n",
    "1. **Finite Held as Non-Negated**: The transcreation emphasizes the perception of the finite as something that is not negated, despite its inherent nullity.\n",
    "\n",
    "2. **Paradoxical Elevation of the Finite**: It highlights the paradoxical elevation of the finite in its combination with the infinite, becoming 'infinitized.'\n",
    "\n",
    "3. **Persistence of Finite Determination**: The translation points out that this elevation occurs even though the finite's inherent nature has not vanished.\n",
    "\n",
    "4. **Contradiction in Infinitized State**: The text illustrates the contradiction of the finite being recognized for its nullity while being raised to an 'infinitized' status.\n"
   ]
  },
  {
   "cell_type": "markdown",
   "metadata": {},
   "source": [
    "\n",
    "    The falsification that the understanding perpetrates\n",
    "    with respect to the finite and the infinite,\n",
    "    of holding their reciprocal reference fixed\n",
    "    as qualitative differentiation,\n",
    "    of maintaining that their determination is separate,\n",
    "    indeed, absolutely separate, comes from forgetting\n",
    "    what for the understanding itself is the concept of these moments.\n"
   ]
  },
  {
   "cell_type": "markdown",
   "metadata": {},
   "source": [
    "\n",
    "1. **Understanding's Falsification**: The transcreation emphasizes the understanding's incorrect interpretation of the finite and infinite as qualitatively different and separate.\n",
    "\n",
    "2. **Fixation on Separateness**: It highlights the understanding's insistence on treating their determinations as completely distinct.\n",
    "\n",
    "3. **Forgetting Conceptual Essence**: The translation points out that this error arises from forgetting the inherent conceptual nature of the finite and infinite within the understanding's own framework.\n",
    "\n",
    "4. **Neglect of Deeper Interplay**: The text suggests that this misinterpretation overlooks the true interconnectedness and unity of the finite and infinite.\n"
   ]
  },
  {
   "cell_type": "markdown",
   "metadata": {},
   "source": [
    "\n",
    "    According to this concept, the unity of the finite and the infinite\n",
    "    is not an external bringing together of them,\n",
    "    nor an incongruous combination that goes against their nature,\n",
    "    one in which inherently separate and opposed terms\n",
    "    that exist independently and are consequently incompatible,\n",
    "    would be knotted together.\n"
   ]
  },
  {
   "cell_type": "markdown",
   "metadata": {},
   "source": [
    "\n",
    "1. **Unity Beyond External Amalgamation**: The transcreation emphasizes that the unity of the finite and infinite is not an external merging.\n",
    "\n",
    "2. **Rejection of Incongruous Combination**: It highlights Hegel's view that their unity is not a forced combination of incompatible entities.\n",
    "\n",
    "3. **Inherent Interconnectedness**: The translation points out the intrinsic, harmonious nature of the unity between the finite and infinite.\n",
    "\n",
    "4. **Contrast with Forced Knotting**: The text contrasts Hegel’s perspective with the idea of forcibly ‘knotting together’ separate entities."
   ]
  },
  {
   "cell_type": "markdown",
   "metadata": {},
   "source": [
    "\n",
    "    Rather, each is itself this unity,\n",
    "    and this only as a sublating of itself\n",
    "    in which neither would have an advantage over the other\n",
    "    in in-itselfness and affirmative existence.\n",
    "    As has earlier been shown,\n",
    "    finitude is only as a transcending of itself;\n",
    "    it is therefore within it that the infinite,\n",
    "    the other of itself, is contained.\n",
    "    \n"
   ]
  },
  {
   "cell_type": "markdown",
   "metadata": {},
   "source": [
    "\n",
    "1. **Unity in Both Finite and Infinite**: The transcreation emphasizes that the finite and the infinite both embody the same unity.\n",
    "\n",
    "2. **Sublation as Self-Transcendence**: It highlights the process of sublation as a mutual self-transcendence, where neither has an advantage.\n",
    "\n",
    "3. **Finitude’s Transcendence**: The translation underscores that finitude's nature is to transcend itself, thereby containing the infinite.\n",
    "\n",
    "4. **Infinite Contained in Finite**: The text illustrates that within the finite lies the infinite, challenging traditional notions of their separation."
   ]
  },
  {
   "cell_type": "markdown",
   "metadata": {},
   "source": [
    "    Similarly, the infinite is only as the transcending of the finite;\n",
    "    it therefore contains its other essentially,\n",
    "    and it is thus within it that it is the other of itself.\n",
    "    The finite is not sublated by the infinite\n",
    "    as by a power present outside it;\n",
    "    its infinity consists rather in sublating itself.\n"
   ]
  },
  {
   "cell_type": "markdown",
   "metadata": {},
   "source": [
    "\n",
    "1. **Infinite as Transcendence of Finite**: The transcreation underscores that the infinite is characterized by its transcendence over the finite.\n",
    "\n",
    "2. **Infinite Contains the Finite**: It highlights that the infinite inherently embodies the finite within itself.\n",
    "\n",
    "3. **Finite as 'Other' Within Infinite**: The translation points out that the finite becomes the 'other' of the infinite, integral to its nature.\n",
    "\n",
    "4. **Self-Transcendence of the Finite**: The text illustrates that the infinity of the finite lies in its own act of self-transcendence.\n"
   ]
  },
  {
   "cell_type": "markdown",
   "metadata": {},
   "source": [
    "\n",
    "    This sublating is not, consequently,\n",
    "    alteration or otherness in general,\n",
    "    not the sublating of something.\n",
    "    That into which the finite is sublated is\n",
    "    the infinite as the negating of finitude.\n",
    "    But the latter has long since been only existence,\n",
    "    determined as a non-being.\n"
   ]
  },
  {
   "cell_type": "markdown",
   "metadata": {},
   "source": [
    "\n",
    "1. **Sublation Beyond Simple Alteration**: The transcreation emphasizes that sublation is more than just change or general negation.\n",
    "\n",
    "2. **Transformation to the Infinite**: It highlights the transformation of the finite into the infinite as a fundamental aspect of sublation.\n",
    "\n",
    "3. **Infinite as Negation of Finitude**: The translation illustrates that the infinite represents the negation of the finite's 'non-being' state.\n",
    "\n",
    "4. **Redefinition of Finitude**: The text points out that finitude has been redefined as a form of existence determined as non-being.\n"
   ]
  },
  {
   "cell_type": "markdown",
   "metadata": {},
   "source": [
    "    It is only the negation, therefore,\n",
    "    that in the negation sublates itself.\n",
    "    Thus infinity is determined on its side\n",
    "    as the negative of the finite\n",
    "    and thereby of determinateness in general,\n",
    "    as an empty beyond;\n",
    "    its sublating of itself into the finite is\n",
    "    a return from an empty flight,\n",
    "    the negation of the beyond\n",
    "    which is inherently a negative.\n"
   ]
  },
  {
   "cell_type": "markdown",
   "metadata": {},
   "source": [
    "\n",
    "1. **Negation Negating Itself**: The transcreation emphasizes the process where negation itself is negated.\n",
    "\n",
    "2. **Infinity as Negation of Finite**: It highlights that infinity is defined as the negation of both the finite and determinateness.\n",
    "\n",
    "3. **Empty Beyond Concept**: The translation points out the portrayal of infinity as an 'empty beyond,' contrasting with the finite.\n",
    "\n",
    "4. **Return from Empty Flight**: The text illustrates the concept of infinity's return from an abstract negation as a key aspect of its nature."
   ]
  },
  {
   "cell_type": "markdown",
   "metadata": {},
   "source": [
    "\n",
    "    Present in both, therefore, is the same negation of negation.\n",
    "    But this negation of negation is in itself self-reference,\n",
    "    affirmation but as turning back to itself, that is\n",
    "    through the mediation that the negation of negation is.\n",
    "    \n"
   ]
  },
  {
   "cell_type": "markdown",
   "metadata": {},
   "source": [
    "\n",
    "1. **Common Negation of Negation**: The transcreation highlights that both the finite and infinite undergo the process of negation of negation.\n",
    "\n",
    "2. **Self-Reference and Affirmation**: It emphasizes that this negation of negation leads to self-reference and, subsequently, to affirmation.\n",
    "\n",
    "3. **Mediated Transformation**: The translation illustrates that this affirmation is achieved through a mediated process, not a straightforward reversal.\n",
    "\n",
    "4. **Dialectical Process of Self-Realization**: The text points out the dialectical nature of this process, indicating a deeper level of self-realization and identity."
   ]
  },
  {
   "cell_type": "markdown",
   "metadata": {},
   "source": [
    "    These are the determinations that it is essential to bring to view;\n",
    "    the second point, however, is that in the infinite progression\n",
    "    they are also posited, and how they are posited therein,\n",
    "    namely, not in their ultimate truth.\n"
   ]
  },
  {
   "cell_type": "markdown",
   "metadata": {},
   "source": [
    "\n",
    "1. **Essential Determinations**: The transcreation emphasizes the need to recognize key determinations to understand infinite progression.\n",
    "\n",
    "2. **Representation in Infinite Progression**: It highlights that these determinations are included in the concept of infinite progression but not in their fullest truth.\n",
    "\n",
    "3. **Distorted or Incomplete Positing**: The translation points out that the representation of these determinations in infinite progression is somewhat distorted or incomplete.\n",
    "\n",
    "4. **Limitation in Conceptual Framework**: The text suggests a limitation in the infinite progression's ability to fully capture the true essence of these determinations.\n"
   ]
  },
  {
   "cell_type": "markdown",
   "metadata": {},
   "source": [
    "\n",
    "    First, both are negated in that progression,\n",
    "    the infinite as well as the finite;\n",
    "    both are equally transcended.\n",
    "    Second, they are also posited as distinct,\n",
    "    one after the other, each positive for itself.\n"
   ]
  },
  {
   "cell_type": "markdown",
   "metadata": {},
   "source": [
    "\n",
    "1. **Negation of Finite and Infinite**: The transcreation highlights the initial negation or transcendence of both the finite and the infinite in the infinite progression.\n",
    "\n",
    "2. **Positing as Distinct Entities**: It emphasizes that, following this negation, they are also posited as distinct and positively defined entities.\n",
    "\n",
    "3. **Simultaneous Transcendence and Affirmation**: The translation illustrates the dual aspect of transcending and simultaneously affirming the finite and infinite.\n",
    "\n",
    "4. **Sequential Representation**: The text notes the sequential and linear representation of the finite and infinite in the progression.\n"
   ]
  },
  {
   "cell_type": "markdown",
   "metadata": {},
   "source": [
    "\n",
    "    We sort out these two determinations while comparing them, \n",
    "    just as in the comparison (in an external comparing)\n",
    "    we have separated the two ways of considering them:\n",
    "    the finite and the infinite as referring to one another,\n",
    "    and each taken for itself.\n",
    "    \n"
   ]
  },
  {
   "cell_type": "markdown",
   "metadata": {},
   "source": [
    "\n",
    "1. **Comparative Analysis of Determinations**: The transcreation emphasizes Hegel's approach of sorting out and comparing the finite and infinite's determinations.\n",
    "\n",
    "2. **Relational vs. Individual Consideration**: It highlights the two ways of considering them: in mutual reference and individually.\n",
    "\n",
    "3. **Methodical Approach for Understanding**: The translation illustrates the methodical approach of separating and then exploring these concepts in different contexts.\n",
    "\n",
    "4. **External Comparing**: The text points out that this analysis is done through 'external comparing,' a process that aids in understanding the distinct nature of each concept."
   ]
  },
  {
   "cell_type": "markdown",
   "metadata": {},
   "source": [
    "    The infinite progression, however, says more than this.\n",
    "    Also posited in it, though at first still only as \n",
    "    transition and alternation,\n",
    "    is the connectedness of the terms being distinguished.\n",
    "    We now only need to see, in one simple reflection,\n",
    "    what is in fact present in it.\n"
   ]
  },
  {
   "cell_type": "markdown",
   "metadata": {},
   "source": [
    "\n",
    "1. **More Than Separation**: The transcreation emphasizes that infinite progression involves more than the separate consideration of the finite and infinite.\n",
    "\n",
    "2. **Connectedness of Terms**: It highlights that infinite progression also posits the interconnectedness of the finite and infinite, initially as transition and alternation.\n",
    "\n",
    "3. **Insightful Reflection**: The translation suggests that a deeper understanding of infinite progression comes from recognizing this interconnectedness.\n",
    "\n",
    "4. **Dynamic Interplay**: The text illustrates the dynamic interplay and influence between the finite and infinite within the progression.\n"
   ]
  },
  {
   "cell_type": "markdown",
   "metadata": {},
   "source": [
    "\n",
    "    In the first place,\n",
    "    the negation of the finite and the infinite\n",
    "    which is posited in the infinite progression\n",
    "    can be taken as simple,\n",
    "    and hence as mutual externality,\n",
    "    only a following of one upon the other.\n"
   ]
  },
  {
   "cell_type": "markdown",
   "metadata": {},
   "source": [
    "\n",
    "1. **Negation as Simple Process**: The transcreation emphasizes that the negation of the finite and infinite is initially seen as a simple process.\n",
    "\n",
    "2. **Mutual Externality**: It highlights the view of the finite and infinite as externally following one another without deeper interconnection.\n",
    "\n",
    "3. **Linear Succession**: The translation points out the perception of the finite and infinite as existing in a linear sequence, one after the other.\n",
    "\n",
    "4. **Surface-Level Interpretation**: The text suggests that this view represents a surface-level understanding of the relationship between the finite and infinite.\n"
   ]
  },
  {
   "cell_type": "markdown",
   "metadata": {},
   "source": [
    "\n",
    "    Starting from the finite,\n",
    "    the limit is thus transcended, the finite negated.\n",
    "    We now have its beyond, the infinite,\n",
    "    but in this the limit rises up again;\n",
    "    so we have the transcending of the infinite.\n",
    "   "
   ]
  },
  {
   "cell_type": "markdown",
   "metadata": {},
   "source": [
    "\n",
    "1. **Transcendence from Finite to Infinite**: The transcreation emphasizes the initial transcendence from the finite, negating its limit.\n",
    "\n",
    "2. **Re-emergence of Limit in Infinite**: It highlights the paradoxical return of the limit within the infinite, challenging its boundlessness.\n",
    "\n",
    "3. **Need for Transcending the Infinite**: The translation points out the subsequent need to transcend the infinite due to the re-emergence of the limit.\n",
    "\n",
    "4. **Dialectical Movement**: The text illustrates the dialectical nature of this process, moving from finite to infinite and beyond.\n"
   ]
  },
  {
   "cell_type": "markdown",
   "metadata": {},
   "source": [
    "    This twofold sublation is nonetheless\n",
    "    partly only an external event\n",
    "    and an alternating of moments in general,\n",
    "    and partly still not posited as one unity;\n",
    "    each of these moves beyond is an independent starting point,\n",
    "    a fresh act, so that the two fall apart.\n"
   ]
  },
  {
   "cell_type": "markdown",
   "metadata": {},
   "source": [
    "\n",
    "1. **Sublation as External Event**: The transcreation emphasizes Hegel's critique of the twofold sublation being seen as an external alternation of moments.\n",
    "\n",
    "2. **Lack of Perceived Unity**: It highlights the absence of a unified view of the process, with each transition treated as a separate act.\n",
    "\n",
    "3. **Independent Starting Points**: The translation points out that each move from finite to infinite is seen as an independent, fresh act, leading to a conceptual disconnection.\n",
    "\n",
    "4. **Fragmentation of Process**: The text illustrates the fragmentation in the conceptualization of this process, failing to see it as a cohesive whole.\n"
   ]
  },
  {
   "cell_type": "markdown",
   "metadata": {},
   "source": [
    "\n",
    "    But, in addition, their connection is\n",
    "    also present in the infinite progression.\n",
    "    The finite comes first;\n",
    "    then there is the transcending of it,\n",
    "    and this negative, or this beyond of the finite,\n",
    "    is the infinite;\n",
    "    third, this negation is transcended in turn,\n",
    "    a new limit comes up, a finite again.\n"
   ]
  },
  {
   "cell_type": "markdown",
   "metadata": {},
   "source": [
    "\n",
    "1. **Sequence of Transcendence**: The transcreation highlights the sequence in infinite progression, starting with the finite, moving to the infinite, and returning to the finite.\n",
    "\n",
    "2. **Negation and Beyond**: It emphasizes the process of transcending the finite to reach the infinite, which is seen as a negation or a 'beyond.'\n",
    "\n",
    "3. **Cycle of Finite and Infinite**: The translation illustrates the cyclical nature of this process, where the negation of the infinite leads to a new finite.\n",
    "\n",
    "4. **Interconnectedness in Progression**: The text underscores the interconnectedness of the finite and infinite within this conceptual framework.\n"
   ]
  },
  {
   "cell_type": "markdown",
   "metadata": {},
   "source": [
    "\n",
    "    This is the complete, self-closing movement\n",
    "    that has arrived at that which made the beginning;\n",
    "    what emerges is the same as that\n",
    "    from which the departure was made,\n",
    "    that is, the finite is restored;\n",
    "    the latter has therefore rejoined itself,\n",
    "    in its beyond has only found itself again.\n"
   ]
  },
  {
   "cell_type": "markdown",
   "metadata": {},
   "source": [
    "\n",
    "1. **Self-Closing Cyclical Movement**: The transcreation emphasizes the cyclical nature of the movement from the finite to the infinite and back to the finite.\n",
    "\n",
    "2. **Return to the Origin**: It highlights that the process culminates in the return to the point of origin, restoring the finite.\n",
    "\n",
    "3. **Rejoining of the Finite**: The translation points out that the finite, after encountering the infinite, rejoins and rediscovers itself.\n",
    "\n",
    "4. **Rediscovery in the Beyond**: The text illustrates the concept that the finite's journey into the infinite is ultimately a rediscovery of its own essence.\n"
   ]
  },
  {
   "cell_type": "markdown",
   "metadata": {},
   "source": [
    "\n",
    "    The same is the case regarding the infinite.\n",
    "    In the infinite, in the beyond of the limit,\n",
    "    only a new limit arises which has the same fate, namely,\n",
    "    that as finite it must be negated.\n",
    "    \n"
   ]
  },
  {
   "cell_type": "markdown",
   "metadata": {},
   "source": [
    "\n",
    "1. **Encounter with New Limits**: The transcreation emphasizes that within the infinite, new limits continually arise.\n",
    "\n",
    "2. **Fate of the New Limits**: It highlights that these new limits, although encountered in the infinite, are finite and must be negated.\n",
    "\n",
    "3. **Infinite as Dynamic Process**: The translation points out that the infinite is characterized by the ongoing process of transcending finite limits.\n",
    "\n",
    "4. **Paradoxical Aspect of Infinite**: The text illustrates the paradox that the infinite involves consistently transcending the finite.\n"
   ]
  },
  {
   "cell_type": "markdown",
   "metadata": {},
   "source": [
    "    Thus what is again at hand is the same infinite\n",
    "    that just now disappeared in the new limit;\n",
    "    by being sublated, by traversing the new limit,\n",
    "    the infinite has not therefore advanced one jot further:\n",
    "    it has distanced itself neither from the finite\n",
    "    (for the finite is just this,\n",
    "    to pass over into the infinite),\n",
    "    nor from itself, for it has arrived at itself.\n"
   ]
  },
  {
   "cell_type": "markdown",
   "metadata": {},
   "source": [
    "\n",
    "1. **Recurring Nature of the Infinite**: The transcreation emphasizes the repetitive emergence of the infinite as it transcends new limits.\n",
    "\n",
    "2. **Lack of Advancement**: It highlights that this process does not represent a progression or distancing from its essence.\n",
    "\n",
    "3. **Finite’s Transition to Infinite**: The translation points out that the finite inherently transitions into the infinite, reinforcing the infinite's return to itself.\n",
    "\n",
    "4. **Perpetual Self-Arrival**: The text illustrates the concept of the infinite constantly rediscovering its infinitude in this cycle.\n"
   ]
  },
  {
   "cell_type": "markdown",
   "metadata": {},
   "source": [
    "\n",
    "    Thus the finite and the infinite are both\n",
    "    this movement of each returning\n",
    "    to itself through its negation;\n",
    "    they are only as implicit mediation,\n",
    "    and the affirmative of each\n",
    "    contains the negative of each,\n",
    "    and is the negation of the negation.\n",
    "    \n"
   ]
  },
  {
   "cell_type": "markdown",
   "metadata": {},
   "source": [
    "\n",
    "1. **Movement of Self-Return Through Negation**: The transcreation emphasizes the movement in which both the finite and the infinite return to themselves through negation.\n",
    "\n",
    "2. **Implicit Mediation**: It highlights that this movement is an implicit mediation, not a direct or isolated process.\n",
    "\n",
    "3. **Affirmative Contains the Negative**: The translation points out that the affirmative aspect of each contains its own negation, leading to the negation of the negation.\n",
    "\n",
    "4. **Dynamic and Interconnected Nature**: The text illustrates the dynamic and interconnected nature of the finite and the infinite."
   ]
  },
  {
   "cell_type": "markdown",
   "metadata": {},
   "source": [
    "    They are thus a result\n",
    "    and, as such, not in the determination\n",
    "    that they had at the beginning:\n",
    "    neither is the finite an existence on its side\n",
    "    nor the infinite an existence\n",
    "    or a being-in-itself beyond that existence,\n",
    "    that is, beyond existence in\n",
    "    the determination of finitude.\n",
    "    \n"
   ]
  },
  {
   "cell_type": "markdown",
   "metadata": {},
   "source": [
    "\n",
    "1. **Transcendence of Initial Determinations**: The transcreation emphasizes that the finite and infinite transcend their initial, separate existences.\n",
    "\n",
    "2. **Finite and Infinite as Evolved Results**: It highlights that both concepts evolve beyond their original definitions as a result of their dialectical process.\n",
    "\n",
    "3. **Departure from Original Conceptualization**: The translation points out the departure from the original conceptualization of the finite and infinite as distinct entities.\n",
    "\n",
    "4. **Dynamic Process of Transformation**: The text illustrates the dynamic transformation that redefines the essence of both concepts.\n"
   ]
  },
  {
   "cell_type": "markdown",
   "metadata": {},
   "source": [
    "    The understanding strongly resists\n",
    "    the unity of the finite and the infinite\n",
    "    only because it presupposes restriction\n",
    "    and finitude to remain,\n",
    "    like being-in-itself, constants.\n",
    "    \n"
   ]
  },
  {
   "cell_type": "markdown",
   "metadata": {},
   "source": [
    "\n",
    "1. **Understanding's Resistance to Unity**: The transcreation emphasizes the understanding’s resistance to accepting the unity of the finite and the infinite.\n",
    "\n",
    "2. **Presupposition of Constants**: It highlights that this resistance is due to the presupposition of restriction and finitude as constants, like being-in-itself.\n",
    "\n",
    "3. **Rigid Categorization**: The translation points out the understanding’s rigid categorization of the finite and infinite as fundamentally separate and unchanging.\n",
    "\n",
    "4. **Limitation in Cognitive Processing**: The text suggests that this rigid perspective limits the understanding’s ability to perceive the dynamic nature of reality."
   ]
  },
  {
   "cell_type": "markdown",
   "metadata": {},
   "source": [
    "    It thereby overlooks the negation of both\n",
    "    which is in fact present in the infinite progression,\n",
    "    just as it equally overlooks that the two occur in this\n",
    "    progression only as moments of a whole,\n",
    "    that each emerges only through the mediation of its opposite\n",
    "    but, essentially, equally by means of the sublation of its opposite.\n"
   ]
  },
  {
   "cell_type": "markdown",
   "metadata": {},
   "source": [
    "\n",
    "1. **Oversight of Negation**: The transcreation emphasizes the understanding's failure to recognize the negation of both the finite and the infinite in the infinite progression.\n",
    "\n",
    "2. **Interconnectedness as Moments of a Whole**: It highlights the idea that the finite and infinite occur as interconnected moments within a larger whole.\n",
    "\n",
    "3. **Mediation and Sublation**: The translation points out that each arises through the mediation and sublation of its opposite, not independently.\n",
    "\n",
    "4. **Limitation of the Understanding**: The text suggests that the understanding overlooks the complex, dialectical nature of the finite and infinite.\n"
   ]
  },
  {
   "cell_type": "markdown",
   "metadata": {},
   "source": [
    "\n",
    "    If this immanent turning back has for the moment been reckoned\n",
    "    to be just as much the turning back of the finite to itself\n",
    "    and of the infinite to itself,\n",
    "    noticeable in this very result is an error connected\n",
    "    with the one-sidedness just criticized:\n",
    "    the finite and then the infinite is\n",
    "    each taken as the starting point,\n",
    "    and only in this way two results ensue.\n"
   ]
  },
  {
   "cell_type": "markdown",
   "metadata": {},
   "source": [
    "\n",
    "1. **Error in Separate Starting Points**: The transcreation emphasizes the error of considering the finite and infinite separately as starting points for their turning back.\n",
    "\n",
    "2. **One-Sidedness Critique**: It highlights Hegel's critique of the one-sided approach that leads to two distinct results.\n",
    "\n",
    "3. **Lack of Interconnectedness**: The translation points out that this approach fails to capture the interconnectedness between the finite and infinite.\n",
    "\n",
    "4. **Misunderstanding of Immanent Turning Back**: The text suggests that the finite and infinite's turning back is misunderstood as independent processes.\n"
   ]
  },
  {
   "cell_type": "markdown",
   "metadata": {},
   "source": [
    "\n",
    "    But it is a matter of total indifference\n",
    "    which is taken as the starting point\n",
    "    and, with this, the distinction caused\n",
    "    by the duality of results dissolves of itself.\n"
   ]
  },
  {
   "cell_type": "markdown",
   "metadata": {},
   "source": [
    "\n",
    "1. **Indifference of Starting Point**: The transcreation emphasizes Hegel's view that the choice of starting with the finite or the infinite is ultimately indifferent.\n",
    "\n",
    "2. **Dissolution of Duality**: It highlights that the distinction created by different starting points dissolves in the broader understanding of their relationship.\n",
    "\n",
    "3. **Transcendence Beyond Initial Choice**: The translation suggests that the deeper understanding of the finite and infinite transcends the initial dichotomy of starting points.\n",
    "\n",
    "4. **Irrelevance in Deeper Exploration**: The text illustrates that in the more profound philosophical exploration, the choice of starting point becomes irrelevant.\n"
   ]
  },
  {
   "cell_type": "markdown",
   "metadata": {},
   "source": [
    "\n",
    "    This is likewise posited in the line\n",
    "    of the infinite progression,\n",
    "    open-ended on both sides,\n",
    "    wherein each of the moments\n",
    "    recurs in equal alternation,\n",
    "    and it is totally extraneous\n",
    "    at which position the progression is\n",
    "    arrested and taken as beginning.\n"
   ]
  },
  {
   "cell_type": "markdown",
   "metadata": {},
   "source": [
    "\n",
    "1. **Open-Ended Infinite Progression**: The transcreation emphasizes the concept of the infinite progression as an open-ended line where moments recur in alternation.\n",
    "\n",
    "2. **Indifference to Starting Point**: It highlights the idea that the position at which the progression is commenced is irrelevant to its nature.\n",
    "\n",
    "3. **Equal Alternation of Moments**: The translation points out the equal importance of each moment, finite or infinite, in the progression.\n",
    "\n",
    "4. **Arbitrary Beginning**: The text suggests that the choice of where to begin analyzing the infinite progression is arbitrary.\n"
   ]
  },
  {
   "cell_type": "markdown",
   "metadata": {},
   "source": [
    "\n",
    "    The moments are distinguished in the progression\n",
    "    but each is equally only moment of the other.\n",
    "    Since both, the finite and the infinite,\n",
    "    are themselves moments of the progress,\n",
    "    they are jointly the finite,\n",
    "    and, since they are equally jointly\n",
    "    negated in it and in the result,\n",
    "    this result as the negation\n",
    "    of their joint finitude is\n",
    "    called with truth the infinite.\n"
   ]
  },
  {
   "cell_type": "markdown",
   "metadata": {},
   "source": [
    "\n",
    "1. **Interdependent Moments**: The transcreation highlights the interdependence of the finite and infinite, each being a moment of the other within the progression.\n",
    "\n",
    "2. **Joint Constitution of the Finite**: It emphasizes that together, the finite and infinite form what is collectively understood as the finite.\n",
    "\n",
    "3. **Negation and Transcendence**: The translation points out that the negation of their joint finitude within the progression leads to the emergence of the true infinite.\n",
    "\n",
    "4. **Emergence of the Infinite**: The text illustrates that the infinite is a concept that transcends the finite, emerging from their mutual negation."
   ]
  },
  {
   "cell_type": "markdown",
   "metadata": {},
   "source": [
    "\n",
    "    Their distinction is thus the\n",
    "    double meaning which they both have.\n",
    "    The finite has the double meaning,\n",
    "    first, of being the finite over against the infinite\n",
    "    which stands over against it,\n",
    "    and, second, of being at the same time\n",
    "    the finite and the infinite over against the infinite.\n"
   ]
  },
  {
   "cell_type": "markdown",
   "metadata": {},
   "source": [
    "\n",
    "1. **Dual Meaning of the Finite**: The transcreation emphasizes the dual meaning of the finite in relation to the infinite.\n",
    "\n",
    "2. **Finite as Opposite to Infinite**: It highlights the first aspect of the finite as being distinctly opposite and separate from the infinite.\n",
    "\n",
    "3. **Finite as Both Finite and Infinite**: The translation points out the second, more complex aspect where the finite embodies both finitude and a dimension of the infinite.\n",
    "\n",
    "4. **Blurring of Separation**: The text illustrates how this dual meaning challenges the strict separation between the finite and infinite."
   ]
  },
  {
   "cell_type": "markdown",
   "metadata": {},
   "source": [
    "\n",
    "    Also the infinite has the double meaning\n",
    "    of being one of the two moments\n",
    "    (it is then the bad infinite)\n",
    "    and of being the infinite in which the two moments,\n",
    "    itself and its other, are only moments.\n",
    "    \n"
   ]
  },
  {
   "cell_type": "markdown",
   "metadata": {},
   "source": [
    "\n",
    "1. **Dual Meaning of the Infinite**: The transcreation emphasizes the dual meaning of the infinite in relation to the finite.\n",
    "\n",
    "2. **Infinite as 'Bad Infinite'**: It highlights the first meaning where the infinite is seen as an opposing moment to the finite, termed the 'bad infinite.'\n",
    "\n",
    "3. **Infinite as Inclusive Entity**: The translation points out the second, more profound meaning where the infinite includes both itself and the finite as integral moments.\n",
    "\n",
    "4. **Beyond Simple Negation**: The text illustrates that this broader perspective of the infinite goes beyond being a mere negation of the finite."
   ]
  },
  {
   "cell_type": "markdown",
   "metadata": {},
   "source": [
    "    Therefore, as in fact we now have it,\n",
    "    the nature of the infinite is\n",
    "    that it is the process in which it lowers itself\n",
    "    to be only one of its determinations over against the finite\n",
    "    and therefore itself only one of the finites,\n",
    "    and elevates this distinction of itself\n",
    "    and itself to be self-affirmation\n",
    "    and, through this mediation, the true infinite.\n"
   ]
  },
  {
   "cell_type": "markdown",
   "metadata": {},
   "source": [
    "\n",
    "1. **Infinite as Dynamic Process**: The transcreation emphasizes the nature of the infinite as a dynamic, self-transformative process.\n",
    "\n",
    "2. **Lowering and Self-Transformation**: It highlights how the infinite initially lowers itself to a finite level, only to transform this limitation.\n",
    "\n",
    "3. **Self-Affirmation of the Infinite**: The translation illustrates the infinite's movement from self-negation to self-affirmation.\n",
    "\n",
    "4. **True Infinite Through Mediation**: The text points out that this process of confronting and transcending finitude realizes the true infinite."
   ]
  },
  {
   "cell_type": "markdown",
   "metadata": {},
   "source": [
    "\n",
    "    This determination of the true infinite\n",
    "    cannot be captured in the already criticized formula\n",
    "    of a unity of the finite and the infinite;\n",
    "    unity is abstract, motionless self-sameness,\n",
    "    and the moments are likewise unmoved beings.\n",
    "    But, like both its moments, the infinite is\n",
    "    rather essentially only as becoming,\n",
    "    though a becoming now further determined in its moments.\n",
    "    \n"
   ]
  },
  {
   "cell_type": "markdown",
   "metadata": {},
   "source": [
    "\n",
    "1. **Dynamic Nature of the True Infinite**: The transcreation emphasizes Hegel's view of the true infinite as a process of becoming, rather than a static unity.\n",
    "\n",
    "2. **Critique of Abstract Unity**: It highlights Hegel's criticism of the concept of unity as too abstract and unmoving.\n",
    "\n",
    "3. **Continuous Evolution and Movement**: The translation illustrates the infinite as continuously evolving and redefining itself through its relationship with the finite.\n",
    "\n",
    "4. **Contrast with Static Conceptualization**: The text points out the contrast between Hegel’s dynamic understanding of the infinite and the static notion of unity.\n"
   ]
  },
  {
   "cell_type": "markdown",
   "metadata": {},
   "source": [
    "    Becoming has for its determinations,\n",
    "    first, abstract being and nothing;\n",
    "    as alteration, it has existence, something and other;\n",
    "    now as infinite, it has finite and infinite,\n",
    "    these two themselves as in becoming.\n"
   ]
  },
  {
   "cell_type": "markdown",
   "metadata": {},
   "source": [
    "\n",
    "1. **Stages of Becoming**: The transcreation highlights the evolving stages of becoming as outlined by Hegel, from abstract to more concrete forms.\n",
    "\n",
    "2. **Initial Determinations**: It emphasizes the initial determinations of becoming as 'being' and 'nothing.'\n",
    "\n",
    "3. **Alteration Phase**: The translation points out the alteration phase of becoming, involving 'existence,' 'something,' and 'other.'\n",
    "\n",
    "4. **Incorporation of Finite and Infinite**: The text illustrates the most developed stage of becoming, which includes the interplay of the finite and the infinite.\n"
   ]
  },
  {
   "cell_type": "markdown",
   "metadata": {},
   "source": [
    "\n",
    "    This infinite, as being-turned-back-unto-itself,\n",
    "    as reference of itself to itself, is being;\n",
    "    but not indeterminate, abstract being,\n",
    "    for it is posited as negating the negation;\n",
    "    consequently, it is also existence or “thereness,”\n",
    "    for it contains negation in general\n",
    "    and consequently determinateness.\n"
   ]
  },
  {
   "cell_type": "markdown",
   "metadata": {},
   "source": [
    "\n",
    "1. **Infinite as Self-Referential**: The transcreation emphasizes Hegel's idea of the infinite as a process of turning back onto itself, a self-reference.\n",
    "\n",
    "2. **Beyond Indeterminate Being**: It highlights that this form of the infinite is more than indeterminate or abstract being.\n",
    "\n",
    "3. **Negation of Negation**: The translation points out that this specific form of being arises from the negation of negation, leading to existence or \"thereness.\"\n",
    "\n",
    "4. **Incorporation of Negation and Determinateness**: The text illustrates how this concept of the infinite includes negation and thus achieves determinateness.\n"
   ]
  },
  {
   "cell_type": "markdown",
   "metadata": {},
   "source": [
    "\n",
    "    It is, and is there, present, before us.\n",
    "    Only the bad infinite is the beyond,\n",
    "    since it is only the negation of\n",
    "    the finite posited as real\n",
    "    and, as such, it is abstract first negation;\n",
    "    thus determined only as negative,\n",
    "    it does not have the affirmation of existence in it;\n",
    "    held fast only as something negative,\n",
    "    it ought not to be there, it ought to be unattainable.\n",
    "    \n"
   ]
  },
  {
   "cell_type": "markdown",
   "metadata": {},
   "source": [
    "\n",
    "1. **True Infinite as Present and Concrete**: The transcreation emphasizes that the true infinite is tangible and present in reality, not merely abstract.\n",
    "\n",
    "2. **'Bad' Infinite as Abstract Beyond**: It highlights the characterization of the 'bad' infinite as an unreachable beyond, defined by negation.\n",
    "\n",
    "3. **Lack of Affirmative Existence in 'Bad' Infinite**: The translation points out that the 'bad' infinite lacks the affirmation of existence, being only a negative entity.\n",
    "\n",
    "4. **Distinction in Conceptualization**: The text illustrates Hegel's distinction between the true and 'bad' infinite in terms of their existence and tangibility."
   ]
  },
  {
   "cell_type": "markdown",
   "metadata": {},
   "source": [
    "    However, to be thus unattainable is\n",
    "    not its grandeur but rather its defect,\n",
    "    which is at bottom the result of holding fast\n",
    "    to the finite as such, as existent.\n",
    "    It is the untrue which is the unattainable,\n",
    "    and what must be recognized is that\n",
    "    such an infinite is the untrue.\n",
    "    \n"
   ]
  },
  {
   "cell_type": "markdown",
   "metadata": {},
   "source": [
    "\n",
    "1. **Critique of 'Bad' Infinite's Unattainability**: The transcreation emphasizes Hegel's critique of the perceived grandeur in the unattainability of the 'bad' infinite.\n",
    "\n",
    "2. **Defectiveness of the 'Bad' Infinite**: It highlights that this unattainability is actually a defect stemming from an overemphasis on the finite.\n",
    "\n",
    "3. **Untrue Nature of 'Bad' Infinite**: The translation points out Hegel's assertion that the 'bad' infinite's unattainability is due to its untrue nature.\n",
    "\n",
    "4. **Misconception of Finite and Infinite**: The text illustrates the misconception leading to the 'bad' infinite, where the finite is overly prioritized as existent.\n"
   ]
  },
  {
   "cell_type": "markdown",
   "metadata": {},
   "source": [
    "    The image of the progression in infinity is the straight line;\n",
    "    the infinite is only at the two limits of this line,\n",
    "    and always only is where the latter\n",
    "    (which is existence)\n",
    "    is not but transcends itself,\n",
    "    in its non-existence, that is, in the indeterminate.\n",
    "    \n"
   ]
  },
  {
   "cell_type": "markdown",
   "metadata": {},
   "source": [
    "\n",
    "1. **Straight Line as Infinity Metaphor**: The transcreation emphasizes the use of a straight line as a metaphor for the progression towards infinity.\n",
    "\n",
    "2. **Infinite at the Extremities**: It highlights that the infinite is conceptualized at the extremities of the line, beyond tangible points.\n",
    "\n",
    "3. **Transcendence Beyond Existence**: The translation points out that the infinite lies where the line transcends itself, moving into non-existence or the indeterminate.\n",
    "\n",
    "4. **Beyond Finite Existence**: The text illustrates that the infinite is always beyond the finite existence represented by the line.\n"
   ]
  },
  {
   "cell_type": "markdown",
   "metadata": {},
   "source": [
    "    As true infinite, bent back upon itself,\n",
    "    its image becomes the circle,\n",
    "    the line that has reached itself,\n",
    "    closed and wholly present,\n",
    "    without beginning and end.\n"
   ]
  },
  {
   "cell_type": "markdown",
   "metadata": {},
   "source": [
    "\n",
    "1. **Circle as Symbol of True Infinite**: The transcreation emphasizes the circle as a symbol representing the true infinite in Hegel's philosophy.\n",
    "\n",
    "2. **Self-Contained and Complete**: It highlights the circle's nature as a self-contained form, signifying completeness and totality.\n",
    "\n",
    "3. **Continuous Loop Without End**: The translation illustrates the continuous, unbroken nature of the circle, without a beginning or an end.\n",
    "\n",
    "4. **Contrast with Linear Extension**: The text contrasts the circle with the straight line, which represents an indefinite outward extension.\n"
   ]
  },
  {
   "cell_type": "markdown",
   "metadata": {},
   "source": [
    "\n",
    "    True infinity, thus taken in general as existence posited\n",
    "    as affirmative in contrast to abstract negation,\n",
    "    is reality in a higher sense than it was earlier\n",
    "    as simply determined; it has now obtained a concrete content.\n",
    "    It is not the finite which is the real, but rather the infinite.\n",
    "    Thus reality is further determined\n",
    "    as essence, concept, idea, and so forth.\n",
    "    \n"
   ]
  },
  {
   "cell_type": "markdown",
   "metadata": {},
   "source": [
    "\n",
    "1. **True Infinity as Affirmative Existence**: The transcreation emphasizes Hegel's definition of true infinity as existence posited affirmatively against abstract negation.\n",
    "\n",
    "2. **Elevation of Reality**: It highlights the elevation of the infinite as a higher form of reality compared to finite existence.\n",
    "\n",
    "3. **Concrete Content of Infinity**: The translation points out the transformation of the infinite from an abstract concept to one with concrete content.\n",
    "\n",
    "4. **Reality Beyond Finitude**: The text illustrates that true reality, according to Hegel, is found in the infinite rather than the finite.\n"
   ]
  },
  {
   "cell_type": "markdown",
   "metadata": {},
   "source": [
    "    In connection with the more concrete,\n",
    "    it is however superfluous to repeat such earlier\n",
    "    and more abstract categories as reality,\n",
    "    and to use them for determinations more\n",
    "    concrete than they are by themselves.\n",
    "    Such a repetition, as when it is said that essence,\n",
    "    or that the concept, is real, has its origin in the fact\n",
    "    that to uneducated thought the most abstract categories\n",
    "    such as being, existence, reality, finitude, are the most familiar.\n"
   ]
  },
  {
   "cell_type": "markdown",
   "metadata": {},
   "source": [
    "\n",
    "1. **Critique of Redundant Repetition**: The transcreation emphasizes Hegel's critique of the unnecessary repetition of abstract categories in discussing more concrete concepts.\n",
    "\n",
    "2. **Intellectual Habit of Familiarity**: It highlights the tendency to rely on familiar abstract categories due to their familiarity in uneducated thought.\n",
    "\n",
    "3. **Limitation in Conceptual Understanding**: The translation points out that this practice limits the understanding of more complex concepts.\n",
    "\n",
    "4. **Need for Deeper Engagement**: The text suggests that Hegel advocates for a deeper engagement with philosophical concepts beyond familiar abstractions.\n"
   ]
  },
  {
   "cell_type": "markdown",
   "metadata": {},
   "source": [
    "\n",
    "    The more immediate occasion, however,\n",
    "    for recalling here the categories of reality\n",
    "    is that the negation, against which reality is the affirmative,\n",
    "    is here the negation of negation,\n",
    "    and consequently itself posited over against\n",
    "    that reality which finite existence is.\n"
   ]
  },
  {
   "cell_type": "markdown",
   "metadata": {},
   "source": [
    "\n",
    "1. **Context for Recalling Categories of Reality**: The transcreation emphasizes Hegel's immediate occasion for revisiting the categories of reality.\n",
    "\n",
    "2. **Negation of Negation**: It highlights the complex form of negation – the negation of negation – against which reality is positioned as affirmative.\n",
    "\n",
    "3. **Contrast with Finite Existence**: The translation points out that this negation of negation is posited against the reality of finite existence.\n",
    "\n",
    "4. **Need for Conceptual Clarity**: The text illustrates the necessity of recalling these categories to understand the complex relationship between these concepts.\n"
   ]
  },
  {
   "cell_type": "markdown",
   "metadata": {},
   "source": [
    "\n",
    "    Negation is thus determined as ideality;\n",
    "    the idealized is the finite as it is in the true infinite\n",
    "    (as a determination, a content, a distinct\n",
    "    but not a subsistent existent, a moment rather.\n",
    "    Ideality has this more concrete signification\n",
    "    which is not fully expressed through\n",
    "    the negation of finite existence.)\n",
    "    \n"
   ]
  },
  {
   "cell_type": "markdown",
   "metadata": {},
   "source": [
    "\n",
    "1. **Negation as Ideality**: The transcreation emphasizes Hegel's definition of negation in terms of ideality.\n",
    "\n",
    "2. **Finite within the True Infinite**: It highlights the conceptualization of the finite as a distinct yet non-subsistent element within the true infinite.\n",
    "\n",
    "3. **Ideality's Concrete Signification**: The translation points out that ideality represents a more concrete meaning than just the negation of finite existence.\n",
    "\n",
    "4. **Transformation of the Finite**: The text illustrates the transformation and new dimension of the finite within the scope of the infinite.\n"
   ]
  },
  {
   "cell_type": "markdown",
   "metadata": {},
   "source": [
    "    As regards reality and ideality,\n",
    "    the opposition of finite and infinite is, however,\n",
    "    so grasped that the finite assumes the value of “the real,”\n",
    "    whereas the infinite that of “the idealized”;\n",
    "    in the same way, further on, also the concept is\n",
    "    regarded as an idealization, that is, as a mere idealization,\n",
    "    in contrast to existence in general, which is regarded as “the real.”\n",
    "    \n"
   ]
  },
  {
   "cell_type": "markdown",
   "metadata": {},
   "source": [
    "\n",
    "1. **Finite as 'The Real'**: The transcreation emphasizes that the finite is often viewed as embodying 'the real' in opposition to the infinite.\n",
    "\n",
    "2. **Infinite as 'The Idealized'**: It highlights that the infinite is seen as 'the idealized,' existing more in thought than reality.\n",
    "\n",
    "3. **Concept as Idealization**: The translation points out Hegel's observation that the concept itself is often treated as an idealization in contrast to tangible existence.\n",
    "\n",
    "4. **Contrast Between Existence and Concept**: The text illustrates the contrast set up between the concrete reality of existence and the ideality of concepts.\n"
   ]
  },
  {
   "cell_type": "markdown",
   "metadata": {},
   "source": [
    "    When contrasted in this way, it is of course of no use to have\n",
    "    reserved for the said concrete determination of negation\n",
    "    the distinctive expression of “idealization”;\n",
    "    in that opposition of finite and infinite,\n",
    "    we are back to the one-sidedness of\n",
    "    the abstract negative characteristic of the bad infinite\n",
    "    and still fixed in the affirmative existence of the finite.\n"
   ]
  },
  {
   "cell_type": "markdown",
   "metadata": {},
   "source": [
    "\n",
    "1. **Critique of Simplistic Contrast**: The transcreation emphasizes Hegel's critique of the traditional, simplistic contrast between the finite and infinite.\n",
    "\n",
    "2. **Misuse of 'Idealization'**: It highlights the problem with using 'idealization' in this limited context, where its deeper meaning is lost.\n",
    "\n",
    "3. **Return to One-Sided Perspective**: The translation points out that this approach leads back to the one-sided view of the infinite as the 'bad infinite' and the finite as the only real existence.\n",
    "\n",
    "4. **Need for Comprehensive Understanding**: The text suggests that Hegel calls for a broader understanding that captures the complex dynamics between these concepts."
   ]
  }
 ],
 "metadata": {
  "kernelspec": {
   "display_name": "jupyter",
   "language": "python",
   "name": "jupyter"
  },
  "language_info": {
   "name": "python",
   "version": "3.11.2"
  }
 },
 "nbformat": 4,
 "nbformat_minor": 2
}
