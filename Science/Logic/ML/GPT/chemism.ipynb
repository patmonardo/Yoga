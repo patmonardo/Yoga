{
 "cells": [
  {
   "cell_type": "markdown",
   "metadata": {},
   "source": [
    "\n",
    "    CHAPTER 2\n",
    "\n",
    "    Chemism\n",
    "\n",
    "    In objectivity as a whole\n",
    "    chemism constitutes the moment of judgment,\n",
    "    of the difference that has become objective,\n",
    "    and of process.\n",
    "\n",
    "    Since it already begins with\n",
    "    determinateness and positedness,\n",
    "    and the chemical object is\n",
    "    at the same time objective totality,\n",
    "    the course it follows next is\n",
    "    simple and perfectly determined\n",
    "    by its presupposition.\n"
   ]
  }
 ],
 "metadata": {
  "kernelspec": {
   "display_name": "jupyter",
   "language": "python",
   "name": "python3"
  },
  "language_info": {
   "name": "python",
   "version": "3.11.2"
  }
 },
 "nbformat": 4,
 "nbformat_minor": 2
}
