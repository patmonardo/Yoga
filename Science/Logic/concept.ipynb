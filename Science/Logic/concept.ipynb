{
 "cells": [
  {
   "cell_type": "markdown",
   "metadata": {},
   "source": [
    "\n",
    "# CHAPTER 1\n"
   ]
  },
  {
   "cell_type": "markdown",
   "metadata": {},
   "source": [
    "\n",
    "# The concept\n"
   ]
  },
  {
   "cell_type": "markdown",
   "metadata": {},
   "source": [
    "\n",
    "    The faculty of concepts is normally\n",
    "    associated with the understanding,\n",
    "    and the latter is accordingly distinguished\n",
    "    from the faculty of judgment\n",
    "    and from the faculty of syllogistic inferences\n",
    "    which is formal reason.\n"
   ]
  },
  {
   "cell_type": "markdown",
   "metadata": {},
   "source": [
    "\n",
    "    But it is particularly with reason\n",
    "    that the understanding is contrasted,\n",
    "    and it signifies then, not the faculty of concepts in general,\n",
    "    but the faculty of determinate concepts,\n",
    "    as if, as the prevailing opinion has it,\n",
    "    the concept were only a determinate.\n"
   ]
  },
  {
   "cell_type": "markdown",
   "metadata": {},
   "source": [
    "    When distinguished in this meaning\n",
    "    from the formal faculty of judgment and from formal reason,\n",
    "    the understanding is accordingly to be taken\n",
    "    as the faculty of the single determinate concept.\n"
   ]
  },
  {
   "cell_type": "markdown",
   "metadata": {},
   "source": [
    "    For the judgment and the syllogism or reason, as formal,\n",
    "    are themselves only a thing of the understanding,\n",
    "    since they are subsumed under the form\n",
    "    of the abstract determinateness of the concept.\n"
   ]
  },
  {
   "cell_type": "markdown",
   "metadata": {},
   "source": [
    "    Here, however, we are definitely not taking\n",
    "    the concept as just abstractly determined;\n",
    "    the understanding is therefore\n",
    "    to be distinguished from reason only\n",
    "    in that it is the faculty of the concept as such.\n"
   ]
  },
  {
   "cell_type": "markdown",
   "metadata": {},
   "source": [
    "\n",
    "    This universal concept that we now have to consider\n",
    "    contains the three moments of\n",
    "    universality, particularity, and singularity.\n",
    "    The difference and the determinations which the concept\n",
    "    gives itself in its process of distinguishing constitute\n",
    "    the sides formerly called positedness.\n",
    "    Since this positedness is in the concept\n",
    "    identical with being-in-and-for-itself,\n",
    "    each of the moments is just as much\n",
    "    the whole concept as it is determinate concept\n",
    "    and a determination of the concept.\n"
   ]
  },
  {
   "cell_type": "markdown",
   "metadata": {},
   "source": [
    "\n",
    "    It is at first pure concept,\n",
    "    or the determination of universality.\n",
    "    But the pure or universal concept is also\n",
    "    only a determinate or particular concept\n",
    "    that takes its place alongside the other concepts.\n",
    "    \n"
   ]
  },
  {
   "cell_type": "markdown",
   "metadata": {},
   "source": [
    "    Because the concept is a totality,\n",
    "    and therefore in its universality\n",
    "    or pure identical self-reference\n",
    "    is essentially a determining and a distinguishing,\n",
    "    it possesses in itself the norm\n",
    "    by which this form of its self-identity,\n",
    "    in pervading all the moments\n",
    "    and comprehending them within,\n",
    "    equally determines itself immediately\n",
    "    as being only the universal\n",
    "    as against the distinctness of the moments.\n"
   ]
  },
  {
   "cell_type": "markdown",
   "metadata": {},
   "source": [
    "\n",
    "    Second, the concept is thereby posited\n",
    "    as this particular or determinate concept,\n",
    "    distinct from others.\n"
   ]
  },
  {
   "cell_type": "markdown",
   "metadata": {},
   "source": [
    "\n",
    "    Third, singularity is the concept reflecting itself\n",
    "    out of difference into absolute negativity.\n",
    "    This is at the same time the moment at which\n",
    "    it has stepped out of its identity\n",
    "    into its otherness and becomes judgment.\n"
   ]
  },
  {
   "cell_type": "markdown",
   "metadata": {},
   "source": [
    "## A. THE UNIVERSAL CONCEPT\n"
   ]
  },
  {
   "cell_type": "markdown",
   "metadata": {},
   "source": [
    "\n",
    "    The pure concept is the absolutely infinite,\n",
    "    unconditioned and free.\n",
    "    It is here, as the content of our treatise\n",
    "    begins to be the concept itself,\n",
    "    that we must look back once more at its genesis.\n"
   ]
  },
  {
   "cell_type": "markdown",
   "metadata": {},
   "source": [
    "\n",
    "    Essence came to be out of being,\n",
    "    and the concept out of essence,\n",
    "    therefore also from being.\n",
    "    But this becoming has the\n",
    "    meaning of a self-repulsion,\n",
    "    so that what becomes is rather\n",
    "    the unconditional and the originative.\n"
   ]
  },
  {
   "cell_type": "markdown",
   "metadata": {},
   "source": [
    "\n",
    "    In passing over into essence,\n",
    "    being became a reflective shine or a positedness,\n",
    "    and becoming or the passing over into an other\n",
    "    became a positing;\n",
    "    conversely, the positing or the reflection of essence\n",
    "    sublated itself and restored itself to\n",
    "    a non-posited, an original being.\n",
    "    \n"
   ]
  },
  {
   "cell_type": "markdown",
   "metadata": {},
   "source": [
    "    The concept is the mutual penetration of these moments,\n",
    "    namely, the qualitative and the originative existent is\n",
    "    only as positing and as immanent turning back,\n",
    "    and this pure immanent reflection simply is\n",
    "    the becoming-other or determinateness\n",
    "    which is, consequently, no less\n",
    "    infinite, self-referring determinateness.\n"
   ]
  },
  {
   "cell_type": "markdown",
   "metadata": {},
   "source": [
    "\n",
    "    Thus the concept is absolute self-identity\n",
    "    by being first just this, the negation of negation\n",
    "    or the infinite unity of negativity with itself.\n",
    "    This pure self-reference of the concept,\n",
    "    which is such by positing itself through the negativity,\n",
    "    is the universality of the concept.\n"
   ]
  },
  {
   "cell_type": "markdown",
   "metadata": {},
   "source": [
    "\n",
    "    Universality seems incapable of explanation,\n",
    "    because it is the simplest of determinations;\n",
    "    explanation must rely on determinations and differentiations\n",
    "    and must apply predicates to its subject matter,\n",
    "    and this would alter rather than explain the simple.\n"
   ]
  },
  {
   "cell_type": "markdown",
   "metadata": {},
   "source": [
    "\n",
    "    But it is precisely of the nature of\n",
    "    the universal to be a simple that,\n",
    "    by virtue of absolute negativity,\n",
    "    contains difference and determinateness\n",
    "    in itself in the highest degree.\n"
   ]
  },
  {
   "cell_type": "markdown",
   "metadata": {},
   "source": [
    "\n",
    "    Being is simple as an immediate;\n",
    "    for this reason we can only intend it\n",
    "    without being able to say what it is;\n",
    "    therefore, it is immediately one\n",
    "    with its other, non-being.\n",
    "    The concept of being is just this,\n",
    "    that it is so simple as to vanish\n",
    "    into its opposite immediately;\n",
    "    it is becoming.\n",
    "    \n"
   ]
  },
  {
   "cell_type": "markdown",
   "metadata": {},
   "source": [
    "    The universal is, on the contrary,\n",
    "    a simple that is at the same time\n",
    "    all the richer in itself,\n",
    "    for it is the concept.\n"
   ]
  },
  {
   "cell_type": "markdown",
   "metadata": {},
   "source": [
    "\n",
    "    First, therefore, it is simple self-reference;\n",
    "    it is only in itself.\n",
    "    But, second, this identity is\n",
    "    in itself absolute mediation\n",
    "    but not anything mediated.\n"
   ]
  },
  {
   "cell_type": "markdown",
   "metadata": {},
   "source": [
    "\n",
    "    Of the universal which is mediated,\n",
    "    that is to say, the abstract universal,\n",
    "    the one opposed to the particular and the singular,\n",
    "    of that we shall have to speak only in connection\n",
    "    with the determinate concept.\n"
   ]
  },
  {
   "cell_type": "markdown",
   "metadata": {},
   "source": [
    "\n",
    "    Yet, even the abstract universal entails this much,\n",
    "    that in order to obtain it there is required\n",
    "    the leaving aside of other\n",
    "    determinations of the concrete.\n",
    "    As determinations in general,\n",
    "    these determination are negations,\n",
    "    and leaving them aside is a further negating.\n"
   ]
  },
  {
   "cell_type": "markdown",
   "metadata": {},
   "source": [
    "\n",
    "    Even in the abstract universal, therefore,\n",
    "    the negation of negation is already present.\n",
    "    But this double negation comes to be represented\n",
    "    as if it were external to it,\n",
    "    both as if the properties of the concrete\n",
    "    that are left out were different\n",
    "    from the ones that are retained\n",
    "    as the content of the abstraction,\n",
    "    and as if this operation of leaving some aside\n",
    "    while retaining the rest went on outside them.\n",
    "    \n"
   ]
  },
  {
   "cell_type": "markdown",
   "metadata": {},
   "source": [
    "    With respect to this movement,\n",
    "    the universal has not yet acquired\n",
    "    the determination of externality;\n",
    "    it is still in itself that absolute negation\n",
    "    which is, precisely, the negation of negation\n",
    "    or absolute negativity.\n"
   ]
  },
  {
   "cell_type": "markdown",
   "metadata": {},
   "source": [
    "\n",
    "    Accordingly, because of this original unity,\n",
    "    the first negative, or the determination, is not,\n",
    "    to begin with, a restriction for the universal;\n",
    "    rather, the latter maintains itself in it\n",
    "    and its self-identity is positive.\n"
   ]
  },
  {
   "cell_type": "markdown",
   "metadata": {},
   "source": [
    "\n",
    "    The categories of being were, as concepts,\n",
    "    essentially these identities of the determinations\n",
    "    with themselves in their restriction or their otherness;\n",
    "    but this identity was only implicitly the concept,\n",
    "    was not yet made manifest.\n"
   ]
  },
  {
   "cell_type": "markdown",
   "metadata": {},
   "source": [
    "\n",
    "    Consequently, the qualitative determination\n",
    "    perished as such in its other\n",
    "    and had as its truth\n",
    "    a determination diverse from it.\n",
    "    \n"
   ]
  },
  {
   "cell_type": "markdown",
   "metadata": {},
   "source": [
    "    The universal, on the contrary,\n",
    "    even when it posits itself in a determination,\n",
    "    remains in it what it is.\n",
    "    It is the soul of the concrete which it inhabits,\n",
    "    unhindered and equal to itself\n",
    "    in its manifoldness and diversity.\n",
    "    It is not swept away in the becoming\n",
    "    but persists undisturbed through it,\n",
    "    endowed with the power of unalterable,\n",
    "    undying self-preservation.\n"
   ]
  },
  {
   "cell_type": "markdown",
   "metadata": {},
   "source": [
    "\n",
    "    It also does not simply shine reflectively in its other,\n",
    "    as does the determination of reflection.\n",
    "    This determination, as something relative,\n",
    "    does not refer only to itself but is a relating.\n",
    "    It lets itself be known in its other,\n",
    "    but at first it only shines reflectively in it,\n",
    "    and this reflective shining of each in the other,\n",
    "    or their reciprocal determination,\n",
    "    has the form of an external activity\n",
    "    alongside their self-subsistence.\n",
    "    \n"
   ]
  },
  {
   "cell_type": "markdown",
   "metadata": {},
   "source": [
    "    The universal is posited, on the contrary,\n",
    "    as the essence of its determination,\n",
    "    as this determination's own positive nature.\n",
    "    For the determination that constitutes the negative of the\n",
    "    universal is in the concept simply and solely a positedness;\n",
    "    essentially, in other words,\n",
    "    it is at the same time the negative of the negative,\n",
    "    and only is as this self-identity of the negative\n",
    "    which is the universal.\n",
    "    \n"
   ]
  },
  {
   "cell_type": "markdown",
   "metadata": {},
   "source": [
    "    To this extent, the universal is also\n",
    "    the substance of its determinations,\n",
    "    but in such a way that\n",
    "    what for the substance as such was an accident,\n",
    "    is the concept's own self mediation,\n",
    "    its own immanent reflection.\n",
    "    \n"
   ]
  },
  {
   "cell_type": "markdown",
   "metadata": {},
   "source": [
    "    But this mediation,\n",
    "    which first raises the accidental to necessity,\n",
    "    is the manifested reference;\n",
    "    the concept is not the abyss of formless substance,\n",
    "    or the necessity which is the inner identity of things\n",
    "    or circumstances different from each other\n",
    "    and reciprocally constricting;\n",
    "    rather, as absolute negativity,\n",
    "    it is the informing and creative principle,\n",
    "    and since the determination is not as limitation\n",
    "    but is just as much simply sublated as determination,\n",
    "    is positedness, so is the reflective shine\n",
    "    the appearance as appearance of the identical.\n"
   ]
  },
  {
   "cell_type": "markdown",
   "metadata": {},
   "source": [
    "\n",
    "    The universal is therefore free power;\n",
    "    it is itself while reaching out\n",
    "    to its other and embracing it,\n",
    "    but without doing violence to it;\n",
    "    on the contrary, it is at rest\n",
    "    in its other as in its own.\n",
    "    Just as it has been called free power,\n",
    "    it could also be called free love\n",
    "    and boundless blessedness,\n",
    "    for it relates to that\n",
    "    which is distinct from it as to itself;\n",
    "    in it, it has returned to itself.\n",
    "    \n"
   ]
  },
  {
   "cell_type": "markdown",
   "metadata": {},
   "source": [
    "    Mention has just been made of determinateness,\n",
    "    even though the concept has not yet progressed to it,\n",
    "    being at first only as the universal\n",
    "    and only self-identical.\n",
    "    But one cannot speak of the universal\n",
    "    apart from determinateness\n",
    "    which, to be more precise,\n",
    "    is particularity and singularity.\n",
    "    For in its absolute negativity\n",
    "    the universal contains determinateness\n",
    "    in and for itself, so that,\n",
    "    when speaking of determinateness\n",
    "    in connection with the universal,\n",
    "    the determinateness is not being\n",
    "    imported into the latter from outside.\n",
    "    \n"
   ]
  },
  {
   "cell_type": "markdown",
   "metadata": {},
   "source": [
    "    As negativity in general, that is,\n",
    "    according to the first immediate negation,\n",
    "    the universal has determinateness in it\n",
    "    above all as particularity;\n",
    "    as a second universal, as the negation of negation,\n",
    "    it is absolute determinateness, that is,\n",
    "    singularity and concreteness.\n"
   ]
  },
  {
   "cell_type": "markdown",
   "metadata": {},
   "source": [
    "\n",
    "    The universal is thus the totality of the concept;\n",
    "    it is what is concrete, is not empty\n",
    "    but, on the contrary, has content\n",
    "    by virtue of its concept;\n",
    "    a content in which the universal\n",
    "    does not just preserve itself\n",
    "    but is rather the universal's own,\n",
    "    immanent to it.\n",
    "    \n"
   ]
  },
  {
   "cell_type": "markdown",
   "metadata": {},
   "source": [
    "    It is of course possible to abstract from this content,\n",
    "    but what we have then is not\n",
    "    the universal element of the concept\n",
    "    but the abstract universal,\n",
    "    which is an isolated and imperfect\n",
    "    moment of the concept, void of truth.\n"
   ]
  },
  {
   "cell_type": "markdown",
   "metadata": {},
   "source": [
    "\n",
    "    More precisely, the universal shows itself\n",
    "    to be this totality as follows.\n",
    "    In so far as the universal possesses determinateness,\n",
    "    this determinateness is not only the first negation\n",
    "    but also the reflection of this negation into itself.\n",
    "    According to that first negation, taken by itself,\n",
    "    the universal is a particular,\n",
    "    and in this guise we shall consider it in a moment.\n",
    "    \n"
   ]
  },
  {
   "cell_type": "markdown",
   "metadata": {},
   "source": [
    "    In the other determinateness, however,\n",
    "    the universal is still essentially universal,\n",
    "    and this side we have here still to consider.\n",
    "    For this determinateness, as it is in the concept,\n",
    "    is the total reflection, a doubly reflective shine,\n",
    "    both outwards, as reflection into the other,\n",
    "    and inwards, as reflection into itself.\n",
    "    The outward shining establishes a distinction\n",
    "    with respect to an other;\n",
    "    the universal accordingly takes on a particularity\n",
    "    which is resolved in a higher universality.\n",
    "    \n"
   ]
  },
  {
   "cell_type": "markdown",
   "metadata": {},
   "source": [
    "    Inasmuch as it now is also only a relative universal,\n",
    "    it does not lose its character of universality;\n",
    "    it preserves itself in its determinateness,\n",
    "    not just because it remains indifferent to it\n",
    "    for then it would be only posited together with it\n",
    "    but because of what has just been called the inward shining.\n"
   ]
  },
  {
   "cell_type": "markdown",
   "metadata": {},
   "source": [
    "\n",
    "    The determinateness, as determinate concept,\n",
    "    is bent back into itself;\n",
    "    it is the concept's own immanent character,\n",
    "    a character made essential by\n",
    "    being taken up into the universality\n",
    "    and by being pervaded by it,\n",
    "    just as it pervades it in turn\n",
    "    equal in extension and identical with it.\n",
    "   "
   ]
  },
  {
   "cell_type": "markdown",
   "metadata": {},
   "source": [
    "    This is the character that belongs to the genus\n",
    "    as the determinateness which is not\n",
    "    separated from the universal.\n",
    "    To this extent, it is not an outwardly directed limitation,\n",
    "    but is positive, for by virtue of the universality\n",
    "    it stands in free self-reference.\n",
    "    Thus even the determinate concept remains\n",
    "    in itself infinitely free concept.\n"
   ]
  },
  {
   "cell_type": "markdown",
   "metadata": {},
   "source": [
    "\n",
    "    But in regard to the other side\n",
    "    in which the genus is limited\n",
    "    because of its determinate character,\n",
    "    we have just said that, as a lower genus,\n",
    "    it has its resolution in a higher universal.\n",
    "    This universal can also be grasped as a genus\n",
    "    but as a more abstract one;\n",
    "    it always pertains, however, only to\n",
    "    the side of the determinate concept\n",
    "    which is outwardly directed.\n",
    "    The truly higher universal is the one in which\n",
    "    this outwardly directed side is redirected inwardly;\n",
    "    this is the second negation in which\n",
    "    the determinateness is present simply and solely\n",
    "    as something posited, or as reflective shine.\n",
    "    \n"
   ]
  },
  {
   "cell_type": "markdown",
   "metadata": {},
   "source": [
    "    Life, the “I,” spirit, absolute concept,\n",
    "    are not universals only as higher genera,\n",
    "    but are rather concretes whose determinacies are\n",
    "    also not mere species or lower genera\n",
    "    but determinacies which, in their reality,\n",
    "    are self-contained and self-complete.\n",
    "    Of course, life, the “I,” finite spirit,\n",
    "    are also only determinate concepts.\n",
    "    To this extent, however, their resolution is\n",
    "    in a universal which, as the truly absolute concept,\n",
    "    is to be grasped as the idea of infinite spirit,\n",
    "    the spirit whose posited being is\n",
    "    the infinite, transparent reality\n",
    "    in which it contemplates its creation\n",
    "    and, in this creation, itself.\n"
   ]
  },
  {
   "cell_type": "markdown",
   "metadata": {},
   "source": [
    "\n",
    "    The true, infinite universal,\n",
    "    the one which, immediately in itself,\n",
    "    is just as much particularity as singularity,\n",
    "    is now to be more closely examined as particularity.\n",
    "    It determines itself freely;\n",
    "    the process by which it becomes finite\n",
    "    is not a transition,\n",
    "    the kind that occurs only\n",
    "    in the sphere of being;\n",
    "    it is creative power as\n",
    "    self-referring absolute negativity.\n",
    "    As such, it differentiates itself internally,\n",
    "    and this is a determining,\n",
    "    because the differentiating is\n",
    "    one with the universality.\n",
    "    \n"
   ]
  },
  {
   "cell_type": "markdown",
   "metadata": {},
   "source": [
    "    Accordingly, it is a positing of differences\n",
    "    that are themselves universals, self-referring.\n",
    "    They become thereby fixed, isolated differences.\n",
    "    The isolated subsistence of the finite\n",
    "    that was earlier determined as its being-for-itself,\n",
    "    also as thinghood, as substance,\n",
    "    is in its truth universality,\n",
    "    the form with which the infinite concept\n",
    "    clothes its differences,\n",
    "    a form which is equally itself one of its differences.\n",
    "    Herein consists the creativity of the concept,\n",
    "    a creativity which is to be comprehended\n",
    "    only in the concept's innermost core.\n"
   ]
  },
  {
   "cell_type": "markdown",
   "metadata": {
    "notebookRunGroups": {
     "groupValue": ""
    }
   },
   "source": [
    "## B. THE PARTICULAR CONCEPT\n"
   ]
  },
  {
   "cell_type": "markdown",
   "metadata": {},
   "source": [
    "\n",
    "    Determinateness as such belongs to being and the qualitative;\n",
    "    as the determinateness of the concept, it is particularity.\n",
    "    It is not a limit, as if it were related to an other beyond it,\n",
    "    but is rather, as just shown, the universal's own immanent moment;\n",
    "    in particularity, therefore, the universal is not\n",
    "    in an other but simply and solely with itself.\n"
   ]
  },
  {
   "cell_type": "markdown",
   "metadata": {},
   "source": [
    "\n",
    "    The particular contains the universality\n",
    "    that constitutes its substance;\n",
    "    the genus is unaltered in its species;\n",
    "    these do not differ from the universal\n",
    "    but only from each other.\n",
    "    The particular has one and the same universality as\n",
    "    the other particulars to which it is related.\n",
    "    The diversity of these particulars,\n",
    "    because of their identity with the universal, is\n",
    "    as such at the same time universal;\n",
    "    it is totality.\n"
   ]
  },
  {
   "cell_type": "markdown",
   "metadata": {},
   "source": [
    "\n",
    "    The particular, therefore,\n",
    "    does not only contain the universal\n",
    "    but exhibits it also through its determinateness;\n",
    "    accordingly the universal constitutes a sphere\n",
    "    that the particular must exhaust.\n"
   ]
  },
  {
   "cell_type": "markdown",
   "metadata": {},
   "source": [
    "\n",
    "    This totality, inasmuch as the determinateness\n",
    "    of the particular is taken as mere diversity,\n",
    "    appears as completeness.\n",
    "    In this respect, the species are complete\n",
    "    simply in so far as there are no more of them.\n",
    "    There is no inner standard or principle available for them,\n",
    "    for their diversity is just the dispersed difference\n",
    "    for which the universality,\n",
    "    which is for itself absolute unity,\n",
    "    is a merely external reflex\n",
    "    and an unconstrained, contingent completeness.\n",
    "    \n"
   ]
  },
  {
   "cell_type": "markdown",
   "metadata": {},
   "source": [
    "    But diversity passes over into opposition,\n",
    "    into an immanent connection of diverse moments.\n",
    "    Particularity, however,\n",
    "    because it is universality,\n",
    "    is this immanent connection,\n",
    "    not by virtue of a transition,\n",
    "    but in and for itself.\n",
    "    It is totality intrinsically,\n",
    "    and simple determinateness,\n",
    "    essential principle.\n",
    "    It has no other determinateness than\n",
    "    that posited by the universal itself\n",
    "    and resulting from it in the following manner.\n"
   ]
  },
  {
   "cell_type": "markdown",
   "metadata": {},
   "source": [
    "\n",
    "    The particular is the universal itself,\n",
    "    but it is its difference or reference to an other,\n",
    "    its outwardly reflecting shine;\n",
    "    but there is no other at hand from which\n",
    "    the particular would be differentiated\n",
    "    than the universal itself.\n",
    "    The universal determines itself,\n",
    "    and so is itself the particular;\n",
    "    the determinateness is its difference;\n",
    "    it is only differentiated from itself.\n",
    "    Its species are therefore\n",
    "    only (a) the universal itself\n",
    "    and (b) the particular.\n",
    "    The universal is as concept itself and its opposite,\n",
    "    and this opposite is in turn the universal itself\n",
    "    as its posited determinateness;\n",
    "    the universal overreaches it\n",
    "    and, in it, it is with itself.\n",
    "    Thus it is the totality and the principle of its diversity,\n",
    "    which is determined wholly and solely through itself.\n"
   ]
  },
  {
   "cell_type": "markdown",
   "metadata": {},
   "source": [
    "\n",
    "    There is, therefore, no other\n",
    "    true logical division than this,\n",
    "    that the concept sets itself on one side\n",
    "    as the immediate, indeterminate universality;\n",
    "    it is this very indeterminateness\n",
    "    that makes its determinateness,\n",
    "    or that it is a particular.\n",
    "    The two are both a particular\n",
    "    and are therefore coordinated.\n",
    "    \n"
   ]
  },
  {
   "cell_type": "markdown",
   "metadata": {},
   "source": [
    "    Both, as particular, are also\n",
    "    determinate as against the universal,\n",
    "    and in this sense they are subordinated to it.\n",
    "    But even this universal,\n",
    "    as against which the particular is determined,\n",
    "    is for that reason itself also\n",
    "    just one of the opposing sides.\n",
    "    When we speak of two opposing sides,\n",
    "    we must repeat that the two constitute the particular,\n",
    "    not just together, as if they were alike\n",
    "    in being particular only for external reflection,\n",
    "    but because their determinateness over against each other is\n",
    "    at the same time essentially only one determinateness;\n",
    "    it is the negativity which in the universal is simple.\n"
   ]
  },
  {
   "cell_type": "markdown",
   "metadata": {},
   "source": [
    "\n",
    "    Difference, as it presents itself here,\n",
    "    is in its concept and therefore in its truth.\n",
    "    All previous difference has this unity in the concept.\n",
    "    As it is present immediately in being,\n",
    "    difference is the limit of an other;\n",
    "    as present in reflection, it is relative,\n",
    "    posited as referring essentially to its other;\n",
    "    here is where the unity of the concept\n",
    "    thus begins to be posited;\n",
    "    at first, however, the unity is only\n",
    "    a reflective shine in an other.\n"
   ]
  },
  {
   "cell_type": "markdown",
   "metadata": {},
   "source": [
    "\n",
    "    The true significance of the transitoriness\n",
    "    and the dissolution of these determinations is just this,\n",
    "    that they attain to their concept, to their truth;\n",
    "    being, existence, something,\n",
    "    or whole and part, and so on,\n",
    "    substance and accidents, cause and effect,\n",
    "    are thought determinations on their own;\n",
    "    as determinate concepts, however,\n",
    "    they are grasped in so far as each\n",
    "    is cognized in unity with its others\n",
    "    or in opposition to them.\n",
    " "
   ]
  },
  {
   "cell_type": "markdown",
   "metadata": {},
   "source": [
    "    Whole and parts, for example,\n",
    "    or cause and effect, and so on,\n",
    "    are not yet diverse terms\n",
    "    that are determined as particular\n",
    "    relatively to each other,\n",
    "    for although they implicitly constitute one concept,\n",
    "    their unity has not yet attained the form of universality;\n",
    "    thus the difference as well which is in these relations,\n",
    "    does not yet have the form of being one determinateness.\n",
    "    Cause and effect, for example, are not two diverse concepts\n",
    "    but only one determinate concept,\n",
    "    and causality is, like every concept,\n",
    "    a simple concept.\n"
   ]
  },
  {
   "cell_type": "markdown",
   "metadata": {},
   "source": [
    "\n",
    "    With respect to completeness,\n",
    "    we have just seen that the determinate moment\n",
    "    of particularity is complete in the difference\n",
    "    of the universal and the particular,\n",
    "    and that only these two make up the particular species.\n"
   ]
  },
  {
   "cell_type": "markdown",
   "metadata": {},
   "source": [
    "\n",
    "    To be sure, there are more than two species\n",
    "    to be found in any genus in nature,\n",
    "    and these many species cannot stand\n",
    "    in the same relation to each other\n",
    "    as we have shown.\n",
    "    This is the impotence of nature,\n",
    "    that it cannot abide by and exhibit the rigor of the concept\n",
    "    and loses itself in a blind manifoldness void of concept.\n",
    "    We can wonder at nature,\n",
    "    at the manifoldness of its genera and species,\n",
    "    in the infinite diversity of its shapes,\n",
    "    for wonder is without concept\n",
    "    and its object is the irrational.\n",
    "    It is allowed to nature,\n",
    "    since nature is the self-externality of the concept,\n",
    "    to indulge in this diversity,\n",
    "    just as spirit, even though it possesses\n",
    "    the concept in the shape of concept,\n",
    "    lets itself go into pictorial representation\n",
    "    and runs wild in the infinite manifoldness of the latter.\n",
    "    \n"
   ]
  },
  {
   "cell_type": "markdown",
   "metadata": {},
   "source": [
    "    The manifold genera and species of nature must not be\n",
    "    esteemed to be anything more than arbitrary notions of spirit\n",
    "    engaged in pictorial representations.\n",
    "    Both indeed show traces and intimations of the concept,\n",
    "    but they do not exhibit it in trustworthy copy,\n",
    "    for they are the sides of its free self-externality;\n",
    "    the concept is the absolute power precisely\n",
    "    because it can let its difference go free\n",
    "    in the shape of self-subsistent diversity,\n",
    "    external necessity, accidentality, arbitrariness, opinion;\n",
    "    all of which, however, must not be taken as anything\n",
    "    more than the abstract side of nothingness.\n"
   ]
  },
  {
   "cell_type": "markdown",
   "metadata": {},
   "source": [
    "\n",
    "    As we have just seen, the determinateness of\n",
    "    the particular is simple as principle,\n",
    "    but it is also simple as a moment of the totality,\n",
    "    determinateness as against the other determinateness.\n",
    "    \n"
   ]
  },
  {
   "cell_type": "markdown",
   "metadata": {},
   "source": [
    "    The concept, in determining or differentiating itself,\n",
    "    behaves negatively towards its unity\n",
    "    and gives itself the form of one\n",
    "    of its ideal moments of being;\n",
    "    as a determinate concept,\n",
    "    it has a determinate existence in general.\n"
   ]
  },
  {
   "cell_type": "markdown",
   "metadata": {
    "notebookRunGroups": {
     "groupValue": ""
    }
   },
   "source": [
    "\n",
    "    But this being no longer has\n",
    "    the significance of mere immediacy,\n",
    "    but has the significance rather of an immediacy\n",
    "    which is equal to itself by virtue of absolute mediation,\n",
    "    an immediacy that equally contains in itself\n",
    "    the other moment of essence or of reflection.\n"
   ]
  },
  {
   "cell_type": "markdown",
   "metadata": {},
   "source": [
    "\n",
    "    This universality, with which the determinate clothes itself,\n",
    "    is abstract universality.\n",
    "    The particular has this universality in it as its essence;\n",
    "    but in so far as the determinateness\n",
    "    of the difference is posited\n",
    "    and thereby has being,\n",
    "    the universality is form in it,\n",
    "    and the determinateness as such is its content.\n",
    "   "
   ]
  },
  {
   "cell_type": "markdown",
   "metadata": {},
   "source": [
    "    Universality becomes form inasmuch as\n",
    "    the difference is something essential,\n",
    "    just as in the pure universal it is, on the contrary,\n",
    "    only absolute negativity\n",
    "    and not a difference posited as such.\n"
   ]
  },
  {
   "cell_type": "markdown",
   "metadata": {},
   "source": [
    "\n",
    "    Now the determinateness is indeed an abstraction,\n",
    "    as against the other determinateness;\n",
    "    but the other determinateness is only universality itself,\n",
    "    and this too is therefore abstract universality;\n",
    "    and the determinateness of the concept, or particularity,\n",
    "    is again nothing more than determinate universality.\n",
    "    In this universality, the concept is outside itself,\n",
    "    and because it is it, the concept,\n",
    "    which is there outside itself,\n",
    "    the abstract-universal contains\n",
    "    all the moments of the concept.\n",
    "    It is\n",
    "    (a) universality,\n",
    "    (b) determinateness,\n",
    "    (c) the simple unity of the two;\n",
    "    but this unity is immediate,\n",
    "    and the particularity is not\n",
    "    therefore as totality.\n",
    "    \n"
   ]
  },
  {
   "cell_type": "markdown",
   "metadata": {},
   "source": [
    "    Implicitly it is this totality also, and mediation;\n",
    "    it is essentially a reference to the other excluding it,\n",
    "    or the sublation of negation,\n",
    "    namely of the other determinateness\n",
    "    an other that lingers on only as an intention,\n",
    "    for it vanishes immediately revealing itself to be\n",
    "    the same as its other is supposed to be.\n",
    "    Therefore, what makes this universality an abstraction\n",
    "    is that the mediation is only a condition,\n",
    "    or is not posited in it.\n"
   ]
  },
  {
   "cell_type": "markdown",
   "metadata": {},
   "source": [
    "\n",
    "    Because it is not posited,\n",
    "    the unity of the abstraction has the form of immediacy,\n",
    "    and the content has the form of indifference to its universality,\n",
    "    for the content is nothing but this totality\n",
    "    which is the universality of absolute negativity.\n",
    "    Hence the abstract universal is indeed the concept,\n",
    "    but the unconceptualized concept,\n",
    "    the concept not posited as such.\n"
   ]
  },
  {
   "cell_type": "markdown",
   "metadata": {},
   "source": [
    "\n",
    "    When we speak of the determinate concept,\n",
    "    what we ordinarily mean is\n",
    "    precisely just this abstract universal.\n",
    "    Even by concept as such,\n",
    "    what is generally understood is\n",
    "    only this unconceptualized concept,\n",
    "    and the understanding is designated as its faculty.\n",
    "    Demonstration belongs to this understanding\n",
    "    inasmuch as it proceeds by way of concepts,\n",
    "    that is to say, only in determinations.\n",
    "    This progression by way of concepts does not therefore\n",
    "    reach past finitude and necessity;\n",
    "    the highest it reaches is the negative infinite,\n",
    "    the abstraction of the highest essence\n",
    "    which is itself the determinateness\n",
    "    of the indeterminateness.\n"
   ]
  },
  {
   "cell_type": "markdown",
   "metadata": {},
   "source": [
    "\n",
    "    Absolute substance, too, although not this empty abstraction\n",
    "    but on the contrary a totality according to content,\n",
    "    is still abstract, for since it is without absolute form,\n",
    "    its innermost truth is not constituted by the concept;\n",
    "    although it is the identity of universality and particularity,\n",
    "    or of thought and externality,\n",
    "    this identity is not the determinateness of the concept;\n",
    "    there is rather an understanding outside it,\n",
    "    an understanding which is contingent precisely\n",
    "    because it is outside it in which and for which\n",
    "    substance exists in diverse attributes and modes.\n",
    "    \n"
   ]
  },
  {
   "cell_type": "markdown",
   "metadata": {},
   "source": [
    "    Moreover, abstraction is not as empty as\n",
    "    it is usually said to be;\n",
    "    it is the determinate concept;\n",
    "    it has some determinateness or other for its content;\n",
    "    the highest essence also, the pure abstraction,\n",
    "    has the determinateness of indeterminateness,\n",
    "    as just mentioned;\n",
    "    but indeterminateness is a determinateness\n",
    "    because it is supposed to stand opposite the determinate.\n",
    "    But the moment one says what it is,\n",
    "    its intended meaning sublates itself by itself;\n",
    "    for it is spoken of on a par with determinateness,\n",
    "    and from this abstraction the concept and its truth are brought out.\n",
    "    \n"
   ]
  },
  {
   "cell_type": "markdown",
   "metadata": {},
   "source": [
    "    To be sure, any determinate concept is empty\n",
    "    in so far as it does not contain the totality,\n",
    "    but only a one-sided determinateness.\n",
    "    Even when it has otherwise concrete content\n",
    "    such as, for instance, humankind, the state, animal, etc.,\n",
    "    it remains an empty concept inasmuch as its determinateness is\n",
    "    not the principle of its differentiation;\n",
    "    the principle contains the beginning and the essence\n",
    "    of its development and realization;\n",
    "    any other determinateness of the concept is however otiose.\n",
    "    To reproach the concept as such for being empty is\n",
    "    to ignore its absolute determinateness\n",
    "    which is the difference of the concept\n",
    "    and the only true content in the element of the concept.\n"
   ]
  },
  {
   "cell_type": "markdown",
   "metadata": {},
   "source": [
    "\n",
    "    Here we have the circumstance that explains\n",
    "    why the understanding is nowadays held in such a low repute\n",
    "    and is so much discredited when measured against reason;\n",
    "    it is the fixity which it imparts to determinacies\n",
    "    and consequently to anything finite.\n",
    "    This fixity consists in the form of the abstract universality\n",
    "    just considered that makes them unalterable.\n",
    "    For qualitative determinateness,\n",
    "    and also the determination of reflection,\n",
    "    are essentially limited,\n",
    "    and because of their limitation they entail a reference\n",
    "    to their other;\n",
    "    hence the necessity of their transition and passing away.\n"
   ]
  },
  {
   "cell_type": "markdown",
   "metadata": {},
   "source": [
    "\n",
    "    But the universality which they possess in the understanding\n",
    "    gives them the form of immanent reflection\n",
    "    and, because this form removes from them\n",
    "    the reference to the other,\n",
    "    they have become unalterable.\n",
    "    Now although this eternity belongs\n",
    "    to the pure concept by nature,\n",
    "    the determinations of the concept are\n",
    "    eternal essentialities only according to form;\n",
    "    but their content is not proportionate to this form\n",
    "    and, therefore, they are not truth, or imperishable.\n",
    "    \n"
   ]
  },
  {
   "cell_type": "markdown",
   "metadata": {},
   "source": [
    "    Their content is not proportionate to the form\n",
    "    because it is not the determinateness itself as universal,\n",
    "    that is, not as totality of the difference of the concept,\n",
    "    or is not itself the whole form;\n",
    "    the form of the limited understanding is\n",
    "    for this reason itself imperfect universality,\n",
    "    that is to say, abstract universality.\n"
   ]
  },
  {
   "cell_type": "markdown",
   "metadata": {},
   "source": [
    "\n",
    "    But further, we must pay due respect to the\n",
    "    infinite force of the understanding\n",
    "    in splitting the concrete into abstract determinacies\n",
    "    and plumbing the depth of the difference,\n",
    "    this force which alone is at the same time\n",
    "    the mighty power causing the transition of the determinacies.\n",
    "    \n"
   ]
  },
  {
   "cell_type": "markdown",
   "metadata": {},
   "source": [
    "    The concrete of intuition is a totality,\n",
    "    but a sensuous totality,\n",
    "    a real material that subsists in space and time,\n",
    "    part outside part, each indifferent to the other;\n",
    "    surely this lack of unity in a manifold that\n",
    "    makes it the content of intuition ought not to be credited\n",
    "    as privileging it over the universal of the understanding.\n",
    "    The mutability that the manifold exhibits\n",
    "    in intuition already points to the universal;\n",
    "    but all of the manifold that comes to intuition is\n",
    "    just more of the same, an equally alterable other,\n",
    "    not the universal that one would expect to appear and take its place.\n",
    "    \n"
   ]
  },
  {
   "cell_type": "markdown",
   "metadata": {},
   "source": [
    "    But least of all should we reckon to the credit of such sciences\n",
    "    as for example Geometry and Arithmetic\n",
    "    that their material carries an intuitive element with it,\n",
    "    or imagine that their propositions are grounded by it.\n",
    "    On the contrary, the presence of that element renders\n",
    "    the material of these sciences of an inferior nature;\n",
    "    the intuition of figures or numbers is\n",
    "    of no help to the science of figures and numbers;\n",
    "    only the thought of them produces this science.\n"
   ]
  },
  {
   "cell_type": "markdown",
   "metadata": {},
   "source": [
    "\n",
    "    But if by intuition we understand\n",
    "    not merely a sensuous material\n",
    "    but the objective totality,\n",
    "    then the intuition is an intellectual one, that is,\n",
    "    its subject matter is not existence in its externalization\n",
    "    but that element in existence which is\n",
    "    unalterable reality and truth;\n",
    "    the reality only in so far as it is essentially\n",
    "    in the concept and is determined by it;\n",
    "    the idea, of whose more precise nature more will be said later.\n",
    "    What intuition as such is supposed to have\n",
    "    over the concept is external reality,\n",
    "    the reality that lacks the concept\n",
    "    and receives value only through the concept.\n"
   ]
  },
  {
   "cell_type": "markdown",
   "metadata": {},
   "source": [
    "\n",
    "    Consequently, since the understanding exhibits\n",
    "    the infinite force that determines the universal,\n",
    "    or conversely, since it is the understanding\n",
    "    that through the form of universality\n",
    "    imparts stable subsistence to the otherwise\n",
    "    inherent instability of determinateness,\n",
    "    then it is not the fault of the understanding\n",
    "    if there is no further advance.\n"
   ]
  },
  {
   "cell_type": "markdown",
   "metadata": {},
   "source": [
    "\n",
    "    It is a subjective impotence of reason\n",
    "    that allows these determinacies to remain so dispersed,\n",
    "    and is unable to bring them back to their unity\n",
    "    through the dialectical force opposed\n",
    "    to that abstract universality,\n",
    "    that is to say, through the determinacies'\n",
    "    own nature which is their concept.\n"
   ]
  },
  {
   "cell_type": "markdown",
   "metadata": {},
   "source": [
    "\n",
    "    To be sure, the understanding does give them\n",
    "    through the form of abstract universality a rigidity of being,\n",
    "    so to speak, which they do not otherwise possess\n",
    "    in the qualitative sphere and in the sphere of reflection;\n",
    "    but by thus simplifying them, the understanding\n",
    "    at the same time quickens them with spirit,\n",
    "    and it so sharpens them that only at that point,\n",
    "    only there, do they also obtain the capacity\n",
    "    to dissolve themselves and to pass over into their opposite.\n",
    "    \n"
   ]
  },
  {
   "cell_type": "markdown",
   "metadata": {},
   "source": [
    "    The ripest maturity, the highest stage,\n",
    "    that anything can attain is\n",
    "    the one at which its fall begins.\n",
    "    The fixity of the determinacies\n",
    "    which the understanding appears to run up against,\n",
    "    the form of the imperishable,\n",
    "    is that of self-referring universality.\n",
    "    But this universality belongs to the concept as its own,\n",
    "    and for this reason what is found expressed in it,\n",
    "    infinitely close at hand,\n",
    "    is the dissolution of the finite.\n",
    "    \n"
   ]
  },
  {
   "cell_type": "markdown",
   "metadata": {},
   "source": [
    "    This universality directly contradicts\n",
    "    the determinateness of the finite\n",
    "    and makes explicit its disproportion\n",
    "    with respect to it.\n",
    "    Or rather, that disproportion is already at hand;\n",
    "    the abstract determinate is posited as\n",
    "    one with universality\n",
    "    and, for this reason, not for itself\n",
    "    (for it would then be only a determinate)\n",
    "    but, on the contrary,\n",
    "    only as the unity of itself and the universal,\n",
    "    that is, as concept.\n"
   ]
  },
  {
   "cell_type": "markdown",
   "metadata": {},
   "source": [
    "\n",
    "    Therefore the common practice\n",
    "    of separating understanding and reason\n",
    "    is to be rejected on all counts.\n",
    "    On the contrary, to consider the concept\n",
    "    as void of reason should itself be\n",
    "    considered as an incapacity of reason\n",
    "    to recognize itself in the concept.\n",
    "    The determinate and abstract concept is the condition,\n",
    "    or rather an essential moment, of reason;\n",
    "    it is form quickened by spirit in which the finite,\n",
    "    through the universality in which it refers to itself,\n",
    "    is internally kindled, is posited as dialectical\n",
    "    and thereby is the beginning of the appearance of reason.\n"
   ]
  },
  {
   "cell_type": "markdown",
   "metadata": {},
   "source": [
    "\n",
    "    Since in the foregoing the determinate concept\n",
    "    has been presented in its truth,\n",
    "    it is only left to indicate what, as so presented,\n",
    "    it has already been posited as.\n",
    "    Difference, which is an essential moment of the concept\n",
    "    but in the pure universal is not yet posited as such,\n",
    "    receives its due in the determinate concept.\n",
    "    Determinateness in the form of universality is\n",
    "    united with the latter to form a simple;\n",
    "    determinate universality is self-referring determinateness,\n",
    "    determinate determinateness,\n",
    "    or absolute negativity posited for itself.\n",
    "    \n"
   ]
  },
  {
   "cell_type": "markdown",
   "metadata": {},
   "source": [
    "    But self-referring determinateness is singularity.\n",
    "    Just as universality immediately is\n",
    "    particularity in and for itself,\n",
    "    no less immediately is particularity also\n",
    "    singularity in and for itself;\n",
    "    this singularity is at first to be regarded as\n",
    "    the third moment of the concept,\n",
    "    inasmuch as it is held fast\n",
    "    in opposition to the other two,\n",
    "    but also as the absolute turning back\n",
    "    of the concept into itself,\n",
    "    and at the same time\n",
    "    as the posited loss of itself.\n"
   ]
  },
  {
   "cell_type": "markdown",
   "metadata": {
    "notebookRunGroups": {
     "groupValue": ""
    }
   },
   "source": [
    "## C. THE SINGULAR CONCEPT\n"
   ]
  },
  {
   "cell_type": "markdown",
   "metadata": {},
   "source": [
    "\n",
    "    Singularity, as we have seen, is\n",
    "    already posited through particularity;\n",
    "    this is determinate universality\n",
    "    and hence self-referring determinateness,\n",
    "    the determinate determinate.\n"
   ]
  },
  {
   "cell_type": "markdown",
   "metadata": {},
   "source": [
    "\n",
    "    1. At first, therefore, singularity appears\n",
    "    as the reflection of the concept\n",
    "    out of its determinateness into itself.\n",
    "    It is the concept's self-mediation by virtue of which,\n",
    "    since its otherness has once more been made into an other,\n",
    "    it restores itself as self-equal,\n",
    "    but in the determination of absolute negativity.\n",
    "    The negative in the universal,\n",
    "    by virtue of which this universal is a particular,\n",
    "    was earlier determined as a doubly reflective shine.\n"
   ]
  },
  {
   "cell_type": "markdown",
   "metadata": {},
   "source": [
    "\n",
    "    In so far as the reflective shining is inward,\n",
    "    the particular remains a universal;\n",
    "    through the outward shining,\n",
    "    it is a determinate particular;\n",
    "    the turning back of this side\n",
    "    into the universal is twofold,\n",
    "    either by virtue of an abstraction\n",
    "    that lets the particular fall away\n",
    "    and climbs to a higher and the highest genus,\n",
    "    or by virtue of the singularity\n",
    "    to which the universality in\n",
    "    the determinateness itself descends.\n"
   ]
  },
  {
   "cell_type": "markdown",
   "metadata": {},
   "source": [
    "\n",
    "    Here is where the false start is made\n",
    "    that makes abstraction stray away\n",
    "    from the way of the concept,\n",
    "    abandoning the truth.\n",
    "    Its higher and highest universal\n",
    "    to which it rises is only a surface\n",
    "    that becomes progressively more void of content;\n",
    "    the singularity which it scorns is\n",
    "    the depth in which the concept grasps itself\n",
    "    and where it is posited as concept.\n"
   ]
  },
  {
   "cell_type": "markdown",
   "metadata": {},
   "source": [
    "\n",
    "    Universality and particularity appeared, on the one hand,\n",
    "    as moments of the becoming of singularity.\n",
    "    But it has already been shown that the two are\n",
    "    in themselves the total concept;\n",
    "    consequently, that in singularity they do\n",
    "    not pass over into an other\n",
    "    but that, on the contrary,\n",
    "    what is posited in it is\n",
    "    what they are in and for themselves.\n"
   ]
  },
  {
   "cell_type": "markdown",
   "metadata": {},
   "source": [
    "\n",
    "    The universal is for itself because it\n",
    "    is absolute mediation in itself,\n",
    "    self-reference only as absolute negativity.\n",
    "    It is an abstract universal\n",
    "    inasmuch as this sublating is an external act\n",
    "    and so a dropping off of the determinateness.\n",
    "    This negativity, therefore, attaches indeed\n",
    "    to the abstract universal,\n",
    "    but it remains outside it,\n",
    "    as a mere condition of it;\n",
    "    it is the abstraction itself\n",
    "    that holds its universal opposite it,\n",
    "    and so the universal does not\n",
    "    have singularity in itself\n",
    "    and remains void of concept.\n",
    "    \n"
   ]
  },
  {
   "cell_type": "markdown",
   "metadata": {},
   "source": [
    "    Life, spirit, God, as well as the pure concept,\n",
    "    are for this reason beyond the grasp of abstraction,\n",
    "    for abstraction keeps singularity away from its products,\n",
    "    and singularity is the principle of\n",
    "    individuality and personality.\n",
    "    And so it comes to nothing but lifeless universalities,\n",
    "    void of spirit, color, and content.\n"
   ]
  },
  {
   "cell_type": "markdown",
   "metadata": {},
   "source": [
    "\n",
    "    But the unity of the concept is so indissoluble\n",
    "    that these products of abstraction also,\n",
    "    though they are supposed to drop singularity,\n",
    "    are rather themselves singulars.\n",
    "    For in elevating the concrete to universality,\n",
    "    abstraction grasps the universal\n",
    "    as only a determinate universality,\n",
    "    and this is precisely the singularity\n",
    "    that presented itself as self-referring determinateness.\n",
    "    Thus abstraction is a partitioning of the concrete\n",
    "    and an isolating of its determinations;\n",
    "    only singular properties or moments are picked out by it,\n",
    "    for its product must contain what it itself is.\n",
    "    \n"
   ]
  },
  {
   "cell_type": "markdown",
   "metadata": {},
   "source": [
    "    But the difference between this\n",
    "    singularity of its products\n",
    "    and the singularity of the concept is\n",
    "    that in the former the singular and the universal differ\n",
    "    from each other as content and form respectively,\n",
    "    precisely because the content is not the absolute form,\n",
    "    is not the concept itself,\n",
    "    or this form is not the totality of form.\n",
    "    However, this closer consideration shows\n",
    "    that the product of abstraction is\n",
    "    itself the unity of the singular content\n",
    "    and of abstract universality,\n",
    "    therefore that it is something concrete,\n",
    "    the opposite of what it is supposed to be.\n"
   ]
  },
  {
   "cell_type": "markdown",
   "metadata": {},
   "source": [
    "\n",
    "    The particular, for the same reason that\n",
    "    makes it only a determinate universal,\n",
    "    is also a singular, and conversely,\n",
    "    because the singular is a determinate universal,\n",
    "    it is equally a particular.\n",
    "    If we stay at this abstract determinateness,\n",
    "    then the concept has the\n",
    "    three particular determinations of\n",
    "    universal, particular, and singular,\n",
    "    whereas earlier we gave only\n",
    "    the universal and the particular as\n",
    "    species of the particular.\n",
    "    Because singularity is the turning of\n",
    "    the concept as a negative back to itself,\n",
    "    this turning back from abstraction,\n",
    "    which in the turning is truly sublated,\n",
    "    can itself be placed as an indifferent\n",
    "    moment alongside the others\n",
    "    and be counted with them.\n"
   ]
  },
  {
   "cell_type": "markdown",
   "metadata": {},
   "source": [
    "\n",
    "    If singularity is listed as one of the\n",
    "    particular determinations of the concept,\n",
    "    then particularity is the totality\n",
    "    which embraces them all\n",
    "    and, precisely as this totality,\n",
    "    it is the concretion of the determinations\n",
    "    or singularity itself.\n",
    "    But it is a concrete also according\n",
    "    to the previously mentioned side,\n",
    "    as determinate universality;\n",
    "    and then it is the immediate unity\n",
    "    in which none of these moments is posited\n",
    "    as distinct or as the determinant,\n",
    "    and in this form it will constitute\n",
    "    the middle term of the formal syllogism.\n"
   ]
  },
  {
   "cell_type": "markdown",
   "metadata": {},
   "source": [
    "\n",
    "    It follows that each of the determinations\n",
    "    established in the preceding exposition of the concept\n",
    "    has immediately dissolved itself\n",
    "    and has lost itself in its other.\n",
    "    Each distinction is confounded\n",
    "    in the course of the very reflection\n",
    "    that should isolate it and hold it fixed.\n",
    "    \n"
   ]
  },
  {
   "cell_type": "markdown",
   "metadata": {},
   "source": [
    "    Only a way of thinking that is merely representational,\n",
    "    for which abstraction has isolated them,\n",
    "    is capable of holding the universal, the particular,\n",
    "    and the singular rigidly apart.\n",
    "    Then they can be counted;\n",
    "    and for a further distinction\n",
    "    this representation relies on one\n",
    "    which is entirely external to being,\n",
    "    on their quantity,\n",
    "    and nowhere is such a distinction as inappropriate as here.\n",
    "    \n"
   ]
  },
  {
   "cell_type": "markdown",
   "metadata": {},
   "source": [
    "    In singularity, the earlier true relation,\n",
    "    the inseparability of the determinations of the concept,\n",
    "    is posited;\n",
    "    for as the negation of negation,\n",
    "    singularity contains the opposition\n",
    "    of those determinations\n",
    "    and this opposition itself at its ground\n",
    "    or the unity where the determinations have\n",
    "    come together, each in the other.\n",
    "    \n"
   ]
  },
  {
   "cell_type": "markdown",
   "metadata": {},
   "source": [
    "    Because in this reflection\n",
    "    universality is in and for itself,\n",
    "    singularity is essentially the negativity of\n",
    "    the determinations of the concept,\n",
    "    but not merely as if it stood as\n",
    "    a third something distinct from them,\n",
    "    but because what is now posited is\n",
    "    that positedness is being-in-and-for-itself;\n",
    "    that is, what is posited is that\n",
    "    each of the distinct determinations is the totality.\n",
    "    The turning back of the determinate concept into itself\n",
    "    means that its determination is to be\n",
    "    in its determinateness the whole concept.\n"
   ]
  },
  {
   "cell_type": "markdown",
   "metadata": {},
   "source": [
    "\n",
    "    2. Singularity is not, however, only the turning back\n",
    "    of the concept into itself, but the immediate loss of it.\n",
    "    Through singularity, where it is internal to itself,\n",
    "    the concept becomes external to itself and steps into actuality.\n",
    "    Abstraction, which is the soul of singularity\n",
    "    and so the self-reference of the negative,\n",
    "    is, as we have seen, nothing external to\n",
    "    the universal and the particular\n",
    "    but is immanent in them,\n",
    "    and these are concreted through it,\n",
    "    they become a content, a singular.\n",
    "    \n"
   ]
  },
  {
   "cell_type": "markdown",
   "metadata": {},
   "source": [
    "    But, as this negativity, singularity is\n",
    "    the determinate determinateness, differentiation as such,\n",
    "    and through this reflection of the difference into itself,\n",
    "    the difference becomes fixed;\n",
    "    the determining of the particular occurs\n",
    "    only by virtue of singularity,\n",
    "    for singularity is that abstraction which,\n",
    "    precisely as singularity,\n",
    "    is now posited abstraction.\n"
   ]
  },
  {
   "cell_type": "markdown",
   "metadata": {},
   "source": [
    "\n",
    "    The singular, therefore, is as self-referring negativity\n",
    "    the immediate identity of the negative with itself;\n",
    "    it exists for itself.\n",
    "    Or it is the abstraction determining\n",
    "    the concept as an immediate,\n",
    "    according to its ideal moment of being.\n",
    "    Thus the singular is a one which is qualitative, or a this.\n",
    "    In accordance with this qualitative character, it is,\n",
    "    first, the repulsion of itself from itself\n",
    "    by virtue of which many other ones are presupposed;\n",
    "    second, it is now a negative reference\n",
    "    with respect to these presupposed others,\n",
    "    and to this extent the singular is exclusive.\n",
    "    \n"
   ]
  },
  {
   "cell_type": "markdown",
   "metadata": {},
   "source": [
    "    Universality, when referred to\n",
    "    these singulars as indifferent ones\n",
    "    and it must be referred to them,\n",
    "    for they are a moment of the concept of singularity,\n",
    "    is only their commonality.\n",
    "    If by the universal one understands\n",
    "    that which is common to several singulars,\n",
    "    the indifferent subsistence of these singulars is\n",
    "    then taken as the starting point,\n",
    "    thus mixing in the immediacy of being\n",
    "    into the determination of the concept.\n",
    "    The lowest conception one can have of\n",
    "    the universal as connected with the singular\n",
    "    is this external relation that it has\n",
    "    to the latter as a mere commonality.\n"
   ]
  },
  {
   "cell_type": "markdown",
   "metadata": {},
   "source": [
    "\n",
    "    The singular, which in the reflective sphere\n",
    "    of concrete existence is as a this,\n",
    "    does not have the excluding reference\n",
    "    to the other that is characteristic\n",
    "    of qualitative being-for-itself.\n",
    "    A this is a one reflected into itself, without repulsion;\n",
    "    or the repulsion is in this reflection one with abstraction,\n",
    "    a reflective mediation present in the this\n",
    "    that makes it a posited immediacy\n",
    "    pointed at by someone external to it.\n"
   ]
  },
  {
   "cell_type": "markdown",
   "metadata": {},
   "source": [
    "\n",
    "    The this is; it is immediate, it is a this,\n",
    "    however, only in so far as it is pointed at.\n",
    "    This “pointing at” is the reflective movement\n",
    "    that takes hold of itself and posits the immediacy,\n",
    "    but as something external to itself.\n",
    "    Now the singular surely is also a this,\n",
    "    as an immediate which is the result of mediation,\n",
    "    but does not have this mediation outside it;\n",
    "    it is itself repelling separation, posited abstraction,\n",
    "    yet is, precisely in its separation, a positive connection.\n"
   ]
  },
  {
   "cell_type": "markdown",
   "metadata": {},
   "source": [
    "\n",
    "    This act of abstraction by the singular is,\n",
    "    as the immanent reflection of difference,\n",
    "    the first positing of the differences as self-subsisting,\n",
    "    reflected into themselves.\n",
    "    They exist immediately;\n",
    "    but, further, this separating is reflection in general,\n",
    "    the reflective shining of one in the other;\n",
    "    the differences thus stand in essential relation.\n",
    "    \n"
   ]
  },
  {
   "cell_type": "markdown",
   "metadata": {},
   "source": [
    "    They are, moreover, not singulars that\n",
    "    just exist next to each other;\n",
    "    a plurality of this kind belongs to being;\n",
    "    the singularity that posits itself as determinate\n",
    "    does not posit itself in an external difference\n",
    "    but in a difference of the concept;\n",
    "    singularity thus excludes the universal from itself,\n",
    "    but since this universal is a moment of it,\n",
    "    it refers to it just as essentially.\n"
   ]
  },
  {
   "cell_type": "markdown",
   "metadata": {},
   "source": [
    "\n",
    "    The concept, as this connection of\n",
    "    its self-subsistent determinations,\n",
    "    has lost itself,\n",
    "    for the concept itself is no longer\n",
    "    the posited unity of these determinations,\n",
    "    and these no longer are moments,\n",
    "    the reflective shining of the concept,\n",
    "    but subsist rather in and for themselves.\n",
    "    \n"
   ]
  },
  {
   "cell_type": "markdown",
   "metadata": {},
   "source": [
    "    As singularity, the concept returns\n",
    "    in determinateness into itself,\n",
    "    and therewith the determinate has\n",
    "    itself become totality.\n",
    "    The concept's turning back into itself is\n",
    "    thus the absolute, originative partition of itself,\n",
    "    that is, as singularity it is posited as judgment.\n"
   ]
  }
 ],
 "metadata": {
  "kernelspec": {
   "display_name": ".venv",
   "language": "python",
   "name": "python3"
  },
  "language_info": {
   "name": "python",
   "version": "3.11.2"
  }
 },
 "nbformat": 4,
 "nbformat_minor": 2
}
