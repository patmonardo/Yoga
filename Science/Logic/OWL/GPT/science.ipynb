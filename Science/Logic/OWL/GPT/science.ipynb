{
 "cells": [
  {
   "cell_type": "markdown",
   "metadata": {},
   "source": [
    "# GENERAL DIVISION OF BEING\n"
   ]
  },
  {
   "cell_type": "markdown",
   "metadata": {},
   "source": [
    "    Being is determined, first, as against another in general; \n",
    "    secondly, it is internally self-determining; \n",
    "    thirdly, as this preliminary division is cast off,\n",
    "    it is the abstract indeterminateness and immediacy\n",
    "    in which it must be the beginning.\n"
   ]
  },
  {
   "cell_type": "markdown",
   "metadata": {},
   "source": [
    "\n",
    "    According to the first determination,\n",
    "    being partitions itself off from essence,\n",
    "    for further on in its development \n",
    "    it proves to be in its totality \n",
    "    only one sphere of the concept,\n",
    "    and to this sphere as moment \n",
    "    it opposes another sphere.\n"
   ]
  },
  {
   "cell_type": "markdown",
   "metadata": {
    "notebookRunGroups": {
     "groupValue": "2"
    }
   },
   "source": [
    "\n",
    "    According to the second, it is the sphere within which fall\n",
    "    the determinations and the entire movement of its reflection.\n",
    "    In this, being will posititself in three determinations:\n",
    "    I. as determinateness; as such, quality;\n",
    "    II. as sublated determinateness; magnitude, quantity;\n",
    "    III. as qualitatively determined quantity; measure.\n",
    "    \n"
   ]
  },
  {
   "cell_type": "markdown",
   "metadata": {},
   "source": [
    "    This division, as was generally remarked \n",
    "    of such divisions in the Introduction, \n",
    "    is here a preliminary statement;\n",
    "    its determinations must first arise\n",
    "    from the movement of being itself, \n",
    "    and receive their definitions\n",
    "    and justification by virtue of it.\n",
    "    As regards the divergence of this division\n",
    "    from the usual listing of the categories,\n",
    "    namely quantity, quality, relation and modality \n",
    "    (for Kant, incidentally, these are supposed to be\n",
    "    only classifications of his categories,\n",
    "    but are in fact themselves categories,\n",
    "    only more abstract ones)\n",
    "    about this, there is nothing to remark here, \n",
    "    since the entire listing will diverge from\n",
    "    the usual ordering and meaning of the categories at every point.\n"
   ]
  },
  {
   "cell_type": "markdown",
   "metadata": {},
   "source": [
    "\n",
    "    According to the second, it is the sphere within which fall\n",
    "    the determinations and the entire movement of its reflection.\n",
    "    In this, being will posititself in three determinations:\n",
    "    I. as determinateness; as such, quality;\n",
    "    II. as sublated determinateness; magnitude, quantity;\n",
    "    III. as qualitatively determined quantity; measure.\n",
    "    \n"
   ]
  },
  {
   "cell_type": "markdown",
   "metadata": {},
   "source": [
    "\n",
    "    This only can perhaps be remarked,\n",
    "    that the determination of quantity is \n",
    "    ordinarily listed ahead of quality \n",
    "    and as a rule this is done for no given reason. \n",
    "    It has already been shown that the beginning\n",
    "    is made with being as such, \n",
    "    and hence with qualitative being.\n",
    "    It is clear from a comparison of quality with quantity \n",
    "    that the former is by nature first.\n",
    "    For quantity is quality which has already become negative;\n",
    "    magnitude is the determinateness which, \n",
    "    no longer one with being but already distinguished from it,\n",
    "    is the sublated quality that has become indifferent.\n",
    "    It includes the alterability of being without altering the fact itself,\n",
    "    namely being, of which it is the determination;\n",
    "    qualitative determinateness is on the contrary one with its being, \n",
    "    it neither transcends it nor stays within it\n",
    "    but is its immediate restrictedness. \n",
    "    Hence quality, as the determinateness which is immediate,\n",
    "    is the first and it is with it that the beginning is to be made.\n"
   ]
  },
  {
   "cell_type": "markdown",
   "metadata": {},
   "source": [
    "\n",
    "    Measure is a relation, not relation in general\n",
    "    but specifically of quality and quantity to each other;\n",
    "    the categories dealt with by Kant under relation\n",
    "    will come up elsewhere in their proper place.\n",
    "    Measure, if one so wishes, \n",
    "    can be considered also a modality;\n",
    "    but since with Kant modality is no longer supposed\n",
    "    to make up a determination of content,\n",
    "    but only concerns the reference of the content\n",
    "    to thought, to the subjective,\n",
    "    the result is a totally heterogeneous reference\n",
    "    that does not belong here.\n",
    "    \n"
   ]
  },
  {
   "cell_type": "markdown",
   "metadata": {},
   "source": [
    "    The third determination of being\n",
    "    falls within the section Quality\n",
    "    inasmuch as being, as abstract immediacy,\n",
    "    reduces itself to one single determinateness\n",
    "    as against its other determinacies inside its sphere. \n"
   ]
  },
  {
   "cell_type": "markdown",
   "metadata": {},
   "source": [
    "# SECTION I\n"
   ]
  },
  {
   "cell_type": "markdown",
   "metadata": {},
   "source": [
    "# Determinateness (Quality)\n"
   ]
  },
  {
   "cell_type": "markdown",
   "metadata": {},
   "source": [
    "    Being is the indeterminate immediate;\n",
    "    it is free of determinateness with\n",
    "    respect to essence, \n",
    "    just as it is still free of any determinateness that it can\n",
    "    receive within itself. \n",
    "    This reflectionless being is being\n",
    "    as it immediately is only within.\n",
    "    Since it is immediate, it is being without quality;\n",
    "    but the character of indeterminateness attaches to it\n",
    "    in itself only in opposition to what is determinate or qualitative.\n"
   ]
  },
  {
   "cell_type": "markdown",
   "metadata": {},
   "source": [
    "    Determinate being thus comes to stand\n",
    "    over and against being in general; \n",
    "    with that, however, the very indeterminateness\n",
    "    of being constitutes its quality.\n",
    "    It will therefore be shown that \n",
    "    the first being is in itself determinate,\n",
    "    and therefore, secondly,\n",
    "    that it passes over into existence,\n",
    "    is existence; \n",
    "    that this latter, however, as finite being,\n",
    "    sublates itself and passes over into\n",
    "    the infinite reference of being to itself;\n",
    "    it passes over, thirdly, into being-for-itself"
   ]
  }
 ],
 "metadata": {
  "kernelspec": {
   "display_name": "jupyter",
   "language": "python",
   "name": "jupyter"
  },
  "language_info": {
   "name": "python",
   "version": "3.11.2"
  }
 },
 "nbformat": 4,
 "nbformat_minor": 2
}
