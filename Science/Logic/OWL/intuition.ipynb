{
 "cells": [
  {
   "cell_type": "markdown",
   "metadata": {},
   "source": [
    "# CHAPTER 2"
   ]
  },
  {
   "cell_type": "markdown",
   "metadata": {},
   "source": [
    "# B. FINITUDE"
   ]
  },
  {
   "cell_type": "markdown",
   "metadata": {},
   "source": [
    "    (a) Something and other, at first they are indifferent to one another;\n",
    "    an other is also an immediate existent, a something;\n",
    "    the negation thus falls outside both.\n",
    "    Something is in itself in contrast to its being-for-other.\n",
    "    But the determinateness belongs also to its in-itself, and\n"
   ]
  },
  {
   "cell_type": "markdown",
   "metadata": {},
   "source": [
    "\n",
    "1. **Initial Indifference of Something and Other**: The transcreation emphasizes the initial state of independence and indifference between 'something' and 'other,' where each exists as an immediate entity.\n",
    "\n",
    "2. **External Negation**: It points out that, initially, negation is an external factor, not inherent in the relationship between 'something' and 'other.'\n",
    "\n",
    "3. **Contrast Between In-Itself and Being-for-Other**: The transcreation highlights the distinction between 'something’s' inherent nature (in-itself) and its relational aspect (being-for-other).\n",
    "\n",
    "4. **Inherent Nature Includes Determinateness**: It suggests that the inherent nature of 'something' (in-itself) also encompasses its distinct characteristics, influencing its identity."
   ]
  },
  {
   "cell_type": "markdown",
   "metadata": {},
   "source": [
    "\n",
    "    (b) the determination of this in-itself\n",
    "    in turn passes over into constitution,\n",
    "    and this latter, as identical with determination,\n",
    "    constitutes the immanent and at the same time\n",
    "    negated being-for-another,\n",
    "    the limit of something which\n"
   ]
  },
  {
   "cell_type": "markdown",
   "metadata": {},
   "source": [
    "\n",
    "1. **Evolution of In-Itself to Constitution**: The transcreation describes the transformation of the inherent nature of 'something' into its constitution, indicating a deeper level of self-definition.\n",
    "\n",
    "2. **Constitution as Immanent and Negated**: It highlights that the constitution is simultaneously the true essence of 'something' and a negation of its being-for-another, encompassing both aspects.\n",
    "\n",
    "3. **Limit as Boundary of Identity**: The transcreation points out that this constitution forms the 'limit' of 'something,' defining its boundaries and identity in contrast to 'other.'\n",
    "\n",
    "4. **Duality of Identity and Relation**: The approach emphasizes the duality in 'something’s' identity, integrating its distinct nature and its relational aspect."
   ]
  },
  {
   "cell_type": "markdown",
   "metadata": {},
   "source": [
    "\n",
    "    (c) is the immanent determination of the something itself,\n",
    "    and the something thus is the finite.\n"
   ]
  },
  {
   "cell_type": "markdown",
   "metadata": {},
   "source": [
    "\n",
    "1. **Immanence of Limit as Determination**: The transcreation emphasizes that the limit is an inherent characteristic of 'something,' defining its nature from within.\n",
    "\n",
    "2. **Something as Essentially Finite**: It highlights that this immanent determination renders 'something' finite, shaping its essential identity.\n",
    "\n",
    "3. **Intrinsic Nature of Finitude**: The transcreation points out that the finitude of 'something' is intrinsic, stemming from its own characteristics and boundaries.\n",
    "\n",
    "4. **Contrast with External Finitude**: The approach contrasts this inherent finitude with the idea of finitude imposed by external factors, underlining its internal origin."
   ]
  },
  {
   "cell_type": "markdown",
   "metadata": {},
   "source": [
    "\n",
    "    In the first division where \n",
    "    existence in general was considered,\n",
    "    this existence had, as at first taken up, \n",
    "    the determination of an existent.\n",
    "    The moments of its development, quality and something,\n",
    "    are therefore of equally affirmative determination.\n",
    "    \n"
   ]
  },
  {
   "cell_type": "markdown",
   "metadata": {},
   "source": [
    "\n",
    "1. **Initial Understanding of Existence**: The transcreation reflects on the initial examination of existence, where it was characterized as an 'existent.'\n",
    "\n",
    "2. **Affirmative Nature of Developmental Moments**: It highlights that the developmental stages of existence, specifically 'quality' and 'something,' are defined by their affirmative, positive nature.\n",
    "\n",
    "3. **Equality of Determination in Quality and Something**: The transcreation points out that both 'quality' and 'something' share an equal level of affirmative determination, emphasizing their concrete and positive nature.\n",
    "\n",
    "4. **Contrast with Negative or Abstract Concepts**: The approach contrasts these affirmative determinations with the idea of negation or abstracIness, underscoring their substantive essence."
   ]
  },
  {
   "cell_type": "markdown",
   "metadata": {},
   "source": [
    "    The present division, on the contrary, develops\n",
    "    the negative determination which is present in existence\n",
    "    and was there from the start only as negation in general.\n",
    "    It was then the first negation but has now been determined to\n",
    "    the point of the being-in-itself of the something,\n",
    "    the point of the negation of negation.\n"
   ]
  },
  {
   "cell_type": "markdown",
   "metadata": {},
   "source": [
    "\n",
    "1. **Shift to Negative Determination**: The transcreation emphasizes the shift from exploring affirmative aspects of existence to examining its negative determinations.\n",
    "\n",
    "2. **Evolution of Negation**: It outlines the progression from a general negation to a more complex state, where negation becomes integral to the being-in-itself of 'something.'\n",
    "\n",
    "3. **From First Negation to Negation of Negation**: The transcreation describes the transition from the initial, simpler form of negation to the negation of negation, indicating a deeper level of conceptual development.\n",
    "\n",
    "4. **Deepening Understanding of Existence**: The approach highlights how this progression leads to a more profound understanding of existence, particularly in terms of its intrinsic nature."
   ]
  },
  {
   "cell_type": "markdown",
   "metadata": {},
   "source": [
    "## a. Something and other\n"
   ]
  },
  {
   "cell_type": "markdown",
   "metadata": {},
   "source": [
    "\n",
    "    1. Something and other are,\n",
    "    first, both existents or something.\n",
    "    Second, each is equally an other.\n",
    "    It is indifferent which is named first,\n",
    "    and just for this reason it is named something\n",
    "    (in Latin, when they occur in a proposition,\n",
    "    both are aliud, or “the one, the other,” alius alium;\n",
    "    in the case of an alternating relation,\n",
    "    the analogous expression is alter alterum).\n"
   ]
  },
  {
   "cell_type": "markdown",
   "metadata": {},
   "source": [
    "\n",
    "1. **Dual Nature of Something and Other**: The transcreation emphasizes that 'something' and 'other' are both existents and each serves as an 'other' to the other, highlighting their dual and reciprocal roles.\n",
    "\n",
    "2. **Indifference in Naming**: It points out that the naming of either as 'something' or 'other' is arbitrary, indicating their interchangeable nature.\n",
    "\n",
    "3. **Latin Terminology Illustrating Interchangeability**: The transcreation explains the use of Latin terms like 'aliud' and 'alter alterum' to illustrate the reciprocal identity of 'something' and 'other.'\n",
    "\n",
    "4. **Equal and Reciprocal Existence**: The approach underscores the equality and reciprocity in the existence and relationship of 'something' and 'other.'"
   ]
  },
  {
   "cell_type": "markdown",
   "metadata": {},
   "source": [
    "\n",
    "    If of two beings we call the one A and the other B,\n",
    "    the B is the one which is first determined as other.\n",
    "    But the A is just as much the other of the B.\n",
    "    Both are other in the same way.\n",
    "    “This” serves to fix the distinction\n",
    "    and the something which is to be taken in the affirmative sense.\n",
    "    But “this” also expresses the fact that the distinction,\n",
    "    and the privileging of one something,\n",
    "    is a subjective designation that falls outside the something itself.\n",
    "    \n"
   ]
  },
  {
   "cell_type": "markdown",
   "metadata": {},
   "source": [
    "\n",
    "1. **Mutual Otherness**: The transcreation highlights the mutual otherness of A and B, illustrating that each is the 'other' of the other in equal measure.\n",
    "\n",
    "2. **Role of 'This' in Fixing Distinction**: It emphasizes that the term 'this' is used to clarify and establish which entity is being referred to as 'something' in a positive sense.\n",
    "\n",
    "3. **Subjectivity of Distinction**: The transcreation points out that the distinction and prioritization of one entity over the other is a subjective action, external to the intrinsic nature of A and B.\n",
    "\n",
    "4. **Equal Nature of Otherness**: The approach underscores the equality in the status of A and B as 'other,' countering any inherent privileging of one over the other.\n"
   ]
  },
  {
   "cell_type": "markdown",
   "metadata": {},
   "source": [
    "    The whole determinateness falls on the side of this external pointing;\n",
    "    also the expression “this” contains no distinctions;\n",
    "    each and every something is just as good a “this” as any other.\n",
    "    By “this” we mean to express something completely determinate,\n",
    "    overlooking the fact that language, as a work of the understanding,\n",
    "    only expresses the universal, albeit naming it as a single object.\n",
    "    But an individual name is something meaningless in the sense\n",
    "    that it does not express a universal.\n",
    "    It appears as something merely posited\n",
    "    and arbitrary for the same reason\n",
    "    that proper names can also be arbitrarily picked,\n",
    "    arbitrarily given as well as arbitrarily altered.\n"
   ]
  },
  {
   "cell_type": "markdown",
   "metadata": {},
   "source": [
    "\n",
    "1. **Non-Distinctiveness of 'This'**: The transcreation emphasizes that the term 'this' lacks inherent distinctions and is an external pointer that can apply to any 'something.'\n",
    "\n",
    "2. **Language Expresses Universals**: It highlights the limitation of language in expressing specifics, noting that language is geared towards expressing universals, even when naming individual objects.\n",
    "\n",
    "3. **Arbitrariness of Individual Names**: The transcreation points out that individual names, unlike linguistic expressions of universals, are arbitrary and lack inherent meaning.\n",
    "\n",
    "4. **Contrast Between Universal and Individual Expression**: The approach contrasts the universal nature of linguistic expressions with the specific, often arbitrary nature of individual names."
   ]
  },
  {
   "cell_type": "markdown",
   "metadata": {},
   "source": [
    "\n",
    "    Otherness thus appears as a determination\n",
    "    alien to the existence thus pointed at,\n",
    "    or the other existence as outside this one existence,\n",
    "    partly because the one existence is determined as other\n",
    "    only by being compared by a Third,\n",
    "    and partly because it is so determined\n",
    "    only on account of the other which is outside it,\n",
    "    but is not an other for itself.\n",
    "    At the same time, as has been remarked,\n",
    "    even for ordinary thinking every existence\n",
    "    equally determines itself as an other existence,\n",
    "    so that there is no existence\n",
    "    that remains determined simply as an existence,\n",
    "    none which is not outside an existence\n",
    "    and therefore is not itself an other.\n"
   ]
  },
  {
   "cell_type": "markdown",
   "metadata": {},
   "source": [
    "\n",
    "1. **External Nature of Otherness**: The transcreation highlights that otherness is typically viewed as an external attribute, not intrinsic to the existence it describes.\n",
    "\n",
    "2. **Relational Definition of Otherness**: It points out that an existence is defined as 'other' in relation to something external or a third entity, not on its own.\n",
    "\n",
    "3. **Inherent Otherness in Existence**: The transcreation contrasts this view with the idea that every existence inherently defines itself as an 'other,' suggesting a more intrinsic quality of otherness.\n",
    "\n",
    "4. **Absence of Mere Existence**: It emphasizes that no existence is simply that; it is always in relation to, and therefore outside of, another existence.\n"
   ]
  },
  {
   "cell_type": "markdown",
   "metadata": {},
   "source": [
    "\n",
    "    Both are determined as something as well as other:\n",
    "    thus they are the same and there is as yet\n",
    "    no distinction present in them.\n",
    "    But this sameness of determinations, too,\n",
    "    falls only within external reflection,\n",
    "    in the comparison of the two;\n",
    "    but the other, as posited at first,\n",
    "    though an other with reference to something,\n",
    "    is other also for itself apart from the something.\n"
   ]
  },
  {
   "cell_type": "markdown",
   "metadata": {},
   "source": [
    "\n",
    "1. **Simultaneous Determination as Something and Other**: The transcreation notes that both entities are defined as both 'something' and 'other,' leading to an initial lack of distinction.\n",
    "\n",
    "2. **Sameness in External Reflection**: It highlights that this sameness is apparent only through external reflection, particularly in comparing the two entities.\n",
    "\n",
    "3. **Intrinsic Otherness of the Other**: The transcreation emphasizes that the 'other,' despite being defined in relation to 'something,' possesses an inherent quality of being 'other' that is independent of this relationship.\n",
    "\n",
    "4. **Distinction Beyond Comparison**: The approach suggests that the true distinction between 'something' and 'other' goes beyond mere external comparison, residing in their intrinsic qualities."
   ]
  },
  {
   "cell_type": "markdown",
   "metadata": {},
   "source": [
    "\n",
    "    Third, the other is therefore to be taken in isolation,\n",
    "    with reference to itself, has to be taken abstractly as the other,\n",
    "    the 'to heteron' of Plato who opposes it to the one\n",
    "    as a moment of totality,\n",
    "    and in this way ascribes to the other a nature of its own.\n",
    "    Thus the other, taken solely as such,\n",
    "    is not the other of something,\n",
    "    but is the other within, that is, the other of itself.\n",
    "    Such an other, which is the other by its own determination,\n",
    "    is physical nature; nature is the other of spirit;\n",
    "    this, its determination, is at first\n",
    "    a mere relativity expressing not a quality of nature itself\n",
    "    but only a reference external to it.\n",
    "    But since spirit is the true something,\n",
    "    and hence nature is what it is within only in contrast to spirit,\n",
    "    taken for itself the quality of nature is just this,\n",
    "    to be the other within, that which-exists-outside-itself\n",
    "    (in the determinations of space, time, matter).\n"
   ]
  },
  {
   "cell_type": "markdown",
   "metadata": {},
   "source": [
    "\n",
    "1. **Self-Referential Nature of 'Other'**: The transcreation emphasizes that 'other' should be considered as an entity referring to itself, aligning with Plato's concept of 'to heteron.'\n",
    "\n",
    "2. **Contrast with Plato's 'The One'**: It notes that Plato contrasts 'to heteron' with 'the one,' giving 'other' a distinct nature in the context of totality.\n",
    "\n",
    "3. **Nature as the Other of Spirit**: The transcreation illustrates that nature, as the 'other' of spirit, initially represents a relative concept, later evolving into an intrinsic quality.\n",
    "\n",
    "4. **Intrinsic Quality of Nature**: It highlights that nature's inherent quality is to be the 'other within,' existing externally in various dimensions."
   ]
  },
  {
   "cell_type": "markdown",
   "metadata": {},
   "source": [
    "\n",
    "    The other which is such for itself is the other within it,\n",
    "    hence the other of itself and so the other of the other;\n",
    "    therefore, the absolutely unequal in itself,\n",
    "    that which negates itself, alters itself.\n",
    "    But it equally remains identical with itself,\n",
    "    for that into which it alters is the other,\n",
    "    and this other has no additional determination;\n",
    "    but that which alters itself is not determined in\n",
    "    any other way than in this, to be an other;\n",
    "    in going over to this other, it only unites with itself.\n",
    "    It is thus posited as reflected into itself\n",
    "    with sublation of the otherness,\n",
    "    a self-identical something from which the otherness,\n",
    "    which is at the same time a moment of it, is therefore distinct,\n",
    "    itself not appertaining to it as something.\n"
   ]
  },
  {
   "cell_type": "markdown",
   "metadata": {},
   "source": [
    "\n",
    "1. **Inherent Otherness and Self-Negation**: The transcreation emphasizes the inherent contradiction in the 'other' being its own 'other,' leading to self-negation and alteration.\n",
    "\n",
    "2. **Self-Identity Amidst Change**: It points out that despite this alteration, the 'other' remains self-identical, as it transitions into another form of 'other' without additional determinations.\n",
    "\n",
    "3. **Unity with Self in Transition**: The transcreation highlights that in changing to another state, the 'other' unites with itself, reinforcing its self-identity.\n",
    "\n",
    "4. **Reflected Self-Identity with Sublated Otherness**: It suggests that the 'other' is posited as self-reflective, negating its otherness while maintaining self-identity.\n"
   ]
  },
  {
   "cell_type": "markdown",
   "metadata": {},
   "source": [
    "\n",
    "    2. The something preserves itself in its non-being;\n",
    "    it is essentially one with it, and essentially not one with it.\n",
    "    It therefore stands in reference to an otherness\n",
    "    without being just this otherness.\n",
    "    The otherness is at once contained in it\n",
    "    and yet separated from it;\n",
    "    it is being-for-other.\n"
   ]
  },
  {
   "cell_type": "markdown",
   "metadata": {},
   "source": [
    "\n",
    "1. **Unity and Distinction with Non-Being**: The transcreation highlights that 'something' is both one with non-being (unified) and not one with it (distinct), illustrating a paradoxical state.\n",
    "\n",
    "2. **Relationship with Otherness**: It points out that 'something' relates to otherness but is not entirely defined by this otherness, indicating a complex relationship.\n",
    "\n",
    "3. **Inherent Yet Separate Otherness**: The transcreation emphasizes that otherness is both contained within 'something' and separated from it, portraying a dual aspect.\n",
    "\n",
    "4. **Concept of Being-For-Other**: The approach underlines that this duality represents the concept of being-for-other, where 'something' is in relation to but not wholly comprised of otherness."
   ]
  },
  {
   "cell_type": "markdown",
   "metadata": {},
   "source": [
    "\n",
    "    Existence as such is an immediate, bare of references;\n",
    "    or, it is in the determination of being.\n",
    "    However, as including non-being within itself,\n",
    "    existence is determinate being,\n",
    "    being negated within itself,\n",
    "    and then in the first instance an other;\n",
    "    but, since in being negated it preserves itself\n",
    "    at the same time, it is only being-for-other.\n",
    "    \n"
   ]
  },
  {
   "cell_type": "markdown",
   "metadata": {},
   "source": [
    "\n",
    "1. **Immediate Nature of Existence**: The transcreation emphasizes that existence is initially immediate and without external references, existing simply as 'being.'\n",
    "\n",
    "2. **Transformation to Determinate Being**: It highlights that the incorporation of non-being turns existence into 'determinate being,' indicating an evolution in its nature.\n",
    "\n",
    "3. **Being Negated as 'An Other'**: The transcreation points out that through internal negation, determinate being first manifests as 'an other.'\n",
    "\n",
    "4. **Preservation as Being-for-Other**: It notes that despite negation, existence preserves its essence, leading it to be more accurately described as 'being-for-other.'\n",
    "\n",
    "5. **Dual Nature of Existence**: The approach underscores the dual nature of existence, simultaneously embodying being and non-being."
   ]
  },
  {
   "cell_type": "markdown",
   "metadata": {},
   "source": [
    "    It preserves itself in its non-being and is being;\n",
    "    not, however, being in general but being with reference\n",
    "    to itself in contrast to its reference to the other,\n",
    "    as self-equality in contrast to its inequality.\n",
    "    Such a being is being-in-itself.\n"
   ]
  },
  {
   "cell_type": "markdown",
   "metadata": {},
   "source": [
    "\n",
    "1. **Preservation in Non-Being**: The transcreation emphasizes that 'something' preserves its state of being even within its non-being, maintaining its existence.\n",
    "\n",
    "2. **Being with Self-Reference**: It highlights that this being is not a general state but is specifically defined by its reference to itself, in contrast to its relation to the 'other.'\n",
    "\n",
    "3. **Self-Equality vs. Inequality**: The transcreation points out the contrast between the self-equality of this being and its inequality or difference from the 'other.'\n",
    "\n",
    "4. **Being-in-Itself as Self-Referential Being**: It defines this specific form of being, grounded in self-reference and self-equality, as 'being-in-itself.'"
   ]
  },
  {
   "cell_type": "markdown",
   "metadata": {},
   "source": [
    "\n",
    "    Being-for-other and being-in-itself constitute\n",
    "    the two moments of something.\n",
    "    There are here two pairs of determinations:\n",
    "    (1) something and other;\n",
    "    (2) being-for-other and being-in-itself.\n",
    "    The former contain the non-connectedness of their determinateness;\n",
    "    something and other fall apart.\n",
    "    \n"
   ]
  },
  {
   "cell_type": "markdown",
   "metadata": {},
   "source": [
    "\n",
    "1. **Dual Aspects of Something**: The transcreation identifies 'being-for-other' and 'being-in-itself' as the two integral components that define 'something.'\n",
    "\n",
    "2. **Two Sets of Determinations**: It outlines the two critical pairs of determinations: the relational pair ('something' and 'other') and the existential pair ('being-for-other' and 'being-in-itself').\n",
    "\n",
    "3. **Disconnectedness in the First Pair**: The transcreation highlights the lack of inherent connection between 'something' and 'other,' indicating their tendency to exist separately.\n",
    "\n",
    "4. **Contrast Between Pairs**: It contrasts the disconnectedness in the first pair with the interrelatedness of the second pair, emphasizing different aspects of 'something’s' existence."
   ]
  },
  {
   "cell_type": "markdown",
   "metadata": {},
   "source": [
    "    But their truth is their connection;\n",
    "    being-for-other and being-in-itself are\n",
    "    therefore the same determinations posited as\n",
    "    moments of one and the same unity,\n",
    "    as determinations which are connections\n",
    "    and which, in their unity,\n",
    "    remain in the unity of existence.\n",
    "    Each thus itself contains within it, at the same time,\n",
    "    also the moment diverse from it.\n",
    "    \n"
   ]
  },
  {
   "cell_type": "markdown",
   "metadata": {},
   "source": [
    "\n",
    "1. **Connection as Truth of Determinations**: The transcreation emphasizes that the true nature of 'something' is found in the connection between 'being-for-other' and 'being-in-itself.'\n",
    "\n",
    "2. **Unified Determinations**: It points out that these aspects are not separate but are parts of a single unified entity, highlighting their interconnected nature.\n",
    "\n",
    "3. **Interdependence of Aspects**: The transcreation underscores that each aspect, while distinct, contains elements of the other, reflecting their interdependent relationship.\n",
    "\n",
    "4. **Unity in Existence**: It notes that these determinations coexist within the unity of existence, maintaining their individuality yet contributing to a larger whole."
   ]
  },
  {
   "cell_type": "markdown",
   "metadata": {},
   "source": [
    "    Being and nothing in their unity, which is existence,\n",
    "    are no longer being and nothing\n",
    "    (these they are only outside their unity);\n",
    "    so in their restless unity, in becoming,\n",
    "    they are coming-to-be and ceasing-to-be.\n",
    "    In the something, being is being-in-itself.\n",
    "    Now, as self-reference, self-equality,\n",
    "    being is no longer immediately,\n",
    "    but is self-reference only as the non-being of otherness\n",
    "    (as existence reflected into itself).\n",
    "    The same goes for non-being:\n",
    "    as the moment of something in this\n",
    "    unity of being and non-being:\n",
    "    it is not non-existence in general\n",
    "    but is the other, and more determinedly,\n",
    "    according as being is at the same time distinguished from it,\n",
    "    it is reference to its non-existence, being-for-other.\n"
   ]
  },
  {
   "cell_type": "markdown",
   "metadata": {},
   "source": [
    "\n",
    "1. **Transcendence in Unity**: The transcreation highlights that in the unity of existence, 'being' and Inothing' transcend their separate identities, becoming 'coming-to-be' and 'ceasing-to-be.'\n",
    "\n",
    "2. **Being as Self-Reference**: It emphasizes that 'being,' within 'something,' is a form of self-reference, specifically the negation of otherness, rather than an immediate presence.\n",
    "\n",
    "3. **Non-Being as 'The Other'**: The transcreation points out that Inon-being' in this unity is not simply non-existence but is defined as 'the other,' or more specifically, 'being-for-other.'\n",
    "\n",
    "4. **Duality of Being and Non-Being**: The approach underscores the duality of 'being' and Inon-being' within 'something,' each taking on new meanings in the context of their unity."
   ]
  },
  {
   "cell_type": "markdown",
   "metadata": {},
   "source": [
    "\n",
    "    Hence being-in-itself is, first,\n",
    "    negative reference to non-existence;\n",
    "    it has otherness outside it and is opposed to it;\n",
    "    in so far as something is in itself,\n",
    "    it is withdrawn from being-other and being-for-other.\n",
    "    But, second, it has non-being also right in it;\n",
    "    for it is itself the non-being of being-for-other.\n",
    "    \n"
   ]
  },
  {
   "cell_type": "markdown",
   "metadata": {},
   "source": [
    "\n",
    "1. **Negative Reference to Non-Existence**: The transcreation emphasizes that 'being-in-itself' initially defines itself negatively in relation to non-existence, positioning otherness as external.\n",
    "\n",
    "2. **Opposition to Otherness**: It highlights that 'being-in-itself' is opposed to otherness, signifying a withdrawal from being 'other' or 'for-other.'\n",
    "\n",
    "3. **Inherent Non-Being within Being-in-Itself**: The transcreation points out that 'being-in-itself' also contains non-being within itself, as it negates the state of being-for-other.\n",
    "\n",
    "4. **Dual Nature of Being-in-Itself**: The approach underscores the dual nature of 'being-in-itself,' being both a negation of non-existence and a form of internal non-being."
   ]
  },
  {
   "cell_type": "markdown",
   "metadata": {},
   "source": [
    "    But being-for-other is, first, the negation of\n",
    "    the simple reference of being to itself\n",
    "    which, in the first place, is supposed\n",
    "    to be existence and something;\n",
    "    in so far as something is in an other or for an other,\n",
    "    it lacks a being of its own.\n",
    "    But, second, it is not non-existence as pure nothing;\n",
    "    it is non-existence that points to being-in-itself\n",
    "    as its being reflected into itself,\n",
    "    just as conversely the being-in-itself points to being-for-other.\n"
   ]
  },
  {
   "cell_type": "markdown",
   "metadata": {},
   "source": [
    "\n",
    "1. **Negation of Self-Reference in Being-for-Other**: The transcreation emphasizes that 'being-for-other' negates the simple self-referential nature of 'something' as existence.\n",
    "\n",
    "2. **Lack of Own Being in External Relation**: It highlights that when 'something' exists for another, it lacks its own independent being.\n",
    "\n",
    "3. **Non-Existence as Reference to Being-in-Itself**: The transcreation points out that 'being-for-other' is not just non-existence or nothingness, but a reference to 'being-in-itself.'\n",
    "\n",
    "4. **Reciprocal Pointing of Being-in-Itself and Being-for-Other**: It underscores the mutual indication between 'being-in-itself' and 'being-for-other,' each reflecting and pointing to the other.\n",
    "\n",
    "5. **Simplification for Conceptual Depth**: The approach simplifies these complex philosophical ideas, making the reciprocal relationship between 'being-in-itself' and 'being-for-other' more accessible.\n",
    "\n",
    "6. **Focus on Interdependent Relationship**: The transcreation focuses on the interdependent and dynamic relationship between 'being-in-itself' and 'being-for-other,' highlighting their inherent connections."
   ]
  },
  {
   "cell_type": "markdown",
   "metadata": {},
   "source": [
    "\n",
    "    3. Both moments are determinations of one and the same,\n",
    "    namely of something.\n",
    "    Something is in-itself in so far as it has returned\n",
    "    from the being-for-other back to itself.\n",
    "    But something has also a determination or circumstance,\n",
    "    whether in itself (here the accent is on the in) or in it;\n",
    "    in so far as this circumstance is in it externally,\n",
    "    it is a being-for-other.\n",
    "    \n"
   ]
  },
  {
   "cell_type": "markdown",
   "metadata": {},
   "source": [
    "\n",
    "1. **Unity of Dual Aspects**: This transcreation emphasizes that the two moments are different expressions of the same entity, which Hegel refers to as 'something.'\n",
    "\n",
    "2. **The Concept of 'In-Itself'**: It highlights that 'something' has an intrinsic nature, achieved by moving from an external relation back to its own core essence.\n",
    "\n",
    "3. **Internal and External Determinations**: The text clarifies that 'something' can have attributes both within itself and externally. The internal attributes underscore the essence of 'something,' while the external attributes indicate its relational or outward-facing nature.\n"
   ]
  },
  {
   "cell_type": "markdown",
   "metadata": {},
   "source": [
    "    This leads to a further determination.\n",
    "    Being-in-itself and being-for-other\n",
    "    are different at first.\n",
    "    But that something also has in it what it is in itself and\n",
    "    conversely is in itself also what it is as being-for-other\n",
    "    this is the identity of being-in-itself and being-for-other,\n",
    "    in accordance with the determination\n",
    "    that the something is itself\n",
    "    one and the same something of both moments,\n",
    "    and these are in it, therefore, undivided.\n"
   ]
  },
  {
   "cell_type": "markdown",
   "metadata": {},
   "source": [
    "\n",
    "1. **Evolution of Conceptual Understanding**: The transcreation illustrates the progression in Hegel's thought, leading to a deeper level of conceptual comprehension.\n",
    "\n",
    "2. **Initial Distinction and Subsequent Unity**: It highlights the initial perceived difference between being-in-itself and being-for-other, followed by the revelation of their inherent unity.\n",
    "\n",
    "3. **Intrinsic and Extrinsic Coexistence**: The text clarifies that 'something' encompasses both its inherent nature (being-in-itself) and its external relations (being-for-other) simultaneously, indicating a holistic identity.\n",
    "\n",
    "4. **Concept of Undivided Aspects**: This version emphasizes that the intrinsic and extrinsic aspects of 'something' are not separate but are integral and undivided parts of the same entity."
   ]
  },
  {
   "cell_type": "markdown",
   "metadata": {},
   "source": [
    "\n",
    "    This identity already occurs formally in the sphere of existence,\n",
    "    but more explicitly in the treatment of essence\n",
    "    and later of the relations of interiority and externality,\n",
    "    and in the most determinate form in the treatment of the idea,\n",
    "    as the unity of concept and actuality.\n",
    "    \n"
   ]
  },
  {
   "cell_type": "markdown",
   "metadata": {},
   "source": [
    "\n",
    "1. **Progressive Clarification of Unity**: The transcreation emphasizes the gradual development of the understanding of unity, starting from existence and culminating in the idea.\n",
    "\n",
    "2. **Deepening Understanding in Different Contexts**: It illustrates how the concept of unity becomes increasingly clear and distinct as one moves from discussing existence to essence, and then to the interplay of internal and external relations.\n",
    "\n",
    "3. **Ultimate Realization in the Idea**: The text highlights that the most definitive expression of unity is found in the treatment of the idea, where the abstract (concept) and the concrete (actuality) seamlessly converge.\n",
    "\n",
    "4. **Concept-Reality Integration**: This version stresses the significance of integrating theoretical concepts with tangible realities, portraying it as the pinnacle of understanding unity.\n",
    "\n",
    "This approach aims to render the intricate philosophical progression from existence to essence to the idea more comprehensible to modern readers, while maintaining the essence of the original philosophical exploration."
   ]
  },
  {
   "cell_type": "markdown",
   "metadata": {},
   "source": [
    "    Opinion has it that with the in-itself\n",
    "    something lofty is being said, as with the inner;\n",
    "    but what something is only in itself, is also only in it;\n",
    "    in-itself is a merely abstract,\n",
    "    and hence itself external determination.\n",
    "    The expressions:\n",
    "    there is nothing in it,\n",
    "    or there is something in it,\n",
    "    imply, though somewhat obscurely,\n",
    "    that what is in a thing also pertains\n",
    "    to its in-itselfness, to its inner, true worth.\n"
   ]
  },
  {
   "cell_type": "markdown",
   "metadata": {},
   "source": [
    "\n",
    "1. **Perceived Depth of 'In-Itself'**: The transcreation challenges the common perception that the concept of 'in-itself' represents something inherently profound or significant.\n",
    "\n",
    "2. **Abstract Nature of 'In-Itself'**: It highlights that 'in-itself' is an abstract concept, and in being so, it becomes somewhat external rather than purely internal or intrinsic.\n",
    "\n",
    "3. **Integration of Essence and Appearance**: The text suggests that the intrinsic value or true worth of something ('its in-itselfness') is closely linked with what is visibly present or manifest in it.\n",
    "\n",
    "4. **Clarifying Ambiguous Expressions**: The phrases 'there is nothing in it' or 'there is something in it' are interpreted as indicating the relationship between a thing's observable qualities and its intrinsic nature."
   ]
  },
  {
   "cell_type": "markdown",
   "metadata": {},
   "source": [
    "\n",
    "    It may be observed that here we have\n",
    "    the meaning of the thing-in-itself.\n",
    "    It is a very simple abstraction,\n",
    "    though it was for a while a very important determination,\n",
    "    something sophisticated, as it were,\n",
    "    just as the proposition that we know nothing of\n",
    "    what things are in themselves was a much valued piece of wisdom.\n",
    "    Things are called “in-themselves” in so far as abstraction\n",
    "    is made from all being-for-other, which really means,\n",
    "    in so far as they are thought without all determination, as nothing.\n"
   ]
  },
  {
   "cell_type": "markdown",
   "metadata": {},
   "source": [
    "\n",
    "1. **Understanding the 'Thing-in-Itself'**: The transcreation aims to clarify the concept of the 'thing-in-itself,' highlighting its nature as a simple yet historically significant abstraction.\n",
    "\n",
    "2. **Historical Importance and Simplicity**: It reflects on the historical significance of the 'thing-in-itself' concept, acknowledging its once sophisticated status, while also noting its fundamental simplicity.\n",
    "\n",
    "3. **Comparison with Epistemological Wisdom**: The idea is paralleled with the philosophical stance that the true nature of things is unknowable, illustrating a similar trend in philosophical thought.\n",
    "\n",
    "4. **'In-Themselves' as Abstraction from Relations**: The text emphasizes that things are considered 'in-themselves' when abstracted from their relations to other entities, resulting in a contemplation of them as essentially devoid of defining features.\n",
    "\n",
    "5. **Reduction to Nothingness**: This interpretation suggests that when things are thought of without any determinations, they are conceptually reduced to nothing."
   ]
  },
  {
   "cell_type": "markdown",
   "metadata": {},
   "source": [
    "\n",
    "    In this sense, of course, it is impossible to know\n",
    "    what the thing-in-itself is.\n",
    "    For the question “what?” calls for determinations to be produced;\n",
    "    but since the things of which the determinations are called for\n",
    "    are at the same time presumed to be things-in-themselves,\n",
    "    which means precisely without determination,\n",
    "    the impossibility of an answer is\n",
    "    thoughtlessly implanted in the question,\n",
    "    or else a senseless answer is given.\n",
    "    \n"
   ]
  },
  {
   "cell_type": "markdown",
   "metadata": {},
   "source": [
    "\n",
    "1. **Inherent Paradox in Understanding 'Thing-in-Itself'**: The transcreation points out the intrinsic contradiction in attempting to define the 'thing-in-itself', which is supposed to be beyond specific characteristics.\n",
    "\n",
    "2. **Contradiction in the Question 'What?'**: It emphasizes that asking 'what?' about a 'thing-in-itself' is paradoxical since the nature of the question conflicts with the nature of the 'thing-in-itself' as indeterminate.\n",
    "\n",
    "3. **Presumption of Indeterminacy**: The text notes that the 'thing-in-itself' is presumed to be without determination, which fundamentally conflicts with the quest for definable attributes.\n",
    "\n",
    "4. **Impossibility of a Meaningful Answer**: This interpretation suggests that any attempt to answer the question about the nature of a 'thing-in-itself' is either bound to fail or result in nonsensical responses.\n",
    "\n",
    "5. **Clarification of a Philosophical Dilemma**: The complex philosophical dilemma is articulated in a way that is more accessible, while retaining the depth of the original thought.\n",
    "\n",
    "6. **Reflection of Kantian and Hegelian Themes**: The transcreation connects to themes in Kantian and Hegelian philosophy, regarding the limits of knowledge and the nature of reality."
   ]
  },
  {
   "cell_type": "markdown",
   "metadata": {},
   "source": [
    "    The thing-in-itself is the same as that absolute\n",
    "    of which nothing is known except that in it all is one.\n",
    "    What there is in these things-in-themselves is \n",
    "    therefore very well known;\n",
    "    they are as such nothing but empty abstractions void of truth.\n",
    "    What, however, the thing-in-itself in truth is,\n",
    "    what there basically is in it,\n",
    "    of this the Logic is the exposition.\n",
    "    \n"
   ]
  },
  {
   "cell_type": "markdown",
   "metadata": {},
   "source": [
    "\n",
    "1. **Alignment with the Absolute**: The transcreation draws a parallel between the 'thing-in-itself' and the absolute, emphasizing their shared characteristic of inherent unity.\n",
    "\n",
    "2. **Clarity on the Emptiness of 'Things-in-Themselves'**: It underscores that despite the complexity surrounding 'things-in-themselves', their true nature is actually quite clear - they are empty abstractions without real substance.\n",
    "\n",
    "3. **Contrast Between Appearance and Reality**: The text highlights the distinction between the superficial, abstract nature of the 'thing-in-itself' and its deeper, true essence.\n",
    "\n",
    "4. **Role of Logic in Unveiling Truth**: This interpretation positions Logic as the key to understanding the true nature of the 'thing-in-itself', suggesting that logical analysis can penetrate beyond the abstract to the actual reality.\n"
   ]
  },
  {
   "cell_type": "markdown",
   "metadata": {},
   "source": [
    "    But in this Logic something better is understood by the in-itself\n",
    "    than an abstraction, namely, what something is in its concept;\n",
    "    but this concept is in itself concrete:\n",
    "    as concept, in principle conceptually graspable;\n",
    "    and, as determined and as the connected whole\n",
    "    of its determinations, inherently cognizable.\n"
   ]
  },
  {
   "cell_type": "markdown",
   "metadata": {},
   "source": [
    "\n",
    "1. **Beyond Abstraction in Logic**: The transcreation illustrates that within the scope of Logic, the 'in-itself' is understood as more than just an abstract idea; it is recognized as the fundamental essence of a concept.\n",
    "\n",
    "2. **Concept as Concrete**: It highlights the notion that the concept, in the context of Logic, is concrete and tangible, not just a theoretical construct.\n",
    "\n",
    "3. **Graspable and Understandable Concept**: The text emphasizes that the concept is something that can be conceptually grasped and inherently understood, making it accessible to logical comprehension.\n",
    "\n",
    "4. **Cohesive and Comprehensive Nature**: This interpretation points out that the concept represents a connected whole, encompassing all its determinations and characteristics, thereby offering a complete picture of what something truly is."
   ]
  },
  {
   "cell_type": "markdown",
   "metadata": {},
   "source": [
    "\n",
    "    Being-in-itself has at first the being-for-other\n",
    "    as a moment standing over against it.\n",
    "    But positedness also comes to be positioned over against it,\n",
    "    and, although in this expression being-for-other is also included,\n",
    "    the expression still contains the determination of the bending back,\n",
    "    which has already occurred,\n",
    "    of that which is not in itself into that wherein it is\n",
    "    positive, and this is its being-in-itself.\n"
   ]
  },
  {
   "cell_type": "markdown",
   "metadata": {},
   "source": [
    "\n",
    "1. **Triadic Conceptual Structure**: The transcreation delves into the triadic relationship of Universality, Particularity, and Singularity in the Concept, echoing a philosophical structure found in both Western and Eastern thought.\n",
    "\n",
    "2. **Universality as Bija**: It emphasizes that Universality, comparable to Bija, views itself as a foundational, universal principle, initiating the process of species generation.\n",
    "\n",
    "3. **Particularity as Sabija**: The text illustrates that Particularity, similar to Sabija, represents the visible manifestation or display of the original universal principle (Bija).\n",
    "\n",
    "4. **Causal Level Focus**: This interpretation highlights that the current understanding is centered around the Causal Level, dealing with origins and manifestations.\n",
    "\n",
    "5. **Neglect of the Subtle Level**: The transcreation points out the omission of the Subtle Level, which would include more nuanced and intricate aspects beyond the causal framework."
   ]
  },
  {
   "cell_type": "markdown",
   "metadata": {},
   "source": [
    "\n",
    "    Being-in-itself is normally to be taken\n",
    "    as an abstract way of expressing the concept;\n",
    "    positing, strictly speaking, first occurs\n",
    "    in the sphere of essence, of objective reflection;\n",
    "    the ground posits that which is grounded through it;\n",
    "    more strongly, the cause produces an effect,\n",
    "    an existence whose subsistence is immediately negated\n",
    "    and which carries the meaning that it has its substance,\n",
    "    its being, in an other.\n"
   ]
  },
  {
   "cell_type": "markdown",
   "metadata": {},
   "source": [
    "\n",
    "1. **Abstract Nature of Being-in-Itself**: The transcreation clarifies that being-in-itself is an abstract representation of a concept rather than a concrete entity.\n",
    "\n",
    "2. **Positing in the Sphere of Essence**: It highlights that the act of positing or establishing reality finds its true form in the sphere of essence and objective reflection, rather than in mere existence.\n",
    "\n",
    "3. **Ground and Grounded Relationship**: The text illustrates the dynamic between the ground (cause) and the grounded (effect), where the former establishes the existence of the latter.\n",
    "\n",
    "4. **Causality and Dependency**: This interpretation emphasizes the notion that an effect is inherently dependent on its cause, its existence being negated and defined by this external dependency.\n",
    "\n",
    "5. **Existence Rooted in Otherness**: The transcreation suggests that the essence or being of an effect is rooted in something other than itself, indicating a deeper interconnectedness in the realm of essence."
   ]
  },
  {
   "cell_type": "markdown",
   "metadata": {},
   "source": [
    "\n",
    "    In the sphere of being, existence only emerges out of becoming.\n",
    "    Or again, with the something an other is posited;\n",
    "    with the finite, an infinite;\n",
    "    but the finite does not bring forth the infinite,\n",
    "    does not posit it.\n"
   ]
  },
  {
   "cell_type": "markdown",
   "metadata": {},
   "source": [
    "\n",
    "1. **Existence and Becoming in the Sphere of Being**: The transcreation emphasizes that in the sphere of being, existence emerges from the process of becoming, illustrating a dynamic of continuous evolution.\n",
    "\n",
    "2. **Co-Positing of Opposites**: It highlights the simultaneous positing of opposites, such as 'something' and 'other', or the finite and the infinite, within the realm of being.\n",
    "\n",
    "3. **Non-Creation Relationship of Finite and Infinite**: The text clarifies that the finite does not actively create or bring forth the infinite; instead, their relationship is characterized by inherent implication and co-existence.\n",
    "\n",
    "4. **Inherent Contrast and Connection**: This interpretation underscores the intrinsic connection and contrast between the finite and the infinite, suggesting a deep interdependence within the conceptual framework of being."
   ]
  },
  {
   "cell_type": "markdown",
   "metadata": {},
   "source": [
    "\n",
    "    In the sphere of being, the self-determining of\n",
    "    the concept is at first only in itself or implicit,\n",
    "    and for that reason it is called a transition or passing over.\n"
   ]
  },
  {
   "cell_type": "markdown",
   "metadata": {},
   "source": [
    "\n",
    "1. **Latent State of Concept's Self-Determination**: The transcreation highlights that in the sphere of being, the self-determination of the concept is initially dormant or implicit.\n",
    "\n",
    "2. **Terminology of Transition and Passing Over**: It emphasizes that this undeveloped state of the concept is termed as a 'transition' or 'passing over', indicating a process of change and development.\n",
    "\n",
    "3. **Process of Unfolding and Evolution**: The text illustrates the concept's evolution from a potential state to a more explicit and realized form, capturing the dynamic nature of its self-determination.\n",
    "\n",
    "4. **Implicit to Actualized Journey**: This interpretation underscores the journey of the concept from being 'in itself' or latent to becoming actualized and fully realized."
   ]
  },
  {
   "cell_type": "markdown",
   "metadata": {},
   "source": [
    "\n",
    "    And the reflecting determinations of being,\n",
    "    such as something and other,\n",
    "    or finite and infinite,\n",
    "    although they essentially point to one another,\n",
    "    or are as being-for-other,\n",
    "    also stand on their own qualitatively; the other exists;\n",
    "    the finite, like the infinite, is equally to be regarded\n",
    "    as an immediate existent that stands firm on its own;\n",
    "    the meaning of each appears complete even without its other.\n",
    "    \n"
   ]
  },
  {
   "cell_type": "markdown",
   "metadata": {},
   "source": [
    "\n",
    "1. **Interrelated Yet Independent**: The transcreation highlights the dual nature of reflective determinations in the realm of being, where they are both interconnected and independent.\n",
    "\n",
    "2. **Distinct Existence of Opposites**: It emphasizes the individual existence of concepts like 'something and other', or 'finite and infinite', each with its own qualitative essence.\n",
    "\n",
    "3. **Nature of Being-for-Other**: The text illustrates the concept of being-for-other, where these determinations inherently reference and point to each other.\n",
    "\n",
    "4. **Self-Sufficiency of Determinations**: This interpretation emphasizes that each of these reflective determinations is complete in itself, even in the absence of its counterpart."
   ]
  },
  {
   "cell_type": "markdown",
   "metadata": {},
   "source": [
    "\n",
    "    In the different cycles of determination\n",
    "    and especially in the progress of the exposition,\n",
    "    or, more precisely, in the progress of the concept\n",
    "    in the exposition of itself,\n",
    "    it is of capital concern always to clearly distinguish\n",
    "    what still is in itself or implicitly\n",
    "    and what is posited,\n",
    "    how determinations are in the concept\n",
    "    and how they are as posited\n",
    "    or as existing-for-other.\n",
    "    \n"
   ]
  },
  {
   "cell_type": "markdown",
   "metadata": {},
   "source": [
    "\n",
    "1. **Evolving Determinations and Exposition**: The transcreation emphasizes the importance of recognizing the dynamic nature of determinations within the conceptual exposition process.\n",
    "\n",
    "2. **Implicit vs. Explicit States**: It highlights the critical need to differentiate between what is inherent or 'in itself' within a concept and what is externally 'posited' or manifest.\n",
    "\n",
    "3. **Intrinsic vs. External Manifestations**: The text illustrates the distinction between how determinations are internally contained within a concept and how they are externally presented or exist in relation to others.\n",
    "\n",
    "4. **Concept’s Evolutionary Process**: This interpretation focuses on tracing the concept's progression from its implicit state to its explicit expressions and interactions.\n",
    "\n",
    "5. **Discernment in Conceptual Understanding**: The transcreation underscores the importance of discernment in recognizing the different stages of a concept's evolution for a thorough understanding.\n"
   ]
  },
  {
   "cell_type": "markdown",
   "metadata": {},
   "source": [
    "    This is a distinction that belongs only to\n",
    "    the dialectical development and one unknown\n",
    "    to metaphysical philosophizing\n",
    "    (to which the critical also belongs);\n",
    "    the definitions of metaphysics,\n",
    "    like its presuppositions, distinctions, and conclusions,\n",
    "    are meant to assert and produce only the existent\n",
    "    and that, too, as existent-in-itself.\n"
   ]
  },
  {
   "cell_type": "markdown",
   "metadata": {},
   "source": [
    "\n",
    "1. **Dialectical vs. Metaphysical Philosophizing**: The transcreation delineates the distinction between dialectical development, which embraces process and relation, and metaphysical philosophizing, which focuses on the self-contained existence of entities.\n",
    "\n",
    "2. **Role of Metaphysical Definitions**: It emphasizes that metaphysical definitions aim to establish the nature of entities as 'existent-in-itself', highlighting a more static and isolated approach to understanding existence.\n",
    "\n",
    "3. **Exclusion of Dialectical Distinction in Metaphysics**: The text points out that the dynamic distinction central to dialectical philosophy is not a consideration within traditional metaphysical frameworks.\n",
    "\n",
    "4. **Critical Philosophy's Alignment with Metaphysics**: This interpretation notes that critical philosophy, like traditional metaphysics, does not typically incorporate the dialectical perspective of evolving and interrelated concepts.\n"
   ]
  },
  {
   "cell_type": "markdown",
   "metadata": {},
   "source": [
    "\n",
    "    In the unity of the something with itself,\n",
    "    being-for-other is identical with its in-itself;\n",
    "    the being-for-other is thus in the something.\n",
    "    The determinateness thus reflected into itself is\n",
    "    therefore again a simple existent\n",
    "    and hence again a quality: determination.\n"
   ]
  },
  {
   "cell_type": "markdown",
   "metadata": {},
   "source": [
    "\n",
    "1. **Self-Unity and Internalization**: The transcreation highlights the concept of self-unity in 'something', where its being-for-other is integrated with its in-itself nature.\n",
    "\n",
    "2. **Fusion of External and Internal Aspects**: It illustrates how the external aspect (being-for-other) becomes an intrinsic part of the 'something', reflecting into its core nature.\n",
    "\n",
    "3. **Simplification into a Quality**: The text clarifies that this process of internal reflection transforms the determinateness into a simple existent, thus becoming a 'quality'.\n",
    "\n",
    "4. **Nature of Determination**: This interpretation emphasizes that the resulting quality is a 'determination', a fundamental characteristic that encapsulates both the internal essence and external relations of the 'something'.\n"
   ]
  },
  {
   "cell_type": "markdown",
   "metadata": {},
   "source": [
    "## b. Determination, constitution, and limit\n"
   ]
  },
  {
   "cell_type": "markdown",
   "metadata": {},
   "source": [
    "\n",
    "    The in-itself, in which the something is\n",
    "    reflected into itself from its being-for-other,\n",
    "    no longer is an abstract in-itself\n",
    "    but, as the negation of its being-for-other,\n",
    "    is mediated through this latter,\n",
    "    which is thus its moment.\n"
   ]
  },
  {
   "cell_type": "markdown",
   "metadata": {},
   "source": [
    "\n",
    "1. **Dynamic Concept of 'In-Itself'**: The transcreation emphasizes that 'in-itself' is not static or abstract but dynamically shaped by its self-reflection and relationships.\n",
    "\n",
    "2. **Transformation through Relation to 'Being-for-Other'**: It highlights the process where 'in-itself' gains depth and meaning through its contrast and relation to its 'being-for-other.'\n",
    "\n",
    "3. **Mediation and Negation**: The concept of 'in-itself' is explained as being mediated through its negation of 'being-for-other,' suggesting a process of defining itself in opposition to its relational aspect.\n",
    "\n",
    "4. **Integration of External Relations**: The transcreation portrays the 'in-itself' as integrating and being defined by its external relations, moving away from abstraction."
   ]
  },
  {
   "cell_type": "markdown",
   "metadata": {},
   "source": [
    "    It is not only the immediate identity of\n",
    "    the something with itself,\n",
    "    but the identity by virtue of which\n",
    "    the something also has present in it\n",
    "    what it is in itself;\n",
    "    the being-for-other is present in it\n",
    "    because the in-itself is the sublation of it,\n",
    "    is in itself from it;\n",
    "    but, because it is still abstract,\n",
    "    and therefore essentially affected with negation,\n",
    "    it is equally affected with being-for-other.\n"
   ]
  },
  {
   "cell_type": "markdown",
   "metadata": {},
   "source": [
    "\n",
    "1. **Dual Nature of 'Something'**: The transcreation underscores that 'something' is not merely self-identical but also contains its intrinsic nature ('in-itself') and its relational aspect ('being-for-other').\n",
    "\n",
    "2. **Integration of 'In-Itself' and 'Being-for-Other'**: It highlights the synthesis of 'in-itself' (essence) and 'being-for-other' (relation), where 'something' is defined by both its inherent nature and its external relations.\n",
    "\n",
    "3. **Concept of Sublation**: The translation introduces the concept of sublation, where 'in-itself' negates yet retains 'being-for-other,' illustrating a complex process of integration and negation.\n",
    "\n",
    "4. **Abstract Nature with Inherent Negation**: The transcreation reflects on the abstract quality of 'something,' suggesting that its essence is inherently linked with negation, thus perpetually connected to 'being-for-other.'\n"
   ]
  },
  {
   "cell_type": "markdown",
   "metadata": {},
   "source": [
    "\n",
    "    We have here not only quality and reality,\n",
    "    existent determinateness,\n",
    "    but determinateness existent-in-itself;\n",
    "    and the development consists in positing\n",
    "    such determinateness as thus immanently reflected.\n"
   ]
  },
  {
   "cell_type": "markdown",
   "metadata": {},
   "source": [
    "\n",
    "1. **Beyond Quality and Reality**: The transcreation moves beyond the basic concepts of quality and reality, introducing the idea of existent determinateness as a foundational concept.\n",
    "\n",
    "2. **Intrinsic Determinateness**: It emphasizes that determinateness is not merely an external attribute but is inherent within the entity itself, an essential part of its being.\n",
    "\n",
    "3. **Concept of Immanent Reflection**: The translation introduces the idea of immanent reflection, suggesting that this intrinsic determinateness is not just present but actively reflected within the entity.\n",
    "\n",
    "4. **Development of Understanding**: The transcreation points to a developmental process in philosophical understanding, where recognizing this inherent and reflected determinateness is key."
   ]
  },
  {
   "cell_type": "markdown",
   "metadata": {},
   "source": [
    "\n",
    "    1. The quality which in the simple something \n",
    "    is an in-itself essentially in unity with\n",
    "    the something's other moment, its being-in-it,\n",
    "    can be named its determination,\n",
    "    provided that this word is distinguished,\n",
    "    in a more precise signification,\n",
    "    from determinateness in general.\n"
   ]
  },
  {
   "cell_type": "markdown",
   "metadata": {},
   "source": [
    "\n",
    "1. **Intrinsic Quality in Unity with Being-in-it**: The transcreation emphasizes the inherent quality of the 'simple something' that is essentially unified with its 'being-in-it.'\n",
    "\n",
    "2. **Concept of Determination**: It introduces the term 'determination' as a specific characteristic that represents the unity of quality and the existential aspect of 'something.'\n",
    "\n",
    "3. **Distinction from General Determinateness**: The translation clarifies that 'determination' in this context is distinct from the broader concept of 'determinateness,' focusing on its precise meaning related to the unity within 'something.'\n",
    "\n",
    "4. **Philosophical Precision in Language**: The transcreation maintains the precision of Hegel’s philosophical language, ensuring that the nuanced difference between 'determination' and 'determinateness' is clearly communicated.\n",
    "\n",
    "5. **Accessible Explanation for Complex Concepts**: By translating Hegel's dense ideas into more understandable terms, the goal is to make these concepts more approachable for a contemporary audience.\n"
   ]
  },
  {
   "cell_type": "markdown",
   "metadata": {},
   "source": [
    "\n",
    "    Determination is affirmative determinateness;\n",
    "    it is the in-itself by which\n",
    "    a something abides in its existence\n",
    "    while involved with an other\n",
    "    that would determine it,\n",
    "    by which it preserves itself\n",
    "    in its self-equality,\n",
    "    holding on to it in its being-for-other.\n"
   ]
  },
  {
   "cell_type": "markdown",
   "metadata": {},
   "source": [
    "\n",
    "1. **Affirmative Determinateness as Determination**: The transcreation highlights that 'determination' is an affirmative aspect of determinateness, emphasizing its positive nature.\n",
    "\n",
    "2. **Intrinsic Quality in External Relations**: It underscores the role of 'determination' as the intrinsic quality that enables an entity to maintain its essence and identity, even in the face of external influences.\n",
    "\n",
    "3. **Self-Preservation and Self-Consistency**: The translation brings out the idea that 'determination' is key to an entity's ability to preserve its self-consistency and equality.\n",
    "\n",
    "4. **Dynamic Interaction with Others**: The transcreation points to the dynamic nature of 'determination,' where an entity actively maintains its essence while engaging with others."
   ]
  },
  {
   "cell_type": "markdown",
   "metadata": {},
   "source": [
    "\n",
    "    Something fulfills its determination\n",
    "    to the extent that the further determinateness,\n",
    "    which variously accrues to it\n",
    "    in the measure of its being-in-itself\n",
    "    as it relates to an other,\n",
    "    becomes its filling.\n"
   ]
  },
  {
   "cell_type": "markdown",
   "metadata": {},
   "source": [
    "\n",
    "1. **Achievement of Determination through Accumulation**: The transcreation illustrates that 'something' achieves its determination by accumulating further determinateness through interactions.\n",
    "\n",
    "2. **Proportional to Being-in-Itself**: It emphasizes that the accumulation of these characteristics is in proportion to the entity’s inherent nature or 'being-in-itself.'\n",
    "\n",
    "3. **Integration of External Qualities**: The translation highlights how the entity integrates external qualities or determinateness into its own essence, enriching its substance.\n",
    "\n",
    "4. **Relational Experiences as a Source of Growth**: The transcreation points out that it is through its relationships with others that 'something' gains additional attributes.\n",
    "\n",
    "5. **Concept of 'Filling'**: The term 'filling' is used to describe how these accumulated characteristics become an integral part of the entity’s substance.\n"
   ]
  },
  {
   "cell_type": "markdown",
   "metadata": {},
   "source": [
    "\n",
    "    Determination implies that\n",
    "    what something is in itself\n",
    "    is also present in it.\n"
   ]
  },
  {
   "cell_type": "markdown",
   "metadata": {},
   "source": [
    "\n",
    "1. **Intrinsic Nature Embodied Within**: The transcreation underscores that 'determination' involves the actual presence of an entity's intrinsic nature within itself.\n",
    "\n",
    "2. **Concrete Presence of 'In-Itself'**: It highlights that what an entity is 'in itself' – its fundamental qualities or characteristics – are concretely realized within the entity, not just abstractly conceptualized.\n",
    "\n",
    "3. **Philosophical Implication of Determination**: The translation brings forth the philosophical implication of 'determination,' emphasizing its role in making the intrinsic nature of an entity a tangible reality.\n",
    "\n",
    "4. **Accessibility in Language**: By using more straightforward language, the transcreation aims to make Hegel’s philosophical concept more accessible to a modern audience."
   ]
  },
  {
   "cell_type": "markdown",
   "metadata": {},
   "source": [
    "\n",
    "    The determination of the human being,\n",
    "    its vocation, is rational thought:\n",
    "    thinking in general is his simple determinateness;\n",
    "    by it the human being is distinguished from the brute;\n",
    "    he is thinking in himself, in so far as this thinking is\n",
    "    distinguished also from his being-for-other,\n",
    "    from his own natural and sensuous being\n",
    "    that brings him in immediate association with the other.\n"
   ]
  },
  {
   "cell_type": "markdown",
   "metadata": {},
   "source": [
    "\n",
    "1. **Rational Thought as Human Determination**: The transcreation emphasizes that rational thought is the defining characteristic or vocation of humans.\n",
    "\n",
    "2. **Thinking as a Distinctive Trait**: It highlights thinking, particularly rational and reflective thinking, as the primary factor distinguishing humans from animals.\n",
    "\n",
    "3. **Self-Reflection and Identity**: The translation underscores the role of self-reflective thought in establishing human identity, separate from animalistic or instinctual behaviors.\n",
    "\n",
    "4. **Differentiation from Being-for-Other**: The concept of thinking is distinguished from 'being-for-other,' emphasizing that human rationality is not solely defined in relation to others or external influences.\n",
    "\n",
    "5. **Contrast with Sensual Existence**: The transcreation also contrasts rational thought with the sensual, instinctual aspects of human life, underscoring a higher level of cognitive functioning."
   ]
  },
  {
   "cell_type": "markdown",
   "metadata": {},
   "source": [
    "\n",
    "    But thinking is also in him;\n",
    "    the human being is himself thinking,\n",
    "    he exists as thinking,\n",
    "    thought is his concrete existence and actuality;\n",
    "    and, further, since thinking is in his existence\n",
    "    and his existence is in his thinking,\n",
    "    thinking is concrete,\n",
    "    must be taken as having content and filling;\n",
    "    it is rational thought and as such\n",
    "    the determination of the human being.\n"
   ]
  },
  {
   "cell_type": "markdown",
   "metadata": {},
   "source": [
    "\n",
    "1. **Thinking as the Essence of Humanity**: The transcreation emphasizes that thinking is not just something humans do, but it is what constitutes their very being.\n",
    "\n",
    "2. **Concrete Existence Through Thought**: It highlights that thought is the concrete reality of human existence, intertwining the act of thinking with the state of being.\n",
    "\n",
    "3. **Interdependence of Existence and Thought**: The translation underscores the mutual dependence of human existence and thinking, where each defines and is defined by the other.\n",
    "\n",
    "4. **Thinking as Rich and Substantive**: The transcreation points out that human thought is deep and filled with content, not a mere abstract or superficial activity.\n",
    "\n",
    "5. **Rational Thought as Human Determination**: It clarifies that rational, content-rich thought is the fundamental characteristic or determination of what it means to be human."
   ]
  },
  {
   "cell_type": "markdown",
   "metadata": {},
   "source": [
    "\n",
    "    But even this determination is again\n",
    "    only in itself, as an ought, that is to say,\n",
    "    it is, together with the filling embodied in its in-itself,\n",
    "    in the form of an in-itself in general\n",
    "    as against the existence which is not embodied in it\n",
    "    but still lies outside confronting it,\n",
    "    immediate sensibility and nature.\n"
   ]
  },
  {
   "cell_type": "markdown",
   "metadata": {},
   "source": [
    "\n",
    "1. **Determination as Potentiality**: The transcreation underscores that determination, even in its essence, exists more as a potential or an 'ought' rather than a fully realized actuality.\n",
    "\n",
    "2. **Intrinsic Content vs. External Existence**: It highlights the contrast between the intrinsic content of determination ('in itself') and the external aspects of existence, such as sensibility and nature.\n",
    "\n",
    "3. **Form of 'In-Itself' as Possibility**: The translation brings out the idea that the form of determination as 'in itself' is essentially a form of possibility, not yet fully actualized.\n",
    "\n",
    "4. **Contrast with Sensibility and Nature**: The transcreation emphasizes the distinction between the unactualized potential of determination and the immediate, tangible aspects of sensibility and nature."
   ]
  },
  {
   "cell_type": "markdown",
   "metadata": {},
   "source": [
    "\n",
    "    2. The filling of the being-in-itself with determinateness\n",
    "    is also distinct from the determinateness\n",
    "    which is only being-for-other\n",
    "    and remains outside the determination.\n",
    "    For in the sphere of the qualitative,\n",
    "    the distinguished terms are left, in their sublated being,\n",
    "    also with an immediate, qualitative being contrasting them.\n"
   ]
  },
  {
   "cell_type": "markdown",
   "metadata": {},
   "source": [
    "\n",
    "1. **Distinct Types of Determinateness**: The transcreation clarifies that the determinateness which enriches 'being-in-itself' is different from the determinateness that exists only as 'being-for-other.'\n",
    "\n",
    "2. **Integration vs. External Existence**: It emphasizes the distinction between characteristics that are integrated into an entity's essence and those that remain external.\n",
    "\n",
    "3. **Sublation and Contrasting Qualities**: The translation introduces the concept of sublation, where qualities are absorbed into an entity's being yet retain a contrasting existence.\n",
    "\n",
    "4. **Complexity in Qualitative Analysis**: The transcreation points out the complexity inherent in qualitative analysis, where integrated qualities coexist with contrasting ones."
   ]
  },
  {
   "cell_type": "markdown",
   "metadata": {},
   "source": [
    "\n",
    "    That which the something has in it thus separates itself\n",
    "    and is from this side the external existence of\n",
    "    the something and also its existence,\n",
    "    but not as belonging to its being-in-itself.\n",
    "    Determinateness is thus constitution.\n"
   ]
  },
  {
   "cell_type": "markdown",
   "metadata": {},
   "source": [
    "\n",
    "1. **Separation of Internal and External Existence**: The transcreation highlights that what an entity contains internally eventually becomes part of its external existence, distinct from its intrinsic nature.\n",
    "\n",
    "2. **External Existence vs. Being-in-Itself**: It emphasizes the distinction between the external manifestation of the entity and its core essence or 'being-in-itself.'\n",
    "\n",
    "3. **Determinateness as Constitution**: The translation clarifies that 'determinateness' – the specific qualities of an entity – is conceptualized as its 'constitution,' the makeup of its external presence.\n",
    "\n",
    "4. **Manifestation of Intrinsic Qualities**: The transcreation points out that the external aspect of the entity is a manifestation of its internal qualities, yet not part of its fundamental nature."
   ]
  },
  {
   "cell_type": "markdown",
   "metadata": {},
   "source": [
    "\n",
    "    Constituted in this or that way,\n",
    "    the something is caught up in external influences\n",
    "    and in external relationships.\n",
    "    This external connection on which the constitution depends,\n",
    "    and the being determined through an other,\n",
    "    appear as something accidental.\n",
    "    But it is the quality of the something\n",
    "    to be given over to this externality\n",
    "    and to have a constitution.\n"
   ]
  },
  {
   "cell_type": "markdown",
   "metadata": {},
   "source": [
    "\n",
    "1. **External Influences on Constitution**: The transcreation emphasizes that an entity's constitution makes it vulnerable to external influences and relationships.\n",
    "\n",
    "2. **Accidental Nature of External Connections**: It highlights that the external connections, which shape the constitution, may seem accidental but are integral to the entity's nature.\n",
    "\n",
    "3. **Inherent Susceptibility to Externality**: The translation underscores that it is a fundamental quality of 'something' to be subject to and influenced by external factors.\n",
    "\n",
    "4. **Nature of Being Determined by Others**: The transcreation clarifies that being influenced or determined by external entities is an intrinsic aspect of the entity's existence."
   ]
  },
  {
   "cell_type": "markdown",
   "metadata": {},
   "source": [
    "\n",
    "    In so far as something alters,\n",
    "    the alteration falls on the side of its constitution;\n",
    "    the latter is that in the something which becomes an other.\n",
    "    The something itself preserves itself in the alteration;\n",
    "    the latter affects only this unstable surface\n",
    "    of the something's otherness, not its determination.\n"
   ]
  },
  {
   "cell_type": "markdown",
   "metadata": {},
   "source": [
    "\n",
    "1. **Alteration Affecting Constitution**: The transcreation emphasizes that change in an entity primarily impacts its constitution rather than its core essence.\n",
    "\n",
    "2. **Transformation within Constitution**: It highlights that the aspect of the entity which changes or becomes different is its constitution, the external or superficial part.\n",
    "\n",
    "3. **Preservation of Core Determination**: The translation underscores that the entity’s fundamental nature or determination remains unchanged even as it undergoes alteration.\n",
    "\n",
    "4. **Impact on Superficial Otherness**: The transcreation points out that change affects the entity's less stable qualities, its 'otherness,' rather than its essential identity."
   ]
  },
  {
   "cell_type": "markdown",
   "metadata": {},
   "source": [
    "\n",
    "    Determination and constitution are thus distinct from each other;\n",
    "    something, according to its determination,\n",
    "    is indifferent to its constitution.\n",
    "    But that which the something has in it is\n",
    "    the middle term of this syllogism connecting the two,\n",
    "    determination and constitution.\n"
   ]
  },
  {
   "cell_type": "markdown",
   "metadata": {},
   "source": [
    "\n",
    "1. **Distinction Between Determination and Constitution**: The transcreation emphasizes the conceptual difference between an entity's inherent nature ('determination') and its external structure ('constitution').\n",
    "\n",
    "2. **Indifference of Determination to Constitution**: It highlights that an entity's fundamental essence (determination) is typically unaffected by its external structure (constitution).\n",
    "\n",
    "3. **Concept of the Middle Term**: The translation introduces the idea of a 'middle term' in the entity that connects its intrinsic essence with its external form.\n",
    "\n",
    "4. **Syllogistic Connection**: The transcreation elucidates the syllogistic relationship in philosophy where the middle term plays a pivotal role in linking determination and constitution."
   ]
  },
  {
   "cell_type": "markdown",
   "metadata": {},
   "source": [
    "    Or, rather, the being-in-the-something showed itself\n",
    "    to fall apart into these two extremes.\n",
    "    The simple middle term is determinateness as such;\n",
    "    its identity belongs to determination\n",
    "    just as well as to constitution.\n"
   ]
  },
  {
   "cell_type": "markdown",
   "metadata": {},
   "source": [
    "\n",
    "1. **Division into Determination and Constitution**: The transcreation highlights that the essence of 'something' is divided into determination (inherent essence) and constitution (external form).\n",
    "\n",
    "2. **Determinateness as the Middle Term**: It emphasizes the role of determinateness as the simple, yet fundamental element that unites determination and constitution.\n",
    "\n",
    "3. **Shared Identity of Determinateness**: The translation underscores that determinateness is integral to both determination and constitution, linking them together.\n",
    "\n",
    "4. **Unifying Element in Division**: The transcreation points out that despite the division, determinateness serves as a unifying factor between the extremes of determination and constitution."
   ]
  },
  {
   "cell_type": "markdown",
   "metadata": {},
   "source": [
    "    But determination passes over into constitution on its own,\n",
    "    and constitution into determination.\n",
    "    This is implied in what has been said.\n",
    "    The connection, upon closer consideration, is this:\n",
    "    in so far as that which something is in itself is also in it,\n",
    "    the something is affected with being-for-other;\n",
    "    determination is therefore open, as such,\n",
    "    to the relation with other.\n"
   ]
  },
  {
   "cell_type": "markdown",
   "metadata": {},
   "source": [
    "\n",
    "1. **Fluid Transition Between Determination and Constitution**: The transcreation highlights the dynamic nature of determination and constitution, emphasizing their capacity to transition into each other.\n",
    "\n",
    "2. **Interdependence and Implied Connection**: It underscores the interdependent relationship between determination and constitution, as implied in the earlier text.\n",
    "\n",
    "3. **Susceptibility to External Influences**: The translation brings out the idea that an entity’s inherent nature makes it open to being influenced by external factors ('being-for-other').\n",
    "\n",
    "4. **Determination’s Openness to Relations**: The transcreation points out that determination, by its nature, is predisposed to interact with and be shaped by external entities.\n"
   ]
  },
  {
   "cell_type": "markdown",
   "metadata": {},
   "source": [
    "\n",
    "    Determinateness is at the same time moment,\n",
    "    but it contains at the same time the qualitative distinction\n",
    "    of being different from being-in-itself,\n",
    "    of being the negative of the something,\n",
    "    another existence.\n"
   ]
  },
  {
   "cell_type": "markdown",
   "metadata": {},
   "source": [
    "\n",
    "1. **Dual Role of Determinateness**: The transcreation emphasizes that determinateness functions both as a critical phase in an entity's development and as a qualitative distinction.\n",
    "\n",
    "2. **Contrast with Being-in-Itself**: It highlights the distinction of determinateness from the inherent nature of the entity, marking it as different or opposite.\n",
    "\n",
    "3. **Negation and Other Existence**: The translation underscores that determinateness acts as a negation or contrast to the entity's essence, representing an alternative aspect of its existence.\n",
    "\n",
    "4. **Integral Yet Contrasting Nature**: The transcreation points out that determinateness is both integral to and in contrast with the entity's inherent nature."
   ]
  },
  {
   "cell_type": "markdown",
   "metadata": {},
   "source": [
    "\n",
    "    This determinateness which thus holds the other in itself,\n",
    "    united with the being-in-itself,\n",
    "    introduces otherness in the latter or in determination,\n",
    "    and determination is thereby reduced to constitution.\n"
   ]
  },
  {
   "cell_type": "markdown",
   "metadata": {},
   "source": [
    "\n",
    "1. **Incorporation of Otherness in Determinateness**: The transcreation highlights that determinateness can hold 'otherness' within itself while being united with the entity's intrinsic nature.\n",
    "\n",
    "2. **Transformation of Determination to Constitution**: It emphasizes that the introduction of otherness into determination leads to its transformation into constitution.\n",
    "\n",
    "3. **Fusion of Intrinsic and External Aspects**: The translation underscores the merger of intrinsic and external aspects within the entity, changing its fundamental nature.\n",
    "\n",
    "4. **Shift from Internal to External Manifestation**: The transcreation points out that the entity's original determination evolves into a more external, structured form – constitution."
   ]
  },
  {
   "cell_type": "markdown",
   "metadata": {},
   "source": [
    "    Conversely, the being-for-other, isolated as constitution\n",
    "    and posited on its own, is in it the same\n",
    "    as what the other as such is, the other in it,\n",
    "    that is, the other of itself;\n",
    "    but it consequently is self-referring existence,\n",
    "    thus being-in-itself with a determinateness, therefore determination.\n"
   ]
  },
  {
   "cell_type": "markdown",
   "metadata": {},
   "source": [
    "\n",
    "1. **Being-for-Other as Constitution**: The transcreation underscores that 'being-for-other,' when viewed independently as 'constitution,' embodies the essence of 'the other.'\n",
    "\n",
    "2. **Self-Referential Nature of Constitution**: It highlights that constitution, in its role as being-for-other, becomes self-referential, effectively becoming 'the other' of itself.\n",
    "\n",
    "3. **Transformation into Being-in-Itself**: The translation points out that this self-referential nature transforms the constitution into something akin to 'being-in-itself.'\n",
    "\n",
    "4. **Acquisition of Determinateness**: The transcreation emphasizes that through this transformation, constitution acquires specific qualities or characteristics, becoming 'determination.'"
   ]
  },
  {
   "cell_type": "markdown",
   "metadata": {},
   "source": [
    "\n",
    "    Consequently, inasmuch as the two are also to be held apart,\n",
    "    constitution, which appears to be grounded in something external,\n",
    "    in an other in general, also depends on determination,\n",
    "    and the determining from outside is at the same time\n",
    "    determined by the something's own immanent determination.\n",
    "    And further, constitution belongs to that\n",
    "    which something is in itself:\n",
    "    something alters along with its constitution.\n"
   ]
  },
  {
   "cell_type": "markdown",
   "metadata": {},
   "source": [
    "\n",
    "    This altering of something is no longer\n",
    "    the first alteration of something merely\n",
    "    in accordance with its being-for-other.\n",
    "    The first was an alteration only implicitly present,\n",
    "    one that belonged to the inner concept;\n",
    "    now the alteration is also posited in the something.\n",
    "    The something itself is further determined,\n",
    "    and negation is posited as immanent to it,\n",
    "    as its developed being-in-itself.\n"
   ]
  },
  {
   "cell_type": "markdown",
   "metadata": {},
   "source": [
    "\n",
    "1. **Evolution of Alteration**: The transcreation emphasizes the evolution from an initial, implicit alteration based on external relations to a later, explicit alteration inherent in the entity.\n",
    "\n",
    "2. **Initial Implicit Change**: It highlights that the first phase of alteration is implicit and conceptual, shaped by the entity's 'being-for-other.'\n",
    "\n",
    "3. **Explicit Alteration within the Entity**: The translation points out that the alteration later becomes explicit and internalized within the entity.\n",
    "\n",
    "4. **Further Determination and Negation**: The transcreation underscores that the entity becomes more distinctly defined, and the concept of negation becomes an intrinsic aspect of its nature.\n",
    "\n",
    "5. **Negation as Developed Being-in-Itself**: It suggests that negation is not merely external but is integrated into the entity's 'being-in-itself,' indicating a more profound level of change."
   ]
  },
  {
   "cell_type": "markdown",
   "metadata": {},
   "source": [
    "\n",
    "    The transition of determination and constitution\n",
    "    into each other is at first the sublation of their distinction,\n",
    "    and existence or something in general is thereby posited;\n",
    "    moreover, since this something in general results\n",
    "    from a distinction that also includes\n",
    "    qualitative otherness within it,\n",
    "    there are two somethings.\n"
   ]
  },
  {
   "cell_type": "markdown",
   "metadata": {},
   "source": [
    "\n",
    "1. **Integration of Determination and Constitution**: The transcreation emphasizes the process where determination and constitution merge, leading to the sublation of their initial differences.\n",
    "\n",
    "2. **Emergence of Existence or Something in General**: It highlights that this integration results in the concept of 'existence' or a generalized notion of 'something.'\n",
    "\n",
    "3. **Creation of Two Distinct Somethings**: The translation points out that due to the inclusion of qualitative otherness in this process, two distinct entities or 'somethings' emerge.\n",
    "\n",
    "4. **Sublation and Qualitative Otherness**: The transcreation underscores that the process of sublation involves not only integration but also the acknowledgment of qualitative differences."
   ]
  },
  {
   "cell_type": "markdown",
   "metadata": {},
   "source": [
    "\n",
    "    But these are, with respect to each other,\n",
    "    not just others in general,\n",
    "    so that this negation would still be abstract\n",
    "    and would occur only in the comparison of the two;\n",
    "    rather the negation now is immanent to the somethings.\n"
   ]
  },
  {
   "cell_type": "markdown",
   "metadata": {},
   "source": [
    "\n",
    "1. **Inherent Negation in the Somethings**: The transcreation emphasizes that the negation, or the aspect of being 'other,' is an inherent quality within each of the 'somethings,' not merely a result of comparison.\n",
    "\n",
    "2. **Beyond Abstract Otherness**: It highlights that the relationship between the two entities is not just an abstract concept of otherness but a concrete, intrinsic characteristic.\n",
    "\n",
    "3. **Immanent Distinctiveness**: The translation underscores that the distinctiveness or difference of each something is a fundamental, immanent part of its nature."
   ]
  },
  {
   "cell_type": "markdown",
   "metadata": {},
   "source": [
    "\n",
    "    As existing, they are indifferent to each other,\n",
    "    but this, their affirmation, is no longer immediate:\n",
    "    each refers itself to itself through the intermediary of\n",
    "    the sublation of the otherness which in determination is\n",
    "    reflected into the in-itselfness.\n"
   ]
  },
  {
   "cell_type": "markdown",
   "metadata": {},
   "source": [
    "\n",
    "1. **Indifference in Coexistence**: The transcreation points out that the two 'somethings' exist independently and are indifferent to each other.\n",
    "\n",
    "2. **Mediated Affirmation**: It highlights that their self-affirmation is not immediate but occurs through a mediated process.\n",
    "\n",
    "3. **Sublation of Otherness**: The translation underscores the role of sublating or overcoming their differences ('otherness') in this process.\n",
    "\n",
    "4. **Reflection into In-Itselfness**: The transcreation suggests that each something reflects into its own 'in-itselfness' – its intrinsic nature – as a part of this process."
   ]
  },
  {
   "cell_type": "markdown",
   "metadata": {},
   "source": [
    "\n",
    "    Something behaves in this way in relation\n",
    "    to the other through itself;\n",
    "    since otherness is posited in it as its own moment,\n",
    "    its in-itselfness holds negation in itself,\n",
    "    and it now has its affirmative existence\n",
    "    through its intermediary alone.\n"
   ]
  },
  {
   "cell_type": "markdown",
   "metadata": {},
   "source": [
    "\n",
    "1. **Internalized Interaction with Otherness**: The transcreation emphasizes that the entity's interaction with 'the other' is mediated through its own internalized nature.\n",
    "\n",
    "2. **Otherness as an Intrinsic Aspect**: It highlights that the entity incorporates the concept of otherness within itself, making it an intrinsic part of its nature.\n",
    "\n",
    "3. **Incorporation of Negation**: The translation underscores that the entity’s intrinsic nature includes negation, representing an internal contradiction or contrast.\n",
    "\n",
    "4. **Affirmative Existence Through Internalization**: The transcreation points out that the entity's affirmative existence is achieved through this process of internal negation."
   ]
  },
  {
   "cell_type": "markdown",
   "metadata": {},
   "source": [
    "    But the other is also qualitatively distinguished\n",
    "    from this affirmative existence\n",
    "    and is thus posited outside the something.\n",
    "    The negation of its other is only\n",
    "    the quality of the something,\n",
    "    for it is in this sublation of its other\n",
    "    that it is something.\n"
   ]
  },
  {
   "cell_type": "markdown",
   "metadata": {},
   "source": [
    "\n",
    "1. **Qualitative Distinction of 'The Other'**: The transcreation emphasizes the qualitative difference between 'the other' and the affirmative existence of 'something.'\n",
    "\n",
    "2. **Positioning of 'The Other' Outside 'Something'**: It highlights that due to this qualitative distinction, 'the other' is considered external to 'something.'\n",
    "\n",
    "3. **Negation as a Defining Quality**: The translation underscores that negating 'the other' is a defining characteristic of 'something,' not merely an action.\n",
    "\n",
    "4. **Sublation as Self-Definition**: The transcreation points out that it is through the sublation (overcoming) of 'the other' that 'something' defines and asserts its existence."
   ]
  },
  {
   "cell_type": "markdown",
   "metadata": {},
   "source": [
    "\n",
    "    The other, for its part,\n",
    "    truly confronts an existence\n",
    "    only with this sublation;\n",
    "    it confronts the first something only externally,\n",
    "    or, since the two are in fact inherently joined together,\n",
    "    that is, according to their concept,\n",
    "    their connectedness consists in this,\n",
    "    that existence has passed over into otherness,\n",
    "    something into other;\n",
    "    that something is just as much an other as the other is.\n"
   ]
  },
  {
   "cell_type": "markdown",
   "metadata": {},
   "source": [
    "\n",
    "1. **Engagement through Sublation**: The transcreation emphasizes that 'the other' genuinely engages with existence through the process of sublation.\n",
    "\n",
    "2. **External Confrontation and Inherent Connection**: It highlights the initial external confrontation between 'something' and 'the other' and their inherent interconnectedness.\n",
    "\n",
    "3. **Transition of Existence into Otherness**: The translation underscores the transition from 'existence' to 'otherness' and from 'something' to 'other' as a fundamental aspect of their relationship.\n",
    "\n",
    "4. **Mutual Reflection of Identity**: The transcreation points out that 'something' and 'the other' reflect each other's identity, each embodying aspects of the other.\n"
   ]
  },
  {
   "cell_type": "markdown",
   "metadata": {},
   "source": [
    "\n",
    "    Now in so far as the in-itselfness is\n",
    "    the non-being of the otherness\n",
    "    that is contained in it\n",
    "    but is at the same time\n",
    "    also distinct as existent,\n",
    "    something is itself negation,\n",
    "    the ceasing to be of an other in it;\n",
    "    it is posited as behaving negatively in relation to\n",
    "    the other and in so doing preserving itself.\n"
   ]
  },
  {
   "cell_type": "markdown",
   "metadata": {},
   "source": [
    "\n",
    "1. **In-Itselfness as Negation of Otherness**: The transcreation emphasizes that the in-itselfness of an entity is the negation or non-being of otherness within it.\n",
    "\n",
    "2. **Distinct Existence of In-Itselfness**: It highlights that despite being a negation of otherness, in-itselfness is also a distinct and existent aspect of the entity.\n",
    "\n",
    "3. **Entity as Embodiment of Negation**: The translation underscores that the entity ('something') itself represents negation, specifically the cessation of 'the other' within it.\n",
    "\n",
    "4. **Negative Behavior for Self-Preservation**: The transcreation points out that the entity engages in negative behavior towards 'the other' as a means of preserving its own identity and existence.\n"
   ]
  },
  {
   "cell_type": "markdown",
   "metadata": {},
   "source": [
    "\n",
    "    This other, the in-itselfness of\n",
    "    the something as negation of the negation,\n",
    "    is the something's being-in-itself,\n",
    "    and this sublation is as simple negation\n",
    "    at the same time in it, namely, as its negation\n",
    "    of the other something external to it.\n"
   ]
  },
  {
   "cell_type": "markdown",
   "metadata": {},
   "source": [
    "\n",
    "1. **In-Itselfness as Negation of Negation**: The transcreation emphasizes that 'in-itselfness' in relation to 'something' is the negation of negation, a concept that defines its intrinsic nature.\n",
    "\n",
    "2. **Being-In-Itself Defined by Sublation**: It highlights that the 'being-in-itself' of 'something' is determined through the process of sublation, which involves negating the negation.\n",
    "\n",
    "3. **Simple Negation as Active Stance**: The translation points out that this sublation also manifests as a simple negation within 'something,' particularly in its opposition to external entities.\n",
    "\n",
    "4. **Dual Aspect of Being-In-Itself**: The transcreation underscores that 'something’s' being-in-itself is defined both by its inherent negation and its active negation of external others.\n"
   ]
  },
  {
   "cell_type": "markdown",
   "metadata": {},
   "source": [
    "\n",
    "    It is one determinateness of the two somethings\n",
    "    that, on the one hand, as negation of the negation,\n",
    "    is identical with the in-itselfness of the somethings,\n",
    "    and also, on the other hand, since these negations are\n",
    "    to each other as other somethings,\n",
    "    joins them together of their own accord\n",
    "    and, since each negation negates the other,\n",
    "    equally separates them.\n",
    "    This determinateness is limit.\n"
   ]
  },
  {
   "cell_type": "markdown",
   "metadata": {},
   "source": [
    "\n",
    "1. **Dual Role of Determinateness**: The transcreation emphasizes that determinateness has a dual role: aligning with each entity's in-itselfness and acting as a connector and separator.\n",
    "\n",
    "2. **Negation of Negation as Internal Essence**: It highlights that determinateness, as negation of negation, reflects the intrinsic nature of the entities.\n",
    "\n",
    "3. **Unifying and Separating Function**: The translation underscores that determinateness brings the entities together and separates them, serving as a 'limit.'\n",
    "\n",
    "4. **Concept of Limit**: The transcreation introduces the concept of 'limit' as the characteristic that embodies both the unifying and separating aspects of determinateness."
   ]
  },
  {
   "cell_type": "markdown",
   "metadata": {},
   "source": [
    "\n",
    "    3. Being-for-other is indeterminate, affirmative\n",
    "    association of something with its other;\n",
    "    in limit the non-being-for-other is emphasized,\n",
    "    the qualitative negation of the other,\n",
    "    which is thereby kept out of the something\n",
    "    that is reflected into itself.\n",
    "    We must see the development of this concept,\n",
    "    a development that will rather look like\n",
    "    confusion and contradiction.\n"
   ]
  },
  {
   "cell_type": "markdown",
   "metadata": {},
   "source": [
    "\n",
    "1. **Characterization of Being-for-Other**: The transcreation emphasizes the indeterminate and affirmative nature of the association between 'something' and its 'other.'\n",
    "\n",
    "2. **Emphasis on Limit as Negation**: It highlights that 'limit' focuses on the negation of being-for-other, representing a clear qualitative rejection of the other.\n",
    "\n",
    "3. **Contrast Between Being-for-Other and Limit**: The translation underscores the contrasting nature of these two concepts – the openness of being-for-other versus the exclusionary nature of limit.\n",
    "\n",
    "4. **Complex Development of Concepts**: The transcreation points out that the development of these ideas may appear confusing and contradictory due to their complexity."
   ]
  },
  {
   "cell_type": "markdown",
   "metadata": {},
   "source": [
    "    Contradiction immediately raises its head\n",
    "    because limit, as an internally reflected negation of something,\n",
    "    ideally holds in it the moments of something and other,\n",
    "    and these, as distinct moments, are at the same time\n",
    "    posited in the sphere of existence\n",
    "    as really, qualitatively, distinct.\n"
   ]
  },
  {
   "cell_type": "markdown",
   "metadata": {},
   "source": [
    "\n",
    "1. **Inherent Contradiction in Limit**: The transcreation emphasizes the contradiction inherent in the concept of 'limit,' which combines yet distinguishes 'something' and 'the other.'\n",
    "\n",
    "2. **Internal Negation with Dual Aspects**: It highlights that 'limit' involves an internal negation that theoretically includes both 'something' and 'the other.'\n",
    "\n",
    "3. **Distinction in Concept and Existence**: The translation underscores the distinction between the conceptual unity and the actual qualitative distinction in existence.\n",
    "\n",
    "4. **Philosophical Tension in Limit**: The transcreation points out the philosophical tension within 'limit' due to its dual role of encompassing unity and distinction."
   ]
  },
  {
   "cell_type": "markdown",
   "metadata": {},
   "source": [
    "\n",
    "    (a) Something is therefore immediate, self-referring existence\n",
    "    and at first it has a limit with respect to an other;\n",
    "    limit is the non-being of the other,\n",
    "    not of the something itself;\n",
    "    in limit, something marks the boundary of its other.\n"
   ]
  },
  {
   "cell_type": "markdown",
   "metadata": {},
   "source": [
    "\n",
    "1. **Immediate Self-Referring Existence**: The transcreation emphasizes that 'something' is initially an immediate, self-referring existence.\n",
    "\n",
    "2. **Limit in Relation to the Other**: It highlights that 'something' has a 'limit' in relation to 'the other,' marking a boundary.\n",
    "\n",
    "3. **Non-Being of the Other in Limit**: The translation underscores that the 'limit' represents the non-being or negation of 'the other,' not 'something' itself.\n",
    "\n",
    "4. **Demarcation of Boundary**: The transcreation points out that in the concept of 'limit,' 'something' marks where 'the other' begins or ceases to exist."
   ]
  },
  {
   "cell_type": "markdown",
   "metadata": {},
   "source": [
    "\n",
    "    But other is itself a something in general.\n",
    "    The limit that something has with respect to\n",
    "    an other is, therefore, also the limit of\n",
    "    the other as a something;\n",
    "    it is the limit of this something in virtue of which\n",
    "    the something holds the first something\n",
    "    as its other away from itself,\n",
    "    or is a non-being of that something.\n"
   ]
  },
  {
   "cell_type": "markdown",
   "metadata": {},
   "source": [
    "\n",
    "1. **Other as a Something in General**: The transcreation emphasizes that 'the other' is also considered a 'something,' not just an external entity.\n",
    "\n",
    "2. **Reciprocal Nature of Limits**: It highlights that the limit of one 'something' in relation to 'the other' is also the limit of 'the other' as a 'something.'\n",
    "\n",
    "3. **Mutual Demarcation and Non-Being**: The translation underscores that each 'something' defines its own boundary and the non-being of the other, maintaining mutual distinction.\n"
   ]
  },
  {
   "cell_type": "markdown",
   "metadata": {},
   "source": [
    "    The limit is thus not only the non-being of the other,\n",
    "    but of the one something just as of the other,\n",
    "    and consequently of the something in general.\n"
   ]
  },
  {
   "cell_type": "markdown",
   "metadata": {},
   "source": [
    "\n",
    "1. **Universal Application of Limit**: The transcreation emphasizes that 'limit' applies not only to the non-being of 'the other' but also equally to any specific entity and to 'something' in general.\n",
    "\n",
    "2. **Non-Being of Entities**: It highlights that 'limit' represents the points of non-existence or negation for all entities.\n",
    "\n",
    "3. **Defining Identity and Existence**: The translation underscores that 'limit' shapes the identity and existence of entities by defining their boundaries and what they are not."
   ]
  },
  {
   "cell_type": "markdown",
   "metadata": {},
   "source": [
    "\n",
    "    But the limit is equally, essentially,\n",
    "    the non-being of the other;\n",
    "    thus, through its limit,\n",
    "    something at the same time is.\n"
   ]
  },
  {
   "cell_type": "markdown",
   "metadata": {},
   "source": [
    "\n",
    "1. **Intrinsic Link Between Limit and Non-Being**: The transcreation emphasizes that 'limit' is fundamentally related to the non-being of 'the other.'\n",
    "\n",
    "2. **Existence Defined by Limit**: It highlights that an entity's existence is defined not just by its own qualities but also by its limits in relation to 'the other.'\n",
    "\n",
    "3. **Affirmation of Existence Through Limit**: The translation underscores that by establishing its limit, 'something' affirms and realizes its own existence."
   ]
  },
  {
   "cell_type": "markdown",
   "metadata": {},
   "source": [
    "\n",
    "    In limiting, something is of course thereby\n",
    "    reduced to being limited itself;\n",
    "    but, as the ceasing of the other in it,\n",
    "    its limit is at the same time itself\n",
    "    only the being of the something;\n",
    "    this something is what it is by virtue of it,\n",
    "    has its quality in it.\n"
   ]
  },
  {
   "cell_type": "markdown",
   "metadata": {},
   "source": [
    "\n",
    "1. **Dual Nature of Limiting**: The transcreation emphasizes that while limiting makes 'something' limited, it also affirms its being by ending the presence of 'the other' within it.\n",
    "\n",
    "2. **Limit as Definition of Being**: It highlights that the limit is a defining feature of the entity's existence, marking its own being and the cessation of 'the other.'\n",
    "\n",
    "3. **Quality Derived from Limiting**: The translation underscores that an entity’s quality and essence are intrinsically tied to its process of limiting."
   ]
  },
  {
   "cell_type": "markdown",
   "metadata": {},
   "source": [
    "\n",
    "    This relation is the external appearance of the fact\n",
    "    that limit is simple negation or the first negation,\n",
    "    whereas the other is, at the same time,\n",
    "    the negation of the negation,\n",
    "    the in-itselfness of the something.\n"
   ]
  },
  {
   "cell_type": "markdown",
   "metadata": {},
   "source": [
    "\n",
    "1. **Contrast Between Limit and The Other**: The transcreation underscores the difference between 'limit' as a simple negation and 'the other' as a negation of the negation.\n",
    "\n",
    "2. **Limit as First Negation**: It highlights that 'limit' represents the initial act of negation, defining what 'something' is not.\n",
    "\n",
    "3. **The Other as Complex Negation**: The translation points out that 'the other' involves a more intricate negation process, contributing to the deeper essence of 'something.'\n",
    "\n",
    "4. **In-Itselfness of Something**: The transcreation emphasizes that the negation of negation (represented by 'the other') embodies the intrinsic nature or 'in-itselfness' of 'something.'\n"
   ]
  },
  {
   "cell_type": "markdown",
   "metadata": {},
   "source": [
    "\n",
    "    Something, as an immediate existence,\n",
    "    is therefore the limit with respect\n",
    "    to another something;\n",
    "    but it has this limit in it\n",
    "    and is something through the mediation of that limit,\n",
    "    which is just as much its non-being.\n",
    "    The limit is the mediation in virtue of\n",
    "    which something and other each both is and is not.\n"
   ]
  },
  {
   "cell_type": "markdown",
   "metadata": {},
   "source": [
    "\n",
    "1. **Limit as Integral to Existence**: The transcreation emphasizes that the 'limit' is integral to an entity's existence, not just an external boundary.\n",
    "\n",
    "2. **Mediation Role of Limit**: It highlights that 'limit' acts as a mediator, defining 'something’s' identity and its relation to 'another something.'\n",
    "\n",
    "3. **Non-Being Signified by Limit**: The translation underscores that 'limit' represents both the being and non-being of an entity.\n",
    "\n",
    "4. **Paradoxical Existence and Non-Existence**: The transcreation points out the paradoxical nature of 'limit' – it allows 'something' and 'the other' to simultaneously exist and not exist."
   ]
  },
  {
   "cell_type": "markdown",
   "metadata": {},
   "source": [
    "\n",
    "    (b) Now in so far as something in its limit\n",
    "    both is and is not,\n",
    "    and these moments are an immediate, qualitative distinction,\n",
    "    the non-existence and the existence of the something\n",
    "    fall outside each other.\n"
   ]
  },
  {
   "cell_type": "markdown",
   "metadata": {},
   "source": [
    "\n",
    "1. **Paradox of Existence and Non-Existence**: The transcreation emphasizes the paradox within 'something’s' limit, where it both exists and does not exist.\n",
    "\n",
    "2. **Immediate Qualitative Distinction**: It highlights that this paradox leads to an immediate, clear-cut distinction between the existence and non-existence of 'something.'\n",
    "\n",
    "3. **Separation of Being and Non-Being**: The translation points out that the aspects of being and non-being in 'something' are distinctly separate, falling outside of each other."
   ]
  },
  {
   "cell_type": "markdown",
   "metadata": {},
   "source": [
    "    Something has its existence outside its limit\n",
    "    (or, as representation would also have it, inside it);\n",
    "    in the same way the other, too,\n",
    "    since it is something, has it outside it.\n"
   ]
  },
  {
   "cell_type": "markdown",
   "metadata": {},
   "source": [
    "\n",
    "1. **Existence Beyond Limit**: The transcreation emphasizes that 'something’s' existence extends beyond its limit, challenging the notion that existence is confined within boundaries.\n",
    "\n",
    "2. **Alternative Perspective of Existence Within Limit**: It acknowledges an alternative interpretation that suggests 'something’s' existence could also be perceived as lying within its limit.\n",
    "\n",
    "3. **Similarity with The Other**: The translation points out that 'the other,' also being a 'something,' shares this characteristic of having its existence outside its limit.\n"
   ]
  },
  {
   "cell_type": "markdown",
   "metadata": {},
   "source": [
    "    The limit is the middle point between the two\n",
    "    at which they leave off.\n",
    "    They have existence beyond each other,\n",
    "    beyond their limit;\n",
    "    the limit, as the non-being of each,\n",
    "    is the other of both.\n"
   ]
  },
  {
   "cell_type": "markdown",
   "metadata": {},
   "source": [
    "\n",
    "1. **Limit as Middle Point**: The transcreation emphasizes that the limit is a central point or boundary between 'something' and 'the other.'\n",
    "\n",
    "2. **Existence Beyond the Limit**: It highlights that each entity exists beyond its own limit and thus beyond the other entity.\n",
    "\n",
    "3. **Limit as Point of Non-Being**: The translation underscores that the limit represents the non-being or cessation of each entity in relation to the other.\n",
    "\n",
    "4. **Limit as 'The Other' of Both Entities**: The transcreation suggests that the limit itself is 'the other' for both 'something' and 'the other,' marking their separation.\n"
   ]
  },
  {
   "cell_type": "markdown",
   "metadata": {},
   "source": [
    "\n",
    "    It is in accordance with this difference\n",
    "    of the something from its limit\n",
    "    that the line appears as line outside its limit, the point;\n",
    "    the plane as plane outside the line;\n",
    "    the solid as solid only outside its limiting plane.\n",
    "    This is the aspect of limit that\n",
    "    first occurs to figurative representation\n",
    "    (the self-external-being of the concept)\n",
    "    and is also most commonly assumed\n",
    "    in the context of spatial objects.\n"
   ]
  },
  {
   "cell_type": "markdown",
   "metadata": {},
   "source": [
    "\n",
    "1. **Spatial Understanding of Limit**: The transcreation emphasizes the spatial interpretation of 'limit' using geometric examples.\n",
    "\n",
    "2. **Extension Beyond Limits in Geometry**: It highlights how a line, plane, and solid are defined by their extension beyond their respective limits.\n",
    "\n",
    "3. **Figurative Representation of Concepts**: The translation points out that this spatial understanding of limits is a primary aspect of figurative representation.\n",
    "\n",
    "4. **Common Assumption in Spatial Contexts**: The transcreation notes that this perspective on limits is commonly assumed in the context of understanding spatial objects."
   ]
  },
  {
   "cell_type": "markdown",
   "metadata": {},
   "source": [
    "\n",
    "    (c) But further, something as it is outside the limit,\n",
    "    as the unlimited something, is only existence in general.\n",
    "    As such, it is not distinguished from its other;\n",
    "    it is only existence\n",
    "    and, therefore, it and its other have the same determination;\n",
    "    each is only something in general or each is other;\n",
    "    and so both are the same.\n"
   ]
  },
  {
   "cell_type": "markdown",
   "metadata": {},
   "source": [
    "\n",
    "1. **Unlimited Something as General Existence**: The transcreation emphasizes that 'something' outside its limit becomes a general form of existence, losing specific characteristics.\n",
    "\n",
    "2. **Loss of Distinctiveness from The Other**: It highlights that in this state, 'something' is no longer distinguishable from 'the other.'\n",
    "\n",
    "3. **Same Fundamental Nature**: The translation points out that both 'something' and 'its other' share the same basic determination in their unlimited state.\n",
    "\n",
    "4. **Convergence of Entities**: The transcreation suggests that in being unlimited, both entities converge into a singular, general existence."
   ]
  },
  {
   "cell_type": "markdown",
   "metadata": {},
   "source": [
    "    But this, their at first immediate existence,\n",
    "    is now posited in them as limit:\n",
    "    in it both are what they are, distinct from each other.\n",
    "    But it is also equally their common distinguishedness,\n",
    "    the unity and the distinguishedness of both,\n",
    "    just like existence.\n"
   ]
  },
  {
   "cell_type": "markdown",
   "metadata": {},
   "source": [
    "\n",
    "1. **Limit as Posited Existence**: The transcreation emphasizes that the immediate existence of entities is eventually understood as their 'limit,' defining their identities.\n",
    "\n",
    "2. **Dual Role of Limit**: It highlights that the 'limit' serves to both differentiate entities and highlight their commonality.\n",
    "\n",
    "3. **Unity and Distinguishedness**: The translation underscores that the 'limit' embodies both the unity and distinctiveness of the entities.\n",
    "\n",
    "4. **Complex Understanding of Existence**: The transcreation points out the complexity in the philosophical understanding of existence, involving both individuality and shared attributes."
   ]
  },
  {
   "cell_type": "markdown",
   "metadata": {},
   "source": [
    "    This double identity of the two,\n",
    "    existence and limit, contains this:\n",
    "    that something has existence only in limit,\n",
    "    and that, since limit and immediate existence are each\n",
    "    at the same time the negative of each other,\n",
    "    the something, which is now only in its limit,\n",
    "    equally separates itself from itself,\n",
    "    points beyond itself to its non-being\n",
    "    and declares it to be its being,\n",
    "    and so it passes over into it.\n"
   ]
  },
  {
   "cell_type": "markdown",
   "metadata": {},
   "source": [
    "\n",
    "1. **Dual Identity of Existence and Limit**: The transcreation emphasizes the dual identity of 'something' in terms of its existence and limit.\n",
    "\n",
    "2. **Mutual Negation and Paradox**: It highlights the mutual negation between the limit and immediate existence, creating a paradoxical situation for 'something.'\n",
    "\n",
    "3. **Separation and Transition to Non-Being**: The translation underscores that 'something' separates from itself and points beyond its current state to its non-being, which it identifies as its true essence.\n",
    "\n",
    "4. **Transformation of Identity and State**: The transcreation suggests that 'something' undergoes a transformation, embracing its non-being as its actual being."
   ]
  },
  {
   "cell_type": "markdown",
   "metadata": {},
   "source": [
    "\n",
    "    To apply this to the preceding example,\n",
    "    the one determination is this:\n",
    "    that something is what it is only in its limit.\n",
    "    Therefore, the point is the limit of line,\n",
    "    not because the latter just ceases at the point\n",
    "    and has existence outside it;\n",
    "    the line is the limit of plane,\n",
    "    not because the plane just ceases at it;\n",
    "    and the same goes for the plane as the limit of solid.\n",
    "    \n"
   ]
  },
  {
   "cell_type": "markdown",
   "metadata": {},
   "source": [
    "\n",
    "1. **Geometric Figures Defined by Limits**: The transcreation emphasizes that geometric figures (point, line, plane, solid) are defined by their limits.\n",
    "\n",
    "2. **Intrinsic Identity through Limits**: It highlights that these limits are not just endpoints but are integral to the figures' identities.\n",
    "\n",
    "3. **Beyond Merely Ceasing at Limits**: The translation underscores that the identity of each figure is not just about where it ends, but about how its limit forms part of what it is.\n",
    "\n",
    "4. **Accessible Explanation for Complex Ideas**: The goal is to make Hegel’s philosophical concepts more understandable to a modern audience through clearer language."
   ]
  },
  {
   "cell_type": "markdown",
   "metadata": {},
   "source": [
    "    Rather, at the point the line also begins;\n",
    "    the point is its absolute beginning,\n",
    "    and if the line is represented\n",
    "    as unlimited on both its two sides,\n",
    "    or, as is said, as extended to infinity,\n",
    "    the point still constitutes its element,\n",
    "    just as the line constitutes the element of the plane,\n",
    "    and the plane that of the solid.\n",
    "    \n"
   ]
  },
  {
   "cell_type": "markdown",
   "metadata": {},
   "source": [
    "\n",
    "1. **Interconnectedness in Geometry**: The transcreation emphasizes the intrinsic interconnectedness between points, lines, planes, and solids in geometry.\n",
    "\n",
    "2. **Point as the Beginning of the Line**: It highlights that a point is not just the endpoint but also the beginning and a fundamental element of a line.\n",
    "\n",
    "3. **Elemental Basis of Higher Dimensions**: The translation underscores that lines are foundational to planes, and planes are foundational to solids.\n",
    "\n",
    "4. **Fundamental Components in Geometric Structures**: The transcreation points out that each geometric figure forms an essential component of the next higher-dimensional figure."
   ]
  },
  {
   "cell_type": "markdown",
   "metadata": {},
   "source": [
    "    These limits are the principle\n",
    "    of that which they delimit;\n",
    "    just as one, for instance,\n",
    "    is as hundredth the limit,\n",
    "    but also the element,\n",
    "    of the whole hundred.\n"
   ]
  },
  {
   "cell_type": "markdown",
   "metadata": {},
   "source": [
    "\n",
    "1. **Dual Role of Limits**: The transcreation emphasizes that limits serve a dual role – as both boundaries and fundamental elements of what they delimit.\n",
    "\n",
    "2. **Example of Numerical Limits**: It highlights the example of 'one' as a part of 'one hundred,' serving as both a limit and an elemental part of the whole.\n",
    "\n",
    "3. **Limits as Foundational Principles**: The translation underscores that limits are foundational principles or essential elements, not merely endpoints.\n"
   ]
  },
  {
   "cell_type": "markdown",
   "metadata": {},
   "source": [
    "\n",
    "    The other determination is the unrest of\n",
    "    the something in its limit in which it is immanent,\n",
    "    the contradiction that propels it beyond itself.\n"
   ]
  },
  {
   "cell_type": "markdown",
   "metadata": {},
   "source": [
    "\n",
    "1. **Inherent Unrest in Something**: The transcreation emphasizes the concept of inherent tension or unrest within 'something' in relation to its limits.\n",
    "\n",
    "2. **Active Contradiction as a Driving Force**: It highlights that this unrest is an active contradiction that propels 'something' beyond its current state.\n",
    "\n",
    "3. **Immanence of Contradiction**: The translation underscores that this contradiction is deeply embedded or immanent within the nature of 'something.'\n",
    "\n",
    "4. **Propulsion Beyond Limits**: The transcreation points out that this contradiction stimulates 'something' to transcend its established boundaries.\n"
   ]
  },
  {
   "cell_type": "markdown",
   "metadata": {},
   "source": [
    "\n",
    "    Thus the point is this dialectic of itself becoming line;\n",
    "    the line, the dialectic of becoming plane;\n",
    "    the plane, of becoming total space.\n",
    "    A second definition is given of line, plane, and whole space\n",
    "    which has the line come to be through the movement of the point;\n",
    "    the plane through the movement of the line, and so forth.\n",
    "    This movement of the point, the line, and so forth, is\n",
    "    however viewed as something accidental,\n",
    "    or as movement only in figurative representation.\n"
   ]
  },
  {
   "cell_type": "markdown",
   "metadata": {},
   "source": [
    "\n",
    "1. **Dialectical Transformation in Geometry**: The transcreation emphasizes the dialectical process in which geometric figures transform into higher dimensions.\n",
    "\n",
    "2. **Evolution from Simpler to Complex Forms**: It highlights the conceptual evolution from a point to a line, a line to a plane, and a plane to total space.\n",
    "\n",
    "3. **Movement as Conceptual Genesis**: The translation underscores that this transformation is conceptualized as a movement or evolution from one form to another.\n",
    "\n",
    "4. **Figurative Representation of Movement**: The transcreation points out that this transformation is often viewed as figurative or metaphorical, not a literal movement.\n"
   ]
  },
  {
   "cell_type": "markdown",
   "metadata": {},
   "source": [
    "\n",
    "    In fact, however, this view is taken back by supposing that\n",
    "    the determinations from which the line, and so forth,\n",
    "    originate are their elements and principles,\n",
    "    and these are, at the same time,\n",
    "    nothing else but their limits;\n",
    "    the coming to be is not considered as accidental\n",
    "    or only as represented.\n"
   ]
  },
  {
   "cell_type": "markdown",
   "metadata": {},
   "source": [
    "\n",
    "1. **Reevaluation of Geometric Transformations**: The transcreation emphasizes Hegel's reevaluation of the process of geometric transformations.\n",
    "\n",
    "2. **Inherent Nature of Transformations**: It highlights that these transformations are rooted in the essential elements and principles of the geometric figures.\n",
    "\n",
    "3. **Limits as Fundamental Aspects**: The translation underscores that the foundational aspects of these figures are their limits, which drive their transformations.\n",
    "\n",
    "4. **Natural Outcome of Intrinsic Properties**: The transcreation suggests that the evolution of these shapes is a natural result of their inherent properties and boundaries."
   ]
  },
  {
   "cell_type": "markdown",
   "metadata": {},
   "source": [
    "\n",
    "    That the point, the line, the plane, are per se\n",
    "    self-contradictory beginnings which on their own\n",
    "    repel themselves from themselves,\n",
    "    and consequently that the point passes over\n",
    "    from itself into the line through its concept,\n",
    "    moves in itself and makes the line come to be,\n",
    "    and so on all this lies in the concept of the limit\n",
    "    which is immanent in the something.\n"
   ]
  },
  {
   "cell_type": "markdown",
   "metadata": {},
   "source": [
    "\n",
    "1. **Inherent Self-Contradiction in Geometric Figures**: The transcreation emphasizes the self-contradictory nature of points, lines, and planes.\n",
    "\n",
    "2. **Internal Movement and Transformation**: It highlights the internal force within these entities that propels them beyond their initial state.\n",
    "\n",
    "3. **Limit as a Dynamic Principle**: The translation underscores that the 'limit' is a dynamic principle that embodies the entity’s inherent contradiction and drives its transformation.\n",
    "\n",
    "4. **Evolution Driven by Intrinsic Nature**: The transcreation points out that the evolution of these geometric entities is rooted in their intrinsic nature and the concept of the limit.\n",
    "\n",
    "5. **Accessible Explanation for Complex Ideas**: The goal is to make Hegel’s philosophical concepts more understandable to a modern audience through clearer language."
   ]
  },
  {
   "cell_type": "markdown",
   "metadata": {},
   "source": [
    "\n",
    "    The application itself, however,\n",
    "    belongs to the treatment of space;\n",
    "    as an indication of it here, we can say that\n",
    "    the point is the totally abstract limit,\n",
    "    but in a determinate existence;\n",
    "    this existence is still taken in total abstraction,\n",
    "    it is the so-called absolute, that is, abstract space,\n",
    "    the absolutely continuous being-outside-one-another.\n"
   ]
  },
  {
   "cell_type": "markdown",
   "metadata": {},
   "source": [
    "\n",
    "1. **Linking Abstract Philosophy to Spatial Theory**: The transcreation emphasizes how Hegel’s abstract philosophical ideas are applied to the concrete study of space.\n",
    "\n",
    "2. **Point as Abstract Limit in Determinate Existence**: It highlights that a point is an abstract limit within a specific existence, bridging abstract concepts with spatial reality.\n",
    "\n",
    "3. **Abstract Space as Continuous Separation**: The translation underscores the notion of 'abstract space' as a continuum where entities are absolutely separated from each other.\n",
    "\n",
    "4. **Concrete Example of Abstract Concepts**: The transcreation points out that a point serves as a concrete example in the application of these abstract philosophical ideas to spatial theory."
   ]
  },
  {
   "cell_type": "markdown",
   "metadata": {},
   "source": [
    "\n",
    "    Inasmuch as the limit is not abstract negation,\n",
    "    but is rather in this existence,\n",
    "    inasmuch as it is spatial determinateness,\n",
    "    the point is spatial, is the contradiction\n",
    "    of abstract negation and continuity\n",
    "    and is, for that reason, the transition\n",
    "    as it occurs and has already occurred\n",
    "    into the line, and so forth.\n",
    "    And so there is no point,\n",
    "    just as there is no line or plane.\n"
   ]
  },
  {
   "cell_type": "markdown",
   "metadata": {},
   "source": [
    "\n",
    "1. **Spatial Determinateness of Limit**: The transcreation emphasizes that the 'limit' in spatial terms is more than just an abstract concept; it's an actualized spatial determinateness.\n",
    "\n",
    "2. **Contradiction in the Nature of a Point**: It highlights the contradictory nature of a point, being both an abstract negation and part of spatial continuity.\n",
    "\n",
    "3. **Transitional Nature of Geometric Figures**: The translation underscores that a point, and by extension, a line or plane, is always in transition, constantly evolving into something else.\n",
    "\n",
    "4. **Challenge to Conventional Understanding**: The transcreation suggests that Hegel's perspective challenges the traditional view of geometric figures as fixed entities."
   ]
  },
  {
   "cell_type": "markdown",
   "metadata": {},
   "source": [
    "\n",
    "    The something, posited with its immanent limit\n",
    "    as the contradiction of itself by virtue of which\n",
    "    it is directed and driven out and beyond itself,\n",
    "    is the finite.\n"
   ]
  },
  {
   "cell_type": "markdown",
   "metadata": {},
   "source": [
    "\n",
    "1. **Intrinsic Contradiction in Something**: The transcreation emphasizes the contradiction within 'something' when paired with its inherent limit.\n",
    "\n",
    "2. **Dynamic Nature of the Finite**: It highlights that the finite nature of 'something' is characterized by this internal push to go beyond itself.\n",
    "\n",
    "3. **Limit as a Paradoxical Essence**: The translation underscores that the limit is a paradoxical part of 'something’s' essence, driving its transcendence.\n",
    "\n",
    "4. **Finite as Beyond Current State**: The transcreation suggests that the finite is a state where 'something' is continuously moving beyond its current form."
   ]
  },
  {
   "cell_type": "markdown",
   "metadata": {},
   "source": [
    "## c. Finitude\n",
    "\n"
   ]
  },
  {
   "cell_type": "markdown",
   "metadata": {},
   "source": [
    "\n",
    "    Existence is determinate.\n",
    "    Something has a quality,\n",
    "    and in this quality it is\n",
    "    not only determined but delimited;\n",
    "    its quality is its limit and, affected by it,\n",
    "    something remains affirmative, quiescent existence.\n"
   ]
  },
  {
   "cell_type": "markdown",
   "metadata": {},
   "source": [
    "\n",
    "1. **Determinacy of Existence**: The transcreation emphasizes that existence is inherently specific and defined.\n",
    "\n",
    "2. **Quality as Determinant and Delimiter**: It highlights that an entity's quality both defines and delimits it, serving as its limit.\n",
    "\n",
    "3. **Affirmative Existence Despite Limitation**: The translation underscores that despite being delimited by its quality, 'something' retains an affirmative and stable existence.\n",
    "\n",
    "4. **Quality Shaping Existence**: The transcreation points out that the quality shapes the entity's existence, providing it with a distinct character.\n"
   ]
  },
  {
   "cell_type": "markdown",
   "metadata": {},
   "source": [
    "\n",
    "    But, so developed that the opposition of its existence\n",
    "    and of the negation as the limit immanent to this existence is\n",
    "    the very in-itselfness of the something,\n",
    "    and this is thus only becoming in it,\n",
    "    this negation constitutes the finitude of the something.\n",
    "    \n"
   ]
  },
  {
   "cell_type": "markdown",
   "metadata": {},
   "source": [
    "\n",
    "1. **Inherent Opposition in Something**: The transcreation emphasizes the inherent opposition within 'something' between its existence and the negation (limit) within it.\n",
    "\n",
    "2. **In-Itselfness Defined by Opposition**: It highlights that this opposition is central to the entity's intrinsic nature or 'in-itselfness.'\n",
    "\n",
    "3. **Perpetual Becoming and Transformation**: The translation underscores that this internal contradiction results in continuous transformation or becoming.\n",
    "\n",
    "4. **Finitude as Dynamic Condition**: The transcreation suggests that the finitude of 'something' is a dynamic state, characterized by ongoing change and evolution."
   ]
  },
  {
   "cell_type": "markdown",
   "metadata": {},
   "source": [
    "    When we say of things that they are finite,\n",
    "    we understand by this that they not only have a determinateness,\n",
    "    that their quality is not only reality\n",
    "    and existent determination,\n",
    "    that they are not merely limited\n",
    "    and as such still have existence outside their limit,\n",
    "    but rather that non-being constitutes their nature, their being.\n",
    "  "
   ]
  },
  {
   "cell_type": "markdown",
   "metadata": {},
   "source": [
    "\n",
    "1. **Finitude Beyond Determinateness and Limits**: The transcreation emphasizes that finitude is not just about having specific characteristics or limits.\n",
    "\n",
    "2. **Non-Being as Integral to Nature**: It highlights that non-being is a fundamental part of the nature and existence of finite things.\n",
    "\n",
    "3. **Essence of Finitude in Non-Existence**: The translation underscores that the essence of finitude lies in the integration of non-being within the being of things."
   ]
  },
  {
   "cell_type": "markdown",
   "metadata": {},
   "source": [
    "    Finite things are, but in their reference to themselves\n",
    "    they refer to themselves negatively\n",
    "    in this very self-reference\n",
    "    they propel themselves beyond themselves,\n",
    "    beyond their being.\n",
    "    They are, but the truth of this being is\n",
    "    (as in Latin) their finis, their end.\n",
    "    \n"
   ]
  },
  {
   "cell_type": "markdown",
   "metadata": {},
   "source": [
    "\n",
    "1. **Self-Referential Negation in Finite Things**: The transcreation emphasizes that finite things exist but with a self-referential negation that propels them beyond their current state.\n",
    "\n",
    "2. **Dynamic Orientation Towards an End**: It highlights that the existence of finite things is dynamically oriented towards their end or finitude.\n",
    "\n",
    "3. **Finis as the Essence of Being**: The translation underscores that the true essence of being for finite things is their 'finis' or end.\n"
   ]
  },
  {
   "cell_type": "markdown",
   "metadata": {},
   "source": [
    "    The finite does not just alter,\n",
    "    as the something in general does,\n",
    "    but perishes, and its perishing is\n",
    "    not just a mere possibility,\n",
    "    as if it might be without perishing.\n",
    "    Rather, the being as such of finite things is\n",
    "    to have the germ of this transgression\n",
    "    in their in-itselfness:\n",
    "    the hour of their birth is the hour of their death.\n"
   ]
  },
  {
   "cell_type": "markdown",
   "metadata": {},
   "source": [
    "\n",
    "1. **Distinction of the Finite from Mere Alteration**: The transcreation emphasizes that the finite is different from just changing or altering; it inherently involves perishing.\n",
    "\n",
    "2. **Inevitability of Perishing in Finite Things**: It highlights that perishing is not just a possibility for finite things but an essential aspect of their being.\n",
    "\n",
    "3. **Transgression Embedded in Essence**: The translation underscores that the essence of finite things includes the 'germ' or intrinsic quality of moving beyond their current state.\n",
    "\n",
    "4. **Duality of Birth and Death**: The transcreation points out the dual nature of the finite, where the beginning of existence is simultaneously the start of the journey towards its end.\n"
   ]
  },
  {
   "cell_type": "markdown",
   "metadata": {},
   "source": [
    "\n",
    "### (a) The immediacy of finitude.\n"
   ]
  },
  {
   "cell_type": "markdown",
   "metadata": {},
   "source": [
    "\n",
    "    The thought of the finitude of things\n",
    "    brings this mournful note with it\n",
    "    because finitude is qualitative negation driven to the extreme,\n",
    "    and in the simplicity of such a determination\n",
    "    there is no longer left to things\n",
    "    an affirmative being distinct from their determination,\n",
    "    as things destined to ruin.\n"
   ]
  },
  {
   "cell_type": "markdown",
   "metadata": {},
   "source": [
    "\n",
    "1. **Melancholic Nature of Finitude**: The transcreation emphasizes the mournful aspect that comes with the contemplation of the finitude of things.\n",
    "\n",
    "2. **Finitude as Extreme Qualitative Negation**: It highlights that finitude is an extreme form of qualitative negation, reducing things to their finite essence.\n",
    "\n",
    "3. **Loss of Affirmative Being**: The translation underscores that, within this concept of finitude, things lack an affirmative existence separate from their finite determination.\n",
    "\n",
    "4. **Inevitable Trajectory to Ruin**: The transcreation points out that things are seen as destined for ruin, marked by a predetermined decline."
   ]
  },
  {
   "cell_type": "markdown",
   "metadata": {},
   "source": [
    "\n",
    "    Because of this qualitative simplicity of negation\n",
    "    that has returned to the abstract opposition of\n",
    "    nothing and perishing to being,\n",
    "    finitude is the most obstinate of\n",
    "    the categories of the understanding;\n",
    "    negation in general, constitution, limit,\n",
    "    are compatible with their other, with existence;\n",
    "    even the abstract nothing, by itself,\n",
    "    is given up as an abstraction;\n",
    "    but finitude is negation fixed in itself\n",
    "    and, as such, stands in stark contrast to its affirmative.\n"
   ]
  },
  {
   "cell_type": "markdown",
   "metadata": {},
   "source": [
    "\n",
    "1. **Complexity of Finitude**: The transcreation emphasizes the complexity and obstinacy of finitude as a category of understanding.\n",
    "\n",
    "2. **Qualitative Simplicity of Negation in Finitude**: It highlights that finitude arises from a simple yet profound form of negation.\n",
    "\n",
    "3. **Contrast with Other Concepts**: The translation points out how finitude contrasts with broader concepts like negation, constitution, and limit.\n",
    "\n",
    "4. **Stark Contrast to Affirmative States**: The transcreation underscores that finitude stands in stark contrast to positive or affirmative states.\n"
   ]
  },
  {
   "cell_type": "markdown",
   "metadata": {},
   "source": [
    "\n",
    "    The finite thus does indeed\n",
    "    let itself be submitted to flux;\n",
    "    this is precisely what it is,\n",
    "    that it should come to an end,\n",
    "    and this end is its only determination.\n",
    "    Its refusal is rather to let itself be brought\n",
    "    affirmatively to its affirmative, the infinite,\n",
    "    to be associated with it;\n",
    "    it is therefore inseparably posited with its nothing,\n",
    "    and thereby cut off from any reconciliation\n",
    "    with its other, the affirmative.\n",
    "    \n"
   ]
  },
  {
   "cell_type": "markdown",
   "metadata": {},
   "source": [
    "\n",
    "1. **Inherent Flux and Cessation of the Finite**: The transcreation emphasizes that the finite is inherently subject to change and destined for an end.\n",
    "\n",
    "2. **Resistance to Reconciliation with the Infinite**: It highlights the finite's fundamental resistance to being reconciled with or transformed into the infinite.\n",
    "\n",
    "3. **Link with Nothingness**: The translation underscores that the finite is inextricably linked to its own end or nothingness.\n",
    "\n",
    "4. **Divide Between Finite and Infinite**: The transcreation points out the unbridgeable divide between the finite and the affirmative nature of the infinite."
   ]
  },
  {
   "cell_type": "markdown",
   "metadata": {},
   "source": [
    "    The determination of finite things does not go past their end.\n",
    "    The understanding persists in this sorrow of finitude,\n",
    "    for it makes non-being the determination of things\n",
    "    and, at the same time, this non-being imperishable and absolute.\n",
    "    Their transitoriness would only pass away in their other,\n",
    "    in the affirmative;\n",
    "    their finitude would then be severed from them;\n",
    "    but this finitude is their unalterable quality, that is,\n",
    "    their quality which does not pass over into their other, that is,\n",
    "    not into the affirmative;\n",
    "    and so finitude is eternal.\n"
   ]
  },
  {
   "cell_type": "markdown",
   "metadata": {},
   "source": [
    "\n",
    "1. **Inextricable Link to End**: The transcreation emphasizes that the essence of finite things is inextricably linked to their end or cessation.\n",
    "\n",
    "2. **Non-Being as an Absolute Aspect**: It highlights that non-being is framed as an absolute and indestructible aspect of finite things.\n",
    "\n",
    "3. **Impossibility of Transition to Affirmative**: The translation underscores that finite things cannot transition into an affirmative or infinite state.\n",
    "\n",
    "4. **Eternal Nature of Finitude**: The transcreation points out the paradoxical eternal quality of finitude, where its transient nature becomes a permanent characteristic.\n"
   ]
  },
  {
   "cell_type": "markdown",
   "metadata": {},
   "source": [
    "\n",
    "    This is a very important consideration.\n",
    "    But that the finite is absolute is\n",
    "    certainly not a standpoint that any philosophy or outlook,\n",
    "    or the understanding, would want to endorse.\n",
    "    The opposite is rather expressly present\n",
    "    in the assertion of finitude:\n",
    "    the finite is the restricted, the perishable,\n",
    "    the finite is only the finite, not the imperishable;\n",
    "    all this is immediately part and parcel\n",
    "    of its determination and expression.\n"
   ]
  },
  {
   "cell_type": "markdown",
   "metadata": {},
   "source": [
    "\n",
    "1. **Rejection of the Finite as Absolute**: The transcreation emphasizes that the concept of the finite as absolute is not a widely accepted standpoint in philosophy or rational understanding.\n",
    "\n",
    "2. **Inherent Opposition in Finitude**: It highlights that the very nature of finitude contradicts the idea of being absolute.\n",
    "\n",
    "3. **Characterization of the Finite**: The translation underscores the finite as being restricted, perishable, and inherently limited.\n",
    "\n",
    "4. **Essential Aspect of Finite Definition**: The transcreation points out that the transient nature of the finite is an integral part of its determination and expression.\n"
   ]
  },
  {
   "cell_type": "markdown",
   "metadata": {},
   "source": [
    "    But all depends on whether\n",
    "    in one's view of finitude its being is insisted on,\n",
    "    and the transitoriness thus persists,\n",
    "    or whether the transitoriness and the perishing perish.\n",
    "    The fact is that this perishing of the perishing does not happen\n",
    "    on precisely the view that would make\n",
    "    the perishing the final end of the finite.\n",
    "    The official claim is that the finite is\n",
    "    incompatible with the infinite\n",
    "    and cannot be united with it;\n",
    "    that the finite is absolutely opposed to the infinite.\n",
    "    \n"
   ]
  },
  {
   "cell_type": "markdown",
   "metadata": {},
   "source": [
    "\n",
    "1. **Differing Perceptions of Finitude**: The transcreation emphasizes the importance of how one perceives the essence of finitude, either as persisting in its transitory state or as having its transitoriness perish.\n",
    "\n",
    "2. **Incompatibility of Finite and Infinite**: It highlights the common claim that the finite and the infinite are fundamentally incompatible and in absolute opposition.\n",
    "\n",
    "3. **Perishing of the Perishing**: The translation points out the notion of the perishing aspect of the finite itself ceasing, which contradicts the view of perishing as the finite's ultimate fate."
   ]
  },
  {
   "cell_type": "markdown",
   "metadata": {},
   "source": [
    "    Being, absolute being, is ascribed to the infinite.\n",
    "    The finite remains held fast over against it as its negative;\n",
    "    incapable of union with the infinite,\n",
    "    it remains absolute on its own side;\n",
    "    from the affirmative, from the infinite,\n",
    "    it would receive affirmation and thus it would perish;\n",
    "    but a union with the infinite is precisely\n",
    "    what is declared impossible.\n"
   ]
  },
  {
   "cell_type": "markdown",
   "metadata": {},
   "source": [
    "\n",
    "1. **Absolute Being Ascribed to the Infinite**: The transcreation emphasizes that absolute being is typically attributed to the infinite.\n",
    "\n",
    "2. **Finite as Negative of the Infinite**: It highlights that the finite is positioned as the negative counterpart to the infinite, unable to unite with it.\n",
    "\n",
    "3. **Inherent Separation of Finite and Infinite**: The translation underscores the perceived impossibility of union between the finite and the infinite.\n",
    "\n",
    "4. **Absolute Nature of the Finite**: The transcreation points out that the finite remains absolute in its own domain, separate from the infinite.\n"
   ]
  },
  {
   "cell_type": "markdown",
   "metadata": {},
   "source": [
    "    If the finite were not to persist over against the infinite\n",
    "    but were to perish, its perishing, as just said,\n",
    "    would then be the last of it;\n",
    "    not its affirmative, which would be only\n",
    "    a perishing of the perishing.\n",
    "    However, if it is not to perish into the affirmative\n",
    "    but its end is rather to be grasped as a nothing,\n",
    "    then we are back at that first, abstract nothing\n",
    "    that itself has long since passed away.\n"
   ]
  },
  {
   "cell_type": "markdown",
   "metadata": {},
   "source": [
    "\n",
    "1. **Perishing of the Finite**: The transcreation emphasizes the concept of the finite ceasing to exist, rather than persisting against the infinite.\n",
    "\n",
    "2. **End as Perishing of Perishing**: It highlights that this cessation is not a transition to an affirmative state, but rather a continuation of cessation itself.\n",
    "\n",
    "3. **Return to Abstract Nothingness**: The translation underscores that conceptualizing this end as nothingness brings us back to the initial concept of abstract nothingness.\n",
    "\n",
    "4. **Circular Philosophical Exploration**: The transcreation points out the circular nature of this exploration, returning to the starting point of abstract non-existence.\n"
   ]
  },
  {
   "cell_type": "markdown",
   "metadata": {},
   "source": [
    "\n",
    "    With this nothing, however, which is supposed to be only nothing\n",
    "    but to which a reflective existence is nevertheless granted\n",
    "    in thought, in representation or in speech,\n",
    "    the same contradiction occurs as we have\n",
    "    just indicated in connection with the finite,\n",
    "    except that in the nothing it just occurs\n",
    "    but in the finite it is instead expressed.\n"
   ]
  },
  {
   "cell_type": "markdown",
   "metadata": {},
   "source": [
    "\n",
    "1. **Contradiction in the Concept of Nothing**: The transcreation emphasizes the inherent contradiction in acknowledging Inothing' while granting it existence in thought or language.\n",
    "\n",
    "2. **Comparison with the Finite**: It highlights the similarity between the contradictions in Inothing' and in the finite, with a distinction in how these contradictions manifest.\n",
    "\n",
    "3. **Implicit vs. Explicit Contradiction**: The translation points out that while the contradiction in Inothing' is implicit, in the finite, it is explicitly expressed."
   ]
  },
  {
   "cell_type": "markdown",
   "metadata": {},
   "source": [
    "\n",
    "    In the one case, the contradiction appears as subjective;\n",
    "    in the other, the finite is said to stand\n",
    "    in perpetual opposition to the infinite,\n",
    "    in itself to be null, and to be as null in itself.\n",
    "    \n"
   ]
  },
  {
   "cell_type": "markdown",
   "metadata": {},
   "source": [
    "\n",
    "1. **Subjective Contradiction in Inothing'**: The transcreation emphasizes that the contradiction in Inothing' is perceived as subjective, related to our conceptual engagement.\n",
    "\n",
    "2. **Inherent Opposition in the Finite**: It highlights that the finite is seen as inherently null and in constant opposition to the infinite.\n",
    "\n",
    "3. **Objective Nature of Finite's Contradiction**: The translation underscores the objective and inherent nature of the contradiction within the finite.\n"
   ]
  },
  {
   "cell_type": "markdown",
   "metadata": {},
   "source": [
    "    This is now to be brought to consciousness.\n",
    "    The development of the finite will show that,\n",
    "    expressly as this contradiction, it collapses internally,\n",
    "    but that, in this collapse, it actually resolves the contradiction;\n",
    "    it will show that the finite is not just perishable,\n",
    "    and that it perishes,\n",
    "    but that the perishing, the nothing,\n",
    "    is rather not the last of it;\n",
    "    that the perishing rather perishes.\n"
   ]
  },
  {
   "cell_type": "markdown",
   "metadata": {},
   "source": [
    "\n",
    "1. **Internal Collapse of the Finite**: The transcreation emphasizes that the finite contains a contradiction that leads to its internal collapse.\n",
    "\n",
    "2. **Resolution of Contradiction**: It highlights that the collapse of the finite actually resolves the inherent contradiction.\n",
    "\n",
    "3. **Perishing as Not the Final State**: The translation underscores that the finite’s perishing, or transition to nothingness, is not its ultimate fate.\n",
    "\n",
    "4. **Dissolution of the Concept of Perishing**: The transcreation points out that the concept of perishing itself also perishes.\n"
   ]
  },
  {
   "cell_type": "markdown",
   "metadata": {},
   "source": [
    "### (b). Restriction and the ought\n"
   ]
  },
  {
   "cell_type": "markdown",
   "metadata": {},
   "source": [
    "\n",
    "    This contradiction is indeed abstractly present\n",
    "    by the very fact that the something is finite,\n",
    "    or that the finite is.\n",
    "    But something or being is no longer posited abstractly\n",
    "    but reflected into itself,\n",
    "    and developed as being-in-itself\n",
    "    that has determination and constitution in it,\n",
    "    or, more determinedly still, in such a way\n",
    "    that it has a limit within it;\n",
    "    and this limit, as constituting\n",
    "    what is immanent to the something\n",
    "    and the quality of its being-in-itself,\n",
    "    is finitude.\n",
    "    It is to be seen what moments are contained\n",
    "    in this concept of the finite something.\n"
   ]
  },
  {
   "cell_type": "markdown",
   "metadata": {},
   "source": [
    "\n",
    "1. **Inherent Contradiction in Finitude**: The transcreation emphasizes that the contradiction of finitude is inherent and not just an abstract concept.\n",
    "\n",
    "2. **Reflective Nature of Being**: It highlights that 'something' or being is reflective, turning inward upon itself with distinct determinations and constitutions.\n",
    "\n",
    "3. **Limit as a Defining Element**: The translation underscores that the limit within 'something' is a defining element of its existence and constitutes its finitude.\n",
    "\n",
    "4. **Finitude as Being-in-Itself**: The transcreation points out that finitude is the quality of 'something’s' being-in-itself.\n"
   ]
  },
  {
   "cell_type": "markdown",
   "metadata": {},
   "source": [
    "\n",
    "    Determination and constitution arose as\n",
    "    sides for external reflection,\n",
    "    but determination already contained otherness\n",
    "    as belonging to the in-itself of something.\n",
    "    On the one side, the externality of otherness is\n",
    "    within the something's own inwardness;\n",
    "    on the other side, it remains as otherness distinguished from it;\n",
    "    it is still externality as such, but in the something.\n"
   ]
  },
  {
   "cell_type": "markdown",
   "metadata": {},
   "source": [
    "\n",
    "1. **Dual Nature of Determination and Constitution**: The transcreation emphasizes that determination and constitution are both aspects of external reflection and contain intrinsic elements of otherness.\n",
    "\n",
    "2. **Intrinsic and Distinct Otherness**: It highlights that otherness is part of 'something’s' essence and simultaneously distinguished from it.\n",
    "\n",
    "3. **Externality Within 'Something'**: The translation underscores that externality, or otherness, exists both within and distinct from 'something.'"
   ]
  },
  {
   "cell_type": "markdown",
   "metadata": {},
   "source": [
    "\n",
    "    But further, since otherness is determined as limit,\n",
    "    itself as negation of the negation,\n",
    "    the otherness immanent to the something is posited as the\n",
    "    connection of the two sides,\n",
    "    and the unity of the something with itself\n",
    "    (to which both determination and constitution belong)\n",
    "    is its reference turned back upon itself,\n",
    "    the reference to it of its implicitly existing determination\n",
    "    that in it negates its immanent limit.\n",
    "    \n"
   ]
  },
  {
   "cell_type": "markdown",
   "metadata": {},
   "source": [
    "\n",
    "1. **Otherness as Limit and Negation**: The transcreation emphasizes that otherness within 'something' is determined as a limit and as a negation of negation.\n",
    "\n",
    "2. **Connection and Unity through Otherness**: It highlights that this immanent otherness acts as a connector and contributes to the unity of 'something' with itself.\n",
    "\n",
    "3. **Self-Referential Nature**: The translation underscores the self-referential nature of 'something,' where it engages with and negates its own limits."
   ]
  },
  {
   "cell_type": "markdown",
   "metadata": {},
   "source": [
    "    The self-identical in-itself thus refers\n",
    "    itself to itself as to its own non-being,\n",
    "    but as negation of the negation,\n",
    "    as negating that which at the same time retains existence in it,\n",
    "    for it is the quality of its in-itselfness.\n",
    "    Something's own limit, thus posited by it as a\n",
    "    negative which is at the same time essential,\n",
    "    is not only limit as such, but restriction.\n"
   ]
  },
  {
   "cell_type": "markdown",
   "metadata": {},
   "source": [
    "\n",
    "1. **Self-Reference of the Self-Identical 'In-Itself'**: The transcreation emphasizes the self-identical 'in-itself’s' self-reference to its own non-being.\n",
    "\n",
    "2. **Negation of the Negation**: It highlights the concept of Inegation of the negation' where 'in-itself' negates a part of itself while retaining existence.\n",
    "\n",
    "3. **Essential Nature of the Limit as Restriction**: The translation underscores that the self-imposed limit is not just a boundary but a necessary restriction integral to 'something’s' nature."
   ]
  },
  {
   "cell_type": "markdown",
   "metadata": {},
   "source": [
    "\n",
    "    But restriction is not alone in \n",
    "    being posited as negative;\n",
    "    the negation cuts two ways,\n",
    "    for that which it posits as negated is limit,\n",
    "    and limit is in general what is common to something and other,\n",
    "    and is also the determinateness of\n",
    "    the in-itself of determination as such.\n",
    "    This in-itself, consequently, as negative reference to its limit\n",
    "    (which is also distinguished from it),\n",
    "    as negative reference to itself as restriction,\n",
    "    is the ought.\n"
   ]
  },
  {
   "cell_type": "markdown",
   "metadata": {},
   "source": [
    "\n",
    "1. **Dual Role of Restriction**: The transcreation emphasizes that restriction is not merely negative but plays a dual role involving negation and limit.\n",
    "\n",
    "2. **Negation Establishing Limits**: It highlights how negation serves to establish limits, which are common between an entity and another.\n",
    "\n",
    "3. **In-Itself as Negative Reference**: The translation underscores that the 'in-itself' aspect negatively refers to its own limit and to itself as restriction, embodying the 'ought.'\n"
   ]
  },
  {
   "cell_type": "markdown",
   "metadata": {},
   "source": [
    "\n",
    "    In order for the limit that is in \n",
    "    every something to be a restriction,\n",
    "    the something must at the same time transcend it in itself,\n",
    "    must refer to it from within as to a non-existent.\n",
    "    The existence of something lies quietly indifferent,\n",
    "    as it were, alongside its limit.\n",
    "    But the something transcends its limit only\n",
    "    in so far as it is the sublatedness of the limit,\n",
    "    the negative in-itselfness over against it.\n",
    "    And inasmuch as the limit is as restriction\n",
    "    in the determination itself,\n",
    "    the something thereby transcends itself.\n"
   ]
  },
  {
   "cell_type": "markdown",
   "metadata": {},
   "source": [
    "\n",
    "1. **Internal Transcendence of Limit**: The transcreation emphasizes that for a limit to become a restriction, 'something' must transcend it internally.\n",
    "\n",
    "2. **Coexistence of Existence and Limit**: It highlights the seemingly indifferent coexistence of 'something’s' existence alongside its limit.\n",
    "\n",
    "3. **Sublation of the Limit**: The translation underscores that transcending the limit involves its sublation, turning it into a negative aspect of 'something’s' essence.\n",
    "\n",
    "4. **Self-Transcendence of Something**: The transcreation points out that when the limit is a restriction within 'something’s' definition, it leads to self-transcendence."
   ]
  },
  {
   "cell_type": "markdown",
   "metadata": {},
   "source": [
    "\n",
    "    The ought therefore contains the double determination:\n",
    "    once, as a determination which has\n",
    "    an in-itselfness over against negation;\n",
    "    and again, as a non-being which, as restriction,\n",
    "    is distinguished from the determination\n",
    "    but is at the same time itself\n",
    "    a determination existing in itself.\n"
   ]
  },
  {
   "cell_type": "markdown",
   "metadata": {},
   "source": [
    "\n",
    "1. **Dual Nature of the 'Ought'**: The transcreation emphasizes the 'ought's' dual aspect, combining positive determination and restrictive non-being.\n",
    "\n",
    "2. **Inherent Essence Against Negation**: It highlights the 'ought's' intrinsic essence that exists in opposition to negation.\n",
    "\n",
    "3. **Non-Being as Self-Existing Determination**: The translation underscores that the non-being aspect of the 'ought' is not mere absence but a self-contained determination.\n"
   ]
  },
  {
   "cell_type": "markdown",
   "metadata": {},
   "source": [
    "\n",
    "    The finite has thus determined itself\n",
    "    as connecting determination and limit;\n",
    "    in this connection, the determination is the ought\n",
    "    and the limit is the restriction.\n",
    "    Thus the two are both moments of the finite,\n",
    "    and therefore both themselves finite,\n",
    "    the ought as well as the restriction.\n",
    "    \n"
   ]
  },
  {
   "cell_type": "markdown",
   "metadata": {},
   "source": [
    "\n",
    "1. **Dual Nature of the Finite**: This transcreation emphasizes the inherent duality in the concept of the finite, as defined by Hegel, framing it through the lens of 'determination' and 'limit.'\n",
    "\n",
    "2. **The 'Ought' as Aspirational Aspect**: The notion of 'ought' is presented as the aspirational or potential aspect of finiteness, indicating what could be.\n",
    "\n",
    "3. **The 'Restriction' as Limiting Aspect**: 'Restriction' is identified as the limiting factor, the boundary that defines and confines the potential.\n",
    "\n",
    "4. **Interplay of Possibilities and Constraints**: The transcreation captures the dynamic interaction between the possibilities (ought) and the constraints (restriction), highlighting how they collectively define the finite."
   ]
  },
  {
   "cell_type": "markdown",
   "metadata": {},
   "source": [
    "    But only restriction is posited as the finite;\n",
    "    the ought is restricted only in itself,\n",
    "    and therefore only for us.\n",
    "    It is restricted by virtue of its reference\n",
    "    to the limit already immanent within it,\n",
    "    though this restriction in it is shrouded in in-itselfness,\n",
    "    for according to its determinate being,\n",
    "    that is, according to its determinateness\n",
    "    in contrast to restriction,\n",
    "    it is posited as being-in-itself.\n"
   ]
  },
  {
   "cell_type": "markdown",
   "metadata": {},
   "source": [
    "\n",
    "1. **Distinct Roles of Restriction and Ought**: The transcreation clarifies the different roles played by 'restriction' and 'ought' in the context of finiteness, with restriction being overtly finite and 'ought' having an internalized finiteness.\n",
    "\n",
    "2. **Inherent Limitation of the Ought**: It underscores that the limitations of the 'ought' are not externally imposed but are an integral part of its own structure.\n",
    "\n",
    "3. **Observer's Perspective**: The translation highlights that these inherent limitations in the 'ought' are primarily discernible to an observer, suggesting a subjective element in understanding finiteness.\n",
    "\n",
    "4. **Implicit Nature of Restriction in Ought**: The text delves into the idea that the inherent restriction in the 'ought' is often not immediately apparent or is 'shrouded in in-itselfness'.\n",
    "\n",
    "5. **Ought as Being-in-Itself**: The transcreation describes the 'ought' as being posited as a being-in-itself, suggesting its nature as intrinsically defined and self-contained."
   ]
  },
  {
   "cell_type": "markdown",
   "metadata": {},
   "source": [
    "\n",
    "    What ought to be is, and at the same time is not.\n",
    "    If it were, it would not be what merely ought to be.\n",
    "    The ought has therefore a restriction essentially.\n",
    "    This restriction is not anything alien;\n",
    "    that which only ought to be is determination\n",
    "    now posited as it is in fact,\n",
    "    namely as at the same time\n",
    "    only a determinateness.\n"
   ]
  },
  {
   "cell_type": "markdown",
   "metadata": {
    "notebookRunGroups": {
     "groupValue": ""
    }
   },
   "source": [
    "\n",
    "1. **Paradox of the 'Ought'**: The transcreation brings out the paradoxical nature of the 'ought', existing in a state of both being and not being.\n",
    "\n",
    "2. **Intrinsic Restriction of the 'Ought'**: It emphasizes that the 'ought' inherently contains a limitation, integral to its very nature.\n",
    "\n",
    "3. **Internal Nature of the Restriction**: The translation points out that this limitation is not external but is a fundamental part of what the 'ought to be' actually is.\n",
    "\n",
    "4. **'Ought' as Determination and Determinateness**: The text reveals that what 'ought to be' is recognized as both a determination and, simultaneously, just a specific characteristic or quality."
   ]
  },
  {
   "cell_type": "markdown",
   "metadata": {},
   "source": [
    "\n",
    "    The being-in-itself of the something is\n",
    "    thus reduced in its determination\n",
    "    to the ought because the very thing\n",
    "    that constitutes the something's in-itselfness is,\n",
    "    in one and the same respect, as non-being;\n"
   ]
  },
  {
   "cell_type": "markdown",
   "metadata": {},
   "source": [
    "\n",
    "1. **Reduction to the 'Ought'**: The transcreation illustrates how the intrinsic nature of 'something' is reduced to the level of the 'ought,' showing a transformation in understanding its essence.\n",
    "\n",
    "2. **Paradox in Inherent Nature**: It emphasizes the paradoxical aspect where the defining feature of an entity's inherent nature simultaneously signifies its non-being.\n",
    "\n",
    "3. **Intrinsic Nature as Non-Existence**: The translation suggests that the core essence or 'in-itselfness' of an entity is, in a certain respect, akin to non-existence.\n"
   ]
  },
  {
   "cell_type": "markdown",
   "metadata": {},
   "source": [
    "\n",
    "    or again, because in the in-itselfness,\n",
    "    in the negation of the negation,\n",
    "    the said being-in-itself is as\n",
    "    one negation (what negates) a unity with the other,\n",
    "    and this other, as qualitatively other, is the limit\n",
    "    by virtue of which that unity is as reference to it.\n",
    "    \n"
   ]
  },
  {
   "cell_type": "markdown",
   "metadata": {},
   "source": [
    "\n",
    "1. **Negation Process in In-Itselfness**: This transcreation focuses on explaining the complex process of Inegation of the negation' within the realm of 'in-itselfness.'\n",
    "\n",
    "2. **Unity of Negations and its Significance**: It highlights how the 'being-in-itself' becomes a unity of two negations, each with distinct qualities.\n",
    "\n",
    "3. **Role of Limit in Defining Essence**: The translation brings out the idea that this unity with the limit, formed through negation, is crucial in defining the essence of 'being-in-itself.'"
   ]
  },
  {
   "cell_type": "markdown",
   "metadata": {},
   "source": [
    "    The restriction of the finite is not anything external,\n",
    "    but the finite's own determination is rather also its restriction;\n",
    "    and this restriction is both itself and the ought;\n",
    "    it is that which is common to both,\n",
    "    or rather that in which the two are identical.\n"
   ]
  },
  {
   "cell_type": "markdown",
   "metadata": {},
   "source": [
    "\n",
    "1. **Intrinsic Nature of Finite Restriction**: This transcreation emphasizes that the restriction of the finite is not external but is an integral part of its own determination.\n",
    "\n",
    "2. **Duality of Restriction**: It highlights that the finite's restriction serves dual roles – it is both a feature of the finite itself and an expression of the 'ought.'\n",
    "\n",
    "3. **Commonality and Convergence**: The translation underscores the common ground shared by the finite's nature and the 'ought,' and how they merge in the concept of restriction.\n"
   ]
  },
  {
   "cell_type": "markdown",
   "metadata": {},
   "source": [
    "\n",
    "    But further, as “ought” the finite transcends its restriction;\n",
    "    the same determinateness which is its negation is also sublated,\n",
    "    and is thus its in-itself;\n",
    "    its limit is also not its limit.\n"
   ]
  },
  {
   "cell_type": "markdown",
   "metadata": {},
   "source": [
    "\n",
    "1. **Transcendence through 'Ought'**: The transcreation illustrates how the concept of 'ought' enables the finite to transcend its own restrictions.\n",
    "\n",
    "2. **Simultaneous Negation and Sublation**: It highlights the dual process where the finite's negating characteristic is both a limitation and, through sublation, an integral part of its essence.\n",
    "\n",
    "3. **Paradox of Limit and Non-Limit**: The translation captures the paradoxical nature of the finite's limit — it is both a limit and, in a sense, not a limit."
   ]
  },
  {
   "cell_type": "markdown",
   "metadata": {},
   "source": [
    "\n",
    "    As ought something is thus elevated above its restriction,\n",
    "    but conversely it has its restriction only as ought.\n",
    "    The two are indivisible.\n",
    "    Something has a restriction in so far as\n",
    "    it has negation in its determination,\n",
    "    and the determination is also\n",
    "    the being sublated of the restriction.\n"
   ]
  },
  {
   "cell_type": "markdown",
   "metadata": {},
   "source": [
    "\n",
    "1. **Elevation and Inherent Limitation**: The transcreation clarifies how, as the 'ought,' an entity transcends its restrictions, yet simultaneously, it is these restrictions that define it as the 'ought.'\n",
    "\n",
    "2. **Indivisibility of 'Ought' and Restriction**: It emphasizes the inseparable nature of the 'ought' and the entity's restriction, presenting them as two sides of the same coin.\n",
    "\n",
    "3. **Negation as Intrinsic Determination**: The translation highlights that the entity's limitation is due to the inherent negation within its nature or determination.\n",
    "\n",
    "4. **Determination as Sublation of Restriction**: The text also points out that this determination is, in itself, the act of overcoming the limitation."
   ]
  },
  {
   "cell_type": "markdown",
   "metadata": {},
   "source": [
    "### (c). Transition of the finite into the infinite\n"
   ]
  },
  {
   "cell_type": "markdown",
   "metadata": {},
   "source": [
    "\n",
    "    The ought contains restriction explicitly, for itself,\n",
    "    and restriction contains the ought.\n",
    "    Their mutual connection is the finite itself,\n",
    "    which contains them both in its in-itself.\n",
    "    These moments of its determination are qualitatively opposed;\n",
    "    restriction is determined as the negative of the ought,\n",
    "    and the ought equally as the negative of restriction.\n",
    "    The finite is thus in itself the contradiction of itself;\n",
    "    it sublates itself, it goes away and ceases to be.\n",
    "    \n"
   ]
  },
  {
   "cell_type": "markdown",
   "metadata": {},
   "source": [
    "\n",
    "1. **Explicit Inclusion of Restriction and Ought**: The transcreation highlights how the 'ought' and restriction are explicitly included and interrelated within the finite.\n",
    "\n",
    "2. **Mutual Connection and Opposition**: It emphasizes the interconnected yet qualitatively opposed nature of restriction and the 'ought' within the finite.\n",
    "\n",
    "3. **Finite as a Contradiction**: The translation captures the idea that the finite, by its nature, embodies a contradiction, being the negation of both restriction and the 'ought.'\n",
    "\n",
    "4. **Self-Sublation of the Finite**: The text elucidates how this internal contradiction leads the finite to negate or sublate itself, essentially leading to its own cessation."
   ]
  },
  {
   "cell_type": "markdown",
   "metadata": {},
   "source": [
    "    But this, its result, the negative as such,\n",
    "    is (a) its very determination;\n",
    "    for it is the negative of the negative.\n",
    "    So, in going away and ceasing to be,\n",
    "    the finite has not ceased;\n",
    "    it has only become momentarily\n",
    "    an other finite which equally is,\n",
    "    however, a going-away as a going-over\n",
    "    into another finite, and so forth to infinity.\n"
   ]
  },
  {
   "cell_type": "markdown",
   "metadata": {},
   "source": [
    "\n",
    "1. **Negation as Essential Determination**: The transcreation brings out the idea that the finite's negation is not just its end but is an integral part of its nature.\n",
    "\n",
    "2. **Continual Transformation of the Finite**: It highlights that the finite, upon negating itself, doesn't cease to exist but rather assumes a new finite form.\n",
    "\n",
    "3. **Endless Progression of Finite States**: The translation underscores the concept of an infinite series of transitions, where each finite state leads to another.\n"
   ]
  },
  {
   "cell_type": "markdown",
   "metadata": {},
   "source": [
    "\n",
    "    But, (b) if we consider this result more closely,\n",
    "    in its going-away and ceasing-to-be,\n",
    "    in this negation of itself,\n",
    "    the finite has attained its being-in-itself;\n",
    "    in it, it has rejoined itself.\n",
    "    Each of its moments contains precisely this result;\n",
    "    the ought transcends the restriction,\n",
    "    that is, it transcends itself;\n",
    "    but its beyond, or its other, is only restriction itself.\n"
   ]
  },
  {
   "cell_type": "markdown",
   "metadata": {},
   "source": [
    "\n",
    "1. **Self-Negation as True Essence**: The transcreation highlights that the finite's self-negation, or its process of ceasing to be, is actually its attainment of true essence.\n",
    "\n",
    "2. **Reunion with Self**: It emphasizes that through this negation, the finite rejoins or unites with its own self.\n",
    "\n",
    "3. **Ought's Transcendence of Restriction**: The translation delves into the concept that the 'ought,' in its effort to go beyond limitation, is essentially transcending itself.\n",
    "\n",
    "4. **Circularity of Transcendence**: The text brings out the paradox where the transcendence of the 'ought' leads it back to the very restriction it sought to overcome.\n"
   ]
  },
  {
   "cell_type": "markdown",
   "metadata": {},
   "source": [
    "\n",
    "    Restriction, for its part, immediately points\n",
    "    beyond itself to its other,\n",
    "    and this is the ought;\n",
    "    but this ought is the same diremption of \n",
    "    in-itselfness and determinateness as is restriction;\n",
    "    it is the same thing;\n",
    "    in going beyond itself,\n",
    "    restriction thus equally rejoins itself.\n",
    "    \n"
   ]
  },
  {
   "cell_type": "markdown",
   "metadata": {},
   "source": [
    "\n",
    "1. **Restriction Pointing Beyond Itself**: The transcreation illustrates how restriction naturally extends beyond itself, pointing towards the 'ought.'\n",
    "\n",
    "2. **Ought as a Mirror of Restriction**: It highlights that the 'ought' embodies the same split between essence and characteristic (in-itselfness and determinateness) as restriction does.\n",
    "\n",
    "3. **Unity in Duality**: The translation emphasizes the identical nature of restriction and the 'ought,' despite their seeming duality.\n",
    "\n",
    "4. **Circular Nature of Transcendence**: The text underscores the paradox where, in trying to transcend, restriction essentially reunites with itself, mirroring the process of the 'ought.'"
   ]
  },
  {
   "cell_type": "markdown",
   "metadata": {},
   "source": [
    "    This identity with itself,\n",
    "    the negation of negation,\n",
    "    is affirmative being,\n",
    "    is thus the other of the finite\n",
    "    which is supposed to have the first negation\n",
    "    for its determinateness;\n",
    "    this other is the infinite.\n"
   ]
  }
 ],
 "metadata": {
  "kernelspec": {
   "display_name": "jupyter",
   "language": "python",
   "name": "jupyter"
  },
  "language_info": {
   "codemirror_mode": {
    "name": "ipython",
    "version": 3
   },
   "file_extension": ".py",
   "mimetype": "text/x-python",
   "name": "python",
   "nbconvert_exporter": "python",
   "pygments_lexer": "ipython3",
   "version": "3.11.2"
  }
 },
 "nbformat": 4,
 "nbformat_minor": 2
}
