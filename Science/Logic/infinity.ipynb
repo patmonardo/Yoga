{
 "cells": [
  {
   "cell_type": "markdown",
   "metadata": {},
   "source": [
    "# CHAPTER 3"
   ]
  },
  {
   "cell_type": "markdown",
   "metadata": {},
   "source": [
    "# C. INFINITY\n"
   ]
  },
  {
   "cell_type": "markdown",
   "metadata": {},
   "source": [
    "\n",
    "    The infinite\n",
    "    \n",
    "    (a) in simple determination,\n",
    "    is the affirmative as negation of the finite;\n",
    "    (b) but is thereby in alternating\n",
    "    determination with the infinite,\n",
    "    and is abstract, one-sided infinite;\n",
    "    (c) is the self-sublation of this infinite\n",
    "    and of the finite in one process.\n",
    "    This is the true infinite.\n"
   ]
  },
  {
   "cell_type": "markdown",
   "metadata": {},
   "source": [
    "\n",
    "## a. The infinite in general\n"
   ]
  },
  {
   "cell_type": "markdown",
   "metadata": {},
   "source": [
    "\n",
    "    The infinite is the negation of negation, the affirmative,\n",
    "    being that has reinstated itself out of restrictedness.\n",
    "    The infinite is, in a more intense sense\n",
    "    than the first immediate being;\n",
    "    it is the true being;\n",
    "    the elevation above restriction.\n",
    "    At the mention of the infinite, soul and spirit light up,\n",
    "    for in the infinite the spirit is at home,\n",
    "    and not only abstractly;\n",
    "    rather, it rises to itself, to the light of its thinking,\n",
    "    its universality, its freedom.\n"
   ]
  },
  {
   "cell_type": "markdown",
   "metadata": {},
   "source": [
    "\n",
    "    What is first given with the concept of the infinite is this,\n",
    "    that in its being-in-itself existence is determined\n",
    "    as finite and transcends restriction.\n",
    "    It is the very nature of the finite\n",
    "    that it transcend itself,\n",
    "    that it negate its negation\n",
    "    and become infinite.\n",
    "    \n"
   ]
  },
  {
   "cell_type": "markdown",
   "metadata": {},
   "source": [
    "    Consequently, the infinite does not stand\n",
    "    above the finite as something ready-made by itself,\n",
    "    as if the finite stood fixed outside or below it.\n",
    "    Nor is it we only, as a subjective reason,\n",
    "    who transcend the finite into the infinite,\n",
    "    as if, in saying that the infinite is a concept of reason\n",
    "    and that through reason we elevate ourselves above things temporal,\n",
    "    we did this without prejudice to the finite,\n",
    "    without this elevation (which remains external to the finite)\n",
    "    affecting it.\n",
    "    \n"
   ]
  },
  {
   "cell_type": "markdown",
   "metadata": {},
   "source": [
    "    In so far as the finite itself is being elevated to infinity,\n",
    "    it is not at all an alien force that does this for it;\n",
    "    it is rather its nature to refer itself to itself as restriction\n",
    "    (both restriction as such and as ought)\n",
    "    and to transcend this restriction,\n",
    "    or rather, in this self-reference,\n",
    "    to have negated the restriction\n",
    "    and gone above and beyond it.\n",
    "    \n"
   ]
  },
  {
   "cell_type": "markdown",
   "metadata": {},
   "source": [
    "    It is not in the sublation of the finite in general\n",
    "    that infinity in general comes to be,\n",
    "    but the finite is rather just this,\n",
    "    that through its nature it comes to be itself the infinite.\n",
    "    Infinity is its affirmative determination,\n",
    "    its vocation, what it truly is in itself.\n",
    "    \n"
   ]
  },
  {
   "cell_type": "markdown",
   "metadata": {},
   "source": [
    "    The finite has thus vanished into the infinite\n",
    "    and what is, is only the infinite.\n"
   ]
  },
  {
   "cell_type": "markdown",
   "metadata": {},
   "source": [
    "## b. Alternating Determination of Finite and Infinite\n"
   ]
  },
  {
   "cell_type": "markdown",
   "metadata": {},
   "source": [
    "\n",
    "    The infinite is;\n",
    "    in this immediacy it is at the same time\n",
    "    the negation of an other, of the finite.\n",
    "    And so, as existent and at the same time as the\n",
    "    non-being of an other,\n",
    "    it has fallen back into the category of the something,\n",
    "    of something determinate in general.\n",
    "    \n"
   ]
  },
  {
   "cell_type": "markdown",
   "metadata": {},
   "source": [
    "    More precisely: the infinite is\n",
    "    the existence reflected into itself\n",
    "    which results from the mediating sublation\n",
    "    of determinateness in general\n",
    "    and is consequently posited as existence\n",
    "    distinct from its determinateness;\n",
    "    therefore, it has fallen back into\n",
    "    the category of something with a limit.\n",
    "    \n"
   ]
  },
  {
   "cell_type": "markdown",
   "metadata": {},
   "source": [
    "    In accordance with this determinateness,\n",
    "    the finite stands over against\n",
    "    the infinite as real existence;\n",
    "    they thus remain outside each other,\n",
    "    standing in qualitative mutual reference;\n",
    "    the immediate being of the infinite\n",
    "    resurrects the being of its negation,\n",
    "    of the finite again, which seemed at first\n",
    "    to have vanished into the infinite.\n"
   ]
  },
  {
   "cell_type": "markdown",
   "metadata": {},
   "source": [
    "\n",
    "    But the infinite and the finite are not\n",
    "    in these referential categories only;\n",
    "    the two sides are further determined in addition\n",
    "    to being as mere others to each other.\n",
    "    Namely, the finite is restriction posited as restriction;\n",
    "    it is existence posited with the determination\n",
    "    that it passes over into what is its in-itself\n",
    "    and becomes infinite.\n"
   ]
  },
  {
   "cell_type": "markdown",
   "metadata": {},
   "source": [
    "\n",
    "    Infinity is the nothing of the finite,\n",
    "    the in-itself that the latter ought to be,\n",
    "    but it is this at the same time\n",
    "    as reflected within itself,\n",
    "    as realized ought, as only\n",
    "    affirmative self-referring being.\n",
    "    In infinity we have the satisfaction\n",
    "    that all determinateness, alteration, all restriction\n",
    "    and the ought itself together with it,\n",
    "    have vanished, are sublated,\n",
    "    and the nothing of the finite is posited.\n"
   ]
  },
  {
   "cell_type": "markdown",
   "metadata": {},
   "source": [
    "\n",
    "    As this negation of the finite is\n",
    "    the being-in-itself determined which,\n",
    "    as negation of negation, is in itself affirmative.\n",
    "    Yet this affirmation is qualitatively\n",
    "    immediate self-reference, being;\n",
    "    and, because of this, the affirmative is led back\n",
    "    to the category of being that has\n",
    "    the finite confronting it as an other;\n",
    "    its negative nature is posited as existent negation,\n",
    "    and hence as first and immediate negation.\n",
    "    \n"
   ]
  },
  {
   "cell_type": "markdown",
   "metadata": {},
   "source": [
    "    The infinite is in this way burdened\n",
    "    with the opposition to the finite,\n",
    "    and this finite, as an other, remains a real existence\n",
    "    even though in its being-in-itself, in the infinite,\n",
    "    it is at the same time posited as sublated;\n",
    "    this infinite is that which is not finite:\n",
    "    a being in the determinateness of negation.\n",
    "    \n"
   ]
  },
  {
   "cell_type": "markdown",
   "metadata": {},
   "source": [
    "    Contrasted with the finite,\n",
    "    with the series of existent determinacies,\n",
    "    of realities,\n",
    "    the infinite is indeterminate emptiness,\n",
    "    the beyond of the finite,\n",
    "    whose being-in-itself is not in its existence\n",
    "    (which is something determinate).\n"
   ]
  },
  {
   "cell_type": "markdown",
   "metadata": {},
   "source": [
    "\n",
    "    As thus posited over against the finite,\n",
    "    the two connected by the qualitative mutual reference of others,\n",
    "    the infinite is to be called the bad infinite,\n",
    "    the infinite of the understanding,\n",
    "    for which it counts as the highest,\n",
    "    the absolute truth.\n",
    "    \n"
   ]
  },
  {
   "cell_type": "markdown",
   "metadata": {},
   "source": [
    "    The understanding believes that\n",
    "    it has attained satisfaction\n",
    "    in the reconciliation of truth\n",
    "    while it is in fact entangled in\n",
    "    unreconciled, unresolved, absolute contradictions.\n",
    "    And it is these contradictions,\n",
    "    into which it falls on every side whenever\n",
    "    it embarks on the application and explication\n",
    "    of these categories that belong to it,\n",
    "    that must make it conscious of the fact.\n"
   ]
  },
  {
   "cell_type": "markdown",
   "metadata": {},
   "source": [
    "\n",
    "    This contradiction is present in the very fact\n",
    "    that the infinite remains over against the finite,\n",
    "    with the result that there are two determinacies.\n",
    "    There are two worlds, one infinite and one finite,\n",
    "    and in their connection the infinite is only\n",
    "    the limit of the finite and thus only a determinate,\n",
    "    itself finite infinite.\n"
   ]
  },
  {
   "cell_type": "markdown",
   "metadata": {},
   "source": [
    "\n",
    "    This contradiction develops its content into more explicit forms.\n",
    "    The finite is the real existence which persists as such\n",
    "    even when it has gone over into its non-being, the infinite.\n",
    "    As we have seen, this infinite has for its determinateness,\n",
    "    over against the finite,\n",
    "    only the first, immediate negation,\n",
    "    just as the finite, as negated,\n",
    "    has over against this negation\n",
    "    only the meaning of an other\n",
    "    and is, therefore, still a something.\n",
    "    \n"
   ]
  },
  {
   "cell_type": "markdown",
   "metadata": {},
   "source": [
    "    When, therefore, the understanding,\n",
    "    elevating itself above this finite world,\n",
    "    rises to what is the highest for it,\n",
    "    to the infinite,\n",
    "    the finite world remains for it\n",
    "    as something on this side here,\n",
    "    and, thus posited only above the finite,\n",
    "    the infinite is separated from the finite\n",
    "    and, for the same reason,\n",
    "    the finite from the infinite:\n",
    "    each is placed in a different location,\n",
    "    the finite as existence here,\n",
    "    and the infinite, although the being-in-itself of the finite,\n",
    "    there as a beyond, at a nebulous, inaccessible distance\n",
    "    outside which there stands, enduring, the finite.\n"
   ]
  },
  {
   "cell_type": "markdown",
   "metadata": {},
   "source": [
    "\n",
    "    As thus separated, they are just as much\n",
    "    essentially connected with each other,\n",
    "    through the very negation that divides them.\n",
    "    This negation connecting them\n",
    "    (these somethings reflected into themselves)\n",
    "    is the common limit of each over against the other;\n",
    "    and that, too, in such a way that each\n",
    "    does not merely have this limit in it over against the other,\n",
    "    but the negation is rather the in-itselfness of each;\n",
    "    each thus has for itself, in its separation\n",
    "    from the other, the limit in it.\n"
   ]
  },
  {
   "cell_type": "markdown",
   "metadata": {},
   "source": [
    "\n",
    "    But the limit is the first negation;\n",
    "    both are thus limited, finite, in themselves.\n",
    "    Yet, as each affirmatively refers itself to itself,\n",
    "    each is also the negation of its limit;\n",
    "    each thus immediately repels\n",
    "    the negation from itself as its non-being,\n",
    "    and, qualitatively severed from it,\n",
    "    posits it as an other being outside it:\n",
    "    the finite posits its non-being as this infinite,\n",
    "    and the infinite likewise the finite.\n"
   ]
  },
  {
   "cell_type": "markdown",
   "metadata": {},
   "source": [
    "\n",
    "    It is readily conceded that the\n",
    "    finite passes over into the infinite necessarily\n",
    "    (that is, through its determination)\n",
    "    and is thereby elevated to what is its in-itself,\n",
    "    for while the finite is indeed determined as subsistent existence,\n",
    "    it is at the same time also a null in itself\n",
    "    and therefore destined to self-dissolution;\n",
    "    whereas the infinite, although burdened with negation and limit,\n",
    "    is equally also determined as the existent in-itself,\n",
    "    so that this abstraction of self-referring affirmation is\n",
    "    what constitutes its determination,\n",
    "    and hence finite existence is not present in it.\n"
   ]
  },
  {
   "cell_type": "markdown",
   "metadata": {},
   "source": [
    "\n",
    "    But it has been shown that the infinite itself\n",
    "    attains affirmative being only by the mediation of negation,\n",
    "    as negation of negation,\n",
    "    and that when its affirmation thus attained is\n",
    "    taken as just simple, qualitative being,\n",
    "    the negation contained in it is demoted\n",
    "    to simple immediate negation\n",
    "    and, therefore, to determinateness and limit;\n",
    "    and these, then, are excluded from the infinite\n",
    "    as contradicting its in-itself;\n",
    "    they are posited as not belonging to it\n",
    "    but rather as opposed to its in-itself,\n",
    "    as the finite.\n",
    "    \n"
   ]
  },
  {
   "cell_type": "markdown",
   "metadata": {},
   "source": [
    "    Since each is in it and through its determination\n",
    "    the positing of its other, the two are inseparable.\n",
    "    But this unity rests hidden in their qualitative otherness;\n",
    "    it is their inner unity, one that lies only at their base.\n"
   ]
  },
  {
   "cell_type": "markdown",
   "metadata": {},
   "source": [
    "\n",
    "    The manner of the appearance of this unity has thereby been defined.\n",
    "    The unity is posited in existence as a turning over\n",
    "    or transition of the finite into the infinite, and vice-versa;\n",
    "    so that the infinite only emerges in the finite,\n",
    "    and the finite in the infinite,\n",
    "    the other in the other;\n",
    "    that is to say, each arises in the other\n",
    "    independently and immediately,\n",
    "    and their connection is only an external one.\n"
   ]
  },
  {
   "cell_type": "markdown",
   "metadata": {},
   "source": [
    "\n",
    "    The process of their transition\n",
    "    has the following, detailed shape.\n",
    "    We have the finite passing over into the infinite.\n",
    "    This passing over appears as an external doing.\n",
    "    In this emptiness beyond the finite, what arises?\n",
    "    What is there of positive in it?\n",
    "    On account of the inseparability of the infinite and the finite\n",
    "    (or because this infinite, which stands apart, is itself restricted),\n",
    "    the limit arises.\n"
   ]
  },
  {
   "cell_type": "markdown",
   "metadata": {},
   "source": [
    "\n",
    "    The infinite has vanished and the other,\n",
    "    the finite, has stepped in.\n",
    "    But this stepping in of the finite appears\n",
    "    as an event external to the infinite,\n",
    "    and the new limit as something that does not arise\n",
    "    out of the infinite itself but is likewise found given.\n",
    "    \n"
   ]
  },
  {
   "cell_type": "markdown",
   "metadata": {},
   "source": [
    "    And with this we are back at the previous determination,\n",
    "    which has been sublated in vain.\n",
    "    This new limit, however, is itself only\n",
    "    something to be sublated or transcended.\n",
    "    And so there arises again the emptiness, the nothing,\n",
    "    in which we find again the said determination,\n",
    "    and so forth to infinity.\n"
   ]
  },
  {
   "cell_type": "markdown",
   "metadata": {},
   "source": [
    "\n",
    "    We have before us the alternating determination\n",
    "    of the finite and the infinite;\n",
    "    the finite is finite only with reference\n",
    "    to the ought or the infinite,\n",
    "    and the infinite is only infinite with reference to the finite.\n",
    "    The two are inseparable and at the same time\n",
    "    absolutely other with respect to each other;\n",
    "    each has in it the other of itself;\n",
    "    each is thus the unity of itself and its other,\n",
    "    and, in its determinateness not to be\n",
    "    what itself and what its other is:\n",
    "    it is existence.\n"
   ]
  },
  {
   "cell_type": "markdown",
   "metadata": {},
   "source": [
    "\n",
    "    This alternating determination of self-negating\n",
    "    and of negating the negating is what passes\n",
    "    as the progress to infinity,\n",
    "    which is accepted in so many shapes and applications\n",
    "    as an unsurpassable ultimate at which thought,\n",
    "    having reached this “and so on to infinity,”\n",
    "    has usually achieved its end.\n",
    "    \n"
   ]
  },
  {
   "cell_type": "markdown",
   "metadata": {},
   "source": [
    "    This progress breaks out wherever relative determinations are\n",
    "    pressed to the point of opposition, so that,\n",
    "    though in inseparable unity,\n",
    "    each is nevertheless attributed an independent existence\n",
    "    over against the other.\n",
    "    This progress is therefore the contradiction\n",
    "    which is not resolved but is rather always\n",
    "    pronounced simply as present.\n"
   ]
  },
  {
   "cell_type": "markdown",
   "metadata": {},
   "source": [
    "\n",
    "    What we have before us is an abstract transcending\n",
    "    which remains incomplete because the transcending\n",
    "    itself has not been transcended.\n",
    "    Before us we have the infinite;\n",
    "    of course, this infinite is transcended,\n",
    "    for another limit is posited,\n",
    "    but just because of that only a return\n",
    "    is instead made back to the finite.\n",
    "    \n"
   ]
  },
  {
   "cell_type": "markdown",
   "metadata": {},
   "source": [
    "    This bad infinite is in itself\n",
    "    the same as the perpetual ought;\n",
    "    it is indeed the negation of the finite,\n",
    "    but in truth it is unable to free itself from it;\n",
    "    the finite constantly resurfaces in it as its other,\n",
    "    since this infinite only is with reference to the finite,\n",
    "    which is its other.\n",
    "    The progress to infinity is\n",
    "    therefore only repetitious monotony,\n",
    "    the one and the same tedious\n",
    "    alternation of this finite and infinite.\n"
   ]
  },
  {
   "cell_type": "markdown",
   "metadata": {},
   "source": [
    "\n",
    "    The infinity of the infinite progress\n",
    "    remains burdened by the finite as such,\n",
    "    is thereby restricted, and is itself finite.\n",
    "    In fact, however, it is thereby posited as\n",
    "    the unity of the finite and the infinite.\n",
    "    \n"
   ]
  },
  {
   "cell_type": "markdown",
   "metadata": {},
   "source": [
    "    Only, this unity is not reflected upon.\n",
    "    Yet it alone rouses the finite in the infinite,\n",
    "    and the infinite in the finite;\n",
    "    it is, so to speak, the impulse\n",
    "    driving the infinite progress.\n"
   ]
  },
  {
   "cell_type": "markdown",
   "metadata": {},
   "source": [
    "    This progress is the outside of this unity\n",
    "    at which representation remains fixated;\n",
    "    fixated at that perennial repetition\n",
    "    of one and the same alternation;\n",
    "    at the empty unrest of a progression\n",
    "    across the limit towards the infinite\n",
    "    which, in this infinity, finds a new limit\n",
    "    but is just as unable to halt at it\n",
    "    as it is at the infinite.\n",
    "    \n"
   ]
  },
  {
   "cell_type": "markdown",
   "metadata": {},
   "source": [
    "    This infinite has the rigid determination\n",
    "    of a beyond that cannot be attained,\n",
    "    for the very reason that it ought not be attained,\n",
    "    since the determinateness of the beyond,\n",
    "    of an existent negation, has not been let go.\n",
    "    \n"
   ]
  },
  {
   "cell_type": "markdown",
   "metadata": {},
   "source": [
    "    In this determination, the infinite has\n",
    "    the finite as a this-side over against it;\n",
    "    a finite that is likewise unable\n",
    "    to raise itself up to the infinite\n",
    "    just because it has this determination of an other,\n",
    "    that is, of an existence that perennially\n",
    "    regenerates itself in that beyond\n",
    "    precisely by being different from it.\n"
   ]
  },
  {
   "cell_type": "markdown",
   "metadata": {},
   "source": [
    "## c. Affirmative Infinity\n"
   ]
  },
  {
   "cell_type": "markdown",
   "metadata": {},
   "source": [
    "\n",
    "    In this reciprocal determination of the finite and the infinite\n",
    "    alternating back and forth as just indicated,\n",
    "    the truth of these two is already implicitly present in itself,\n",
    "    and all that is needed is to take up what is there.\n",
    "    This back and forth movement constitutes the external realization\n",
    "    of the concept in which the content of the latter is posited,\n",
    "    but externally, as a falling out of the two;\n",
    "    all that is needed is the comparing of these two different moments\n",
    "    in which the unity is given which the concept itself gives.\n",
    "    \n"
   ]
  },
  {
   "cell_type": "markdown",
   "metadata": {},
   "source": [
    "    “Unity of the finite and the infinite”\n",
    "    (as has often been already noted\n",
    "    but must especially be kept in mind at this juncture)\n",
    "    is the uneven expression for the unity as it is in truth;\n",
    "    but also the removal of this uneven determination must be\n",
    "    found in the externalization of the concept that lies ahead of us.\n"
   ]
  },
  {
   "cell_type": "markdown",
   "metadata": {},
   "source": [
    "\n",
    "    Taken in their first, only immediate determination,\n",
    "    the infinite is the transcending of the finite;\n",
    "    according to its determination, it is the negation of the finite;\n",
    "    the finite, for its part, is only that which must be transcended,\n",
    "    the negation in it of itself, and this is the infinite.\n",
    "    \n"
   ]
  },
  {
   "cell_type": "markdown",
   "metadata": {},
   "source": [
    "    In each, therefore, there is the determinateness of the other,\n",
    "    whereas, according to the viewpoint of the infinite progression,\n",
    "    the two should be mutually excluded\n",
    "    and would have to follow one another only alternately;\n",
    "    neither can be posited and grasped without the other,\n",
    "    the infinite without the finite, the finite without the infinite.\n",
    "    \n"
   ]
  },
  {
   "cell_type": "markdown",
   "metadata": {},
   "source": [
    "    In saying what the infinite is, namely the negation of the finite,\n",
    "    the finite itself is said also;\n",
    "    it cannot be avoided in the determination of the infinite.\n",
    "    One need only know what is being said in order to\n",
    "    find the determination of the finite in the infinite.\n"
   ]
  },
  {
   "cell_type": "markdown",
   "metadata": {},
   "source": [
    "\n",
    "    Regarding the finite, it is readily conceded that it is the null;\n",
    "    this very nothingness is however the infinite\n",
    "    from which it is inseparable.\n",
    "    Understood in this way, they may seem to be taken\n",
    "    according to the way each refers to its other.\n",
    "    Taken without this connecting reference,\n",
    "    and thus joined only through an “and,”\n",
    "    they subsist independently,\n",
    "    each only an existent over against the other.\n"
   ]
  },
  {
   "cell_type": "markdown",
   "metadata": {},
   "source": [
    "\n",
    "    We have to examine how they would be constituted in this way.\n",
    "    The infinite, thus positioned, is one of the two;\n",
    "    but, as only one of them, it is itself finite,\n",
    "    it is not the whole but only one side;\n",
    "    it has its limit in that which stands over against it;\n",
    "    and so it is the finite infinite.\n",
    "    We have before us only two finites.\n"
   ]
  },
  {
   "cell_type": "markdown",
   "metadata": {},
   "source": [
    "\n",
    "    The finitude of the infinite,\n",
    "    and therefore its unity with the finite,\n",
    "    lies in the very fact that it is separated from the finite\n",
    "    and placed, consequently, on one side.\n",
    "    The finite, for its part, removed from the infinite\n",
    "    and positioned for itself, is this self-reference\n",
    "    in which the relativity, its dependence and transitoriness, are removed;\n",
    "    it is the same self-subsistence and self-affirmation\n",
    "    which the infinite is presumed to be.\n"
   ]
  },
  {
   "cell_type": "markdown",
   "metadata": {},
   "source": [
    "\n",
    "    The two pathways of consideration,\n",
    "    even though they seem at first to have\n",
    "    each a different determinateness for their point of departure;\n",
    "    the former inasmuch as it assumes it to be\n",
    "    only the reference of infinite and finite\n",
    "    to each other, of each to the other;\n",
    "    and the latter their complete separation from each other\n",
    "    yield one and the same result.\n",
    "    \n"
   ]
  },
  {
   "cell_type": "markdown",
   "metadata": {},
   "source": [
    "    The infinite and the finite, taken together\n",
    "    as referring to each other in a connection\n",
    "    which is presumed external but is in fact essential to them\n",
    "    (for without it, neither is what it is),\n",
    "    each contains its other in its own determination,\n",
    "    just as, when each is taken for itself,\n",
    "    when looked at on its terms,\n",
    "    each has the other present in it\n",
    "    as its own moment.\n"
   ]
  },
  {
   "cell_type": "markdown",
   "metadata": {},
   "source": [
    "\n",
    "    This yields, then, the scandalous unity\n",
    "    of the finite and the infinite,\n",
    "    the unity which is itself the infinite\n",
    "    that embraces both itself and the finite,\n",
    "    the infinite, therefore, understood in a sense\n",
    "    other than when the finite is separated from it\n",
    "    and placed on the other side from it.\n",
    "    \n"
   ]
  },
  {
   "cell_type": "markdown",
   "metadata": {},
   "source": [
    "    Since they must now also be distinguished,\n",
    "    each is within it, as just shown,\n",
    "    itself the unity of both;\n",
    "    there are thus two such unities.\n",
    "    The common element, the unity of both determinacies,\n",
    "    as such a unity, posits them at first as negated,\n",
    "    for each is to be what it is in being distinguished;\n",
    "    in their unity, therefore, they lose their qualitative nature;\n"
   ]
  },
  {
   "cell_type": "markdown",
   "metadata": {},
   "source": [
    "\n",
    "    an important reflection for countering the incorrigible habit\n",
    "    of representing the infinite and the finite, in their unity,\n",
    "    as still holding on to the quality that\n",
    "    they would have when taken apart from each other;\n",
    "    of seeing in that unity, therefore, nothing except contradiction,\n",
    "    and not also the resolution of the contradiction by\n",
    "    the negation of the qualitative determinateness of each.\n",
    "    And so is the unity of the infinite and the finite,\n",
    "    at first simple and universal, falsified.\n"
   ]
  },
  {
   "cell_type": "markdown",
   "metadata": {},
   "source": [
    "\n",
    "    But further, since the two are now to be taken\n",
    "    also as distinguished, the unity of the infinite\n",
    "    which is itself both of these moments\n",
    "    is determined differently in each.\n",
    "    The infinite, determined as such, has in it\n",
    "    the finitude which is distinct from it;\n",
    "    in this unity, the infinite is the in-itself\n",
    "    while the finite is only determinateness,\n",
    "    the limit in the infinite.\n",
    "    \n"
   ]
  },
  {
   "cell_type": "markdown",
   "metadata": {},
   "source": [
    "    But such a limit is the absolute\n",
    "    other of the infinite, its opposite.\n",
    "    The infinite's determination, which is the in-itself as such,\n",
    "    is corrupted by being saddled with a quality of this sort;\n",
    "    the infinite is thus a finitized infinite.\n",
    "    \n"
   ]
  },
  {
   "cell_type": "markdown",
   "metadata": {},
   "source": [
    "    Likewise, since the finite is as such only the non-in-itself\n",
    "    but equally has its opposite in it by virtue\n",
    "    of the said unity,\n",
    "    it is elevated above its worth\n",
    "    and, so to speak, infinitely elevated;\n",
    "    it is posited as the infinitized finite.\n"
   ]
  },
  {
   "cell_type": "markdown",
   "metadata": {},
   "source": [
    "\n",
    "    Likewise, just as the simple unity of infinite and finite was\n",
    "    falsified before by the understanding, so too is the double unity.\n",
    "    Here also this happens because the infinite is taken\n",
    "    in one of the two unities not as negated but,\n",
    "    rather, as the in-itself in which, therefore,\n",
    "    determinateness and restriction should not be posited,\n",
    "    for they would debase and corrupt it.\n",
    "    \n"
   ]
  },
  {
   "cell_type": "markdown",
   "metadata": {},
   "source": [
    "    Conversely, the finite is equally held fixed\n",
    "    as not negated, although null in itself;\n",
    "    so that, in combination with the infinite,\n",
    "    it is elevated to what it is not\n",
    "    and is thereby infinitized notwithstanding its determination\n",
    "    that has not vanished but is rather perpetuated.\n"
   ]
  },
  {
   "cell_type": "markdown",
   "metadata": {},
   "source": [
    "\n",
    "    The falsification that the understanding perpetrates\n",
    "    with respect to the finite and the infinite,\n",
    "    of holding their reciprocal reference fixed\n",
    "    as qualitative differentiation,\n",
    "    of maintaining that their determination is separate,\n",
    "    indeed, absolutely separate, comes from forgetting\n",
    "    what for the understanding itself is the concept of these moments.\n"
   ]
  },
  {
   "cell_type": "markdown",
   "metadata": {},
   "source": [
    "\n",
    "    According to this concept, the unity of the finite and the infinite\n",
    "    is not an external bringing together of them,\n",
    "    nor an incongruous combination that goes against their nature,\n",
    "    one in which inherently separate and opposed terms\n",
    "    that exist independently and are consequently incompatible,\n",
    "    would be knotted together.\n"
   ]
  },
  {
   "cell_type": "markdown",
   "metadata": {},
   "source": [
    "\n",
    "    Rather, each is itself this unity,\n",
    "    and this only as a sublating of itself\n",
    "    in which neither would have an advantage over the other\n",
    "    in in-itselfness and affirmative existence.\n",
    "    As has earlier been shown,\n",
    "    finitude is only as a transcending of itself;\n",
    "    it is therefore within it that the infinite,\n",
    "    the other of itself, is contained.\n",
    "    \n"
   ]
  },
  {
   "cell_type": "markdown",
   "metadata": {},
   "source": [
    "    Similarly, the infinite is only as the transcending of the finite;\n",
    "    it therefore contains its other essentially,\n",
    "    and it is thus within it that it is the other of itself.\n",
    "    The finite is not sublated by the infinite\n",
    "    as by a power present outside it;\n",
    "    its infinity consists rather in sublating itself.\n"
   ]
  },
  {
   "cell_type": "markdown",
   "metadata": {},
   "source": [
    "\n",
    "    This sublating is not, consequently,\n",
    "    alteration or otherness in general,\n",
    "    not the sublating of something.\n",
    "    That into which the finite is sublated is\n",
    "    the infinite as the negating of finitude.\n",
    "    But the latter has long since been only existence,\n",
    "    determined as a non-being.\n"
   ]
  },
  {
   "cell_type": "markdown",
   "metadata": {},
   "source": [
    "    It is only the negation, therefore,\n",
    "    that in the negation sublates itself.\n",
    "    Thus infinity is determined on its side\n",
    "    as the negative of the finite\n",
    "    and thereby of determinateness in general,\n",
    "    as an empty beyond;\n",
    "    its sublating of itself into the finite is\n",
    "    a return from an empty flight,\n",
    "    the negation of the beyond\n",
    "    which is inherently a negative.\n"
   ]
  },
  {
   "cell_type": "markdown",
   "metadata": {},
   "source": [
    "\n",
    "    Present in both, therefore, is the same negation of negation.\n",
    "    But this negation of negation is in itself self-reference,\n",
    "    affirmation but as turning back to itself, that is\n",
    "    through the mediation that the negation of negation is.\n",
    "    \n"
   ]
  },
  {
   "cell_type": "markdown",
   "metadata": {},
   "source": [
    "    These are the determinations that it is essential to bring to view;\n",
    "    the second point, however, is that in the infinite progression\n",
    "    they are also posited, and how they are posited therein,\n",
    "    namely, not in their ultimate truth.\n"
   ]
  },
  {
   "cell_type": "markdown",
   "metadata": {},
   "source": [
    "\n",
    "    First, both are negated in that progression,\n",
    "    the infinite as well as the finite;\n",
    "    both are equally transcended.\n",
    "    Second, they are also posited as distinct,\n",
    "    one after the other, each positive for itself.\n"
   ]
  },
  {
   "cell_type": "markdown",
   "metadata": {},
   "source": [
    "\n",
    "    We sort out these two determinations while comparing them, \n",
    "    just as in the comparison (in an external comparing)\n",
    "    we have separated the two ways of considering them:\n",
    "    the finite and the infinite as referring to one another,\n",
    "    and each taken for itself.\n",
    "    \n"
   ]
  },
  {
   "cell_type": "markdown",
   "metadata": {},
   "source": [
    "    The infinite progression, however, says more than this.\n",
    "    Also posited in it, though at first still only as \n",
    "    transition and alternation,\n",
    "    is the connectedness of the terms being distinguished.\n",
    "    We now only need to see, in one simple reflection,\n",
    "    what is in fact present in it.\n"
   ]
  },
  {
   "cell_type": "markdown",
   "metadata": {},
   "source": [
    "\n",
    "    In the first place,\n",
    "    the negation of the finite and the infinite\n",
    "    which is posited in the infinite progression\n",
    "    can be taken as simple,\n",
    "    and hence as mutual externality,\n",
    "    only a following of one upon the other.\n"
   ]
  },
  {
   "cell_type": "markdown",
   "metadata": {},
   "source": [
    "\n",
    "    Starting from the finite,\n",
    "    the limit is thus transcended, the finite negated.\n",
    "    We now have its beyond, the infinite,\n",
    "    but in this the limit rises up again;\n",
    "    so we have the transcending of the infinite.\n",
    "   "
   ]
  },
  {
   "cell_type": "markdown",
   "metadata": {},
   "source": [
    "    This twofold sublation is nonetheless\n",
    "    partly only an external event\n",
    "    and an alternating of moments in general,\n",
    "    and partly still not posited as one unity;\n",
    "    each of these moves beyond is an independent starting point,\n",
    "    a fresh act, so that the two fall apart.\n"
   ]
  },
  {
   "cell_type": "markdown",
   "metadata": {},
   "source": [
    "\n",
    "    But, in addition, their connection is\n",
    "    also present in the infinite progression.\n",
    "    The finite comes first;\n",
    "    then there is the transcending of it,\n",
    "    and this negative, or this beyond of the finite,\n",
    "    is the infinite;\n",
    "    third, this negation is transcended in turn,\n",
    "    a new limit comes up, a finite again.\n"
   ]
  },
  {
   "cell_type": "markdown",
   "metadata": {},
   "source": [
    "\n",
    "    This is the complete, self-closing movement\n",
    "    that has arrived at that which made the beginning;\n",
    "    what emerges is the same as that\n",
    "    from which the departure was made,\n",
    "    that is, the finite is restored;\n",
    "    the latter has therefore rejoined itself,\n",
    "    in its beyond has only found itself again.\n"
   ]
  },
  {
   "cell_type": "markdown",
   "metadata": {},
   "source": [
    "\n",
    "    The same is the case regarding the infinite.\n",
    "    In the infinite, in the beyond of the limit,\n",
    "    only a new limit arises which has the same fate, namely,\n",
    "    that as finite it must be negated.\n",
    "    \n"
   ]
  },
  {
   "cell_type": "markdown",
   "metadata": {},
   "source": [
    "    Thus what is again at hand is the same infinite\n",
    "    that just now disappeared in the new limit;\n",
    "    by being sublated, by traversing the new limit,\n",
    "    the infinite has not therefore advanced one jot further:\n",
    "    it has distanced itself neither from the finite\n",
    "    (for the finite is just this,\n",
    "    to pass over into the infinite),\n",
    "    nor from itself, for it has arrived at itself.\n"
   ]
  },
  {
   "cell_type": "markdown",
   "metadata": {},
   "source": [
    "\n",
    "    Thus the finite and the infinite are both\n",
    "    this movement of each returning\n",
    "    to itself through its negation;\n",
    "    they are only as implicit mediation,\n",
    "    and the affirmative of each\n",
    "    contains the negative of each,\n",
    "    and is the negation of the negation.\n",
    "    \n"
   ]
  },
  {
   "cell_type": "markdown",
   "metadata": {},
   "source": [
    "    They are thus a result\n",
    "    and, as such, not in the determination\n",
    "    that they had at the beginning:\n",
    "    neither is the finite an existence on its side\n",
    "    nor the infinite an existence\n",
    "    or a being-in-itself beyond that existence,\n",
    "    that is, beyond existence in\n",
    "    the determination of finitude.\n",
    "    \n"
   ]
  },
  {
   "cell_type": "markdown",
   "metadata": {},
   "source": [
    "    The understanding strongly resists\n",
    "    the unity of the finite and the infinite\n",
    "    only because it presupposes restriction\n",
    "    and finitude to remain,\n",
    "    like being-in-itself, constants.\n",
    "    \n"
   ]
  },
  {
   "cell_type": "markdown",
   "metadata": {},
   "source": [
    "    It thereby overlooks the negation of both\n",
    "    which is in fact present in the infinite progression,\n",
    "    just as it equally overlooks that the two occur in this\n",
    "    progression only as moments of a whole,\n",
    "    that each emerges only through the mediation of its opposite\n",
    "    but, essentially, equally by means of the sublation of its opposite.\n"
   ]
  },
  {
   "cell_type": "markdown",
   "metadata": {},
   "source": [
    "\n",
    "    If this immanent turning back has for the moment been reckoned\n",
    "    to be just as much the turning back of the finite to itself\n",
    "    and of the infinite to itself,\n",
    "    noticeable in this very result is an error connected\n",
    "    with the one-sidedness just criticized:\n",
    "    the finite and then the infinite is\n",
    "    each taken as the starting point,\n",
    "    and only in this way two results ensue.\n"
   ]
  },
  {
   "cell_type": "markdown",
   "metadata": {},
   "source": [
    "\n",
    "    But it is a matter of total indifference\n",
    "    which is taken as the starting point\n",
    "    and, with this, the distinction caused\n",
    "    by the duality of results dissolves of itself.\n"
   ]
  },
  {
   "cell_type": "markdown",
   "metadata": {},
   "source": [
    "\n",
    "    This is likewise posited in the line\n",
    "    of the infinite progression,\n",
    "    open-ended on both sides,\n",
    "    wherein each of the moments\n",
    "    recurs in equal alternation,\n",
    "    and it is totally extraneous\n",
    "    at which position the progression is\n",
    "    arrested and taken as beginning.\n"
   ]
  },
  {
   "cell_type": "markdown",
   "metadata": {},
   "source": [
    "\n",
    "    The moments are distinguished in the progression\n",
    "    but each is equally only moment of the other.\n",
    "    Since both, the finite and the infinite,\n",
    "    are themselves moments of the progress,\n",
    "    they are jointly the finite,\n",
    "    and, since they are equally jointly\n",
    "    negated in it and in the result,\n",
    "    this result as the negation\n",
    "    of their joint finitude is\n",
    "    called with truth the infinite.\n"
   ]
  },
  {
   "cell_type": "markdown",
   "metadata": {},
   "source": [
    "\n",
    "    Their distinction is thus the\n",
    "    double meaning which they both have.\n",
    "    The finite has the double meaning,\n",
    "    first, of being the finite over against the infinite\n",
    "    which stands over against it,\n",
    "    and, second, of being at the same time\n",
    "    the finite and the infinite over against the infinite.\n"
   ]
  },
  {
   "cell_type": "markdown",
   "metadata": {},
   "source": [
    "\n",
    "    Also the infinite has the double meaning\n",
    "    of being one of the two moments\n",
    "    (it is then the bad infinite)\n",
    "    and of being the infinite in which the two moments,\n",
    "    itself and its other, are only moments.\n",
    "    \n"
   ]
  },
  {
   "cell_type": "markdown",
   "metadata": {},
   "source": [
    "    Therefore, as in fact we now have it,\n",
    "    the nature of the infinite is\n",
    "    that it is the process in which it lowers itself\n",
    "    to be only one of its determinations over against the finite\n",
    "    and therefore itself only one of the finites,\n",
    "    and elevates this distinction of itself\n",
    "    and itself to be self-affirmation\n",
    "    and, through this mediation, the true infinite.\n"
   ]
  },
  {
   "cell_type": "markdown",
   "metadata": {},
   "source": [
    "\n",
    "    This determination of the true infinite\n",
    "    cannot be captured in the already criticized formula\n",
    "    of a unity of the finite and the infinite;\n",
    "    unity is abstract, motionless self-sameness,\n",
    "    and the moments are likewise unmoved beings.\n",
    "    But, like both its moments, the infinite is\n",
    "    rather essentially only as becoming,\n",
    "    though a becoming now further determined in its moments.\n",
    "    \n"
   ]
  },
  {
   "cell_type": "markdown",
   "metadata": {},
   "source": [
    "    Becoming has for its determinations,\n",
    "    first, abstract being and nothing;\n",
    "    as alteration, it has existence, something and other;\n",
    "    now as infinite, it has finite and infinite,\n",
    "    these two themselves as in becoming.\n"
   ]
  },
  {
   "cell_type": "markdown",
   "metadata": {},
   "source": [
    "\n",
    "    This infinite, as being-turned-back-unto-itself,\n",
    "    as reference of itself to itself, is being;\n",
    "    but not indeterminate, abstract being,\n",
    "    for it is posited as negating the negation;\n",
    "    consequently, it is also existence or “thereness,”\n",
    "    for it contains negation in general\n",
    "    and consequently determinateness.\n"
   ]
  },
  {
   "cell_type": "markdown",
   "metadata": {},
   "source": [
    "\n",
    "    It is, and is there, present, before us.\n",
    "    Only the bad infinite is the beyond,\n",
    "    since it is only the negation of\n",
    "    the finite posited as real\n",
    "    and, as such, it is abstract first negation;\n",
    "    thus determined only as negative,\n",
    "    it does not have the affirmation of existence in it;\n",
    "    held fast only as something negative,\n",
    "    it ought not to be there, it ought to be unattainable.\n",
    "    \n"
   ]
  },
  {
   "cell_type": "markdown",
   "metadata": {},
   "source": [
    "    However, to be thus unattainable is\n",
    "    not its grandeur but rather its defect,\n",
    "    which is at bottom the result of holding fast\n",
    "    to the finite as such, as existent.\n",
    "    It is the untrue which is the unattainable,\n",
    "    and what must be recognized is that\n",
    "    such an infinite is the untrue.\n",
    "    \n"
   ]
  },
  {
   "cell_type": "markdown",
   "metadata": {},
   "source": [
    "    The image of the progression in infinity is the straight line;\n",
    "    the infinite is only at the two limits of this line,\n",
    "    and always only is where the latter\n",
    "    (which is existence)\n",
    "    is not but transcends itself,\n",
    "    in its non-existence, that is, in the indeterminate.\n",
    "    \n"
   ]
  },
  {
   "cell_type": "markdown",
   "metadata": {},
   "source": [
    "    As true infinite, bent back upon itself,\n",
    "    its image becomes the circle,\n",
    "    the line that has reached itself,\n",
    "    closed and wholly present,\n",
    "    without beginning and end.\n"
   ]
  },
  {
   "cell_type": "markdown",
   "metadata": {},
   "source": [
    "\n",
    "    True infinity, thus taken in general as existence posited\n",
    "    as affirmative in contrast to abstract negation,\n",
    "    is reality in a higher sense than it was earlier\n",
    "    as simply determined; it has now obtained a concrete content.\n",
    "    It is not the finite which is the real, but rather the infinite.\n",
    "    Thus reality is further determined\n",
    "    as essence, concept, idea, and so forth.\n",
    "    \n"
   ]
  },
  {
   "cell_type": "markdown",
   "metadata": {},
   "source": [
    "    In connection with the more concrete,\n",
    "    it is however superfluous to repeat such earlier\n",
    "    and more abstract categories as reality,\n",
    "    and to use them for determinations more\n",
    "    concrete than they are by themselves.\n",
    "    Such a repetition, as when it is said that essence,\n",
    "    or that the concept, is real, has its origin in the fact\n",
    "    that to uneducated thought the most abstract categories\n",
    "    such as being, existence, reality, finitude, are the most familiar.\n"
   ]
  },
  {
   "cell_type": "markdown",
   "metadata": {},
   "source": [
    "\n",
    "    The more immediate occasion, however,\n",
    "    for recalling here the categories of reality\n",
    "    is that the negation, against which reality is the affirmative,\n",
    "    is here the negation of negation,\n",
    "    and consequently itself posited over against\n",
    "    that reality which finite existence is.\n"
   ]
  },
  {
   "cell_type": "markdown",
   "metadata": {},
   "source": [
    "\n",
    "    Negation is thus determined as ideality;\n",
    "    the idealized is the finite as it is in the true infinite\n",
    "    (as a determination, a content, a distinct\n",
    "    but not a subsistent existent, a moment rather.\n",
    "    Ideality has this more concrete signification\n",
    "    which is not fully expressed through\n",
    "    the negation of finite existence.)\n",
    "    \n"
   ]
  },
  {
   "cell_type": "markdown",
   "metadata": {},
   "source": [
    "    As regards reality and ideality,\n",
    "    the opposition of finite and infinite is, however,\n",
    "    so grasped that the finite assumes the value of “the real,”\n",
    "    whereas the infinite that of “the idealized”;\n",
    "    in the same way, further on, also the concept is\n",
    "    regarded as an idealization, that is, as a mere idealization,\n",
    "    in contrast to existence in general, which is regarded as “the real.”\n",
    "    \n"
   ]
  },
  {
   "cell_type": "markdown",
   "metadata": {},
   "source": [
    "    When contrasted in this way, it is of course of no use to have\n",
    "    reserved for the said concrete determination of negation\n",
    "    the distinctive expression of “idealization”;\n",
    "    in that opposition of finite and infinite,\n",
    "    we are back to the one-sidedness of\n",
    "    the abstract negative characteristic of the bad infinite\n",
    "    and still fixed in the affirmative existence of the finite.\n"
   ]
  }
 ],
 "metadata": {
  "kernelspec": {
   "display_name": "jupyter",
   "language": "python",
   "name": "python3"
  },
  "language_info": {
   "name": "python",
   "version": "3.11.2"
  }
 },
 "nbformat": 4,
 "nbformat_minor": 2
}
