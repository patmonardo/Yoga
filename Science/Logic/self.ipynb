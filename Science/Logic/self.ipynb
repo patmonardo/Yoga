{
 "cells": [
  {
   "cell_type": "markdown",
   "metadata": {},
   "source": [
    "# CHAPTER 3"
   ]
  },
  {
   "cell_type": "markdown",
   "metadata": {},
   "source": [
    "\n",
    "# Being-for-itself\n"
   ]
  },
  {
   "cell_type": "markdown",
   "metadata": {},
   "source": [
    "\n",
    "    In being-for-itself,\n",
    "    qualitative being is brought to completion;\n",
    "    it is infinite being;\n",
    "    the being of the beginning is void of determination;\n",
    "    existence is sublated but only immediately sublated being;\n",
    "    it thus contains, to begin with,\n",
    "    only the first negation, itself immediate;\n",
    "    being is of course retained as well,\n",
    "    and the two are united in existence in simple unity;\n",
    "    for this reason, however,\n",
    "    each is in itself still unlike the other,\n",
    "    and their unity is still not posited.\n"
   ]
  },
  {
   "cell_type": "markdown",
   "metadata": {},
   "source": [
    "\n",
    "    Existence is therefore the sphere of differentiation,\n",
    "    of dualism, the domain of finitude.\n",
    "    Determinateness is determinateness as such;\n",
    "    being which is relatively, not absolutely, determined.\n",
    "    In being-for-itself, the distinction\n",
    "    between being and determinateness,\n",
    "    or negation, is posited and equalized.\n",
    "    \n"
   ]
  },
  {
   "cell_type": "markdown",
   "metadata": {},
   "source": [
    "    Quality, otherness, limit, as well as reality,\n",
    "    in-itselfness, ought, and so forth, are the\n",
    "    incomplete configurations of negation in being\n",
    "    which are still based on the differentiation of the two.\n",
    "    But since in finitude negation has passed over into infinity,\n",
    "    in the posited negation of negation,\n",
    "    negation is simple self-reference\n",
    "    and in it, therefore, the equalization with being:\n",
    "    absolutely determinate being.\n"
   ]
  },
  {
   "cell_type": "markdown",
   "metadata": {},
   "source": [
    "\n",
    "    First, being-for-itself is immediately\n",
    "    an existent-for-itself, the one.\n"
   ]
  },
  {
   "cell_type": "markdown",
   "metadata": {},
   "source": [
    "\n",
    "    Second, the one passes over\n",
    "    into a multiplicity of ones,\n",
    "    repulsion or the otherness of the one\n",
    "    which sublates itself into its ideality, attraction.\n"
   ]
  },
  {
   "cell_type": "markdown",
   "metadata": {},
   "source": [
    "\n",
    "    Third, we have the alternating\n",
    "    determination of repulsion and attraction\n",
    "    in which the two sink into a state of equilibrium;\n",
    "    and quality, driven to a head in being-for-itself,\n",
    "    passes over into quantity.\n"
   ]
  },
  {
   "cell_type": "markdown",
   "metadata": {},
   "source": [
    "\n",
    "### A. BEING-FOR-ITSELF AS SUCH\n"
   ]
  },
  {
   "cell_type": "markdown",
   "metadata": {},
   "source": [
    "\n",
    "    The general concept of being-for-itself has come to light.\n",
    "    The justification for using the expression “being-for-itself”\n",
    "    for that concept would depend on showing that the representation\n",
    "    associated with the expression corresponds to the concept.\n"
   ]
  },
  {
   "cell_type": "markdown",
   "metadata": {},
   "source": [
    "\n",
    "    So indeed it appears to do.\n",
    "    We say that something is for itself\n",
    "    inasmuch as it sublates otherness,\n",
    "    sublates its connection and community with other,\n",
    "    has rejected them by abstracting from them.\n"
   ]
  },
  {
   "cell_type": "markdown",
   "metadata": {},
   "source": [
    "\n",
    "    The other is in it only as something sublated, as its moment;\n",
    "    being-for-itself consists in\n",
    "    having thus transcended limitation, its otherness;\n",
    "    it consists in being, as this negation,\n",
    "    the infinite turning back into itself.\n",
    "    In representing to itself an intended object\n",
    "    which it feels, or intuits, and so forth,\n",
    "    consciousness already contains in itself as consciousness\n",
    "    the determination of being-for-itself;\n",
    "    that is, it has in it the content of that object,\n",
    "    which is thus an idealization;\n",
    "    even as it intuits, or in general becomes\n",
    "    involved in the negative of itself, in the other,\n",
    "    it abides with itself.\n"
   ]
  },
  {
   "cell_type": "markdown",
   "metadata": {},
   "source": [
    "\n",
    "    Being-for-itself is the polemical,\n",
    "    negative relating to the limiting other\n",
    "    and, through this negation of the other,\n",
    "    is being-reflected-within-itself;\n",
    "    even though, side by side with this\n",
    "    immanent turning back of consciousness\n",
    "    and the ideality of its object,\n",
    "    the reality of this object is also retained,\n",
    "    for the object is at the same time\n",
    "    known as an external existence.\n",
    "  "
   ]
  },
  {
   "cell_type": "markdown",
   "metadata": {},
   "source": [
    "  \n",
    "    Consciousness is thus phenomenal,\n",
    "    or it is this dualism:\n",
    "    on the one side, it knows an external object\n",
    "    which is other than it;\n",
    "    on the other side, it is for-itself,\n",
    "    has this intended object in it as idealized,\n",
    "    abides not only by this other\n",
    "    but therein abides also with itself.\n"
   ]
  },
  {
   "cell_type": "markdown",
   "metadata": {},
   "source": [
    "\n",
    "    Self-consciousness, on the contrary, is\n",
    "    being-for-itself brought to completion and posited;\n",
    "    the side of reference to another,\n",
    "    to an external object, is removed.\n",
    "    Self-consciousness is thus the nearest\n",
    "    example of the presence of infinity;\n",
    "    granted, of a still abstract infinity,\n",
    "    but one which is of a totally different,\n",
    "    concrete determination than the\n",
    "    being-for-itself in general,\n",
    "    whose infinity still has only qualitative determinateness.\n"
   ]
  },
  {
   "cell_type": "markdown",
   "metadata": {},
   "source": [
    "\n",
    "#### a. Existence and being-for-itself\n"
   ]
  },
  {
   "cell_type": "markdown",
   "metadata": {},
   "source": [
    "\n",
    "    As already mentioned, being-for-itself is\n",
    "    infinity that has sunk into simple being;\n",
    "    it is existence in so far as in the\n",
    "    now posited form of the immediacy\n",
    "    of being the negative nature of infinity,\n",
    "    which is the negation of negation,\n",
    "    is only as negation in general,\n",
    "    as infinite qualitative determinateness.\n",
    "    \n"
   ]
  },
  {
   "cell_type": "markdown",
   "metadata": {},
   "source": [
    "    But in such a determinateness, wherein it is existence,\n",
    "    being is at once also distinguished\n",
    "    from this very being-for-itself\n",
    "    which is such only as infinite\n",
    "    qualitative determinateness;\n",
    "    nevertheless, existence is at the same time\n",
    "    a moment of being-for-itself,\n",
    "    for the latter certainly contains\n",
    "    being affected by negation.\n",
    "    So the determinateness which in existence as such is\n",
    "    an other, and a being-for-other,\n",
    "    is bent back into the infinite unity of being-for-itself,\n",
    "    and the moment of existence is present\n",
    "    in the being-for-itself as being-for-one.\n"
   ]
  },
  {
   "cell_type": "markdown",
   "metadata": {},
   "source": [
    "\n",
    "#### b. Being-for-one\n"
   ]
  },
  {
   "cell_type": "markdown",
   "metadata": {},
   "source": [
    "\n",
    "    This moment gives expression to how the finite is\n",
    "    in its unity with the infinite or as an idealization.\n",
    "    Being-for-itself does not have negation in it as\n",
    "    a determinateness or limit,\n",
    "    and consequently also not as reference\n",
    "    to an existence other than it.\n"
   ]
  },
  {
   "cell_type": "markdown",
   "metadata": {},
   "source": [
    "\n",
    "    Although this moment is now being\n",
    "    designated as being-for-one,\n",
    "    there is yet nothing at hand for which it would be;\n",
    "    there is not the one of which it would be the moment.\n",
    "    There is in fact nothing of the sort\n",
    "    yet fixed in being-for-itself;\n",
    "    that for which something (and there is no something here)\n",
    "    would be, what the other side in general should be,\n",
    "    is likewise a moment,\n",
    "    itself only being-for-one,\n",
    "    not yet a one.\n"
   ]
  },
  {
   "cell_type": "markdown",
   "metadata": {},
   "source": [
    "\n",
    "    What we have before us, therefore,\n",
    "    is still an undistinguishedness of two sides\n",
    "    that may suggest themselves in the being-for-one;\n",
    "    there is only one being-for-another,\n",
    "    and since this is only one being-for-another,\n",
    "    it is also only being-for-one;\n",
    "    there is only the one ideality,\n",
    "    of that for which or in which\n",
    "    there should be a determination as moment,\n",
    "    and of that which should be the moment in it.\n"
   ]
  },
  {
   "cell_type": "markdown",
   "metadata": {},
   "source": [
    "\n",
    "    Being-for-one and being-for-itself do not therefore\n",
    "    constitute two genuine determinacies,\n",
    "    each as against the other.\n",
    "    Inasmuch as the distinction is momentarily assumed\n",
    "    and we speak of a-being-for-itself,\n",
    "    it is this very being-for-itself,\n",
    "    as the sublated being of otherness,\n",
    "    that refers itself to itself as to the sublated other,\n",
    "    is therefore for-one;\n",
    "    in its other it refers itself only to itself.\n"
   ]
  },
  {
   "cell_type": "markdown",
   "metadata": {},
   "source": [
    "\n",
    "    An idealization is necessarily for-one,\n",
    "    but it is not for an other;\n",
    "    the one, for which it is, is only itself.\n",
    "    \n"
   ]
  },
  {
   "cell_type": "markdown",
   "metadata": {},
   "source": [
    "    The “I,” therefore, spirit in general,\n",
    "    or God, are idealizations,\n",
    "    because they are infinite;\n",
    "    as existents which are for-themselves, however,\n",
    "    they are not ideationally different\n",
    "    from that which is for-one.\n",
    "    For if they were different,\n",
    "    they would be only immediate,\n",
    "    or, more precisely, they would only be\n",
    "    existence and a being-for-another;\n",
    "    for if the moment of being for-one did\n",
    "    not attach to them,\n",
    "    it is not they themselves\n",
    "    but an other that would be\n",
    "    that which is for them.\n",
    "    God is therefore for himself,\n",
    "    in so far he is himself\n",
    "    that which is for him.\n"
   ]
  },
  {
   "cell_type": "markdown",
   "metadata": {},
   "source": [
    "\n",
    "    Being-for-itself and being-for-one are not, therefore,\n",
    "    diverse significations of ideality\n",
    "    but essential, inseparable, moments of it.\n"
   ]
  },
  {
   "cell_type": "markdown",
   "metadata": {},
   "source": [
    "\n",
    "#### c. The one\n"
   ]
  },
  {
   "cell_type": "markdown",
   "metadata": {},
   "source": [
    "\n",
    "    Being-for-itself is the simple unity of\n",
    "    itself and its moments, of the being-for-one.\n",
    "    There is only one determination present,\n",
    "    the self-reference itself of the sublating.\n",
    "    \n"
   ]
  },
  {
   "cell_type": "markdown",
   "metadata": {},
   "source": [
    "    The moments of being-for-itself have sunk into\n",
    "    an indifferentiation which is immediacy or being,\n",
    "    but an immediacy that is based on\n",
    "    the negating posited as its determination.\n",
    "    Being-for-itself is thus an existent-for-itself,\n",
    "    and, since in this immediacy its inner meaning vanishes,\n",
    "    it is the totally abstract limit of itself: the one.\n"
   ]
  },
  {
   "cell_type": "markdown",
   "metadata": {},
   "source": [
    "\n",
    "    Attention may be drawn in advance\n",
    "    to the difficulties that lie ahead\n",
    "    in the exposition of the development of the one,\n",
    "    and to the source of these difficulties.\n",
    "    The moments that constitute the concept of\n",
    "    the one as being-for-itself\n",
    "    occur in it one outside the other;\n",
    "    \n"
   ]
  },
  {
   "cell_type": "markdown",
   "metadata": {},
   "source": [
    "    they are\n",
    "    (1) negation in general;\n",
    "    (2) two negations that are, therefore,\n",
    "    (3) the same,\n",
    "    (4) absolutely opposed;\n",
    "    (5) self-reference, identity as such;\n",
    "    (6) negative reference which is nonetheless self-reference.\n",
    "    \n"
   ]
  },
  {
   "cell_type": "markdown",
   "metadata": {},
   "source": [
    "    These moments occur here apart because\n",
    "    the form of immediacy, of being, enters into\n",
    "    the being-for-itself as existent-for-itself;\n",
    "    because of this immediacy, each moment is posited\n",
    "    as a determination existent on its own,\n",
    "    and yet they are just as inseparable.\n",
    "    \n"
   ]
  },
  {
   "cell_type": "markdown",
   "metadata": {},
   "source": [
    "    Hence, of each determination the opposite must equally be said;\n",
    "    it is this contradiction that causes the difficulty\n",
    "    that goes with the abstract nature of the moments.\n"
   ]
  },
  {
   "cell_type": "markdown",
   "metadata": {},
   "source": [
    "\n",
    "### B. THE ONE AND THE MANY\n"
   ]
  },
  {
   "cell_type": "markdown",
   "metadata": {},
   "source": [
    "\n",
    "    The one is the simple reference\n",
    "    of being-for-itself to itself\n",
    "    in which its moments have fallen together;\n",
    "    in which, therefore, being-for-itself has the form\n",
    "    of immediacy and its moments,\n",
    "    therefore, are now there as existents.\n"
   ]
  },
  {
   "cell_type": "markdown",
   "metadata": {},
   "source": [
    "\n",
    "    As the self-reference of the negative,\n",
    "    the one is a determining;\n",
    "    and, as self-reference,\n",
    "    it is infinite self-determining.\n"
   ]
  },
  {
   "cell_type": "markdown",
   "metadata": {},
   "source": [
    "\n",
    "    However, because of the present immediacy,\n",
    "    these distinctions are no longer only moments\n",
    "    of one and the same self-determination\n",
    "    but are at the same time posited as existents.\n"
   ]
  },
  {
   "cell_type": "markdown",
   "metadata": {},
   "source": [
    "\n",
    "    The ideality of the being-for-itself as a totality\n",
    "    thus turns at first into reality;\n",
    "    a reality, moreover, of the most\n",
    "    fixed and abstract kind, as a one.\n"
   ]
  },
  {
   "cell_type": "markdown",
   "metadata": {},
   "source": [
    "\n",
    "    In the one, the being-for-itself is\n",
    "    the posited unity of being and existence,\n",
    "    as the absolute union of the reference to another\n",
    "    and the reference to itself;\n",
    "    but also the determinateness of being\n",
    "    then enters into opposition to the determination\n",
    "    of the infinite negation, to self-determination,\n",
    "    so that what the one is in itself,\n",
    "    it is that now only in it,\n",
    "    and the negative consequently is\n",
    "    an other distinct from it.\n",
    "  "
   ]
  },
  {
   "cell_type": "markdown",
   "metadata": {},
   "source": [
    "  \n",
    "    What shows itself to be present\n",
    "    as distinct from the one is\n",
    "    the one's own self-determining;\n",
    "    its unity with itself, as thus distinct from itself,\n",
    "    is demoted to reference, and, as negative unity,\n",
    "    it is negation of itself as other,\n",
    "    the excluding of the one\n",
    "    as an other from itself,\n",
    "    from the one.\n"
   ]
  },
  {
   "cell_type": "markdown",
   "metadata": {},
   "source": [
    "\n",
    "#### a. The one within\n"
   ]
  },
  {
   "cell_type": "markdown",
   "metadata": {},
   "source": [
    "\n",
    "    Within it, the one just is;\n",
    "    this, its being, is not an existence,\n",
    "    not a determination as reference to an other,\n",
    "    not a constitution;\n",
    "    it is rather its having\n",
    "    negated this circle of categories.\n",
    "    The one is not capable, therefore,\n",
    "    of becoming any other;\n",
    "    it is unalterable.\n"
   ]
  },
  {
   "cell_type": "markdown",
   "metadata": {},
   "source": [
    "\n",
    "    It is indeterminate,\n",
    "    yet no longer like being;\n",
    "    its indeterminateness is\n",
    "    the determinateness of self-reference,\n",
    "    absolutely determined being;\n",
    "    posited in-itselfness.\n",
    "    As negation which, in accordance with its concept,\n",
    "    is self-referring, it has distinction in it:\n",
    "    it directs away from itself towards another,\n",
    "    but this direction is immediately reversed,\n",
    "    because, according to this moment of self-determining,\n",
    "    there is no other to which it would be addressed,\n",
    "    and the directing reverts back to itself.\n",
    "    \n"
   ]
  },
  {
   "cell_type": "markdown",
   "metadata": {},
   "source": [
    "    In this simple immediacy,\n",
    "    even the mediation of existence and ideality,\n",
    "    and with it all diversity and manifoldness,\n",
    "    have vanished.\n",
    "    In the one there is nothing;\n",
    "    this nothing, the abstraction of self-reference,\n",
    "    is here distinguished from the in-itselfness of the one;\n",
    "    it is a posited nothing, for this in-itselfness\n",
    "    no longer has the simplicity of the something,\n",
    "    but, as mediation, has rather the determination of being concrete;\n",
    "    taken in abstraction, it is indeed identical with the one,\n",
    "    but different from its determination.\n",
    "    So this nothing, posited as in the one,\n",
    "    is the nothing as the void.\n",
    "    The void is thus the quality of\n",
    "    the one in its immediacy.\n"
   ]
  },
  {
   "cell_type": "markdown",
   "metadata": {},
   "source": [
    "\n",
    "#### b. The one and the void\n"
   ]
  },
  {
   "cell_type": "markdown",
   "metadata": {},
   "source": [
    "\n",
    "    The one is the void as the abstract self-reference of negation.\n",
    "    But the void, as nothing, is absolutely diverse\n",
    "    from the simple immediacy of the one,\n",
    "    from the being of the latter which is also affirmative,\n",
    "    and because the two stand in one single reference,\n",
    "    namely to the one, their diversity is posited;\n",
    "    however, as distinct from the affirmative being,\n",
    "    the nothing stands as void outside the one as existent.\n",
    "    \n"
   ]
  },
  {
   "cell_type": "markdown",
   "metadata": {},
   "source": [
    "    Being-for-itself, determined in this way\n",
    "    as the one and the void,\n",
    "    has again acquired an existence.\n",
    "    The one and the void have their negative self-reference\n",
    "    as their common and simple terrain.\n",
    "    \n"
   ]
  },
  {
   "cell_type": "markdown",
   "metadata": {},
   "source": [
    "    The moments of being-for-itself\n",
    "    come out of this unity,\n",
    "    become external to themselves;\n",
    "    for through the simple unity of the moments\n",
    "    the determination of being comes into play,\n",
    "    and the unity itself thus withdraws to one side,\n",
    "    is therefore lowered to existence,\n",
    "    and there it is confronted by its other determination\n",
    "    standing over against it, negation as such\n",
    "    and likewise as the existence of the nothing,\n",
    "    as the void.\n"
   ]
  },
  {
   "cell_type": "markdown",
   "metadata": {},
   "source": [
    "\n",
    "#### c. Many ones\n"
   ]
  },
  {
   "cell_type": "markdown",
   "metadata": {},
   "source": [
    "\n",
    "    Repulsion\n",
    "\n",
    "    The one and the void constitute the first existence of being-for-itself.\n",
    "    Each of these moments has negation for its determination,\n",
    "    and is posited at the same time as an existence.\n",
    "    In accordance with this determination,\n",
    "    the one and the void are each the reference\n",
    "    of negation to negation as of an other to its other:\n",
    "    the one is negation in the determination of being; the void,\n",
    "    negation in the determination of non-being.\n",
    "    \n"
   ]
  },
  {
   "cell_type": "markdown",
   "metadata": {},
   "source": [
    "    Essentially, however, the one\n",
    "    is only self-reference as referring negation,\n",
    "    that is, it is itself the same as the\n",
    "    void outside it is supposed to be.\n",
    "    Both are, however, also posited as\n",
    "    each an affirmative existence\n",
    "    (the one as being-for-itself as such,\n",
    "    the other as indeterminate existence in general)\n",
    "    and each as referring to the other as to an other existence.\n",
    "    Essentially, however, the being-for-itself of the one\n",
    "    is the ideality of the existence and of the other;\n",
    "    it does not refer to an other but only to itself.\n"
   ]
  },
  {
   "cell_type": "markdown",
   "metadata": {},
   "source": [
    "\n",
    "    But inasmuch as the being-for-itself is fixed as the one,\n",
    "    as existent for itself, as immediately present,\n",
    "    its negative reference to itself is\n",
    "    at the same time reference to an existent;\n",
    "    and since the reference is just as much negative,\n",
    "    that to which the being-for-itself refers remains\n",
    "    determined as an existence and as an other;\n",
    "    as essentially self-reference,\n",
    "    the other is not indeterminate negation like the void,\n",
    "    but is likewise a one.\n",
    "    The one is consequently a becoming of many ones.\n"
   ]
  },
  {
   "cell_type": "markdown",
   "metadata": {},
   "source": [
    "\n",
    "    Strictly speaking, however, this is not just a becoming;\n",
    "    for becoming is a transition of being into nothing;\n",
    "    the one, by contrast, becomes only a one.\n",
    "    The one, as referred to, contains\n",
    "    the negative as reference;\n",
    "    it has this reference, therefore, in it.\n",
    "    Hence, instead of a becoming,\n",
    "    the one's own immanent reference is,\n",
    "    first, present;\n",
    "    and, second, since this reference is negative\n",
    "    and the one is at the same time an existent,\n",
    "    the one repels itself from itself.\n",
    "    This negative reference of\n",
    "    the one to itself is repulsion.\n"
   ]
  },
  {
   "cell_type": "markdown",
   "metadata": {},
   "source": [
    "\n",
    "    This repulsion, as thus the positing of many ones\n",
    "    but through the one itself, is the one's\n",
    "    own coming-forth-from-itself,\n",
    "    but to such outside it as are themselves only ones.\n",
    "    This is repulsion according to the concept,\n",
    "    as it exists implicitly in itself.\n",
    "    The second repulsion is distinguished from it.\n",
    "    It is the one that first occurs to\n",
    "    the representation of external reflection,\n",
    "    not as the generation of ones\n",
    "    but only as the mutual holding off of ones\n",
    "    which are presupposed as already there.\n",
    "    To be seen now is how the first repulsion\n",
    "    that exists in itself determines itself\n",
    "    as the second, the external repulsion.\n"
   ]
  },
  {
   "cell_type": "markdown",
   "metadata": {},
   "source": [
    "\n",
    "    We must first establish the determinations\n",
    "    that the many ones have as such.\n",
    "    The becoming of the many, or their being produced,\n",
    "    immediately vanishes as the product of a positing;\n",
    "    what is produced are the ones, not for another,\n",
    "    but as infinitely referring to themselves.\n",
    "    The one repels only itself from itself;\n",
    "    it does not come to be but it already is;\n",
    "    that which is represented as the repelled is\n",
    "    equally a one, an existent;\n",
    "    repelling and being repelled applies\n",
    "    in like manner to both, and makes no difference.\n"
   ]
  },
  {
   "cell_type": "markdown",
   "metadata": {},
   "source": [
    "\n",
    "    The ones are thus presupposed\n",
    "    with respect to each other posited through\n",
    "    the repulsion of the one from itself;\n",
    "    presupposed, posited as non-posited;\n",
    "    their being-posited is sublated,\n",
    "    they are existents with respect to each other,\n",
    "    such as refer only to themselves.\n"
   ]
  },
  {
   "cell_type": "markdown",
   "metadata": {},
   "source": [
    "\n",
    "    Thus plurality appears not as an otherness,\n",
    "    but as a determination completely external to the one.\n",
    "    The one, in repelling itself, remains reference to itself,\n",
    "    just like that which is taken as repelled at the start.\n",
    "    That the ones are other to one another,\n",
    "    that they are brought together in\n",
    "    the determinateness of plurality,\n",
    "    does not therefore concern the one.\n"
   ]
  },
  {
   "cell_type": "markdown",
   "metadata": {},
   "source": [
    "\n",
    "    If the plurality were a\n",
    "    reference of the ones to one another,\n",
    "    the ones would then limit each other\n",
    "    and would have the being-for-other affirmatively in them.\n",
    "    Their connecting reference\n",
    "    (and this they have through their unity which is in itself),\n",
    "    as posited here, is determined as none;\n",
    "    it is again the previously posited void.\n",
    "    \n"
   ]
  },
  {
   "cell_type": "markdown",
   "metadata": {},
   "source": [
    "    This void is their limit,\n",
    "    but an external limit in which\n",
    "    they are not supposed to be for one another.\n",
    "    The limit is that in which\n",
    "    the limited are just as much as are not;\n",
    "    but the void is determined as pure non-being,\n",
    "    and this alone constitutes the limit of the ones.\n"
   ]
  },
  {
   "cell_type": "markdown",
   "metadata": {},
   "source": [
    "\n",
    "    The repulsion of the one from itself is\n",
    "    the making explicit of what\n",
    "    the one is implicitly in itself;\n",
    "    but, thus laid out as one-outside-the-other,\n",
    "    infinity is here an infinity that has externalized itself,\n",
    "    and this it has done through the immediacy\n",
    "    of the infinite, of the one.\n",
    "    Infinity is just as much\n",
    "    the simple reference of the one to the one\n",
    "    as, on the contrary, the one's absolute lack of reference;\n",
    "    it is the former according to the simple affirmative reference\n",
    "    of the one to itself;\n",
    "    it is the latter according to the same reference as negative.\n",
    "    \n"
   ]
  },
  {
   "cell_type": "markdown",
   "metadata": {},
   "source": [
    "    Or again, the plurality of the ones is\n",
    "    the one's own positing of the one;\n",
    "    the one is nothing but\n",
    "    the negative reference of the one to itself,\n",
    "    and this reference\n",
    "    [hence the one itself]\n",
    "    is the plural one.\n",
    "    But equally, plurality is utterly external to the one,\n",
    "    for the one is precisely the sublating of otherness;\n",
    "    repulsion is its self-reference and simple equality with itself.\n",
    "    The plurality of the ones is infinity as a contradiction\n",
    "    that unconstrainedly produces itself.\n"
   ]
  },
  {
   "cell_type": "markdown",
   "metadata": {},
   "source": [
    "\n",
    "### C. REPULSION AND ATTRACTION\n"
   ]
  },
  {
   "cell_type": "markdown",
   "metadata": {},
   "source": [
    "#### a. Exclusion of the one\n"
   ]
  },
  {
   "cell_type": "markdown",
   "metadata": {},
   "source": [
    "\n",
    "    The many ones are each a being;\n",
    "    their existence or their reference to one another\n",
    "    is a non-reference, it is external to them:\n",
    "    the abstract void.\n",
    "    But they themselves are now this negative reference\n",
    "    to themselves as to existent others:\n",
    "    the demonstrated contradiction, the infinity posited\n",
    "    in the immediacy of being.\n",
    "    With this, repulsion now finds immediately before it\n",
    "    that which is repelled by it.\n",
    "    In this determination, it is an excluding;\n",
    "    the one repels from itself only the many not generated by it,\n",
    "    the ones not posited by it.\n",
    "    This repelling is mutual or from all sides, relative,\n",
    "    limited by the being of the ones.\n"
   ]
  },
  {
   "cell_type": "markdown",
   "metadata": {},
   "source": [
    "\n",
    "    Plurality is not at first posited otherness;\n",
    "    limit is only the void, only that in which the ones are not.\n",
    "    But in the limit they also are;\n",
    "    they are in the void,\n",
    "    or their repulsion is their\n",
    "    common connecting reference.\n"
   ]
  },
  {
   "cell_type": "markdown",
   "metadata": {},
   "source": [
    "\n",
    "    This mutual repulsion is the posited\n",
    "    existence of the many ones;\n",
    "    it is not their being-for-itself,\n",
    "    in accordance with which they would be\n",
    "    distinguished as many only in a third,\n",
    "    but is rather their own distinguishing\n",
    "    which preserves them.\n"
   ]
  },
  {
   "cell_type": "markdown",
   "metadata": {},
   "source": [
    "\n",
    "    They mutually negate themselves,\n",
    "    posit one another as being only for-one.\n",
    "    But at the same time they negate this\n",
    "    being only for-one just as much;\n",
    "    they repel the ideality that they have and are.\n",
    "    So the moments which in ideality are\n",
    "    absolutely united come apart.\n"
   ]
  },
  {
   "cell_type": "markdown",
   "metadata": {},
   "source": [
    "\n",
    "    In its being-for-itself, the one is also for-one;\n",
    "    but this one, for which it is, is itself;\n",
    "    its distinguishing from itself is immediately sublated.\n",
    "    But in the plurality the distinguished one has a being;\n",
    "    the being-for-one as has been determined in exclusion\n",
    "    is therefore a being-for-other.\n",
    "    Each thus comes to be repelled by an other,\n",
    "    is sublated and made into a one which is not for itself\n",
    "    but for-one, and an other one at that.\n"
   ]
  },
  {
   "cell_type": "markdown",
   "metadata": {},
   "source": [
    "\n",
    "    The being-for-itself of the many ones\n",
    "    thus shows itself to be their self-preservation\n",
    "    through the mediation of their mutual repulsion\n",
    "    in which they sublated themselves reciprocally\n",
    "    and posit the others as mere being-for-another.\n",
    "    But the self-preservation consists at the same time\n",
    "    in repelling this ideality and positing the ones\n",
    "    as not being for-an-other.\n",
    "    This self-preservation of the ones\n",
    "    through their negative reference to one another is,\n",
    "    however, rather their dissolution.\n"
   ]
  },
  {
   "cell_type": "markdown",
   "metadata": {},
   "source": [
    "\n",
    "    The ones not only are but maintain themselves\n",
    "    through their reciprocal exclusion.\n",
    "    First, it is in their being,\n",
    "    and indeed their being-in-itself as\n",
    "    contrasted with their reference to the other,\n",
    "    that they should now have a firm point of support\n",
    "    for their diversity as against their being negated;\n",
    "    this in-itselfness rests on their being ones.\n",
    "    But they all are this;\n",
    "    in their being-in-itself,\n",
    "    instead of having there their\n",
    "    firm point of support for their diversity,\n",
    "    they are all the same.\n",
    "    \n"
   ]
  },
  {
   "cell_type": "markdown",
   "metadata": {},
   "source": [
    "    Second, their existence and their\n",
    "    way of relating to one another,\n",
    "    that is, their positing themselves as one,\n",
    "    is their reciprocal negating;\n",
    "    this, however, is likewise one and the same determination of\n",
    "    all through which they therefore posit themselves as identical;\n",
    "    just as, by being in themselves the same,\n",
    "    the ideality that should be posited in them\n",
    "    through others is their own,\n",
    "    and they thus repel just as little.\n",
    "    According to their being and positing,\n",
    "    they are, consequently, only one affirmative unity.\n"
   ]
  },
  {
   "cell_type": "markdown",
   "metadata": {},
   "source": [
    "\n",
    "    This consideration regarding the ones:\n",
    "    that from either side of their determination,\n",
    "    whether they just are or refer to one another,\n",
    "    they show themselves to be only one and the same,\n",
    "    indistinguishable, is a comparison that belongs to us.\n",
    "    Also to be seen, therefore, is what is posited in them\n",
    "    in their mutual reference itself.\n"
   ]
  },
  {
   "cell_type": "markdown",
   "metadata": {},
   "source": [
    "\n",
    "    They are (this much is presupposed in this reference)\n",
    "    and they are only inasmuch as\n",
    "    they negate themselves reciprocally\n",
    "    and at the same time keep away this ideality,\n",
    "    their being negated, from themselves, that is,\n",
    "    they negate the reciprocal negating.\n"
   ]
  },
  {
   "cell_type": "markdown",
   "metadata": {},
   "source": [
    "\n",
    "    But they are only inasmuch as they negate,\n",
    "    and so, since their reciprocal negating is negated,\n",
    "    their being is negated.\n",
    "    To be sure, since they are,\n",
    "    nothing would be negated through this negating\n",
    "    which for them is only something external;\n",
    "    this negating of the other rebounds off them,\n",
    "    coming their way only by striking their surface.\n"
   ]
  },
  {
   "cell_type": "markdown",
   "metadata": {},
   "source": [
    "\n",
    "    And yet, they turn back upon themselves\n",
    "    only by negating the others;\n",
    "    they are only as this mediation,\n",
    "    this turning back of theirs is their self-preservation\n",
    "    and their being-for-itself.\n",
    "    Since their negating is ineffectual\n",
    "    because of the resistance offered by the others,\n",
    "    whether as existents or as negating,\n",
    "    they do not return back to themselves,\n",
    "    do not preserve themselves, and so are not.\n",
    "    \n"
   ]
  },
  {
   "cell_type": "markdown",
   "metadata": {},
   "source": [
    "    It was previously remarked that\n",
    "    the ones themselves are each a one like any other.\n",
    "    This is not just a matter of our\n",
    "    connecting them by way of reference,\n",
    "    of bringing them together externally;\n",
    "    repulsion is itself a referring;\n",
    "    the one that excludes the ones refers itself to them,\n",
    "    to the ones, that is, to itself.\n"
   ]
  },
  {
   "cell_type": "markdown",
   "metadata": {},
   "source": [
    "\n",
    "    The negative relating of the ones to one another is consequently\n",
    "    only a coming-together-with-oneself.\n",
    "    This identity in which their repelling crosses over is\n",
    "    the sublation of their diversity and externality\n",
    "    which they should have rather asserted with respect to\n",
    "    each other by excluding each other.\n"
   ]
  },
  {
   "cell_type": "markdown",
   "metadata": {},
   "source": [
    "\n",
    "    This self-positing-in-a-one of the many ones is attraction.\n"
   ]
  },
  {
   "cell_type": "markdown",
   "metadata": {},
   "source": [
    "\n",
    "#### b. The one one of attraction\n"
   ]
  },
  {
   "cell_type": "markdown",
   "metadata": {},
   "source": [
    "\n",
    "    Repulsion is the fragmentation of the one,\n",
    "    first into the many of which\n",
    "    it is the negative relating,\n",
    "    since they presuppose each other as each existent;\n",
    "    it is only the ought of ideality;\n",
    "    this ideality will, however, be realized in attraction.\n",
    "    \n"
   ]
  },
  {
   "cell_type": "markdown",
   "metadata": {},
   "source": [
    "    Repulsion passes over into attraction,\n",
    "    the many ones into one one.\n",
    "    Both, repulsion and attraction, are\n",
    "    at first distinguished from each other,\n",
    "    repulsion as the reality of the ones,\n",
    "    attraction as their posited ideality.\n"
   ]
  },
  {
   "cell_type": "markdown",
   "metadata": {},
   "source": [
    "\n",
    "    Attraction refers to repulsion\n",
    "    by having it for a presupposition.\n",
    "    Repulsion delivers the material for attraction.\n",
    "    If there were no ones,\n",
    "    there would be nothing to attract;\n",
    "    the representation of continuing attraction,\n",
    "    of the consumption of the ones,\n",
    "    presupposes an equally continuing generation of the ones;\n",
    "    the sense representation of spatial attraction\n",
    "    gives continuity to the flow of ones to be attracted;\n",
    "    to replace the atoms that vanish at the point of attraction,\n",
    "    another multitude comes forth from the void,\n",
    "    infinitely if one so wishes.\n",
    "    \n"
   ]
  },
  {
   "cell_type": "markdown",
   "metadata": {},
   "source": [
    "    If attraction were represented as accomplished, that is,\n",
    "    the many as brought to the point of the one one,\n",
    "    the result would be just an inert one, no longer any attraction.\n",
    "    The ideality immediately present in attraction\n",
    "    still also has in it the determination of the negation of itself,\n",
    "    the many ones to which it refers;\n",
    "    attraction is inseparable from repulsion.\n"
   ]
  },
  {
   "cell_type": "markdown",
   "metadata": {},
   "source": [
    "\n",
    "    To attract pertains at first in equal measure\n",
    "    to each of the many ones as immediately present;\n",
    "    none has advantage over an other;\n",
    "    what would result then is an equilibrium in the attraction,\n",
    "    or more precisely, an equilibrium in the attraction\n",
    "    and the repulsion themselves, and an inert state of rest\n",
    "    without any ideality present there.\n"
   ]
  },
  {
   "cell_type": "markdown",
   "metadata": {},
   "source": [
    "\n",
    "\n",
    "    But there can be no question here of\n",
    "    any such immediately present one taking precedence over another,\n",
    "    for this would presuppose a determinate distinction between them;\n",
    "    attraction is rather the positing of\n",
    "    the given lack of distinction among the ones.\n"
   ]
  },
  {
   "cell_type": "markdown",
   "metadata": {},
   "source": [
    "\n",
    "    Attraction is itself the positing in the first place\n",
    "    of a one distinct from other ones;\n",
    "    these are only the immediate ones\n",
    "    that are to preserve themselves through repulsion;\n",
    "    through their posited negation, however,\n",
    "    what proceeds is the one of attraction\n",
    "    which is therefore determined as the mediated one,\n",
    "    the one posited as one.\n",
    "    The first ones, as immediate, do not in their ideality\n",
    "    return into themselves,\n",
    "    but have this ideality each in another.\n"
   ]
  },
  {
   "cell_type": "markdown",
   "metadata": {},
   "source": [
    "\n",
    "    The one one is, however,\n",
    "    ideality that has been realized,\n",
    "    posited in the one;\n",
    "    it attracts through the mediation of repulsion;\n",
    "    it contains in itself this mediation as its determination.\n",
    "    \n"
   ]
  },
  {
   "cell_type": "markdown",
   "metadata": {},
   "source": [
    "    It thus does not swallow the attracted ones\n",
    "    within it as into one point, that is,\n",
    "    does not sublate them abstractly.\n",
    "    Since it contains repulsion in its determination,\n",
    "    the latter equally preserves the ones as many within it;\n",
    "    by its attracting, it musters, so to speak,\n",
    "    something before it, gains an area or a filling.\n",
    "    Thus there is in it the unity\n",
    "    of repulsion and attraction in general.\n"
   ]
  },
  {
   "cell_type": "markdown",
   "metadata": {},
   "source": [
    "\n",
    "#### c. The connection of repulsion and attraction\n"
   ]
  },
  {
   "cell_type": "markdown",
   "metadata": {},
   "source": [
    "\n",
    "    The difference of the one and the many\n",
    "    has determined itself as a difference\n",
    "    of their mutual reference connecting them\n",
    "    which breaks down into two, repulsion and attraction,\n",
    "    each of which stands at first\n",
    "    outside the other on its own,\n",
    "    in such a way that the two are\n",
    "    essentially joined together nevertheless.\n",
    "    Their still indeterminate unity\n",
    "    must be brought out in greater detail.\n"
   ]
  },
  {
   "cell_type": "markdown",
   "metadata": {},
   "source": [
    "\n",
    "    As the fundamental determination of the one,\n",
    "    repulsion appears first, and it appears as immediate,\n",
    "    like its ones which are indeed generated by it\n",
    "    and yet are at the same time posited as immediate,\n",
    "    and it is therefore indifferent to the attraction\n",
    "    which is added to it externally as thus presupposed.\n",
    "    \n"
   ]
  },
  {
   "cell_type": "markdown",
   "metadata": {},
   "source": [
    "    Rather, attraction is not presupposed by repulsion:\n",
    "    it is not supposed to have any part in the positing\n",
    "    and in the being of the latter, that is,\n",
    "    as if repulsion were not, already in it,\n",
    "    the negation of itself,\n",
    "    or the ones were not already negated in it.\n",
    "    In this way, we have repulsion in abstraction, by itself,\n",
    "    and attraction likewise holds out to the ones,\n",
    "    as each an existent, the side of an immediate existence\n",
    "    which comes to them by itself as an other.\n"
   ]
  },
  {
   "cell_type": "markdown",
   "metadata": {},
   "source": [
    "\n",
    "    If we take mere repulsion in this way, for itself,\n",
    "    it is then the dispersion of the many ones in indeterminacy,\n",
    "    outside the sphere of repulsion itself;\n",
    "    for repulsion is the negating of the connection\n",
    "    of the many to one another;\n",
    "    lack of connection is their determination when abstractly taken.\n",
    "    But repulsion is not just the void;\n",
    "    the ones, although unconnected,\n",
    "    do not repel what constitutes their determination,\n",
    "    do not exclude it. \n",
    "    \n"
   ]
  },
  {
   "cell_type": "markdown",
   "metadata": {},
   "source": [
    "    Although negative, repulsion is nonetheless essentially connection;\n",
    "    the mutual repulsion and flight is not a liberation\n",
    "    from what is repelled and fled from;\n",
    "    that which is excluded still stands in connection\n",
    "    with what is excluded from it.\n",
    "    But this moment of connection is attraction,\n",
    "    which is thus within repulsion itself;\n",
    "    it is the negating of that abstract repulsion\n",
    "    by which the ones would each be an existent\n",
    "    referring only to itself without mutual exclusion.\n"
   ]
  },
  {
   "cell_type": "markdown",
   "metadata": {},
   "source": [
    "\n",
    "    But in starting with the repulsion\n",
    "    of the ones as immediately present there,\n",
    "    and with attraction consequently also posited\n",
    "    as intruding on them externally,\n",
    "    the two, repulsion and attraction,\n",
    "    are held apart as diverse\n",
    "    determinations despite their inseparability.\n",
    "    But it has been established that it is not\n",
    "    just repulsion which is presupposed by attraction,\n",
    "    but that there equally is present also\n",
    "    a reverse connection of repulsion to attraction,\n",
    "    and that repulsion no less has\n",
    "    attraction for its presupposition.\n"
   ]
  },
  {
   "cell_type": "markdown",
   "metadata": {},
   "source": [
    "\n",
    "    As thus determined, they are inseparable,\n",
    "    and at the same time each is determined\n",
    "    as an ought and a limitation with respect to the other.\n",
    "    Their ought is their abstract determinateness\n",
    "    as each an existent in itself,\n",
    "    a determinateness, however, which is thereby\n",
    "    directed beyond itself and refers to the other.\n",
    "    And so, through the mediation of the other, each is as other;\n",
    "    their self-subsistence consists in their being mutually posited\n",
    "    in this mediation as an other determining.\n"
   ]
  },
  {
   "cell_type": "markdown",
   "metadata": {},
   "source": [
    "\n",
    "    Thus, repulsion is the positing of the many;\n",
    "    attraction the positing of the one;\n",
    "    this latter is equally the negation of the many\n",
    "    and the former the negation of the ideality\n",
    "    of such a many in the one;\n",
    "    so that attraction too is attraction only through\n",
    "    the mediation of repulsion,\n",
    "    just as repulsion is repulsion\n",
    "    through the mediation of attraction.\n",
    "    \n"
   ]
  },
  {
   "cell_type": "markdown",
   "metadata": {},
   "source": [
    "    In all this, however, the mediation of each with itself\n",
    "    through the other is in fact negated;\n",
    "    each of the two determinations is its own self-mediation.\n",
    "    This will result from a closer examination of the two determinations\n",
    "    and will bring us back to the unity of their concept.\n"
   ]
  },
  {
   "cell_type": "markdown",
   "metadata": {},
   "source": [
    "\n",
    "    In the first place, that each presupposes itself,\n",
    "    that in its presupposition each refers only to itself,\n",
    "    this is already present in the way the still relative\n",
    "    repulsion and attraction behave at first.\n"
   ]
  },
  {
   "cell_type": "markdown",
   "metadata": {},
   "source": [
    "\n",
    "    Relative repulsion is the mutual repulsion\n",
    "    of many ones which are already at hand,\n",
    "    supposedly immediately given.\n",
    "    But that there be many ones,\n",
    "    this is repulsion itself;\n",
    "    any presupposition that it would have is\n",
    "    only its own positing.\n",
    "    Moreover, the determination of the being\n",
    "    that would accrue to the ones\n",
    "    apart from their being posited\n",
    "    (whereby they would already be)\n",
    "    belongs likewise to repulsion.\n",
    "    \n"
   ]
  },
  {
   "cell_type": "markdown",
   "metadata": {},
   "source": [
    "    Repelling is that through which\n",
    "    the ones manifest themselves\n",
    "    and maintain themselves as ones;\n",
    "    through which they are as such.\n",
    "    Their being is their repulsion itself,\n",
    "    which is thus not some relative\n",
    "    existence against another other\n",
    "    but relates itself throughout only to itself.\n"
   ]
  },
  {
   "cell_type": "markdown",
   "metadata": {},
   "source": [
    "\n",
    "    Attraction is the positing of the one as such,\n",
    "    of the real one, with respect to which\n",
    "    the existence of the many is determined\n",
    "    as only a vanishing idealization.\n",
    "    Attraction thus directly presupposes itself;\n",
    "    it presupposes itself in the determination namely,\n",
    "    of the many ones to be an idealization,\n",
    "    the same ones which are otherwise supposed\n",
    "    to have existence for themselves and to repel others,\n",
    "    including therefore any other that attracts.\n",
    "    Against this determination of repulsion,\n",
    "    the ones do not attain ideality only through\n",
    "    the relation to attraction;\n",
    "    on the contrary, the ideality is presupposed:\n",
    "    it is the ideality of the ones\n",
    "    as an existent in itself,\n",
    "    inasmuch as they, as ones\n",
    "    (including the one conceived as attracting),\n",
    "    are not distinguished from one another\n",
    "    but are one and the same.\n"
   ]
  },
  {
   "cell_type": "markdown",
   "metadata": {},
   "source": [
    "\n",
    "    This self-presupposing of the two determinations, each for itself,\n",
    "    implies further that each contains within itself the other as moment.\n",
    "    Self-presupposing in general is the positing of oneself\n",
    "    in a one as the negative of oneself (repulsion),\n",
    "    and what is presupposed in this positing is\n",
    "    the same as that which presupposes (attraction).\n",
    "    That each is in itself only a moment,\n",
    "    this is the transition of each from itself into the other,\n",
    "    the negation of itself in the other\n",
    "    and the positing of itself as the other of itself.\n"
   ]
  },
  {
   "cell_type": "markdown",
   "metadata": {},
   "source": [
    "\n",
    "    The one, as such, is thus a coming-out-of-itself;\n",
    "    is itself only the positing of itself as its other, as the many.\n",
    "    And the many, for its part, is\n",
    "    only the falling back upon itself\n",
    "    and the positing of itself as its other, as a one,\n",
    "    and is in this equally only the connecting of itself to itself,\n",
    "    each continuing itself in its other.\n"
   ]
  },
  {
   "cell_type": "markdown",
   "metadata": {},
   "source": [
    "\n",
    "    Therefore, the coming-out-of-itself (repulsion)\n",
    "    and the self-positing-as-one (attraction)\n",
    "    are already inherently present as undivided.\n",
    "    But in the repulsion and attraction which are relative, that is,\n",
    "    which presuppose immediate, determinedly existent ones,\n",
    "    it is posited that the two are each,\n",
    "    within it, this negation of itself,\n",
    "    and consequently also the continuity of\n",
    "    itself in its other.\n",
    "    \n"
   ]
  },
  {
   "cell_type": "markdown",
   "metadata": {},
   "source": [
    "    The repulsion of the determinedly existent ones is\n",
    "    the self-preservation of the one\n",
    "    through the mutual holding off of the others,\n",
    "    so that (1) the other ones are negated in it\n",
    "    (this is the side of its existence or of its being-for-another\n",
    "    and is therefore attraction as the ideality of the ones);\n",
    "    and (2) the one is in itself,\n",
    "    without reference to the others\n",
    "    (however, not only has the in-itself in general\n",
    "    long since passed over into being-for-itself;\n",
    "    the one in itself, according to its determination,\n",
    "    is the coming to be of many).\n"
   ]
  },
  {
   "cell_type": "markdown",
   "metadata": {},
   "source": [
    "\n",
    "    The attraction of the existent ones is their ideality\n",
    "    and the positing of the one, and in this,\n",
    "    as both the negating and the producing of the one,\n",
    "    attraction sublates itself,\n",
    "    and as a positing within it of the one,\n",
    "    is the negative of itself:\n",
    "    it is repulsion.\n"
   ]
  },
  {
   "cell_type": "markdown",
   "metadata": {},
   "source": [
    "\n",
    "    With this, the development of being-for-itself\n",
    "    is completed and has attained its result.\n",
    "    In connecting itself to itself infinitely,\n",
    "    that is, as the posited negation of negation,\n",
    "    the one is the mediation by which it repels itself\n",
    "    as its absolute (that is, abstract) otherness (the many) from itself,\n",
    "    and in thus negatively connecting itself to this, its non-being,\n",
    "    it sublates it and is in it precisely only the connection to itself.\n"
   ]
  },
  {
   "cell_type": "markdown",
   "metadata": {},
   "source": [
    "\n",
    "    The one is only this becoming in which\n",
    "    the determination “it begins,” that is,\n",
    "    its being posited as an immediate existent,\n",
    "    and equally that, as result,\n",
    "    it has restored itself as the one,\n",
    "    that is, the equally immediate and exclusive one, have vanished;\n",
    "    the process which it is, posits and contains it\n",
    "    from all sides only as something sublated.\n",
    "    \n"
   ]
  },
  {
   "cell_type": "markdown",
   "metadata": {},
   "source": [
    "    The sublation, determined at first only as a relative sublating of\n",
    "    the connection to another existent,\n",
    "    a connection which is therefore itself not\n",
    "    an indifferent repulsion and attraction,\n",
    "    equally proves itself to pass over into\n",
    "    the infinite connection of mediation\n",
    "    through the negation of the external\n",
    "    connection of immediate and determinate existents,\n",
    "    and to have for result precisely that becoming\n",
    "    which, in the instability of its moments, is the collapse,\n",
    "    or rather the going-together-with-itself, into simple immediacy.\n",
    "    This being, according to the determination\n",
    "    which it has now acquired, is quantity.\n"
   ]
  },
  {
   "cell_type": "markdown",
   "metadata": {},
   "source": [
    "\n",
    "    If we briefly review the moments\n",
    "    of this transition of quality into quantity,\n",
    "    we find that the qualitative has being and immediacy\n",
    "    for its fundamental determination,\n",
    "    and the limit and the determinateness are\n",
    "    in this immediacy so identical with the being of something,\n",
    "    that the something itself vanishes\n",
    "    along with its alteration;\n",
    "    as thus posited, it is determined as finite.\n",
    "    \n"
   ]
  },
  {
   "cell_type": "markdown",
   "metadata": {},
   "source": [
    "    Because of the immediacy of this unity\n",
    "    in which the distinction has disappeared,\n",
    "    although it is implicitly present in\n",
    "    the unity of being and nothing,\n",
    "    the distinction falls outside\n",
    "    that unity as otherness in general.\n",
    "    \n"
   ]
  },
  {
   "cell_type": "markdown",
   "metadata": {},
   "source": [
    "    This reference to the other contradicts the immediacy\n",
    "    in which qualitative determinateness is self-reference.\n",
    "    This otherness is sublated in\n",
    "    the infinity of the being-for-itself,\n",
    "    the being-for-itself that has realized\n",
    "    the distinction implicitly present in it\n",
    "    in the negation of negation:\n",
    "    has realized it as the one and the many\n",
    "    and as their connecting references,\n",
    "    and has also elevated the qualitative to true unity,\n",
    "    that is, a unity which is no longer immediate\n",
    "    but posited as accordant with itself.\n"
   ]
  },
  {
   "cell_type": "markdown",
   "metadata": {},
   "source": [
    "\n",
    "    This unity is, therefore,\n",
    "    (a) being, only as affirmative, that is,\n",
    "    immediacy self-mediated through the negation of negation:\n",
    "    being is posited as a unity permeating\n",
    "    its determinacies, limits, etc.,\n",
    "    which are posited in it as sublated;\n",
    "    (b) existence:\n",
    "    in this determination it is negation\n",
    "    or determinateness as moment of\n",
    "    the affirmative being;\n",
    "    yet this determinateness is no longer\n",
    "    immediate but reflected into itself,\n",
    "    refers not to another but to itself;\n",
    "    (c) absolutely-determined-being,\n",
    "    (d) absolute in-itselfness,\n",
    "    (e) the one;\n",
    "    (f) otherness as such is itself being-for-itself;\n",
    "    (g) being-for-itself:\n",
    "    as that being which persists\n",
    "    across the determinateness\n",
    "    and in which the one\n",
    "    and even the being-determined-in-itself\n",
    "    are posited as sublated.\n",
    "    \n"
   ]
  },
  {
   "cell_type": "markdown",
   "metadata": {},
   "source": [
    "    The one is simultaneously determined\n",
    "    as having gone beyond itself and as unity;\n",
    "    the one, the absolutely determined limit,\n",
    "    is consequently posited as a limit which is none,\n",
    "    a limit which is in being but is indifferent to it.\n"
   ]
  }
 ],
 "metadata": {
  "kernelspec": {
   "display_name": ".venv",
   "language": "python",
   "name": "python3"
  },
  "language_info": {
   "name": "python",
   "version": "3.11.2"
  }
 },
 "nbformat": 4,
 "nbformat_minor": 2
}
