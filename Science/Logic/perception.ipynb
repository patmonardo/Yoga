{
 "cells": [
  {
   "cell_type": "markdown",
   "metadata": {},
   "source": [
    "## CHAPTER 2"
   ]
  },
  {
   "cell_type": "markdown",
   "metadata": {},
   "source": [
    "### A. EXISTENCE AS SUCH"
   ]
  },
  {
   "cell_type": "markdown",
   "metadata": {},
   "source": [
    "\n",
    "    In existence\n",
    "\n",
    "    (a) as such, its determinateness is first\n",
    "    (b) to be distinguished as quality.\n"
   ]
  },
  {
   "cell_type": "markdown",
   "metadata": {},
   "source": [
    "    The latter, however, is to be taken in\n",
    "    both the two determinations of\n",
    "    existence as reality and negation."
   ]
  },
  {
   "cell_type": "markdown",
   "metadata": {},
   "source": [
    "\n",
    "    In these determinacies, however,\n",
    "    existence is equally reflected into itself,\n",
    "    and, as so reflected, it is posited as\n",
    "    (c) something, an existent.\n"
   ]
  },
  {
   "cell_type": "markdown",
   "metadata": {},
   "source": [
    "\n",
    "#### a. Form\n"
   ]
  },
  {
   "cell_type": "markdown",
   "metadata": {},
   "source": [
    "\n",
    "    Existence proceeds from becoming.\n",
    "    It is the simple oneness of being and nothing.\n",
    "    On account of this simplicity,\n",
    "    it has the form of an immediate."
   ]
  },
  {
   "cell_type": "markdown",
   "metadata": {},
   "source": [
    "\n",
    "    Its mediation, the becoming, lies behind it;\n",
    "    it has sublated itself,\n",
    "    and existence therefore appears as a first\n",
    "    from which the forward move is made.\n"
   ]
  },
  {
   "cell_type": "markdown",
   "metadata": {},
   "source": [
    "    It is at first in the one-sided determination of being;\n",
    "    the other determination which it contains, nothing,\n",
    "    will likewise come up in it, in contrast to the first.\n"
   ]
  },
  {
   "cell_type": "markdown",
   "metadata": {},
   "source": [
    "\n",
    "    It is not mere being but existence,\n",
    "    or Dasein [in German];\n",
    "    according to its [German] etymology,\n",
    "    it is being (Sein) in a certain place (da).\n",
    "    But the representation of space does not belong here.\n"
   ]
  },
  {
   "cell_type": "markdown",
   "metadata": {},
   "source": [
    "    As it follows upon becoming,\n",
    "    existence is in general\n",
    "    being with a non-being,\n",
    "    so that this non-being is taken up\n",
    "    into simple unity with being.\n"
   ]
  },
  {
   "cell_type": "markdown",
   "metadata": {},
   "source": [
    "    Non-being thus taken up into being\n",
    "    with the result that the concrete whole is\n",
    "    in the form of being, of immediacy,\n",
    "    constitutes determinateness as such.\n"
   ]
  },
  {
   "cell_type": "markdown",
   "metadata": {},
   "source": [
    "\n",
    "    The whole is likewise in the form\n",
    "    or determinateness of being,\n",
    "    since in becoming being has likewise\n",
    "    shown itself to be only a moment:\n",
    "    something sublated, negatively determined.\n"
   ]
  },
  {
   "cell_type": "markdown",
   "metadata": {},
   "source": [
    "\n",
    "    It is such, however, for us, in our reflection;\n",
    "    not yet as posited in it.\n",
    "    What is posited, however, is\n",
    "    the determinateness as such of existence,\n",
    "    as is also expressed by the da (or “there”) of the Dasein.\n"
   ]
  },
  {
   "cell_type": "markdown",
   "metadata": {},
   "source": [
    "    The two are always to be clearly distinguished.\n",
    "    Only that which is posited in a concept\n",
    "    belongs in the course of the elaboration\n",
    "    of the latter to its content.\n"
   ]
  },
  {
   "cell_type": "markdown",
   "metadata": {},
   "source": [
    "\n",
    "    Any determinateness not yet posited\n",
    "    in the concept itself\n",
    "    belongs instead to our reflection,\n",
    "    whether this reflection is directed to\n",
    "    the nature of the concept itself\n",
    "    or is a matter of external comparison.\n"
   ]
  },
  {
   "cell_type": "markdown",
   "metadata": {},
   "source": [
    "\n",
    "    It was necessary here to call attention to\n",
    "    the distinction just given;\n",
    "    but to comment on all\n",
    "    that reflection can allow itself,\n",
    "    to give an account of it,\n",
    "    would lead to a long-winded anticipation\n",
    "    of what must transpire in the fact itself.\n"
   ]
  },
  {
   "cell_type": "markdown",
   "metadata": {},
   "source": [
    "\n",
    "    Although such reflections may\n",
    "    serve to facilitate a general overview\n",
    "    and thus facilitate understanding,\n",
    "    they also bring the disadvantage of\n",
    "    being seen as unjustified assertions,\n",
    "    unjustified grounds and foundations,\n",
    "    of what is to follow.\n"
   ]
  },
  {
   "cell_type": "markdown",
   "metadata": {},
   "source": [
    "    They should be taken for no more than\n",
    "    what they are supposed to be\n",
    "    and should be distinguished from\n",
    "    what constitutes a moment in\n",
    "    the advance of the fact itself.\n"
   ]
  },
  {
   "cell_type": "markdown",
   "metadata": {},
   "source": [
    "\n",
    "    Existence corresponds to being in the preceding sphere.\n",
    "    But being is the indeterminate;\n",
    "    there are no determinations that therefore transpire in it.\n"
   ]
  },
  {
   "cell_type": "markdown",
   "metadata": {},
   "source": [
    "\n",
    "    But existence is determinate being, something concrete;\n",
    "    consequently, several determinations,\n",
    "    several distinct relations of its moments,\n",
    "    immediately emerge in it."
   ]
  },
  {
   "cell_type": "markdown",
   "metadata": {},
   "source": [
    "#### b. Quality\n"
   ]
  },
  {
   "cell_type": "markdown",
   "metadata": {},
   "source": [
    "\n",
    "    On account of the immediacy\n",
    "    with which being and nothing are\n",
    "    one in existence, neither oversteps the other;\n",
    "    to the extent that existence is existent,\n",
    "    to that extent it is non-being;\n",
    "    it is determined.\n"
   ]
  },
  {
   "cell_type": "markdown",
   "metadata": {},
   "source": [
    "    Being is not the universal,\n",
    "    determinateness not the particular.\n",
    "    Determinateness has yet to detach itself from being;\n",
    "    nor will it ever detach itself from it,\n",
    "    since the now underlying truth is\n",
    "    the unity of non-being with being;\n",
    "    all further determinations will transpire on this basis.\n"
   ]
  },
  {
   "cell_type": "markdown",
   "metadata": {},
   "source": [
    "\n",
    "    But the connection which determinateness now has\n",
    "    with being is one of the immediate unity of the two,\n",
    "    so that as yet no differentiation between the two is posited.\n"
   ]
  },
  {
   "cell_type": "markdown",
   "metadata": {},
   "source": [
    "\n",
    "    Determinateness thus isolated by itself,\n",
    "    as existent determinateness, is quality:\n",
    "    something totally simple, immediate.\n",
    "    Determinateness in general is the more universal\n",
    "    which, further determined, can be\n",
    "    something quantitative as well.\n"
   ]
  },
  {
   "cell_type": "markdown",
   "metadata": {},
   "source": [
    "\n",
    "    On account of this simplicity,\n",
    "    there is nothing further to say\n",
    "    about quality as such.\n"
   ]
  },
  {
   "cell_type": "markdown",
   "metadata": {},
   "source": [
    "\n",
    "    Existence, however, in which\n",
    "    nothing and being are equally contained,\n",
    "    is itself the measure of the one-sidedness of quality\n",
    "    as an only immediate or existent determinateness.\n"
   ]
  },
  {
   "cell_type": "markdown",
   "metadata": {},
   "source": [
    "\n",
    "    Quality is equally to be posited in the determination of nothing,\n",
    "    and the result is that the immediate or existent determinateness is\n",
    "    posited as distinct, reflected, and the nothing,\n",
    "    as thus the determinate element of determinateness,\n",
    "    will equally be something reflected, a negation.\n",
    "   "
   ]
  },
  {
   "cell_type": "markdown",
   "metadata": {},
   "source": [
    "    Quality, in the distinct value of existent, is reality;\n",
    "    when affected by a negating, it is negation in general,\n",
    "    still a quality but one that counts as a lack\n",
    "    and is further determined as limit, restriction.\n"
   ]
  },
  {
   "cell_type": "markdown",
   "metadata": {},
   "source": [
    "\n",
    "    Both are an existence, but in reality,\n",
    "    as quality with the accent on being an existent,\n",
    "    that it is determinateness\n",
    "    and hence also negation is concealed;\n"
   ]
  },
  {
   "cell_type": "markdown",
   "metadata": {},
   "source": [
    "    reality only has, therefore,\n",
    "    the value of something positive\n",
    "    from which negating, restriction, lack, are excluded.\n"
   ]
  },
  {
   "cell_type": "markdown",
   "metadata": {},
   "source": [
    "\n",
    "    Negation, for its part, taken as mere lack,\n",
    "    would be what nothing is;\n",
    "    but it is an existence, a quality,\n",
    "    only determined with a non-being.\n"
   ]
  },
  {
   "cell_type": "markdown",
   "metadata": {},
   "source": [
    "#### c. Something\n"
   ]
  },
  {
   "cell_type": "markdown",
   "metadata": {},
   "source": [
    "\n",
    "    In existence its determinateness has been distinguished as quality;\n",
    "    in this quality as something existing, the distinction exists:\n",
    "    the distinction of reality and negation.\n"
   ]
  },
  {
   "cell_type": "markdown",
   "metadata": {},
   "source": [
    "    Now though these distinctions are present in existence,\n",
    "    they are just as much null and sublated.\n",
    "    Reality itself contains negation;\n",
    "    it is existence, not indeterminate or abstract being.\n"
   ]
  },
  {
   "cell_type": "markdown",
   "metadata": {},
   "source": [
    "    Negation is for its part equally existence,\n",
    "    not the supposed abstract nothing\n",
    "    but posited here as it is in itself,\n",
    "    as existent, as belonging to existence.\n"
   ]
  },
  {
   "cell_type": "markdown",
   "metadata": {},
   "source": [
    "    Thus quality is in general unseparated from existence,\n",
    "    and the latter is only determinate, qualitative being.\n"
   ]
  },
  {
   "cell_type": "markdown",
   "metadata": {},
   "source": [
    "\n",
    "    This sublating of the distinction is more than\n",
    "    the mere retraction and external re-omission of it,\n",
    "    or a simple return to the simple beginning,\n",
    "    to existence as such.\n"
   ]
  },
  {
   "cell_type": "markdown",
   "metadata": {},
   "source": [
    "    The distinction cannot be left out, for it is.\n",
    "    Therefore, what de facto is at hand is this:\n",
    "    existence in general, distinction in it,\n",
    "    and the sublation of this distinction;\n",
    "    \n"
   ]
  },
  {
   "cell_type": "markdown",
   "metadata": {},
   "source": [
    "    the existence, not void of distinctions as at the beginning,\n",
    "    but as again self-equal through the sublation of the distinction;\n",
    "    the simplicity of existence mediated through this sublation.\n"
   ]
  },
  {
   "cell_type": "markdown",
   "metadata": {},
   "source": [
    "    This state of sublation of the distinction is\n",
    "    existence's own determinateness;\n",
    "    existence is thus being-in-itself;\n",
    "    it is existent, something.\n"
   ]
  },
  {
   "cell_type": "markdown",
   "metadata": {},
   "source": [
    "\n",
    "    Something is the first negation of negation,\n",
    "    as simple existent self-reference.\n"
   ]
  },
  {
   "cell_type": "markdown",
   "metadata": {},
   "source": [
    "\n",
    "    Existence, life, thought, and so forth,\n",
    "    essentially take on the determination of an existent being,\n",
    "    a living thing, a thinking mind (“I”), and so forth.\n"
   ]
  },
  {
   "cell_type": "markdown",
   "metadata": {},
   "source": [
    "\n",
    "    This determination is of the highest importance\n",
    "    if we do not wish to halt at existence, life, thought,\n",
    "    and so forth, as generalities,\n",
    "    also not at Godhood (instead of God).\n"
   ]
  },
  {
   "cell_type": "markdown",
   "metadata": {},
   "source": [
    "\n",
    "    In common representation, something rightly carries\n",
    "    the connotation of a real thing.\n",
    "    Yet it still is a very superficial determination,\n",
    "    just as reality and negation, existence and its determinateness,\n",
    "    though no longer the empty being and nothing,\n",
    "    still are quite abstract determinations.\n"
   ]
  },
  {
   "cell_type": "markdown",
   "metadata": {},
   "source": [
    "\n",
    "    For this reason they also are the most common expressions,\n",
    "    and a reflection that is still philosophically\n",
    "    unschooled uses them the most;\n",
    "    it casts its distinctions in them,\n",
    "    fancying that in them it has something\n",
    "    really well and firmly determined.\n"
   ]
  },
  {
   "cell_type": "markdown",
   "metadata": {},
   "source": [
    "\n",
    "    As something, the negative of the negative is\n",
    "    only the beginning of the subject;\n",
    "    its in-itselfness is still quite indeterminate.\n"
   ]
  },
  {
   "cell_type": "markdown",
   "metadata": {},
   "source": [
    "\n",
    "    It determines itself further on,\n",
    "    at first as existent-for-itself and so on,\n",
    "    until it finally obtains in the concept\n",
    "    the intensity of the subject.\n"
   ]
  },
  {
   "cell_type": "markdown",
   "metadata": {},
   "source": [
    "\n",
    "    At the base of all these determinations\n",
    "    there lies the negative unity with itself.\n"
   ]
  },
  {
   "cell_type": "markdown",
   "metadata": {},
   "source": [
    "\n",
    "    In all this, however, care must be taken\n",
    "    to distinguish the first negation, negation as negation in general,\n",
    "    from the second negation, the negation of negation\n",
    "    which is concrete, absolute negativity,\n",
    "    just as the first is on the contrary only abstract negativity.\n"
   ]
  },
  {
   "cell_type": "markdown",
   "metadata": {},
   "source": [
    "\n",
    "    Something is an existent as the negation of negation,\n",
    "    for such a negation is the restoration of\n",
    "    the simple reference to itself;\n",
    "    but the something is thereby equally\n",
    "    the mediation of itself with itself.\n"
   ]
  },
  {
   "cell_type": "markdown",
   "metadata": {},
   "source": [
    "\n",
    "    Present in the simplicity of something,\n",
    "    and then with greater determinateness\n",
    "    in being-for-itself,\n",
    "    in the subject, and so forth,\n",
    "    this mediation of itself with itself is\n",
    "    also already present in becoming,\n",
    "    but only as totally abstract mediation;\n",
    "    mediation with itself is posited in the something\n",
    "    in so far as the latter is determined as a simple identity.\n"
   ]
  },
  {
   "cell_type": "markdown",
   "metadata": {},
   "source": [
    "\n",
    "    Attention can be drawn to the presence of mediation in general,\n",
    "    as against the principle of the alleged bare immediacy of a knowledge\n",
    "    from which mediation should be excluded.\n",
    "    But there is no further need to draw\n",
    "    particular attention to the moment of mediation,\n",
    "    since it is to be found everywhere and on all sides,\n",
    "    in every concept.\n"
   ]
  },
  {
   "cell_type": "markdown",
   "metadata": {},
   "source": [
    "\n",
    "    This mediation with itself which something is in itself,\n",
    "    when taken only as the negation of negation,\n",
    "    has no concrete determinations for its sides;\n",
    "    thus it collapses into the simple unity which is being.\n",
    "\n"
   ]
  },
  {
   "cell_type": "markdown",
   "metadata": {},
   "source": [
    "\n",
    "    Something is, and is therefore also an existent.\n",
    "    Further, it is in itself also becoming,\n",
    "    but a becoming that no longer has only\n",
    "    being and nothing for its moments.\n"
   ]
  },
  {
   "cell_type": "markdown",
   "metadata": {},
   "source": [
    "\n",
    "    One of these moments, being, is now\n",
    "    existence and further an existent.\n",
    "    The other moment is equally an existent,\n",
    "    but determined as the negative of something; an other.\n"
   ]
  },
  {
   "cell_type": "markdown",
   "metadata": {},
   "source": [
    "\n",
    "    As becoming, something is a transition,\n",
    "    the moments of which are themselves something,\n",
    "    and for that reason it is an alteration,\n",
    "    a becoming that has already become concrete.\n",
    "  "
   ]
  },
  {
   "cell_type": "markdown",
   "metadata": {},
   "source": [
    "    At first, however, something alters only in its concept;\n",
    "    it is not yet posited in this way, as mediated and mediating,\n",
    "    but at first only as maintaining itself\n",
    "    simply in its reference to itself;\n",
    "    and its negative is posited as equally qualitative,\n",
    "    as only an other in general.\n"
   ]
  }
 ],
 "metadata": {
  "kernelspec": {
   "display_name": ".venv",
   "language": "python",
   "name": "python3"
  },
  "language_info": {
   "name": "python",
   "version": "3.11.2"
  }
 },
 "nbformat": 4,
 "nbformat_minor": 2
}
