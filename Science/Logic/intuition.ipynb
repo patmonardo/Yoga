{
 "cells": [
  {
   "cell_type": "markdown",
   "metadata": {},
   "source": [
    "# CHAPTER 2"
   ]
  },
  {
   "cell_type": "markdown",
   "metadata": {},
   "source": [
    "# B. FINITUDE"
   ]
  },
  {
   "cell_type": "markdown",
   "metadata": {},
   "source": [
    "    (a) Something and other,\n",
    "    at first they are indifferent to one another;\n",
    "    an other is also an immediate existent, a something;\n",
    "    the negation thus falls outside both.\n",
    "    Something is in itself in contrast to its being-for-other.\n",
    "    But the determinateness belongs also to its in-itself, and\n"
   ]
  },
  {
   "cell_type": "markdown",
   "metadata": {},
   "source": [
    "\n",
    "    (b) the determination of this in-itself\n",
    "    in turn passes over into constitution,\n",
    "    and this latter, as identical with determination,\n",
    "    constitutes the immanent and at the same time\n",
    "    negated being-for-another,\n",
    "    the limit of something which\n"
   ]
  },
  {
   "cell_type": "markdown",
   "metadata": {},
   "source": [
    "\n",
    "    (c) is the immanent determination of the something itself,\n",
    "    and the something thus is the finite.\n"
   ]
  },
  {
   "cell_type": "markdown",
   "metadata": {},
   "source": [
    "\n",
    "    In the first division where \n",
    "    existence in general was considered,\n",
    "    this existence had, as at first taken up, \n",
    "    the determination of an existent.\n",
    "    The moments of its development, quality and something,\n",
    "    are therefore of equally affirmative determination.\n",
    "    \n"
   ]
  },
  {
   "cell_type": "markdown",
   "metadata": {},
   "source": [
    "    The present division, on the contrary, develops\n",
    "    the negative determination which is present in existence\n",
    "    and was there from the start only as negation in general.\n",
    "    It was then the first negation but has now been determined to\n",
    "    the point of the being-in-itself of the something,\n",
    "    the point of the negation of negation.\n"
   ]
  },
  {
   "cell_type": "markdown",
   "metadata": {},
   "source": [
    "## a. Something and other\n"
   ]
  },
  {
   "cell_type": "markdown",
   "metadata": {},
   "source": [
    "\n",
    "    1. Something and other are,\n",
    "    first, both existents or something.\n",
    "    Second, each is equally an other.\n",
    "    It is indifferent which is named first,\n",
    "    and just for this reason it is named something\n",
    "    (in Latin, when they occur in a proposition,\n",
    "    both are aliud, or “the one, the other,” alius alium;\n",
    "    in the case of an alternating relation,\n",
    "    the analogous expression is alter alterum).\n"
   ]
  },
  {
   "cell_type": "markdown",
   "metadata": {},
   "source": [
    "\n",
    "    If of two beings we call the one A and the other B,\n",
    "    the B is the one which is first determined as other.\n",
    "    But the A is just as much the other of the B.\n",
    "    Both are other in the same way.\n",
    "    “This” serves to fix the distinction\n",
    "    and the something which is to be taken in the affirmative sense.\n",
    "    But “this” also expresses the fact that the distinction,\n",
    "    and the privileging of one something,\n",
    "    is a subjective designation that falls outside the something itself.\n",
    "    \n"
   ]
  },
  {
   "cell_type": "markdown",
   "metadata": {},
   "source": [
    "    The whole determinateness falls on the side of this external pointing;\n",
    "    also the expression “this” contains no distinctions;\n",
    "    each and every something is just as good a “this” as any other.\n",
    "    By “this” we mean to express something completely determinate,\n",
    "    overlooking the fact that language, as a work of the understanding,\n",
    "    only expresses the universal, albeit naming it as a single object.\n",
    "    But an individual name is something meaningless in the sense\n",
    "    that it does not express a universal.\n",
    "    It appears as something merely posited\n",
    "    and arbitrary for the same reason\n",
    "    that proper names can also be arbitrarily picked,\n",
    "    arbitrarily given as well as arbitrarily altered.\n"
   ]
  },
  {
   "cell_type": "markdown",
   "metadata": {},
   "source": [
    "\n",
    "    Otherness thus appears as a determination\n",
    "    alien to the existence thus pointed at,\n",
    "    or the other existence as outside this one existence,\n",
    "    partly because the one existence is determined as other\n",
    "    only by being compared by a Third,\n",
    "    and partly because it is so determined\n",
    "    only on account of the other which is outside it,\n",
    "    but is not an other for itself.\n",
    "    At the same time, as has been remarked,\n",
    "    even for ordinary thinking every existence\n",
    "    equally determines itself as an other existence,\n",
    "    so that there is no existence\n",
    "    that remains determined simply as an existence,\n",
    "    none which is not outside an existence\n",
    "    and therefore is not itself an other.\n"
   ]
  },
  {
   "cell_type": "markdown",
   "metadata": {},
   "source": [
    "\n",
    "    Both are determined as something as well as other:\n",
    "    thus they are the same and there is as yet\n",
    "    no distinction present in them.\n",
    "    But this sameness of determinations, too,\n",
    "    falls only within external reflection,\n",
    "    in the comparison of the two;\n",
    "    but the other, as posited at first,\n",
    "    though an other with reference to something,\n",
    "    is other also for itself apart from the something.\n"
   ]
  },
  {
   "cell_type": "markdown",
   "metadata": {},
   "source": [
    "\n",
    "    Third, the other is therefore to be taken in isolation,\n",
    "    with reference to itself, has to be taken abstractly as the other,\n",
    "    the 'to heteron' of Plato who opposes it to the one\n",
    "    as a moment of totality,\n",
    "    and in this way ascribes to the other a nature of its own.\n",
    "    Thus the other, taken solely as such,\n",
    "    is not the other of something,\n",
    "    but is the other within, that is, the other of itself.\n",
    "    Such an other, which is the other by its own determination,\n",
    "    is physical nature; nature is the other of spirit;\n",
    "    this, its determination, is at first\n",
    "    a mere relativity expressing not a quality of nature itself\n",
    "    but only a reference external to it.\n",
    "    But since spirit is the true something,\n",
    "    and hence nature is what it is within only in contrast to spirit,\n",
    "    taken for itself the quality of nature is just this,\n",
    "    to be the other within, that which-exists-outside-itself\n",
    "    (in the determinations of space, time, matter).\n"
   ]
  },
  {
   "cell_type": "markdown",
   "metadata": {},
   "source": [
    "\n",
    "    The other which is such for itself is the other within it,\n",
    "    hence the other of itself and so the other of the other;\n",
    "    therefore, the absolutely unequal in itself,\n",
    "    that which negates itself, alters itself.\n",
    "    But it equally remains identical with itself,\n",
    "    for that into which it alters is the other,\n",
    "    and this other has no additional determination;\n",
    "    but that which alters itself is not determined in\n",
    "    any other way than in this, to be an other;\n",
    "    in going over to this other, it only unites with itself.\n",
    "    It is thus posited as reflected into itself\n",
    "    with sublation of the otherness,\n",
    "    a self-identical something from which the otherness,\n",
    "    which is at the same time a moment of it, is therefore distinct,\n",
    "    itself not appertaining to it as something.\n"
   ]
  },
  {
   "cell_type": "markdown",
   "metadata": {},
   "source": [
    "\n",
    "    2. The something preserves itself in its non-being;\n",
    "    it is essentially one with it, and essentially not one with it.\n",
    "    It therefore stands in reference to an otherness\n",
    "    without being just this otherness.\n",
    "    The otherness is at once contained in it\n",
    "    and yet separated from it;\n",
    "    it is being-for-other.\n"
   ]
  },
  {
   "cell_type": "markdown",
   "metadata": {},
   "source": [
    "\n",
    "    Existence as such is an immediate, bare of references;\n",
    "    or, it is in the determination of being.\n",
    "    However, as including non-being within itself,\n",
    "    existence is determinate being,\n",
    "    being negated within itself,\n",
    "    and then in the first instance an other;\n",
    "    but, since in being negated it preserves itself\n",
    "    at the same time, it is only being-for-other.\n",
    "    \n"
   ]
  },
  {
   "cell_type": "markdown",
   "metadata": {},
   "source": [
    "    It preserves itself in its non-being and is being;\n",
    "    not, however, being in general but being with reference\n",
    "    to itself in contrast to its reference to the other,\n",
    "    as self-equality in contrast to its inequality.\n",
    "    Such a being is being-in-itself.\n"
   ]
  },
  {
   "cell_type": "markdown",
   "metadata": {},
   "source": [
    "\n",
    "    Being-for-other and being-in-itself constitute\n",
    "    the two moments of something.\n",
    "    There are here two pairs of determinations:\n",
    "    (1) something and other;\n",
    "    (2) being-for-other and being-in-itself.\n",
    "    The former contain the non-connectedness of their determinateness;\n",
    "    something and other fall apart.\n",
    "    \n"
   ]
  },
  {
   "cell_type": "markdown",
   "metadata": {},
   "source": [
    "    But their truth is their connection;\n",
    "    being-for-other and being-in-itself are\n",
    "    therefore the same determinations posited as\n",
    "    moments of one and the same unity,\n",
    "    as determinations which are connections\n",
    "    and which, in their unity,\n",
    "    remain in the unity of existence.\n",
    "    Each thus itself contains within it, at the same time,\n",
    "    also the moment diverse from it.\n",
    "    \n"
   ]
  },
  {
   "cell_type": "markdown",
   "metadata": {},
   "source": [
    "    Being and nothing in their unity, which is existence,\n",
    "    are no longer being and nothing\n",
    "    (these they are only outside their unity);\n",
    "    so in their restless unity, in becoming,\n",
    "    they are coming-to-be and ceasing-to-be.\n",
    "    In the something, being is being-in-itself.\n",
    "    Now, as self-reference, self-equality,\n",
    "    being is no longer immediately,\n",
    "    but is self-reference only as the non-being of otherness\n",
    "    (as existence reflected into itself).\n",
    "    The same goes for non-being:\n",
    "    as the moment of something in this\n",
    "    unity of being and non-being:\n",
    "    it is not non-existence in general\n",
    "    but is the other, and more determinedly,\n",
    "    according as being is at the same time distinguished from it,\n",
    "    it is reference to its non-existence, being-for-other.\n"
   ]
  },
  {
   "cell_type": "markdown",
   "metadata": {},
   "source": [
    "\n",
    "    Hence being-in-itself is, first,\n",
    "    negative reference to non-existence;\n",
    "    it has otherness outside it and is opposed to it;\n",
    "    in so far as something is in itself,\n",
    "    it is withdrawn from being-other and being-for-other.\n",
    "    But, second, it has non-being also right in it;\n",
    "    for it is itself the non-being of being-for-other.\n",
    "    \n"
   ]
  },
  {
   "cell_type": "markdown",
   "metadata": {},
   "source": [
    "    But being-for-other is, first, the negation of\n",
    "    the simple reference of being to itself\n",
    "    which, in the first place, is supposed\n",
    "    to be existence and something;\n",
    "    in so far as something is in an other or for an other,\n",
    "    it lacks a being of its own.\n",
    "    But, second, it is not non-existence as pure nothing;\n",
    "    it is non-existence that points to being-in-itself\n",
    "    as its being reflected into itself,\n",
    "    just as conversely the being-in-itself points to being-for-other.\n"
   ]
  },
  {
   "cell_type": "markdown",
   "metadata": {},
   "source": [
    "\n",
    "    3. Both moments are determinations of one and the same,\n",
    "    namely of something.\n",
    "    Something is in-itself in so far as it has returned\n",
    "    from the being-for-other back to itself.\n",
    "    But something has also a determination or circumstance,\n",
    "    whether in itself (here the accent is on the in) or in it;\n",
    "    in so far as this circumstance is in it externally,\n",
    "    it is a being-for-other.\n",
    "    \n"
   ]
  },
  {
   "cell_type": "markdown",
   "metadata": {},
   "source": [
    "    This leads to a further determination.\n",
    "    Being-in-itself and being-for-other\n",
    "    are different at first.\n",
    "    But that something also has in it what it is in itself and\n",
    "    conversely is in itself also what it is as being-for-other\n",
    "    this is the identity of being-in-itself and being-for-other,\n",
    "    in accordance with the determination\n",
    "    that the something is itself\n",
    "    one and the same something of both moments,\n",
    "    and these are in it, therefore, undivided.\n"
   ]
  },
  {
   "cell_type": "markdown",
   "metadata": {},
   "source": [
    "\n",
    "    This identity already occurs formally in the sphere of existence,\n",
    "    but more explicitly in the treatment of essence\n",
    "    and later of the relations of interiority and externality,\n",
    "    and in the most determinate form in the treatment of the idea,\n",
    "    as the unity of concept and actuality.\n",
    "    \n"
   ]
  },
  {
   "cell_type": "markdown",
   "metadata": {},
   "source": [
    "    Opinion has it that with the in-itself\n",
    "    something lofty is being said, as with the inner;\n",
    "    but what something is only in itself, is also only in it;\n",
    "    in-itself is a merely abstract,\n",
    "    and hence itself external determination.\n",
    "    The expressions:\n",
    "    there is nothing in it,\n",
    "    or there is something in it,\n",
    "    imply, though somewhat obscurely,\n",
    "    that what is in a thing also pertains\n",
    "    to its in-itselfness, to its inner, true worth.\n"
   ]
  },
  {
   "cell_type": "markdown",
   "metadata": {},
   "source": [
    "\n",
    "    It may be observed that here we have\n",
    "    the meaning of the thing-in-itself.\n",
    "    It is a very simple abstraction,\n",
    "    though it was for a while a very important determination,\n",
    "    something sophisticated, as it were,\n",
    "    just as the proposition that we know nothing of\n",
    "    what things are in themselves was a much valued piece of wisdom.\n",
    "    Things are called “in-themselves” in so far as abstraction\n",
    "    is made from all being-for-other, which really means,\n",
    "    in so far as they are thought without all determination, as nothing.\n"
   ]
  },
  {
   "cell_type": "markdown",
   "metadata": {},
   "source": [
    "\n",
    "    In this sense, of course, it is impossible to know\n",
    "    what the thing-in-itself is.\n",
    "    For the question “what?” calls for determinations to be produced;\n",
    "    but since the things of which the determinations are called for\n",
    "    are at the same time presumed to be things-in-themselves,\n",
    "    which means precisely without determination,\n",
    "    the impossibility of an answer is\n",
    "    thoughtlessly implanted in the question,\n",
    "    or else a senseless answer is given.\n",
    "    \n"
   ]
  },
  {
   "cell_type": "markdown",
   "metadata": {},
   "source": [
    "    The thing-in-itself is the same as that absolute\n",
    "    of which nothing is known except that in it all is one.\n",
    "    What there is in these things-in-themselves is \n",
    "    therefore very well known;\n",
    "    they are as such nothing but empty abstractions void of truth.\n",
    "    What, however, the thing-in-itself in truth is,\n",
    "    what there basically is in it,\n",
    "    of this the Logic is the exposition.\n",
    "    \n"
   ]
  },
  {
   "cell_type": "markdown",
   "metadata": {},
   "source": [
    "    But in this Logic something better is understood by the in-itself\n",
    "    than an abstraction, namely, what something is in its concept;\n",
    "    but this concept is in itself concrete:\n",
    "    as concept, in principle conceptually graspable;\n",
    "    and, as determined and as the connected whole\n",
    "    of its determinations, inherently cognizable.\n"
   ]
  },
  {
   "cell_type": "markdown",
   "metadata": {},
   "source": [
    "\n",
    "    Being-in-itself has at first the being-for-other\n",
    "    as a moment standing over against it.\n",
    "    But positedness also comes to be positioned over against it,\n",
    "    and, although in this expression being-for-other is also included,\n",
    "    the expression still contains the determination of the bending back,\n",
    "    which has already occurred,\n",
    "    of that which is not in itself into that wherein it is\n",
    "    positive, and this is its being-in-itself.\n"
   ]
  },
  {
   "cell_type": "markdown",
   "metadata": {},
   "source": [
    "\n",
    "    Being-in-itself is normally to be taken\n",
    "    as an abstract way of expressing the concept;\n",
    "    positing, strictly speaking, first occurs\n",
    "    in the sphere of essence, of objective reflection;\n",
    "    the ground posits that which is grounded through it;\n",
    "    more strongly, the cause produces an effect,\n",
    "    an existence whose subsistence is immediately negated\n",
    "    and which carries the meaning that it has its substance,\n",
    "    its being, in an other.\n"
   ]
  },
  {
   "cell_type": "markdown",
   "metadata": {},
   "source": [
    "\n",
    "    In the sphere of being, existence only emerges out of becoming.\n",
    "    Or again, with the something and other is posited;\n",
    "    with the finite, an infinite;\n",
    "    but the finite does not bring forth the infinite,\n",
    "    does not posit it.\n"
   ]
  },
  {
   "cell_type": "markdown",
   "metadata": {},
   "source": [
    "\n",
    "    In the sphere of being, the self-determining of\n",
    "    the concept is at first only in itself or implicit,\n",
    "    and for that reason it is called a transition or passing over.\n"
   ]
  },
  {
   "cell_type": "markdown",
   "metadata": {},
   "source": [
    "\n",
    "    And the reflecting determinations of being,\n",
    "    such as something and other,\n",
    "    or finite and infinite,\n",
    "    although they essentially point to one another,\n",
    "    or are as being-for-other,\n",
    "    also stand on their own qualitatively; the other exists;\n",
    "    the finite, like the infinite, is equally to be regarded\n",
    "    as an immediate existent that stands firm on its own;\n",
    "    the meaning of each appears complete even without its other.\n",
    "    \n"
   ]
  },
  {
   "cell_type": "markdown",
   "metadata": {},
   "source": [
    "\n",
    "    In the different cycles of determination\n",
    "    and especially in the progress of the exposition,\n",
    "    or, more precisely, in the progress of the concept\n",
    "    in the exposition of itself,\n",
    "    it is of capital concern always to clearly distinguish\n",
    "    what still is in itself or implicitly\n",
    "    and what is posited,\n",
    "    how determinations are in the concept\n",
    "    and how they are as posited\n",
    "    or as existing-for-other.\n",
    "    \n"
   ]
  },
  {
   "cell_type": "markdown",
   "metadata": {},
   "source": [
    "    This is a distinction that belongs only to\n",
    "    the dialectical development and one unknown\n",
    "    to metaphysical philosophizing\n",
    "    (to which the critical also belongs);\n",
    "    the definitions of metaphysics,\n",
    "    like its presuppositions, distinctions, and conclusions,\n",
    "    are meant to assert and produce only the existent\n",
    "    and that, too, as existent-in-itself.\n"
   ]
  },
  {
   "cell_type": "markdown",
   "metadata": {},
   "source": [
    "\n",
    "    In the unity of the something with itself,\n",
    "    being-for-other is identical with its in-itself;\n",
    "    the being-for-other is thus in the something.\n",
    "    The determinateness thus reflected into itself is\n",
    "    therefore again a simple existent\n",
    "    and hence again a quality: determination.\n"
   ]
  },
  {
   "cell_type": "markdown",
   "metadata": {},
   "source": [
    "## b. Determination, constitution, and limit\n"
   ]
  },
  {
   "cell_type": "markdown",
   "metadata": {},
   "source": [
    "\n",
    "    The in-itself, in which the something is\n",
    "    reflected into itself from its being-for-other,\n",
    "    no longer is an abstract in-itself\n",
    "    but, as the negation of its being-for-other,\n",
    "    is mediated through this latter,\n",
    "    which is thus its moment.\n"
   ]
  },
  {
   "cell_type": "markdown",
   "metadata": {},
   "source": [
    "    It is not only the immediate identity of\n",
    "    the something with itself,\n",
    "    but the identity by virtue of which\n",
    "    the something also has present in it\n",
    "    what it is in itself;\n",
    "    the being-for-other is present in it\n",
    "    because the in-itself is the sublation of it,\n",
    "    is in itself from it;\n",
    "    but, because it is still abstract,\n",
    "    and therefore essentially affected with negation,\n",
    "    it is equally affected with being-for-other.\n"
   ]
  },
  {
   "cell_type": "markdown",
   "metadata": {},
   "source": [
    "\n",
    "    We have here not only quality and reality,\n",
    "    existent determinateness,\n",
    "    but determinateness existent-in-itself;\n",
    "    and the development consists in positing\n",
    "    such determinateness as thus immanently reflected.\n"
   ]
  },
  {
   "cell_type": "markdown",
   "metadata": {},
   "source": [
    "\n",
    "    1. The quality which in the simple something \n",
    "    is an in-itself essentially in unity with\n",
    "    the something's other moment, its being-in-it,\n",
    "    can be named its determination,\n",
    "    provided that this word is distinguished,\n",
    "    in a more precise signification,\n",
    "    from determinateness in general.\n"
   ]
  },
  {
   "cell_type": "markdown",
   "metadata": {},
   "source": [
    "\n",
    "    Determination is affirmative determinateness;\n",
    "    it is the in-itself by which\n",
    "    a something abides in its existence\n",
    "    while involved with an other\n",
    "    that would determine it,\n",
    "    by which it preserves itself\n",
    "    in its self-equality,\n",
    "    holding on to it in its being-for-other.\n"
   ]
  },
  {
   "cell_type": "markdown",
   "metadata": {},
   "source": [
    "\n",
    "    Something fulfills its determination\n",
    "    to the extent that the further determinateness,\n",
    "    which variously accrues to it\n",
    "    in the measure of its being-in-itself\n",
    "    as it relates to an other,\n",
    "    becomes its filling.\n"
   ]
  },
  {
   "cell_type": "markdown",
   "metadata": {},
   "source": [
    "\n",
    "    Determination implies that\n",
    "    what something is in itself\n",
    "    is also present in it.\n"
   ]
  },
  {
   "cell_type": "markdown",
   "metadata": {},
   "source": [
    "\n",
    "    The determination of the human being,\n",
    "    its vocation, is rational thought:\n",
    "    thinking in general is his simple determinateness;\n",
    "    by it the human being is distinguished from the brute;\n",
    "    he is thinking in himself, in so far as this thinking is\n",
    "    distinguished also from his being-for-other,\n",
    "    from his own natural and sensuous being\n",
    "    that brings him in immediate association with the other.\n"
   ]
  },
  {
   "cell_type": "markdown",
   "metadata": {},
   "source": [
    "\n",
    "    But thinking is also in him;\n",
    "    the human being is himself thinking,\n",
    "    he exists as thinking,\n",
    "    thought is his concrete existence and actuality;\n",
    "    and, further, since thinking is in his existence\n",
    "    and his existence is in his thinking,\n",
    "    thinking is concrete,\n",
    "    must be taken as having content and filling;\n",
    "    it is rational thought and as such\n",
    "    the determination of the human being.\n"
   ]
  },
  {
   "cell_type": "markdown",
   "metadata": {},
   "source": [
    "\n",
    "    But even this determination is again\n",
    "    only in itself, as an ought, that is to say,\n",
    "    it is, together with the filling embodied in its in-itself,\n",
    "    in the form of an in-itself in general\n",
    "    as against the existence which is not embodied in it\n",
    "    but still lies outside confronting it,\n",
    "    immediate sensibility and nature.\n"
   ]
  },
  {
   "cell_type": "markdown",
   "metadata": {},
   "source": [
    "\n",
    "    2. The filling of the being-in-itself with determinateness\n",
    "    is also distinct from the determinateness\n",
    "    which is only being-for-other\n",
    "    and remains outside the determination.\n",
    "    For in the sphere of the qualitative,\n",
    "    the distinguished terms are left, in their sublated being,\n",
    "    also with an immediate, qualitative being contrasting them.\n"
   ]
  },
  {
   "cell_type": "markdown",
   "metadata": {},
   "source": [
    "\n",
    "    That which the something has in it thus separates itself\n",
    "    and is from this side the external existence of\n",
    "    the something and also its existence,\n",
    "    but not as belonging to its being-in-itself.\n",
    "    Determinateness is thus constitution.\n"
   ]
  },
  {
   "cell_type": "markdown",
   "metadata": {},
   "source": [
    "\n",
    "    Constituted in this or that way,\n",
    "    the something is caught up in external influences\n",
    "    and in external relationships.\n",
    "    This external connection on which the constitution depends,\n",
    "    and the being determined through an other,\n",
    "    appear as something accidental.\n",
    "    But it is the quality of the something\n",
    "    to be given over to this externality\n",
    "    and to have a constitution.\n"
   ]
  },
  {
   "cell_type": "markdown",
   "metadata": {},
   "source": [
    "\n",
    "    In so far as something alters,\n",
    "    the alteration falls on the side of its constitution;\n",
    "    the latter is that in the something which becomes an other.\n",
    "    The something itself preserves itself in the alteration;\n",
    "    the latter affects only this unstable surface\n",
    "    of the something's otherness, not its determination.\n"
   ]
  },
  {
   "cell_type": "markdown",
   "metadata": {},
   "source": [
    "\n",
    "    Determination and constitution are thus distinct from each other;\n",
    "    something, according to its determination,\n",
    "    is indifferent to its constitution.\n",
    "    But that which the something has in it is\n",
    "    the middle term of this syllogism connecting the two,\n",
    "    determination and constitution.\n"
   ]
  },
  {
   "cell_type": "markdown",
   "metadata": {},
   "source": [
    "    Or, rather, the being-in-the-something showed itself\n",
    "    to fall apart into these two extremes.\n",
    "    The simple middle term is determinateness as such;\n",
    "    its identity belongs to determination\n",
    "    just as well as to constitution.\n"
   ]
  },
  {
   "cell_type": "markdown",
   "metadata": {},
   "source": [
    "    But determination passes over into constitution on its own,\n",
    "    and constitution into determination.\n",
    "    This is implied in what has been said.\n",
    "    The connection, upon closer consideration, is this:\n",
    "    in so far as that which something is in itself is also in it,\n",
    "    the something is affected with being-for-other;\n",
    "    determination is therefore open, as such,\n",
    "    to the relation with other.\n"
   ]
  },
  {
   "cell_type": "markdown",
   "metadata": {},
   "source": [
    "\n",
    "    Determinateness is at the same time moment,\n",
    "    but it contains at the same time the qualitative distinction\n",
    "    of being different from being-in-itself,\n",
    "    of being the negative of the something,\n",
    "    another existence.\n"
   ]
  },
  {
   "cell_type": "markdown",
   "metadata": {},
   "source": [
    "\n",
    "    This determinateness which thus holds the other in itself,\n",
    "    united with the being-in-itself,\n",
    "    introduces otherness in the latter or in determination,\n",
    "    and determination is thereby reduced to constitution.\n"
   ]
  },
  {
   "cell_type": "markdown",
   "metadata": {},
   "source": [
    "    Conversely, the being-for-other, isolated as constitution\n",
    "    and posited on its own, is in it the same\n",
    "    as what the other as such is, the other in it,\n",
    "    that is, the other of itself;\n",
    "    but it consequently is self-referring existence,\n",
    "    thus being-in-itself with a determinateness, therefore determination.\n"
   ]
  },
  {
   "cell_type": "markdown",
   "metadata": {},
   "source": [
    "\n",
    "    Consequently, inasmuch as the two are also to be held apart,\n",
    "    constitution, which appears to be grounded in something external,\n",
    "    in an other in general, also depends on determination,\n",
    "    and the determining from outside is at the same time\n",
    "    determined by the something's own immanent determination.\n",
    "    And further, constitution belongs to that\n",
    "    which something is in itself:\n",
    "    something alters along with its constitution.\n"
   ]
  },
  {
   "cell_type": "markdown",
   "metadata": {},
   "source": [
    "\n",
    "    This altering of something is no longer\n",
    "    the first alteration of something merely\n",
    "    in accordance with its being-for-other.\n",
    "    The first was an alteration only implicitly present,\n",
    "    one that belonged to the inner concept;\n",
    "    now the alteration is also posited in the something.\n",
    "    The something itself is further determined,\n",
    "    and negation is posited as immanent to it,\n",
    "    as its developed being-in-itself.\n"
   ]
  },
  {
   "cell_type": "markdown",
   "metadata": {},
   "source": [
    "\n",
    "    The transition of determination and constitution\n",
    "    into each other is at first the sublation of their distinction,\n",
    "    and existence or something in general is thereby posited;\n",
    "    moreover, since this something in general results\n",
    "    from a distinction that also includes\n",
    "    qualitative otherness within it,\n",
    "    there are two somethings.\n"
   ]
  },
  {
   "cell_type": "markdown",
   "metadata": {},
   "source": [
    "\n",
    "    But these are, with respect to each other,\n",
    "    not just others in general,\n",
    "    so that this negation would still be abstract\n",
    "    and would occur only in the comparison of the two;\n",
    "    rather the negation now is immanent to the somethings.\n"
   ]
  },
  {
   "cell_type": "markdown",
   "metadata": {},
   "source": [
    "\n",
    "    As existing, they are indifferent to each other,\n",
    "    but this, their affirmation, is no longer immediate:\n",
    "    each refers itself to itself through the intermediary of\n",
    "    the sublation of the otherness which in determination is\n",
    "    reflected into the in-itselfness.\n"
   ]
  },
  {
   "cell_type": "markdown",
   "metadata": {},
   "source": [
    "\n",
    "    Something behaves in this way in relation\n",
    "    to the other through itself;\n",
    "    since otherness is posited in it as its own moment,\n",
    "    its in-itselfness holds negation in itself,\n",
    "    and it now has its affirmative existence\n",
    "    through its intermediary alone.\n"
   ]
  },
  {
   "cell_type": "markdown",
   "metadata": {},
   "source": [
    "    But the other is also qualitatively distinguished\n",
    "    from this affirmative existence\n",
    "    and is thus posited outside the something.\n",
    "    The negation of its other is only\n",
    "    the quality of the something,\n",
    "    for it is in this sublation of its other\n",
    "    that it is something.\n"
   ]
  },
  {
   "cell_type": "markdown",
   "metadata": {},
   "source": [
    "\n",
    "    The other, for its part,\n",
    "    truly confronts an existence\n",
    "    only with this sublation;\n",
    "    it confronts the first something only externally,\n",
    "    or, since the two are in fact inherently joined together,\n",
    "    that is, according to their concept,\n",
    "    their connectedness consists in this,\n",
    "    that existence has passed over into otherness,\n",
    "    something into other;\n",
    "    that something is just as much an other as the other is.\n"
   ]
  },
  {
   "cell_type": "markdown",
   "metadata": {},
   "source": [
    "\n",
    "    Now in so far as the in-itselfness is\n",
    "    the non-being of the otherness\n",
    "    that is contained in it\n",
    "    but is at the same time\n",
    "    also distinct as existent,\n",
    "    something is itself negation,\n",
    "    the ceasing to be of an other in it;\n",
    "    it is posited as behaving negatively in relation to\n",
    "    the other and in so doing preserving itself.\n"
   ]
  },
  {
   "cell_type": "markdown",
   "metadata": {},
   "source": [
    "\n",
    "    This other, the in-itselfness of\n",
    "    the something as negation of the negation,\n",
    "    is the something's being-in-itself,\n",
    "    and this sublation is as simple negation\n",
    "    at the same time in it, namely, as its negation\n",
    "    of the other something external to it.\n"
   ]
  },
  {
   "cell_type": "markdown",
   "metadata": {},
   "source": [
    "\n",
    "    It is one determinateness of the two somethings\n",
    "    that, on the one hand, as negation of the negation,\n",
    "    is identical with the in-itselfness of the somethings,\n",
    "    and also, on the other hand, since these negations are\n",
    "    to each other as other somethings,\n",
    "    joins them together of their own accord\n",
    "    and, since each negation negates the other,\n",
    "    equally separates them.\n",
    "    This determinateness is limit.\n"
   ]
  },
  {
   "cell_type": "markdown",
   "metadata": {},
   "source": [
    "\n",
    "    3. Being-for-other is indeterminate, affirmative\n",
    "    association of something with its other;\n",
    "    in limit the non-being-for-other is emphasized,\n",
    "    the qualitative negation of the other,\n",
    "    which is thereby kept out of the something\n",
    "    that is reflected into itself.\n",
    "    We must see the development of this concept,\n",
    "    a development that will rather look like\n",
    "    confusion and contradiction.\n"
   ]
  },
  {
   "cell_type": "markdown",
   "metadata": {},
   "source": [
    "    Contradiction immediately raises its head\n",
    "    because limit, as an internally reflected negation of something,\n",
    "    ideally holds in it the moments of something and other,\n",
    "    and these, as distinct moments, are at the same time\n",
    "    posited in the sphere of existence\n",
    "    as really, qualitatively, distinct.\n"
   ]
  },
  {
   "cell_type": "markdown",
   "metadata": {},
   "source": [
    "\n",
    "    (a) Something is therefore immediate, self-referring existence\n",
    "    and at first it has a limit with respect to an other;\n",
    "    limit is the non-being of the other,\n",
    "    not of the something itself;\n",
    "    in limit, something marks the boundary of its other.\n"
   ]
  },
  {
   "cell_type": "markdown",
   "metadata": {},
   "source": [
    "\n",
    "    But other is itself a something in general.\n",
    "    The limit that something has with respect to\n",
    "    an other is, therefore, also the limit of\n",
    "    the other as a something;\n",
    "    it is the limit of this something in virtue of which\n",
    "    the something holds the first something\n",
    "    as its other away from itself,\n",
    "    or is a non-being of that something.\n"
   ]
  },
  {
   "cell_type": "markdown",
   "metadata": {},
   "source": [
    "    The limit is thus not only the non-being of the other,\n",
    "    but of the one something just as of the other,\n",
    "    and consequently of the something in general.\n"
   ]
  },
  {
   "cell_type": "markdown",
   "metadata": {},
   "source": [
    "\n",
    "    But the limit is equally, essentially,\n",
    "    the non-being of the other;\n",
    "    thus, through its limit,\n",
    "    something at the same time is.\n"
   ]
  },
  {
   "cell_type": "markdown",
   "metadata": {},
   "source": [
    "\n",
    "    In limiting, something is of course thereby\n",
    "    reduced to being limited itself;\n",
    "    but, as the ceasing of the other in it,\n",
    "    its limit is at the same time itself\n",
    "    only the being of the something;\n",
    "    this something is what it is by virtue of it,\n",
    "    has its quality in it.\n"
   ]
  },
  {
   "cell_type": "markdown",
   "metadata": {},
   "source": [
    "\n",
    "    This relation is the external appearance of the fact\n",
    "    that limit is simple negation or the first negation,\n",
    "    whereas the other is, at the same time,\n",
    "    the negation of the negation,\n",
    "    the in-itselfness of the something.\n"
   ]
  },
  {
   "cell_type": "markdown",
   "metadata": {},
   "source": [
    "\n",
    "    Something, as an immediate existence,\n",
    "    is therefore the limit with respect\n",
    "    to another something;\n",
    "    but it has this limit in it\n",
    "    and is something through the mediation of that limit,\n",
    "    which is just as much its non-being.\n",
    "    The limit is the mediation in virtue of\n",
    "    which something and other each both is and is not.\n"
   ]
  },
  {
   "cell_type": "markdown",
   "metadata": {},
   "source": [
    "\n",
    "    (b) Now in so far as something in its limit\n",
    "    both is and is not,\n",
    "    and these moments are an immediate, qualitative distinction,\n",
    "    the non-existence and the existence of the something\n",
    "    fall outside each other.\n"
   ]
  },
  {
   "cell_type": "markdown",
   "metadata": {},
   "source": [
    "    Something has its existence outside its limit\n",
    "    (or, as representation would also have it, inside it);\n",
    "    in the same way the other, too,\n",
    "    since it is something, has it outside it.\n"
   ]
  },
  {
   "cell_type": "markdown",
   "metadata": {},
   "source": [
    "    The limit is the middle point between the two\n",
    "    at which they leave off.\n",
    "    They have existence beyond each other,\n",
    "    beyond their limit;\n",
    "    the limit, as the non-being of each,\n",
    "    is the other of both.\n"
   ]
  },
  {
   "cell_type": "markdown",
   "metadata": {},
   "source": [
    "\n",
    "    It is in accordance with this difference\n",
    "    of the something from its limit\n",
    "    that the line appears as line outside its limit, the point;\n",
    "    the plane as plane outside the line;\n",
    "    the solid as solid only outside its limiting plane.\n",
    "    This is the aspect of limit that\n",
    "    first occurs to figurative representation\n",
    "    (the self-external-being of the concept)\n",
    "    and is also most commonly assumed\n",
    "    in the context of spatial objects.\n"
   ]
  },
  {
   "cell_type": "markdown",
   "metadata": {},
   "source": [
    "\n",
    "    (c) But further, something as it is outside the limit,\n",
    "    as the unlimited something, is only existence in general.\n",
    "    As such, it is not distinguished from its other;\n",
    "    it is only existence\n",
    "    and, therefore, it and its other have the same determination;\n",
    "    each is only something in general or each is other;\n",
    "    and so both are the same.\n"
   ]
  },
  {
   "cell_type": "markdown",
   "metadata": {},
   "source": [
    "    But this, their at first immediate existence,\n",
    "    is now posited in them as limit:\n",
    "    in it both are what they are, distinct from each other.\n",
    "    But it is also equally their common distinguishedness,\n",
    "    the unity and the distinguishedness of both,\n",
    "    just like existence.\n"
   ]
  },
  {
   "cell_type": "markdown",
   "metadata": {},
   "source": [
    "    This double identity of the two,\n",
    "    existence and limit, contains this:\n",
    "    that something has existence only in limit,\n",
    "    and that, since limit and immediate existence are each\n",
    "    at the same time the negative of each other,\n",
    "    the something, which is now only in its limit,\n",
    "    equally separates itself from itself,\n",
    "    points beyond itself to its non-being\n",
    "    and declares it to be its being,\n",
    "    and so it passes over into it.\n"
   ]
  },
  {
   "cell_type": "markdown",
   "metadata": {},
   "source": [
    "\n",
    "    To apply this to the preceding example,\n",
    "    the one determination is this:\n",
    "    that something is what it is only in its limit.\n",
    "    Therefore, the point is the limit of line,\n",
    "    not because the latter just ceases at the point\n",
    "    and has existence outside it;\n",
    "    the line is the limit of plane,\n",
    "    not because the plane just ceases at it;\n",
    "    and the same goes for the plane as the limit of solid.\n",
    "    \n"
   ]
  },
  {
   "cell_type": "markdown",
   "metadata": {},
   "source": [
    "    Rather, at the point the line also begins;\n",
    "    the point is its absolute beginning,\n",
    "    and if the line is represented\n",
    "    as unlimited on both its two sides,\n",
    "    or, as is said, as extended to infinity,\n",
    "    the point still constitutes its element,\n",
    "    just as the line constitutes the element of the plane,\n",
    "    and the plane that of the solid.\n",
    "    \n"
   ]
  },
  {
   "cell_type": "markdown",
   "metadata": {},
   "source": [
    "    These limits are the principle\n",
    "    of that which they delimit;\n",
    "    just as one, for instance,\n",
    "    is as hundredth the limit,\n",
    "    but also the element,\n",
    "    of the whole hundred.\n"
   ]
  },
  {
   "cell_type": "markdown",
   "metadata": {},
   "source": [
    "\n",
    "    The other determination is the unrest of\n",
    "    the something in its limit in which it is immanent,\n",
    "    the contradiction that propels it beyond itself.\n"
   ]
  },
  {
   "cell_type": "markdown",
   "metadata": {},
   "source": [
    "\n",
    "    Thus the point is this dialectic of itself becoming line;\n",
    "    the line, the dialectic of becoming plane;\n",
    "    the plane, of becoming total space.\n",
    "    A second definition is given of line, plane, and whole space\n",
    "    which has the line come to be through the movement of the point;\n",
    "    the plane through the movement of the line, and so forth.\n",
    "    This movement of the point, the line, and so forth, is\n",
    "    however viewed as something accidental,\n",
    "    or as movement only in figurative representation.\n"
   ]
  },
  {
   "cell_type": "markdown",
   "metadata": {},
   "source": [
    "\n",
    "    In fact, however, this view is taken back by supposing that\n",
    "    the determinations from which the line, and so forth,\n",
    "    originate are their elements and principles,\n",
    "    and these are, at the same time,\n",
    "    nothing else but their limits;\n",
    "    the coming to be is not considered as accidental\n",
    "    or only as represented.\n"
   ]
  },
  {
   "cell_type": "markdown",
   "metadata": {},
   "source": [
    "\n",
    "    That the point, the line, the plane, are per se\n",
    "    self-contradictory beginnings which on their own\n",
    "    repel themselves from themselves,\n",
    "    and consequently that the point passes over\n",
    "    from itself into the line through its concept,\n",
    "    moves in itself and makes the line come to be,\n",
    "    and so on all this lies in the concept of the limit\n",
    "    which is immanent in the something.\n"
   ]
  },
  {
   "cell_type": "markdown",
   "metadata": {},
   "source": [
    "\n",
    "    The application itself, however,\n",
    "    belongs to the treatment of space;\n",
    "    as an indication of it here, we can say that\n",
    "    the point is the totally abstract limit,\n",
    "    but in a determinate existence;\n",
    "    this existence is still taken in total abstraction,\n",
    "    it is the so-called absolute, that is, abstract space,\n",
    "    the absolutely continuous being-outside-one-another.\n"
   ]
  },
  {
   "cell_type": "markdown",
   "metadata": {},
   "source": [
    "\n",
    "    Inasmuch as the limit is not abstract negation,\n",
    "    but is rather in this existence,\n",
    "    inasmuch as it is spatial determinateness,\n",
    "    the point is spatial, is the contradiction\n",
    "    of abstract negation and continuity\n",
    "    and is, for that reason, the transition\n",
    "    as it occurs and has already occurred\n",
    "    into the line, and so forth.\n",
    "    And so there is no point,\n",
    "    just as there is no line or plane.\n"
   ]
  },
  {
   "cell_type": "markdown",
   "metadata": {},
   "source": [
    "\n",
    "    The something, posited with its immanent limit\n",
    "    as the contradiction of itself by virtue of which\n",
    "    it is directed and driven out and beyond itself,\n",
    "    the finite.\n"
   ]
  },
  {
   "cell_type": "markdown",
   "metadata": {},
   "source": [
    "## c. Finitude\n",
    "\n"
   ]
  },
  {
   "cell_type": "markdown",
   "metadata": {},
   "source": [
    "\n",
    "    Existence is determinate.\n",
    "    Something has a quality,\n",
    "    and in this quality it is\n",
    "    not only determined but delimited;\n",
    "    its quality is its limit and, affected by it,\n",
    "    something remains affirmative, quiescent existence.\n"
   ]
  },
  {
   "cell_type": "markdown",
   "metadata": {},
   "source": [
    "\n",
    "    But, so developed that the opposition of its existence\n",
    "    and of the negation as the limit immanent to this existence is\n",
    "    the very in-itselfness of the something,\n",
    "    and this is thus only becoming in it,\n",
    "    this negation constitutes the finitude of the something.\n",
    "    \n"
   ]
  },
  {
   "cell_type": "markdown",
   "metadata": {},
   "source": [
    "    When we say of things that they are finite,\n",
    "    we understand by this that they not only have a determinateness,\n",
    "    that their quality is not only reality\n",
    "    and existent determination,\n",
    "    that they are not merely limited\n",
    "    and as such still have existence outside their limit,\n",
    "    but rather that non-being constitutes their nature, their being.\n",
    "  "
   ]
  },
  {
   "cell_type": "markdown",
   "metadata": {},
   "source": [
    "    Finite things are, but in their reference to themselves\n",
    "    they refer to themselves negatively\n",
    "    in this very self-reference\n",
    "    they propel themselves beyond themselves,\n",
    "    beyond their being.\n",
    "    They are, but the truth of this being is\n",
    "    (as in Latin) their finis, their end.\n",
    "    \n"
   ]
  },
  {
   "cell_type": "markdown",
   "metadata": {},
   "source": [
    "    The finite does not just alter,\n",
    "    as the something in general does,\n",
    "    but perishes, and its perishing is\n",
    "    not just a mere possibility,\n",
    "    as if it might be without perishing.\n",
    "    Rather, the being as such of finite things is\n",
    "    to have the germ of this transgression\n",
    "    in their in-itselfness:\n",
    "    the hour of their birth is the hour of their death.\n"
   ]
  },
  {
   "cell_type": "markdown",
   "metadata": {},
   "source": [
    "\n",
    "### (a) The immediacy of finitude.\n"
   ]
  },
  {
   "cell_type": "markdown",
   "metadata": {},
   "source": [
    "\n",
    "    The thought of the finitude of things\n",
    "    brings this mournful note with it\n",
    "    because finitude is qualitative negation driven to the extreme,\n",
    "    and in the simplicity of such a determination\n",
    "    there is no longer left to things\n",
    "    an affirmative being distinct from their determination,\n",
    "    as things destined to ruin.\n"
   ]
  },
  {
   "cell_type": "markdown",
   "metadata": {},
   "source": [
    "\n",
    "    Because of this qualitative simplicity of negation\n",
    "    that has returned to the abstract opposition of\n",
    "    nothing and perishing to being,\n",
    "    finitude is the most obstinate of\n",
    "    the categories of the understanding;\n",
    "    negation in general, constitution, limit,\n",
    "    are compatible with their other, with existence;\n",
    "    even the abstract nothing, by itself,\n",
    "    is given up as an abstraction;\n",
    "    but finitude is negation fixed in itself\n",
    "    and, as such, stands in stark contrast to its affirmative.\n"
   ]
  },
  {
   "cell_type": "markdown",
   "metadata": {},
   "source": [
    "\n",
    "    The finite thus does indeed\n",
    "    let itself be submitted to flux;\n",
    "    this is precisely what it is,\n",
    "    that it should come to an end,\n",
    "    and this end is its only determination.\n",
    "    Its refusal is rather to let itself be brought\n",
    "    affirmatively to its affirmative, the infinite,\n",
    "    to be associated with it;\n",
    "    it is therefore inseparably posited with its nothing,\n",
    "    and thereby cut off from any reconciliation\n",
    "    with its other, the affirmative.\n",
    "    \n"
   ]
  },
  {
   "cell_type": "markdown",
   "metadata": {},
   "source": [
    "    The determination of finite things does not go past their end.\n",
    "    The understanding persists in this sorrow of finitude,\n",
    "    for it makes non-being the determination of things\n",
    "    and, at the same time, this non-being imperishable and absolute.\n",
    "    Their transitoriness would only pass away in their other,\n",
    "    in the affirmative;\n",
    "    their finitude would then be severed from them;\n",
    "    but this finitude is their unalterable quality, that is,\n",
    "    their quality which does not pass over into their other, that is,\n",
    "    not into the affirmative;\n",
    "    and so finitude is eternal.\n"
   ]
  },
  {
   "cell_type": "markdown",
   "metadata": {},
   "source": [
    "\n",
    "    This is a very important consideration.\n",
    "    But that the finite is absolute is\n",
    "    certainly not a standpoint that any philosophy or outlook,\n",
    "    or the understanding, would want to endorse.\n",
    "    The opposite is rather expressly present\n",
    "    in the assertion of finitude:\n",
    "    the finite is the restricted, the perishable,\n",
    "    the finite is only the finite, not the imperishable;\n",
    "    all this is immediately part and parcel\n",
    "    of its determination and expression.\n"
   ]
  },
  {
   "cell_type": "markdown",
   "metadata": {},
   "source": [
    "    But all depends on whether\n",
    "    in one's view of finitude its being is insisted on,\n",
    "    and the transitoriness thus persists,\n",
    "    or whether the transitoriness and the perishing perish.\n",
    "    The fact is that this perishing of the perishing does not happen\n",
    "    on precisely the view that would make\n",
    "    the perishing the final end of the finite.\n",
    "    The official claim is that the finite is\n",
    "    incompatible with the infinite\n",
    "    and cannot be united with it;\n",
    "    that the finite is absolutely opposed to the infinite.\n",
    "    \n"
   ]
  },
  {
   "cell_type": "markdown",
   "metadata": {},
   "source": [
    "    Being, absolute being, is ascribed to the infinite.\n",
    "    The finite remains held fast over against it as its negative;\n",
    "    incapable of union with the infinite,\n",
    "    it remains absolute on its own side;\n",
    "    from the affirmative, from the infinite,\n",
    "    it would receive affirmation and thus it would perish;\n",
    "    but a union with the infinite is precisely\n",
    "    what is declared impossible.\n"
   ]
  },
  {
   "cell_type": "markdown",
   "metadata": {},
   "source": [
    "    If the finite were not to persist over against the infinite\n",
    "    but were to perish, its perishing, as just said,\n",
    "    would then be the last of it;\n",
    "    not its affirmative, which would be only\n",
    "    a perishing of the perishing.\n",
    "    However, if it is not to perish into the affirmative\n",
    "    but its end is rather to be grasped as a nothing,\n",
    "    then we are back at that first, abstract nothing\n",
    "    that itself has long since passed away.\n"
   ]
  },
  {
   "cell_type": "markdown",
   "metadata": {},
   "source": [
    "\n",
    "    With this nothing, however, which is supposed to be only nothing\n",
    "    but to which a reflective existence is nevertheless granted\n",
    "    in thought, in representation or in speech,\n",
    "    the same contradiction occurs as we have\n",
    "    just indicated in connection with the finite,\n",
    "    except that in the nothing it just occurs\n",
    "    but in the finite it is instead expressed.\n"
   ]
  },
  {
   "cell_type": "markdown",
   "metadata": {},
   "source": [
    "\n",
    "    In the one case, the contradiction appears as subjective;\n",
    "    in the other, the finite is said to stand\n",
    "    in perpetual opposition to the infinite,\n",
    "    in itself to be null, and to be as null in itself.\n",
    "    \n"
   ]
  },
  {
   "cell_type": "markdown",
   "metadata": {},
   "source": [
    "    This is now to be brought to consciousness.\n",
    "    The development of the finite will show that,\n",
    "    expressly as this contradiction, it collapses internally,\n",
    "    but that, in this collapse, it actually resolves the contradiction;\n",
    "    it will show that the finite is not just perishable,\n",
    "    and that it perishes,\n",
    "    but that the perishing, the nothing,\n",
    "    is rather not the last of it;\n",
    "    that the perishing rather perishes.\n"
   ]
  },
  {
   "cell_type": "markdown",
   "metadata": {},
   "source": [
    "### (b). Restriction and the ought\n"
   ]
  },
  {
   "cell_type": "markdown",
   "metadata": {},
   "source": [
    "\n",
    "    This contradiction is indeed abstractly present\n",
    "    by the very fact that the something is finite,\n",
    "    or that the finite is.\n",
    "    But something or being is no longer posited abstractly\n",
    "    but reflected into itself,\n",
    "    and developed as being-in-itself\n",
    "    that has determination and constitution in it,\n",
    "    or, more determinedly still, in such a way\n",
    "    that it has a limit within it;\n",
    "    and this limit, as constituting\n",
    "    what is immanent to the something\n",
    "    and the quality of its being-in-itself,\n",
    "    is finitude.\n",
    "    It is to be seen what moments are contained\n",
    "    in this concept of the finite something.\n"
   ]
  },
  {
   "cell_type": "markdown",
   "metadata": {},
   "source": [
    "\n",
    "    Determination and constitution arose as\n",
    "    sides for external reflection,\n",
    "    but determination already contained otherness\n",
    "    as belonging to the in-itself of something.\n",
    "    On the one side, the externality of otherness is\n",
    "    within the something's own inwardness;\n",
    "    on the other side, it remains as otherness distinguished from it;\n",
    "    it is still externality as such, but in the something.\n"
   ]
  },
  {
   "cell_type": "markdown",
   "metadata": {},
   "source": [
    "\n",
    "    But further, since otherness is determined as limit,\n",
    "    itself as negation of the negation,\n",
    "    the otherness immanent to the something is posited as the\n",
    "    connection of the two sides,\n",
    "    and the unity of the something with itself\n",
    "    (to which both determination and constitution belong)\n",
    "    is its reference turned back upon itself,\n",
    "    the reference to it of its implicitly existing determination\n",
    "    that in it negates its immanent limit.\n",
    "    \n"
   ]
  },
  {
   "cell_type": "markdown",
   "metadata": {},
   "source": [
    "    The self-identical in-itself thus refers\n",
    "    itself to itself as to its own non-being,\n",
    "    but as negation of the negation,\n",
    "    as negating that which at the same time retains existence in it,\n",
    "    for it is the quality of its in-itselfness.\n",
    "    Something's own limit, thus posited by it as a\n",
    "    negative which is at the same time essential,\n",
    "    is not only limit as such, but restriction.\n"
   ]
  },
  {
   "cell_type": "markdown",
   "metadata": {},
   "source": [
    "\n",
    "    But restriction is not alone in \n",
    "    being posited as negative;\n",
    "    the negation cuts two ways,\n",
    "    for that which it posits as negated is limit,\n",
    "    and limit is in general what is common to something and other,\n",
    "    and is also the determinateness of\n",
    "    the in-itself of determination as such.\n",
    "    This in-itself, consequently, as negative reference to its limit\n",
    "    (which is also distinguished from it),\n",
    "    as negative reference to itself as restriction,\n",
    "    is the ought.\n"
   ]
  },
  {
   "cell_type": "markdown",
   "metadata": {},
   "source": [
    "\n",
    "    In order for the limit that is in \n",
    "    every something to be a restriction,\n",
    "    the something must at the same time transcend it in itself,\n",
    "    must refer to it from within as to a non-existent.\n",
    "    The existence of something lies quietly indifferent,\n",
    "    as it were, alongside its limit.\n",
    "    But the something transcends its limit only\n",
    "    in so far as it is the sublatedness of the limit,\n",
    "    the negative in-itselfness over against it.\n",
    "    And inasmuch as the limit is as restriction\n",
    "    in the determination itself,\n",
    "    the something thereby transcends itself.\n"
   ]
  },
  {
   "cell_type": "markdown",
   "metadata": {},
   "source": [
    "\n",
    "    The ought therefore contains the double determination:\n",
    "    once, as a determination which has\n",
    "    an in-itselfness over against negation;\n",
    "    and again, as a non-being which, as restriction,\n",
    "    is distinguished from the determination\n",
    "    but is at the same time itself\n",
    "    a determination existing in itself.\n"
   ]
  },
  {
   "cell_type": "markdown",
   "metadata": {},
   "source": [
    "\n",
    "    The finite has thus determined itself\n",
    "    as connecting determination and limit;\n",
    "    in this connection, the determination is the ought\n",
    "    and the limit is the restriction.\n",
    "    Thus the two are both moments of the finite,\n",
    "    and therefore both themselves finite,\n",
    "    the ought as well as the restriction.\n",
    "    \n"
   ]
  },
  {
   "cell_type": "markdown",
   "metadata": {},
   "source": [
    "    But only restriction is posited as the finite;\n",
    "    the ought is restricted only in itself,\n",
    "    and therefore only for us.\n",
    "    It is restricted by virtue of its reference\n",
    "    to the limit already immanent within it,\n",
    "    though this restriction in it is shrouded in in-itselfness,\n",
    "    for according to its determinate being,\n",
    "    that is, according to its determinateness\n",
    "    in contrast to restriction,\n",
    "    it is posited as being-in-itself.\n"
   ]
  },
  {
   "cell_type": "markdown",
   "metadata": {},
   "source": [
    "\n",
    "    What ought to be is, and at the same time is not.\n",
    "    If it were, it would not be what merely ought to be.\n",
    "    The ought has therefore a restriction essentially.\n",
    "    This restriction is not anything alien;\n",
    "    that which only ought to be is determination\n",
    "    now posited as it is in fact,\n",
    "    namely as at the same time\n",
    "    only a determinateness.\n"
   ]
  },
  {
   "cell_type": "markdown",
   "metadata": {},
   "source": [
    "\n",
    "    The being-in-itself of the something is\n",
    "    thus reduced in its determination\n",
    "    to the ought because the very thing\n",
    "    that constitutes the something's in-itselfness is,\n",
    "    in one and the same respect, as non-being;\n"
   ]
  },
  {
   "cell_type": "markdown",
   "metadata": {},
   "source": [
    "\n",
    "    or again, because in the in-itselfness,\n",
    "    in the negation of the negation,\n",
    "    the said being-in-itself is as\n",
    "    one negation (what negates) a unity with the other,\n",
    "    and this other, as qualitatively other, is the limit\n",
    "    by virtue of which that unity is as reference to it.\n",
    "    \n"
   ]
  },
  {
   "cell_type": "markdown",
   "metadata": {},
   "source": [
    "    The restriction of the finite is not anything external,\n",
    "    but the finite's own determination is rather also its restriction;\n",
    "    and this restriction is both itself and the ought;\n",
    "    it is that which is common to both,\n",
    "    or rather that in which the two are identical.\n"
   ]
  },
  {
   "cell_type": "markdown",
   "metadata": {},
   "source": [
    "\n",
    "    But further, as “ought” the finite transcends its restriction;\n",
    "    the same determinateness which is its negation is also sublated,\n",
    "    and is thus its in-itself;\n",
    "    its limit is also not its limit.\n"
   ]
  },
  {
   "cell_type": "markdown",
   "metadata": {},
   "source": [
    "\n",
    "    As ought something is thus elevated above its restriction,\n",
    "    but conversely it has its restriction only as ought.\n",
    "    The two are indivisible.\n",
    "    Something has a restriction in so far as\n",
    "    it has negation in its determination,\n",
    "    and the determination is also\n",
    "    the being sublated of the restriction.\n"
   ]
  },
  {
   "cell_type": "markdown",
   "metadata": {},
   "source": [
    "### (c). Transition of the finite into the infinite\n"
   ]
  },
  {
   "cell_type": "markdown",
   "metadata": {},
   "source": [
    "\n",
    "    The ought contains restriction explicitly, for itself,\n",
    "    and restriction contains the ought.\n",
    "    Their mutual connection is the finite itself,\n",
    "    which contains them both in its in-itself.\n",
    "    These moments of its determination are qualitatively opposed;\n",
    "    restriction is determined as the negative of the ought,\n",
    "    and the ought equally as the negative of restriction.\n",
    "    The finite is thus in itself the contradiction of itself;\n",
    "    it sublates itself, it goes away and ceases to be.\n",
    "    \n"
   ]
  },
  {
   "cell_type": "markdown",
   "metadata": {},
   "source": [
    "    But this, its result, the negative as such,\n",
    "    is (a) its very determination;\n",
    "    for it is the negative of the negative.\n",
    "    So, in going away and ceasing to be,\n",
    "    the finite has not ceased;\n",
    "    it has only become momentarily\n",
    "    an other finite which equally is,\n",
    "    however, a going-away as a going-over\n",
    "    into another finite, and so forth to infinity.\n"
   ]
  },
  {
   "cell_type": "markdown",
   "metadata": {},
   "source": [
    "\n",
    "    But, (b) if we consider this result more closely,\n",
    "    in its going-away and ceasing-to-be,\n",
    "    in this negation of itself,\n",
    "    the finite has attained its being-in-itself;\n",
    "    in it, it has rejoined itself.\n",
    "    Each of its moments contains precisely this result;\n",
    "    the ought transcends the restriction,\n",
    "    that is, it transcends itself;\n",
    "    but its beyond, or its other, is only restriction itself.\n"
   ]
  },
  {
   "cell_type": "markdown",
   "metadata": {},
   "source": [
    "\n",
    "    Restriction, for its part, immediately points\n",
    "    beyond itself to its other,\n",
    "    and this is the ought;\n",
    "    but this ought is the same diremption of \n",
    "    in-itselfness and determinateness as is restriction;\n",
    "    it is the same thing;\n",
    "    in going beyond itself,\n",
    "    restriction thus equally rejoins itself.\n",
    "    \n"
   ]
  },
  {
   "cell_type": "markdown",
   "metadata": {},
   "source": [
    "    This identity with itself,\n",
    "    the negation of negation,\n",
    "    is affirmative being,\n",
    "    is thus the other of the finite\n",
    "    which is supposed to have the first negation\n",
    "    for its determinateness;\n",
    "    this other is the infinite.\n"
   ]
  }
 ],
 "metadata": {
  "kernelspec": {
   "display_name": ".venv",
   "language": "python",
   "name": "python3"
  },
  "language_info": {
   "codemirror_mode": {
    "name": "ipython",
    "version": 3
   },
   "file_extension": ".py",
   "mimetype": "text/x-python",
   "name": "python",
   "nbconvert_exporter": "python",
   "pygments_lexer": "ipython3",
   "version": "3.11.2"
  }
 },
 "nbformat": 4,
 "nbformat_minor": 2
}
