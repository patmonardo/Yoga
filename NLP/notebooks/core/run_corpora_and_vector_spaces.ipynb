{
  "cells": [
    {
      "cell_type": "code",
      "execution_count": 1,
      "metadata": {
        "collapsed": false
      },
      "outputs": [],
      "source": [
        "%matplotlib inline"
      ]
    },
    {
      "cell_type": "markdown",
      "metadata": {},
      "source": [
        "\n",
        "# Corpora and Vector Spaces\n",
        "\n",
        "Demonstrates transforming text into a vector space representation.\n",
        "\n",
        "Also introduces corpus streaming and persistence to disk in various formats.\n"
      ]
    },
    {
      "cell_type": "code",
      "execution_count": 2,
      "metadata": {
        "collapsed": false
      },
      "outputs": [],
      "source": [
        "import logging\n",
        "logging.basicConfig(format='%(asctime)s : %(levelname)s : %(message)s', level=logging.INFO)"
      ]
    },
    {
      "cell_type": "markdown",
      "metadata": {},
      "source": [
        "First, let’s create a small corpus of nine short documents [1]_:\n",
        "\n",
        "\n",
        "## From Strings to Vectors\n",
        "\n",
        "This time, let's start from documents represented as strings:\n",
        "\n",
        "\n"
      ]
    },
    {
      "cell_type": "code",
      "execution_count": 3,
      "metadata": {
        "collapsed": false
      },
      "outputs": [],
      "source": [
        "documents = [\n",
        "    \"Human machine interface for lab abc computer applications\",\n",
        "    \"A survey of user opinion of computer system response time\",\n",
        "    \"The EPS user interface management system\",\n",
        "    \"System and human system engineering testing of EPS\",\n",
        "    \"Relation of user perceived response time to error measurement\",\n",
        "    \"The generation of random binary unordered trees\",\n",
        "    \"The intersection graph of paths in trees\",\n",
        "    \"Graph minors IV Widths of trees and well quasi ordering\",\n",
        "    \"Graph minors A survey\",\n",
        "]"
      ]
    },
    {
      "cell_type": "markdown",
      "metadata": {},
      "source": [
        "This is a tiny corpus of nine documents, each consisting of only a single sentence.\n",
        "\n",
        "First, let's tokenize the documents, remove common words (using a toy stoplist)\n",
        "as well as words that only appear once in the corpus:\n",
        "\n"
      ]
    },
    {
      "cell_type": "code",
      "execution_count": 4,
      "metadata": {
        "collapsed": false
      },
      "outputs": [
        {
          "name": "stdout",
          "output_type": "stream",
          "text": [
            "[['human', 'interface', 'computer'],\n",
            " ['survey', 'user', 'computer', 'system', 'response', 'time'],\n",
            " ['eps', 'user', 'interface', 'system'],\n",
            " ['system', 'human', 'system', 'eps'],\n",
            " ['user', 'response', 'time'],\n",
            " ['trees'],\n",
            " ['graph', 'trees'],\n",
            " ['graph', 'minors', 'trees'],\n",
            " ['graph', 'minors', 'survey']]\n"
          ]
        }
      ],
      "source": [
        "from pprint import pprint  # pretty-printer\n",
        "from collections import defaultdict\n",
        "\n",
        "# remove common words and tokenize\n",
        "stoplist = set('for a of the and to in'.split())\n",
        "texts = [\n",
        "    [word for word in document.lower().split() if word not in stoplist]\n",
        "    for document in documents\n",
        "]\n",
        "\n",
        "# remove words that appear only once\n",
        "frequency = defaultdict(int)\n",
        "for text in texts:\n",
        "    for token in text:\n",
        "        frequency[token] += 1\n",
        "\n",
        "texts = [\n",
        "    [token for token in text if frequency[token] > 1]\n",
        "    for text in texts\n",
        "]\n",
        "\n",
        "pprint(texts)"
      ]
    },
    {
      "cell_type": "markdown",
      "metadata": {},
      "source": [
        "Your way of processing the documents will likely vary; here, I only split on whitespace\n",
        "to tokenize, followed by lowercasing each word. In fact, I use this particular\n",
        "(simplistic and inefficient) setup to mimic the experiment done in Deerwester et al.'s\n",
        "original LSA article [1]_.\n",
        "\n",
        "The ways to process documents are so varied and application- and language-dependent that I\n",
        "decided to *not* constrain them by any interface. Instead, a document is represented\n",
        "by the features extracted from it, not by its \"surface\" string form: how you get to\n",
        "the features is up to you. Below I describe one common, general-purpose approach (called\n",
        ":dfn:`bag-of-words`), but keep in mind that different application domains call for\n",
        "different features, and, as always, it's `garbage in, garbage out <http://en.wikipedia.org/wiki/Garbage_In,_Garbage_Out>`_...\n",
        "\n",
        "To convert documents to vectors, we'll use a document representation called\n",
        "`bag-of-words <http://en.wikipedia.org/wiki/Bag_of_words>`_. In this representation,\n",
        "each document is represented by one vector where each vector element represents\n",
        "a question-answer pair, in the style of:\n",
        "\n",
        "- Question: How many times does the word `system` appear in the document?\n",
        "- Answer: Once.\n",
        "\n",
        "It is advantageous to represent the questions only by their (integer) ids. The mapping\n",
        "between the questions and ids is called a dictionary:\n",
        "\n"
      ]
    },
    {
      "cell_type": "code",
      "execution_count": null,
      "metadata": {
        "collapsed": false
      },
      "outputs": [],
      "source": [
        "from gensim import corpora\n",
        "dictionary = corpora.Dictionary(texts)\n",
        "dictionary.save('/tmp/deerwester.dict')  # store the dictionary, for future reference\n",
        "print(dictionary)"
      ]
    },
    {
      "cell_type": "markdown",
      "metadata": {},
      "source": [
        "Here we assigned a unique integer id to all words appearing in the corpus with the\n",
        ":class:`gensim.corpora.dictionary.Dictionary` class. This sweeps across the texts, collecting word counts\n",
        "and relevant statistics. In the end, we see there are twelve distinct words in the\n",
        "processed corpus, which means each document will be represented by twelve numbers (ie., by a 12-D vector).\n",
        "To see the mapping between words and their ids:\n",
        "\n"
      ]
    },
    {
      "cell_type": "code",
      "execution_count": null,
      "metadata": {
        "collapsed": false
      },
      "outputs": [],
      "source": [
        "print(dictionary.token2id)"
      ]
    },
    {
      "cell_type": "markdown",
      "metadata": {},
      "source": [
        "To actually convert tokenized documents to vectors:\n",
        "\n"
      ]
    },
    {
      "cell_type": "code",
      "execution_count": null,
      "metadata": {
        "collapsed": false
      },
      "outputs": [],
      "source": [
        "new_doc = \"Human computer interaction\"\n",
        "new_vec = dictionary.doc2bow(new_doc.lower().split())\n",
        "print(new_vec)  # the word \"interaction\" does not appear in the dictionary and is ignored"
      ]
    },
    {
      "cell_type": "markdown",
      "metadata": {},
      "source": [
        "The function :func:`doc2bow` simply counts the number of occurrences of\n",
        "each distinct word, converts the word to its integer word id\n",
        "and returns the result as a sparse vector. The sparse vector ``[(0, 1), (1, 1)]``\n",
        "therefore reads: in the document `\"Human computer interaction\"`, the words `computer`\n",
        "(id 0) and `human` (id 1) appear once; the other ten dictionary words appear (implicitly) zero times.\n",
        "\n"
      ]
    },
    {
      "cell_type": "code",
      "execution_count": null,
      "metadata": {
        "collapsed": false
      },
      "outputs": [],
      "source": [
        "corpus = [dictionary.doc2bow(text) for text in texts]\n",
        "corpora.MmCorpus.serialize('/tmp/deerwester.mm', corpus)  # store to disk, for later use\n",
        "print(corpus)"
      ]
    },
    {
      "cell_type": "markdown",
      "metadata": {},
      "source": [
        "By now it should be clear that the vector feature with ``id=10`` stands for the question \"How many\n",
        "times does the word `graph` appear in the document?\" and that the answer is \"zero\" for\n",
        "the first six documents and \"one\" for the remaining three.\n",
        "\n",
        "\n",
        "## Corpus Streaming -- One Document at a Time\n",
        "\n",
        "Note that `corpus` above resides fully in memory, as a plain Python list.\n",
        "In this simple example, it doesn't matter much, but just to make things clear,\n",
        "let's assume there are millions of documents in the corpus. Storing all of them in RAM won't do.\n",
        "Instead, let's assume the documents are stored in a file on disk, one document per line. Gensim\n",
        "only requires that a corpus must be able to return one document vector at a time:\n",
        "\n",
        "\n"
      ]
    },
    {
      "cell_type": "code",
      "execution_count": null,
      "metadata": {
        "collapsed": false
      },
      "outputs": [],
      "source": [
        "from smart_open import open  # for transparently opening remote files\n",
        "\n",
        "\n",
        "class MyCorpus:\n",
        "    def __iter__(self):\n",
        "        for line in open #('https://radimrehurek.com/mycorpus.txt'): \\\n",
        "            \"/home/pat/Documents/Yoga/Hegel/dharma-greater-bhasta.tex\"\n",
        "            # assume there's one document per line, tokens separated by whitespace\n",
        "            yield dictionary.doc2bow(line.lower().split())"
      ]
    },
    {
      "cell_type": "markdown",
      "metadata": {},
      "source": [
        "The full power of Gensim comes from the fact that a corpus doesn't have to be\n",
        "a ``list``, or a ``NumPy`` array, or a ``Pandas`` dataframe, or whatever.\n",
        "Gensim *accepts any object that, when iterated over, successively yields\n",
        "documents*.\n",
        "\n"
      ]
    },
    {
      "cell_type": "code",
      "execution_count": null,
      "metadata": {
        "collapsed": false
      },
      "outputs": [],
      "source": [
        "# This flexibility allows you to create your own corpus classes that stream the\n",
        "# documents directly from disk, network, database, dataframes... The models\n",
        "# in Gensim are implemented such that they don't require all vectors to reside\n",
        "# in RAM at once. You can even create the documents on the fly!"
      ]
    },
    {
      "cell_type": "markdown",
      "metadata": {},
      "source": [
        "Download the sample `mycorpus.txt file here <https://radimrehurek.com/mycorpus.txt>`_. The assumption that\n",
        "each document occupies one line in a single file is not important; you can mold\n",
        "the `__iter__` function to fit your input format, whatever it is.\n",
        "Walking directories, parsing XML, accessing the network...\n",
        "Just parse your input to retrieve a clean list of tokens in each document,\n",
        "then convert the tokens via a dictionary to their ids and yield the resulting sparse vector inside `__iter__`.\n",
        "\n"
      ]
    },
    {
      "cell_type": "code",
      "execution_count": null,
      "metadata": {
        "collapsed": false
      },
      "outputs": [],
      "source": [
        "corpus_memory_friendly = MyCorpus()  # doesn't load the corpus into memory!\n",
        "print(corpus_memory_friendly)"
      ]
    },
    {
      "cell_type": "markdown",
      "metadata": {},
      "source": [
        "Corpus is now an object. We didn't define any way to print it, so `print` just outputs address\n",
        "of the object in memory. Not very useful. To see the constituent vectors, let's\n",
        "iterate over the corpus and print each document vector (one at a time):\n",
        "\n"
      ]
    },
    {
      "cell_type": "code",
      "execution_count": null,
      "metadata": {
        "collapsed": false
      },
      "outputs": [],
      "source": [
        "for vector in corpus_memory_friendly:  # load one vector into memory at a time\n",
        "    print(vector)"
      ]
    },
    {
      "cell_type": "markdown",
      "metadata": {},
      "source": [
        "Although the output is the same as for the plain Python list, the corpus is now much\n",
        "more memory friendly, because at most one vector resides in RAM at a time. Your\n",
        "corpus can now be as large as you want.\n",
        "\n",
        "Similarly, to construct the dictionary without loading all texts into memory:\n",
        "\n"
      ]
    },
    {
      "cell_type": "code",
      "execution_count": null,
      "metadata": {
        "collapsed": false
      },
      "outputs": [],
      "source": [
        "# collect statistics about all tokens\n",
        "dictionary = corpora.Dictionary(line.lower().split() for line in open('https://radimrehurek.com/mycorpus.txt'))\n",
        "# remove stop words and words that appear only once\n",
        "stop_ids = [\n",
        "    dictionary.token2id[stopword]\n",
        "    for stopword in stoplist\n",
        "    if stopword in dictionary.token2id\n",
        "]\n",
        "once_ids = [tokenid for tokenid, docfreq in dictionary.dfs.items() if docfreq == 1]\n",
        "dictionary.filter_tokens(stop_ids + once_ids)  # remove stop words and words that appear only once\n",
        "dictionary.compactify()  # remove gaps in id sequence after words that were removed\n",
        "print(dictionary)"
      ]
    },
    {
      "cell_type": "markdown",
      "metadata": {},
      "source": [
        "And that is all there is to it! At least as far as bag-of-words representation is concerned.\n",
        "Of course, what we do with such a corpus is another question; it is not at all clear\n",
        "how counting the frequency of distinct words could be useful. As it turns out, it isn't, and\n",
        "we will need to apply a transformation on this simple representation first, before\n",
        "we can use it to compute any meaningful document vs. document similarities.\n",
        "Transformations are covered in the next tutorial\n",
        "(`sphx_glr_auto_examples_core_run_topics_and_transformations.py`),\n",
        "but before that, let's briefly turn our attention to *corpus persistency*.\n",
        "\n",
        "\n",
        "## Corpus Formats\n",
        "\n",
        "There exist several file formats for serializing a Vector Space corpus (~sequence of vectors) to disk.\n",
        "`Gensim` implements them via the *streaming corpus interface* mentioned earlier:\n",
        "documents are read from (resp. stored to) disk in a lazy fashion, one document at\n",
        "a time, without the whole corpus being read into main memory at once.\n",
        "\n",
        "One of the more notable file formats is the `Market Matrix format <http://math.nist.gov/MatrixMarket/formats.html>`_.\n",
        "To save a corpus in the Matrix Market format:\n",
        "\n",
        "create a toy corpus of 2 documents, as a plain Python list\n",
        "\n"
      ]
    },
    {
      "cell_type": "code",
      "execution_count": null,
      "metadata": {
        "collapsed": false
      },
      "outputs": [],
      "source": [
        "corpus = [[(1, 0.5)], []]  # make one document empty, for the heck of it\n",
        "\n",
        "corpora.MmCorpus.serialize('/tmp/corpus.mm', corpus)"
      ]
    },
    {
      "cell_type": "markdown",
      "metadata": {},
      "source": [
        "Other formats include `Joachim's SVMlight format <http://svmlight.joachims.org/>`_,\n",
        "`Blei's LDA-C format <https://github.com/blei-lab/lda-c>`_ and\n",
        "`GibbsLDA++ format <http://gibbslda.sourceforge.net/>`_.\n",
        "\n"
      ]
    },
    {
      "cell_type": "code",
      "execution_count": null,
      "metadata": {
        "collapsed": false
      },
      "outputs": [],
      "source": [
        "corpora.SvmLightCorpus.serialize('/tmp/corpus.svmlight', corpus)\n",
        "corpora.BleiCorpus.serialize('/tmp/corpus.lda-c', corpus)\n",
        "corpora.LowCorpus.serialize('/tmp/corpus.low', corpus)"
      ]
    },
    {
      "cell_type": "markdown",
      "metadata": {},
      "source": [
        "Conversely, to load a corpus iterator from a Matrix Market file:\n",
        "\n"
      ]
    },
    {
      "cell_type": "code",
      "execution_count": null,
      "metadata": {
        "collapsed": false
      },
      "outputs": [],
      "source": [
        "corpus = corpora.MmCorpus('/tmp/corpus.mm')"
      ]
    },
    {
      "cell_type": "markdown",
      "metadata": {},
      "source": [
        "Corpus objects are streams, so typically you won't be able to print them directly:\n",
        "\n"
      ]
    },
    {
      "cell_type": "code",
      "execution_count": null,
      "metadata": {
        "collapsed": false
      },
      "outputs": [],
      "source": [
        "print(corpus)"
      ]
    },
    {
      "cell_type": "markdown",
      "metadata": {},
      "source": [
        "Instead, to view the contents of a corpus:\n",
        "\n"
      ]
    },
    {
      "cell_type": "code",
      "execution_count": null,
      "metadata": {
        "collapsed": false
      },
      "outputs": [],
      "source": [
        "# one way of printing a corpus: load it entirely into memory\n",
        "print(list(corpus))  # calling list() will convert any sequence to a plain Python list"
      ]
    },
    {
      "cell_type": "markdown",
      "metadata": {},
      "source": [
        "or\n",
        "\n"
      ]
    },
    {
      "cell_type": "code",
      "execution_count": null,
      "metadata": {
        "collapsed": false
      },
      "outputs": [],
      "source": [
        "# another way of doing it: print one document at a time, making use of the streaming interface\n",
        "for doc in corpus:\n",
        "    print(doc)"
      ]
    },
    {
      "cell_type": "markdown",
      "metadata": {},
      "source": [
        "The second way is obviously more memory-friendly, but for testing and development\n",
        "purposes, nothing beats the simplicity of calling ``list(corpus)``.\n",
        "\n",
        "To save the same Matrix Market document stream in Blei's LDA-C format,\n",
        "\n"
      ]
    },
    {
      "cell_type": "code",
      "execution_count": null,
      "metadata": {
        "collapsed": false
      },
      "outputs": [],
      "source": [
        "corpora.BleiCorpus.serialize('/tmp/corpus.lda-c', corpus)"
      ]
    },
    {
      "cell_type": "markdown",
      "metadata": {},
      "source": [
        "In this way, `gensim` can also be used as a memory-efficient **I/O format conversion tool**:\n",
        "just load a document stream using one format and immediately save it in another format.\n",
        "Adding new formats is dead easy, check out the `code for the SVMlight corpus\n",
        "<https://github.com/piskvorky/gensim/blob/develop/gensim/corpora/svmlightcorpus.py>`_ for an example.\n",
        "\n",
        "## Compatibility with NumPy and SciPy\n",
        "\n",
        "Gensim also contains `efficient utility functions <http://radimrehurek.com/gensim/matutils.html>`_\n",
        "to help converting from/to numpy matrices\n",
        "\n"
      ]
    },
    {
      "cell_type": "code",
      "execution_count": null,
      "metadata": {
        "collapsed": false
      },
      "outputs": [],
      "source": [
        "import gensim\n",
        "import numpy as np\n",
        "numpy_matrix = np.random.randint(10, size=[5, 2])  # random matrix as an example\n",
        "corpus = gensim.matutils.Dense2Corpus(numpy_matrix)\n",
        "# numpy_matrix = gensim.matutils.corpus2dense(corpus, num_terms=number_of_corpus_features)"
      ]
    },
    {
      "cell_type": "markdown",
      "metadata": {},
      "source": [
        "and from/to `scipy.sparse` matrices\n",
        "\n"
      ]
    },
    {
      "cell_type": "code",
      "execution_count": null,
      "metadata": {
        "collapsed": false
      },
      "outputs": [],
      "source": [
        "import scipy.sparse\n",
        "scipy_sparse_matrix = scipy.sparse.random(5, 2)  # random sparse matrix as example\n",
        "corpus = gensim.matutils.Sparse2Corpus(scipy_sparse_matrix)\n",
        "scipy_csc_matrix = gensim.matutils.corpus2csc(corpus)"
      ]
    },
    {
      "cell_type": "markdown",
      "metadata": {},
      "source": [
        "## What Next\n",
        "\n",
        "Read about `sphx_glr_auto_examples_core_run_topics_and_transformations.py`.\n",
        "\n",
        "## References\n",
        "\n",
        "For a complete reference (Want to prune the dictionary to a smaller size?\n",
        "Optimize converting between corpora and NumPy/SciPy arrays?), see the `apiref`.\n",
        "\n",
        ".. [1] This is the same corpus as used in\n",
        "       `Deerwester et al. (1990): Indexing by Latent Semantic Analysis <http://www.cs.bham.ac.uk/~pxt/IDA/lsa_ind.pdf>`_, Table 2.\n",
        "\n"
      ]
    },
    {
      "cell_type": "code",
      "execution_count": null,
      "metadata": {
        "collapsed": false
      },
      "outputs": [],
      "source": [
        "import matplotlib.pyplot as plt\n",
        "import matplotlib.image as mpimg\n",
        "img = mpimg.imread('run_corpora_and_vector_spaces.png')\n",
        "imgplot = plt.imshow(img)\n",
        "_ = plt.axis('off')"
      ]
    }
  ],
  "metadata": {
    "kernelspec": {
      "display_name": "Python 3",
      "language": "python",
      "name": "python3"
    },
    "language_info": {
      "codemirror_mode": {
        "name": "ipython",
        "version": 3
      },
      "file_extension": ".py",
      "mimetype": "text/x-python",
      "name": "python",
      "nbconvert_exporter": "python",
      "pygments_lexer": "ipython3",
      "version": "3.11.4"
    }
  },
  "nbformat": 4,
  "nbformat_minor": 0
}
