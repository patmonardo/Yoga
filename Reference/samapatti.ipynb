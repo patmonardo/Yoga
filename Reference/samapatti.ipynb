{
 "cells": [
  {
   "cell_type": "markdown",
   "metadata": {},
   "source": [
    "\n",
    "परमाणु परममहत्त्वान्तोऽस्य वशीकारः ॥ १.४०॥\n"
   ]
  },
  {
   "cell_type": "markdown",
   "metadata": {},
   "source": [
    "क्षीणवृत्तेरभिजातस्येव मणेर्ग्रहीतृग्रहणग्राह्येषु\n",
    "तत्स्थतदञ्जनता समापत्तिः ॥ १.४१॥\n"
   ]
  },
  {
   "cell_type": "markdown",
   "metadata": {},
   "source": [
    "\n",
    "तत्र शब्दार्थज्ञानविकल्पैः सङ्कीर्णा सवितर्का समापत्तिः ॥ १.४२॥\n"
   ]
  },
  {
   "cell_type": "markdown",
   "metadata": {},
   "source": [
    "स्मृतिपरिशुद्धौ स्वरूपशून्येवार्थमात्रनिर्भासा निर्वितर्का ॥ १.४३॥\n"
   ]
  },
  {
   "cell_type": "markdown",
   "metadata": {},
   "source": [
    "एतयैव सविचारा निर्विचारा च सूक्ष्मविषया व्याख्याता ॥ १.४४॥\n"
   ]
  },
  {
   "cell_type": "markdown",
   "metadata": {},
   "source": [
    "सूक्ष्मविषयत्वं चालिङ्गपर्यवसानम्॥ १.४५॥\n"
   ]
  },
  {
   "cell_type": "markdown",
   "metadata": {},
   "source": [
    "ता एव सबीजः समाधिः ॥ १.४६॥\n"
   ]
  },
  {
   "cell_type": "markdown",
   "metadata": {},
   "source": [
    "\n",
    "निर्विचारवैशारद्येऽध्यात्मप्रसादः ॥ १.४७॥\n"
   ]
  },
  {
   "cell_type": "markdown",
   "metadata": {},
   "source": [
    "ऋतम्भरा तत्र प्रज्ञा ॥ १.४८॥\n"
   ]
  },
  {
   "cell_type": "markdown",
   "metadata": {},
   "source": [
    "\n",
    "श्रुतानुमानप्रज्ञाभ्यामन्यविषया विशेषार्थत्वात्॥ १.४९॥\n"
   ]
  },
  {
   "cell_type": "markdown",
   "metadata": {},
   "source": [
    "तज्जः संस्कारोऽन्यसंस्कारप्रतिबन्धी ॥ १.५०॥\n"
   ]
  },
  {
   "cell_type": "markdown",
   "metadata": {},
   "source": [
    "\n",
    "तस्यापि निरोधे सर्वनिरोधान्निर्बीजः समाधिः ॥ १.५१॥\n"
   ]
  }
 ],
 "metadata": {
  "kernelspec": {
   "display_name": "jupyter",
   "language": "python",
   "name": "python3"
  },
  "language_info": {
   "name": "python",
   "version": "3.11.2"
  }
 },
 "nbformat": 4,
 "nbformat_minor": 2
}
