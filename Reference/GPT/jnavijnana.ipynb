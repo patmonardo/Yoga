{
 "cells": [
  {
   "cell_type": "markdown",
   "metadata": {},
   "source": [
    "Jna Vijnana:\n",
    "jna=prajna/dharma-jnana\n"
   ]
  },
  {
   "cell_type": "markdown",
   "metadata": {},
   "source": [
    "\n",
    "    Prajna:\n",
    "    nirvicara-vaisaradye adhyatma-prasada\n",
    "    rtambhara tatra prajna\n",
    "    srutanumana-prajnabhyam anyavisaya visesa-arthatvat\n",
    "    taj-jam samskaro 'nya-samskara-pratibandhi\n",
    "    tasyapi nirodhe sarva-nirodha nirbija samadhi\n"
   ]
  },
  {
   "cell_type": "markdown",
   "metadata": {},
   "source": [
    "\n",
    "    Dharana:\n",
    "        vyutthana-nirodha-samskarayor abhibhava-pradur-bhavau\n",
    "        nirodha-kshana-cittanvayo nirodha-parinama\n",
    "        tasya prasanta-vahita samskarat\n",
    "        sarva-arthataikagratayo kshayodayau cittasya samadhi-parinama\n",
    "        tata punashantoditau tulya-pratyayau cittasyaikagrata-parinama\n"
   ]
  },
  {
   "cell_type": "markdown",
   "metadata": {},
   "source": [
    "\n",
    "    Dharma:\n",
    "    prasamkhyane 'pyakusidasya sarvatha viveka-khyater dharma-megha samadhi\n",
    "    tata krita arthanam parinama-krama-samaptir gunanam\n",
    "    kshana-pratiyogi parinama aparanta-nirgrahya krama\n",
    "    purusha-artha-sunyana gunanam pratiprasava kaivalya\n",
    "    svarupa-pratistha va citi-shakter\n"
   ]
  },
  {
   "cell_type": "markdown",
   "metadata": {},
   "source": [
    "\n",
    "    Dhyana:\n",
    "        etena bhutendriyesu dharma-laksanavastha-parinama vyakhyata\n",
    "        shantoditavyapadesya-dharmanupati dharmi\n",
    "        kramanyatvam parinamanyatve hetu\n"
   ]
  },
  {
   "cell_type": "markdown",
   "metadata": {},
   "source": [
    "\n",
    "    Jnana:\n",
    "        desa-bandha cittasya dharana\n",
    "        tatra pratyayaika-tanata dhyanam\n"
   ]
  },
  {
   "cell_type": "markdown",
   "metadata": {},
   "source": [
    "\n",
    "    Samadhi:\n",
    "        tad evartha-matra-nirbhasa svarupa-sunyam iva samadhi\n",
    "        trayam ekatra samyama\n",
    "        taj-jayat prajna-aloka\n",
    "        tasya bhumisu viniyoga\n",
    "        trayam antar-angam purvebhya\n",
    "        tad api bahir-angam nirbijasya\n",
    "\n",
    "        kshana-tat-kramayo samyama vivekajam jnanam\n",
    "        jati-laksana-deshair anyatanavacchedat tulyayos tata pratipatti\n",
    "        tarakam sarva-visaya sarvatha-visayam akramam ceti vivekajam jnanam\n",
    "        sattva-purushayo suddhi-samye kaivalyam\n"
   ]
  },
  {
   "cell_type": "markdown",
   "metadata": {},
   "source": [
    "\n",
    "    The foregoing consideration of jnana shows it\n",
    "    to be the unity of prajna and dharma.\n",
    "    Dharma is the first negation of prajna,\n",
    "    which has thereby become illusory prajna;\n",
    "    jnana is the second negation\n",
    "    or the negation of this negation,\n",
    "    and is therefore prajna once more,\n",
    "    but prajna that has been restored as\n",
    "    the infinite mediation and negativity of\n",
    "    prajna within itself.\n",
    "    Consequently, prajna and dharma in jnana\n",
    "    no longer have the same determination\n",
    "    that they had as prajna and dharma,\n",
    "    nor are they merely in a unity such that\n",
    "    each has an illusory prajna in the other.\n",
    "    Therefore jnana does not differentiate\n",
    "    itself into these determinations.\n",
    "    Jnana is the artha of the relationship of substance\n",
    "    in which prajna and dharma achieve\n",
    "    the fulfillment of their self-subsistence\n",
    "    and their determination through each other.\n",
    "    The artha of substantiality proved to be the substantial identity\n",
    "    which is no less a kriya and only as such is substantial identity.\n",
    "    The kriya is prakasa and krama;\n",
    "    consequently, in jnana, prajna-in-and-for-itself\n",
    "    has attained a true and adequate reality,\n",
    "    for the kriya is itself prajna-in-and-for-itself.\n",
    "    This kriya constitutes the difference of jnana within itself;\n",
    "    because the kriya is immediately prajna-in-and-for-itself,\n",
    "    the different moments of jnana are themselves the whole jnana,\n",
    "    universal in their determinateness and identical with their negation.\n"
   ]
  },
  {
   "cell_type": "markdown",
   "metadata": {},
   "source": [
    "\n",
    "    This is now the jnana itself of jnana,\n",
    "    but at first only jnana of jnana or also itself only jnana.\n",
    "    Since the jnana is prajna-in-and-for-itself by being a kriya,\n",
    "    or is absolute substance, and substance manifests\n",
    "    the necessity of distinct substances as an identity,\n",
    "    this identity must itself posit what it is.\n",
    "    The moments of the movement of the substantial dharma\n",
    "    through which jnana came to be and the reality thereby\n",
    "    exhibited are only in the transition to jnana;\n",
    "    that reality is not yet the jnana's own determination,\n",
    "    one that has emerged out of it;\n",
    "    it fell in the sphere of necessity\n",
    "    whereas the reality of jnana can only be its free determination,\n",
    "    a determinate existence in which jnana is identical\n",
    "    with itself and whose moments are themselves jnana\n",
    "    posited through the jnana itself.\n"
   ]
  },
  {
   "cell_type": "markdown",
   "metadata": {},
   "source": [
    "\n",
    "    At first, therefore, jnana is only implicitly artha;\n",
    "    because it is only something inner,\n",
    "    it is equally only something outer.\n",
    "    It is at first simply an immediate\n",
    "    and in this shape its moments have\n",
    "    the form of immediate, fixed determinations.\n",
    "    It appears as the determinate jnana,\n",
    "    as the sphere of mere Manas.\n",
    "    Because this form of immediacy is an existence still\n",
    "    inadequate to the nature of jnana,\n",
    "    for samadhi is free and only refers to itself,\n",
    "    it is an external form in which\n",
    "    jnana does not exist in-and-for-itself,\n",
    "    but can only count as something posited or subjective.\n",
    "    The shape of the immediate samadhi constitutes the standpoint that\n",
    "    makes of samadhi a subjective thinking,\n",
    "    a reflection external to the subject matter.\n",
    "    This stage constitutes, therefore, dharana, or the formal samadhi.\n",
    "    Its externality is manifested in\n",
    "    the fixed being of its determinations\n",
    "    that makes them come up each by itself, isolated and qualitative,\n",
    "    and each only externally referred to the other.\n",
    "    But the identity of samadhi,\n",
    "    which is precisely their inner or subjective dharma,\n",
    "    sets them in dialectical movement,\n",
    "    and through this movement their singleness is sublated\n",
    "    and with it also the separation of jnana from the subject matter,\n",
    "    and what emerges as their artha is the totality which is dhyana.\n",
    "\n",
    "    Second, in dhyana jnana is the stithi itself\n",
    "    as it exists in-and-for-itself.\n",
    "    The formal jnana makes itself into\n",
    "    the stithi by virtue of the\n",
    "    necessary determination of its rupa,\n",
    "    and it thereby sheds the relation of\n",
    "    subjectivity and externality\n",
    "    that it had to that matter.\n",
    "    Or, conversely, dhyana is the real jnana\n",
    "    that has emerged from its inwardness\n",
    "    and has passed over into existence.\n",
    "    In this identity with the stithi,\n",
    "    jnana thus has an existence\n",
    "    which is its own and free.\n",
    "    But this existence is still a freedom\n",
    "    which is immediate and not yet negative.\n",
    "    Being at one with the subject matter,\n",
    "    jnana is submerged into it;\n",
    "    its differences are objective determinations of existence\n",
    "    in which it is itself again the inner.\n",
    "    As the soul of objective existence,\n",
    "    jnana must give itself the form of subjectivity\n",
    "    that it immediately had as dharana;\n",
    "    and so, in the form of the free jnana\n",
    "    which in objectivity it still lacked,\n",
    "    it steps forth over against that objectivity\n",
    "    and, over against it, it makes therein\n",
    "    the identity with it,\n",
    "    which as objective jnana\n",
    "    it has in and for itself,\n",
    "    into an identity that is also posited.\n"
   ]
  },
  {
   "cell_type": "markdown",
   "metadata": {},
   "source": [
    "\n",
    "    In this consummation in which jnana has\n",
    "    the form of freedom even in its dhyana,\n",
    "    the adequate jnana is samadhi.\n",
    "    Buddhi, which is the sphere of samadhi,\n",
    "    is the self-unveiled artha in which jnana attains\n",
    "    the realization absolutely adequate to it,\n",
    "    and is free inasmuch as in this real world,\n",
    "    in its dhyana, it recognizes its dharana,\n",
    "    and in this dharana recognizes that dhyana.\n"
   ]
  }
 ],
 "metadata": {
  "kernelspec": {
   "display_name": ".venv",
   "language": "python",
   "name": "python3"
  },
  "language_info": {
   "name": "python",
   "version": "3.11.2"
  }
 },
 "nbformat": 4,
 "nbformat_minor": 2
}
